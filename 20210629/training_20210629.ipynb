{
  "nbformat": 4,
  "nbformat_minor": 0,
  "metadata": {
    "colab": {
      "name": "training_20210629.ipynb",
      "provenance": [],
      "collapsed_sections": [
        "IPDLYbOSrD_7",
        "4cbHQ7i1QtCM",
        "wLmAscL7QtHf",
        "rF2x3qooyBTI",
        "Ps2nf1ZKQtFK",
        "TIfDIhZAQUIQ",
        "RovmgQ--4aLL",
        "wfenbeKE5Bj4",
        "XuHuYsuTQUvu",
        "rJieJvGi6CmR",
        "GxJPWZUa6AYP",
        "saN2i7VtMCrR",
        "QazztKjOrt6H",
        "ge5Y02C4rqE5",
        "Oz18_3cTrr1R",
        "nha8Ogu4rs3m",
        "3a8Gx0NH5RIq"
      ]
    },
    "kernelspec": {
      "name": "python3",
      "display_name": "Python 3"
    }
  },
  "cells": [
    {
      "cell_type": "markdown",
      "metadata": {
        "id": "IQnijj-lZg_s"
      },
      "source": [
        "## 50. 進化的アルゴリズム（evolutionaryalgorithm：EA）"
      ]
    },
    {
      "cell_type": "markdown",
      "metadata": {
        "id": "IPDLYbOSrD_7"
      },
      "source": [
        "### <font color=blue>**1.** </font> 遺伝的アルゴリズム（Genetic Algorithm：GA）"
      ]
    },
    {
      "cell_type": "markdown",
      "metadata": {
        "id": "4cbHQ7i1QtCM"
      },
      "source": [
        "#### <font color=green>**1.1.** </font> Numpyで自作した例"
      ]
    },
    {
      "cell_type": "code",
      "metadata": {
        "id": "jJexlj77LENv"
      },
      "source": [
        "## 出典 ： https://machinelearningmastery.com/simple-genetic-algorithm-from-scratch-in-python/"
      ],
      "execution_count": null,
      "outputs": []
    },
    {
      "cell_type": "code",
      "metadata": {
        "id": "XtpPvu68L3Uj"
      },
      "source": [
        "### Genetic Algorithm for OneMax"
      ],
      "execution_count": null,
      "outputs": []
    },
    {
      "cell_type": "code",
      "metadata": {
        "id": "_NuPAoOpMnXN"
      },
      "source": [
        "# genetic algorithm search of the one max optimization problem\n",
        "from numpy.random import randint\n",
        "from numpy.random import rand"
      ],
      "execution_count": null,
      "outputs": []
    },
    {
      "cell_type": "code",
      "metadata": {
        "id": "wj8U2lbVMnUz"
      },
      "source": [
        "# objective function\n",
        "def onemax(x):\n",
        "\treturn -sum(x)"
      ],
      "execution_count": null,
      "outputs": []
    },
    {
      "cell_type": "code",
      "metadata": {
        "id": "81HX_3O4MnPn"
      },
      "source": [
        "# tournament selection\n",
        "def selection(pop, scores, k=3):\n",
        "\t# first random selection\n",
        "\tselection_ix = randint(len(pop))\n",
        "\tfor ix in randint(0, len(pop), k-1):\n",
        "\t\t# check if better (e.g. perform a tournament)\n",
        "\t\tif scores[ix] < scores[selection_ix]:\n",
        "\t\t\tselection_ix = ix\n",
        "\treturn pop[selection_ix]"
      ],
      "execution_count": null,
      "outputs": []
    },
    {
      "cell_type": "code",
      "metadata": {
        "id": "4AyyzGWiMnM9"
      },
      "source": [
        "# crossover two parents to create two children\n",
        "def crossover(p1, p2, r_cross):\n",
        "\t# children are copies of parents by default\n",
        "\tc1, c2 = p1.copy(), p2.copy()\n",
        "\t# check for recombination\n",
        "\tif rand() < r_cross:\n",
        "\t\t# select crossover point that is not on the end of the string\n",
        "\t\tpt = randint(1, len(p1)-2)\n",
        "\t\t# perform crossover\n",
        "\t\tc1 = p1[:pt] + p2[pt:]\n",
        "\t\tc2 = p2[:pt] + p1[pt:]\n",
        "\treturn [c1, c2]"
      ],
      "execution_count": null,
      "outputs": []
    },
    {
      "cell_type": "code",
      "metadata": {
        "id": "DSdIOetKMnKO"
      },
      "source": [
        "# mutation operator\n",
        "def mutation(bitstring, r_mut):\n",
        "\tfor i in range(len(bitstring)):\n",
        "\t\t# check for a mutation\n",
        "\t\tif rand() < r_mut:\n",
        "\t\t\t# flip the bit\n",
        "\t\t\tbitstring[i] = 1 - bitstring[i]"
      ],
      "execution_count": null,
      "outputs": []
    },
    {
      "cell_type": "code",
      "metadata": {
        "id": "0-hPz11vMIIH"
      },
      "source": [
        "# genetic algorithm\n",
        "def genetic_algorithm(objective, n_bits, n_iter, n_pop, r_cross, r_mut):\n",
        "\t# initial population of random bitstring\n",
        "\tpop = [randint(0, 2, n_bits).tolist() for _ in range(n_pop)]\n",
        "\t# keep track of best solution\n",
        "\tbest, best_eval = 0, objective(pop[0])\n",
        "\t# enumerate generations\n",
        "\tfor gen in range(n_iter):\n",
        "\t\t# evaluate all candidates in the population\n",
        "\t\tscores = [objective(c) for c in pop]\n",
        "\t\t# check for new best solution\n",
        "\t\tfor i in range(n_pop):\n",
        "\t\t\tif scores[i] < best_eval:\n",
        "\t\t\t\tbest, best_eval = pop[i], scores[i]\n",
        "\t\t\t\tprint(\">%d, new best f(%s) = %.3f\" % (gen,  pop[i], scores[i]))\n",
        "\t\t# select parents\n",
        "\t\tselected = [selection(pop, scores) for _ in range(n_pop)]\n",
        "\t\t# create the next generation\n",
        "\t\tchildren = list()\n",
        "\t\tfor i in range(0, n_pop, 2):\n",
        "\t\t\t# get selected parents in pairs\n",
        "\t\t\tp1, p2 = selected[i], selected[i+1]\n",
        "\t\t\t# crossover and mutation\n",
        "\t\t\tfor c in crossover(p1, p2, r_cross):\n",
        "\t\t\t\t# mutation\n",
        "\t\t\t\tmutation(c, r_mut)\n",
        "\t\t\t\t# store for next generation\n",
        "\t\t\t\tchildren.append(c)\n",
        "\t\t# replace population\n",
        "\t\tpop = children\n",
        "\treturn [best, best_eval]"
      ],
      "execution_count": null,
      "outputs": []
    },
    {
      "cell_type": "code",
      "metadata": {
        "id": "cUr4Omc7L3Kk"
      },
      "source": [
        "# define the total iterations\n",
        "n_iter = 100\n",
        "# bits\n",
        "n_bits = 20\n",
        "# define the population size\n",
        "n_pop = 100\n",
        "# crossover rate\n",
        "r_cross = 0.9\n",
        "# mutation rate\n",
        "r_mut = 1.0 / float(n_bits)"
      ],
      "execution_count": null,
      "outputs": []
    },
    {
      "cell_type": "code",
      "metadata": {
        "id": "CSaGgs_uMjtM"
      },
      "source": [
        "# perform the genetic algorithm search\n",
        "best, score = genetic_algorithm(onemax, n_bits, n_iter, n_pop, r_cross, r_mut)\n",
        "print('Done!')\n",
        "print('f(%s) = %f' % (best, score))"
      ],
      "execution_count": null,
      "outputs": []
    },
    {
      "cell_type": "code",
      "metadata": {
        "id": "wIKXPNesMIDu"
      },
      "source": [
        ""
      ],
      "execution_count": null,
      "outputs": []
    },
    {
      "cell_type": "code",
      "metadata": {
        "id": "OAznQGqiMkzH"
      },
      "source": [
        ""
      ],
      "execution_count": null,
      "outputs": []
    },
    {
      "cell_type": "code",
      "metadata": {
        "id": "zfoYZNQTMkw-"
      },
      "source": [
        ""
      ],
      "execution_count": null,
      "outputs": []
    },
    {
      "cell_type": "code",
      "metadata": {
        "id": "qaZFVUY2L3F1"
      },
      "source": [
        "### Genetic Algorithm for Continuous Function Optimization"
      ],
      "execution_count": null,
      "outputs": []
    },
    {
      "cell_type": "code",
      "metadata": {
        "id": "vpnEyPN6O11l"
      },
      "source": [
        "# genetic algorithm search for continuous function optimization\n",
        "from numpy.random import randint\n",
        "from numpy.random import rand"
      ],
      "execution_count": null,
      "outputs": []
    },
    {
      "cell_type": "code",
      "metadata": {
        "id": "7tam0P5sO1zY"
      },
      "source": [
        "# objective function\n",
        "def objective(x):\n",
        "  return (x[0]-2)**2.0 + (x[1]+3)**2.0"
      ],
      "execution_count": null,
      "outputs": []
    },
    {
      "cell_type": "code",
      "metadata": {
        "id": "cTOx0WFQMUhN"
      },
      "source": [
        "# decode bitstring to numbers\n",
        "def decode(bounds, n_bits, bitstring):\n",
        "\tdecoded = list()\n",
        "\tlargest = 2**n_bits\n",
        "\tfor i in range(len(bounds)):\n",
        "\t\t# extract the substring\n",
        "\t\tstart, end = i * n_bits, (i * n_bits)+n_bits\n",
        "\t\tsubstring = bitstring[start:end]\n",
        "\t\t# convert bitstring to a string of chars\n",
        "\t\tchars = ''.join([str(s) for s in substring])\n",
        "\t\t# convert string to integer\n",
        "\t\tinteger = int(chars, 2)\n",
        "\t\t# scale integer to desired range\n",
        "\t\tvalue = bounds[i][0] + (integer/largest) * (bounds[i][1] - bounds[i][0])\n",
        "\t\t# store\n",
        "\t\tdecoded.append(value)\n",
        "\treturn decoded"
      ],
      "execution_count": null,
      "outputs": []
    },
    {
      "cell_type": "code",
      "metadata": {
        "id": "yeOc-jrQLGzD"
      },
      "source": [
        "# tournament selection\n",
        "def selection(pop, scores, k=3):\n",
        "\t# first random selection\n",
        "\tselection_ix = randint(len(pop))\n",
        "\tfor ix in randint(0, len(pop), k-1):\n",
        "\t\t# check if better (e.g. perform a tournament)\n",
        "\t\tif scores[ix] < scores[selection_ix]:\n",
        "\t\t\tselection_ix = ix\n",
        "\treturn pop[selection_ix]"
      ],
      "execution_count": null,
      "outputs": []
    },
    {
      "cell_type": "code",
      "metadata": {
        "id": "TYE1rxgQLGwx"
      },
      "source": [
        "# crossover two parents to create two children\n",
        "def crossover(p1, p2, r_cross):\n",
        "\t# children are copies of parents by default\n",
        "\tc1, c2 = p1.copy(), p2.copy()\n",
        "\t# check for recombination\n",
        "\tif rand() < r_cross:\n",
        "\t\t# select crossover point that is not on the end of the string\n",
        "\t\tpt = randint(1, len(p1)-2)\n",
        "\t\t# perform crossover\n",
        "\t\tc1 = p1[:pt] + p2[pt:]\n",
        "\t\tc2 = p2[:pt] + p1[pt:]\n",
        "\treturn [c1, c2]"
      ],
      "execution_count": null,
      "outputs": []
    },
    {
      "cell_type": "code",
      "metadata": {
        "id": "ti0Y9F5SQPqQ"
      },
      "source": [
        "# mutation operator\n",
        "def mutation(bitstring, r_mut):\n",
        "\tfor i in range(len(bitstring)):\n",
        "\t\t# check for a mutation\n",
        "\t\tif rand() < r_mut:\n",
        "\t\t\t# flip the bit\n",
        "\t\t\tbitstring[i] = 1 - bitstring[i]"
      ],
      "execution_count": null,
      "outputs": []
    },
    {
      "cell_type": "code",
      "metadata": {
        "id": "ouzDCyHYQPn8"
      },
      "source": [
        "# genetic algorithm\n",
        "def genetic_algorithm(objective, bounds, n_bits, n_iter, n_pop, r_cross, r_mut):\n",
        "\t# initial population of random bitstring\n",
        "\tpop = [randint(0, 2, n_bits*len(bounds)).tolist() for _ in range(n_pop)]\n",
        "\t# keep track of best solution\n",
        "\tbest, best_eval = 0, objective(decode(bounds, n_bits, pop[0]))\n",
        "\t# enumerate generations\n",
        "\tfor gen in range(n_iter):\n",
        "\t\t# decode population\n",
        "\t\tdecoded = [decode(bounds, n_bits, p) for p in pop]\n",
        "\t\t# evaluate all candidates in the population\n",
        "\t\tscores = [objective(d) for d in decoded]\n",
        "\t\t# check for new best solution\n",
        "\t\tfor i in range(n_pop):\n",
        "\t\t\tif scores[i] < best_eval:\n",
        "\t\t\t\tbest, best_eval = pop[i], scores[i]\n",
        "\t\t\t\tprint(\">%d, new best f(%s) = %f\" % (gen,  decoded[i], scores[i]))\n",
        "\t\t# select parents\n",
        "\t\tselected = [selection(pop, scores) for _ in range(n_pop)]\n",
        "\t\t# create the next generation\n",
        "\t\tchildren = list()\n",
        "\t\tfor i in range(0, n_pop, 2):\n",
        "\t\t\t# get selected parents in pairs\n",
        "\t\t\tp1, p2 = selected[i], selected[i+1]\n",
        "\t\t\t# crossover and mutation\n",
        "\t\t\tfor c in crossover(p1, p2, r_cross):\n",
        "\t\t\t\t# mutation\n",
        "\t\t\t\tmutation(c, r_mut)\n",
        "\t\t\t\t# store for next generation\n",
        "\t\t\t\tchildren.append(c)\n",
        "\t\t# replace population\n",
        "\t\tpop = children\n",
        "\treturn [best, best_eval]"
      ],
      "execution_count": null,
      "outputs": []
    },
    {
      "cell_type": "code",
      "metadata": {
        "id": "mgV25QY4MQ1x"
      },
      "source": [
        "# define range for input\n",
        "bounds = [[-5.0, 5.0], [-5.0, 5.0]]\n",
        "# define the total iterations\n",
        "n_iter = 100\n",
        "# bits per variable\n",
        "n_bits = 16\n",
        "# define the population size\n",
        "n_pop = 100\n",
        "# crossover rate\n",
        "r_cross = 0.9\n",
        "# mutation rate\n",
        "r_mut = 1.0 / (float(n_bits) * len(bounds))"
      ],
      "execution_count": null,
      "outputs": []
    },
    {
      "cell_type": "code",
      "metadata": {
        "id": "RvpOiBUNLGqB"
      },
      "source": [
        "# perform the genetic algorithm search\n",
        "best, score = genetic_algorithm(objective, bounds, n_bits, n_iter, n_pop, r_cross, r_mut)\n",
        "print('Done!')\n",
        "decoded = decode(bounds, n_bits, best)\n",
        "print('f(%s) = %f' % (decoded, score))"
      ],
      "execution_count": null,
      "outputs": []
    },
    {
      "cell_type": "code",
      "metadata": {
        "id": "zNZnzUt03lPW"
      },
      "source": [
        ""
      ],
      "execution_count": null,
      "outputs": []
    },
    {
      "cell_type": "code",
      "metadata": {
        "id": "IOeRlkJ83lKE"
      },
      "source": [
        ""
      ],
      "execution_count": null,
      "outputs": []
    },
    {
      "cell_type": "code",
      "metadata": {
        "id": "edXRVeQX3lHB"
      },
      "source": [
        "# define range for input\n",
        "bounds = [[-50.0, 50.0], [-50.0, 50.0]]\n",
        "# define the total iterations\n",
        "n_iter = 1000\n",
        "\n",
        "# perform the genetic algorithm search\n",
        "best, score = genetic_algorithm(objective, bounds, n_bits, n_iter, n_pop, r_cross, r_mut)\n",
        "print('Done!')\n",
        "decoded = decode(bounds, n_bits, best)\n",
        "print('f(%s) = %f' % (decoded, score))"
      ],
      "execution_count": null,
      "outputs": []
    },
    {
      "cell_type": "code",
      "metadata": {
        "id": "E5NbvCKfQW1a"
      },
      "source": [
        ""
      ],
      "execution_count": null,
      "outputs": []
    },
    {
      "cell_type": "code",
      "metadata": {
        "id": "qKWzlTrFQwGV"
      },
      "source": [
        ""
      ],
      "execution_count": null,
      "outputs": []
    },
    {
      "cell_type": "markdown",
      "metadata": {
        "id": "wLmAscL7QtHf"
      },
      "source": [
        "#### <font color=green>**1.2.** </font> ライブラリを使用：One-Max問題"
      ]
    },
    {
      "cell_type": "markdown",
      "metadata": {
        "id": "BgBV5lN1Hkqc"
      },
      "source": [
        "DEAP公式ドキュメント ： https://deap.readthedocs.io/en/master/index.html"
      ]
    },
    {
      "cell_type": "code",
      "metadata": {
        "id": "4C-9fcu4N6n_"
      },
      "source": [
        "## 出典 ： https://github.com/DEAP/deap/blob/master/examples/ga/onemax.py"
      ],
      "execution_count": null,
      "outputs": []
    },
    {
      "cell_type": "code",
      "metadata": {
        "id": "0enCIB2CN6g1"
      },
      "source": [
        "import random\n",
        "\n",
        "from deap import base\n",
        "from deap import creator\n",
        "from deap import tools"
      ],
      "execution_count": null,
      "outputs": []
    },
    {
      "cell_type": "code",
      "metadata": {
        "id": "y-JNRoj7OCU2"
      },
      "source": [
        "creator.create(\"FitnessMax\", base.Fitness, weights=(1.0,))\n",
        "creator.create(\"Individual\", list, fitness=creator.FitnessMax)\n",
        "\n",
        "toolbox = base.Toolbox()"
      ],
      "execution_count": null,
      "outputs": []
    },
    {
      "cell_type": "code",
      "metadata": {
        "id": "WgR6IyTLOCSR"
      },
      "source": [
        "# Attribute generator \n",
        "#   define 'attr_bool' to be an attribute ('gene')\n",
        "#   which corresponds to integers sampled uniformly\n",
        "#   from the range [0,1] (i.e. 0 or 1 with equal probability)\n",
        "toolbox.register(\"attr_bool\", random.randint, 0, 1)"
      ],
      "execution_count": null,
      "outputs": []
    },
    {
      "cell_type": "code",
      "metadata": {
        "id": "x4guCT5DOCPF"
      },
      "source": [
        "# Structure initializers\n",
        "#   define 'individual' to be an individual\n",
        "#   consisting of 100 'attr_bool' elements ('genes')\n",
        "toolbox.register(\"individual\", tools.initRepeat, creator.Individual, \n",
        "    toolbox.attr_bool, 100)"
      ],
      "execution_count": null,
      "outputs": []
    },
    {
      "cell_type": "code",
      "metadata": {
        "id": "9i8OSd0XOUUA"
      },
      "source": [
        "# define the population to be a list of individuals\n",
        "toolbox.register(\"population\", tools.initRepeat, list, toolbox.individual)\n",
        "\n",
        "# the goal ('fitness') function to be maximized\n",
        "def evalOneMax(individual):\n",
        "    return sum(individual),"
      ],
      "execution_count": null,
      "outputs": []
    },
    {
      "cell_type": "code",
      "metadata": {
        "id": "a8CyHM3zOUQt"
      },
      "source": [
        "#----------\n",
        "# Operator registration\n",
        "#----------\n",
        "# register the goal / fitness function\n",
        "toolbox.register(\"evaluate\", evalOneMax)\n",
        "\n",
        "# register the crossover operator\n",
        "toolbox.register(\"mate\", tools.cxTwoPoint)\n",
        "\n",
        "# register a mutation operator with a probability to\n",
        "# flip each attribute/gene of 0.05\n",
        "toolbox.register(\"mutate\", tools.mutFlipBit, indpb=0.05)\n",
        "\n",
        "# operator for selecting individuals for breeding the next\n",
        "# generation: each individual of the current generation\n",
        "# is replaced by the 'fittest' (best) of three individuals\n",
        "# drawn randomly from the current generation.\n",
        "toolbox.register(\"select\", tools.selTournament, tournsize=3)"
      ],
      "execution_count": null,
      "outputs": []
    },
    {
      "cell_type": "code",
      "metadata": {
        "id": "6bv8Ya1xOCMX"
      },
      "source": [
        "random.seed(64)\n",
        "\n",
        "# create an initial population of 300 individuals\n",
        "# (where each individual is a list of integers)\n",
        "pop = toolbox.population(n=300)\n",
        "\n",
        "# CXPB  is the probability with which two individuals are crossed\n",
        "#\n",
        "# MUTPB is the probability for mutating an individual\n",
        "CXPB, MUTPB = 0.5, 0.2"
      ],
      "execution_count": null,
      "outputs": []
    },
    {
      "cell_type": "code",
      "metadata": {
        "id": "CzSIheDNQxPm"
      },
      "source": [
        "print(\"Start of evolution\")\n",
        "    \n",
        "# Evaluate the entire population\n",
        "fitnesses = list(map(toolbox.evaluate, pop))\n",
        "for ind, fit in zip(pop, fitnesses):\n",
        "  ind.fitness.values = fit\n",
        "    \n",
        "print(\"  Evaluated %i individuals\" % len(pop))\n",
        "\n",
        "# Extracting all the fitnesses of \n",
        "fits = [ind.fitness.values[0] for ind in pop]\n",
        "\n",
        "# Variable keeping track of the number of generations\n",
        "g = 0\n",
        "    \n",
        "# Begin the evolution\n",
        "while max(fits) < 100 and g < 1000:\n",
        "  # A new generation\n",
        "  g = g + 1\n",
        "  print(\"-- Generation %i --\" % g)\n",
        "        \n",
        "  # Select the next generation individuals\n",
        "  offspring = toolbox.select(pop, len(pop))\n",
        "  # Clone the selected individuals\n",
        "  offspring = list(map(toolbox.clone, offspring))\n",
        "    \n",
        "  # Apply crossover and mutation on the offspring\n",
        "  for child1, child2 in zip(offspring[::2], offspring[1::2]):\n",
        "    # cross two individuals with probability CXPB\n",
        "    if random.random() < CXPB:\n",
        "      toolbox.mate(child1, child2)\n",
        "      # fitness values of the children\n",
        "      # must be recalculated later\n",
        "      del child1.fitness.values\n",
        "      del child2.fitness.values\n",
        "\n",
        "  for mutant in offspring:\n",
        "    # mutate an individual with probability MUTPB\n",
        "    if random.random() < MUTPB:\n",
        "      toolbox.mutate(mutant)\n",
        "      del mutant.fitness.values\n",
        "    \n",
        "  # Evaluate the individuals with an invalid fitness\n",
        "  invalid_ind = [ind for ind in offspring if not ind.fitness.valid]\n",
        "  fitnesses = map(toolbox.evaluate, invalid_ind)\n",
        "  for ind, fit in zip(invalid_ind, fitnesses):\n",
        "    ind.fitness.values = fit\n",
        "        \n",
        "  print(\"  Evaluated %i individuals\" % len(invalid_ind))\n",
        "        \n",
        "  # The population is entirely replaced by the offspring\n",
        "  pop[:] = offspring\n",
        "        \n",
        "  # Gather all the fitnesses in one list and print the stats\n",
        "  fits = [ind.fitness.values[0] for ind in pop]\n",
        "        \n",
        "  length = len(pop)\n",
        "  mean = sum(fits) / length\n",
        "  sum2 = sum(x*x for x in fits)\n",
        "  std = abs(sum2 / length - mean**2)**0.5\n",
        "        \n",
        "  print(\"  Min %s\" % min(fits), \"  Max %s\" % max(fits), \"  Avg %s\" % mean, \"  Std %s\" % std)\n",
        "\n",
        "  \n",
        "print(\"\\n-- End of (successful) evolution --\")\n",
        "best_ind = tools.selBest(pop, 1)[0]\n",
        "print(\"Best individual is %s, %s\" % (best_ind, best_ind.fitness.values))"
      ],
      "execution_count": null,
      "outputs": []
    },
    {
      "cell_type": "code",
      "metadata": {
        "id": "Z0urHexqQxF5"
      },
      "source": [
        ""
      ],
      "execution_count": null,
      "outputs": []
    },
    {
      "cell_type": "code",
      "metadata": {
        "id": "UEi2NR72Qo8v"
      },
      "source": [
        ""
      ],
      "execution_count": null,
      "outputs": []
    },
    {
      "cell_type": "markdown",
      "metadata": {
        "id": "rF2x3qooyBTI"
      },
      "source": [
        "#### <font color=green>**1.3.** </font> ライブラリを使用：ナップサック問題"
      ]
    },
    {
      "cell_type": "code",
      "metadata": {
        "id": "2gFnAk5aNeY6"
      },
      "source": [
        "## 出典 ： https://github.com/DEAP/deap/blob/master/examples/ga/knapsack.py"
      ],
      "execution_count": null,
      "outputs": []
    },
    {
      "cell_type": "code",
      "metadata": {
        "id": "7RA-finzJNQW"
      },
      "source": [
        "import random\n",
        "\n",
        "import numpy\n",
        "\n",
        "from deap import algorithms\n",
        "from deap import base\n",
        "from deap import creator\n",
        "from deap import tools"
      ],
      "execution_count": null,
      "outputs": []
    },
    {
      "cell_type": "code",
      "metadata": {
        "id": "wd_lQAE7JNNA"
      },
      "source": [
        "IND_INIT_SIZE = 5\n",
        "MAX_ITEM = 50\n",
        "MAX_WEIGHT = 50\n",
        "NBR_ITEMS = 20\n",
        "\n",
        "random.seed(64)"
      ],
      "execution_count": null,
      "outputs": []
    },
    {
      "cell_type": "code",
      "metadata": {
        "id": "s1eB-sq7JQ-f"
      },
      "source": [
        "# Create the item dictionary: item name is an integer, and value is \n",
        "# a (weight, value) 2-uple.\n",
        "items = {}\n",
        "# Create random items and store them in the items' dictionary.\n",
        "for i in range(NBR_ITEMS):\n",
        "    items[i] = (random.randint(1, 10), random.randint(0, 100))"
      ],
      "execution_count": null,
      "outputs": []
    },
    {
      "cell_type": "code",
      "metadata": {
        "id": "gWkIvK-xLFyj"
      },
      "source": [
        "items"
      ],
      "execution_count": null,
      "outputs": []
    },
    {
      "cell_type": "code",
      "metadata": {
        "id": "BEb-CesmJQ4Q"
      },
      "source": [
        "creator.create(\"Fitness\", base.Fitness, weights=(-1.0, 1.0))\n",
        "creator.create(\"Individual\", set, fitness=creator.Fitness)\n",
        "\n",
        "toolbox = base.Toolbox()\n",
        "\n",
        "# Attribute generator\n",
        "toolbox.register(\"attr_item\", random.randrange, NBR_ITEMS)\n",
        "\n",
        "# Structure initializers\n",
        "toolbox.register(\"individual\", tools.initRepeat, creator.Individual, \n",
        "    toolbox.attr_item, IND_INIT_SIZE)\n",
        "toolbox.register(\"population\", tools.initRepeat, list, toolbox.individual)"
      ],
      "execution_count": null,
      "outputs": []
    },
    {
      "cell_type": "code",
      "metadata": {
        "id": "ftBSk16dJNJY"
      },
      "source": [
        "def evalKnapsack(individual):\n",
        "    weight = 0.0\n",
        "    value = 0.0\n",
        "    for item in individual:\n",
        "        weight += items[item][0]\n",
        "        value += items[item][1]\n",
        "    if len(individual) > MAX_ITEM or weight > MAX_WEIGHT:\n",
        "        return 10000, 0             # Ensure overweighted bags are dominated\n",
        "    return weight, value"
      ],
      "execution_count": null,
      "outputs": []
    },
    {
      "cell_type": "code",
      "metadata": {
        "id": "4s_zE8b_Jhkq"
      },
      "source": [
        "def cxSet(ind1, ind2):\n",
        "    \"\"\"Apply a crossover operation on input sets. The first child is the\n",
        "    intersection of the two sets, the second child is the difference of the\n",
        "    two sets.\n",
        "    \"\"\"\n",
        "    temp = set(ind1)                # Used in order to keep type\n",
        "    ind1 &= ind2                    # Intersection (inplace)\n",
        "    ind2 ^= temp                    # Symmetric Difference (inplace)\n",
        "    return ind1, ind2"
      ],
      "execution_count": null,
      "outputs": []
    },
    {
      "cell_type": "code",
      "metadata": {
        "id": "fCDJeblmJhbB"
      },
      "source": [
        "def mutSet(individual):\n",
        "    \"\"\"Mutation that pops or add an element.\"\"\"\n",
        "    if random.random() < 0.5:\n",
        "        if len(individual) > 0:     # We cannot pop from an empty set\n",
        "            individual.remove(random.choice(sorted(tuple(individual))))\n",
        "    else:\n",
        "        individual.add(random.randrange(NBR_ITEMS))\n",
        "    return individual,"
      ],
      "execution_count": null,
      "outputs": []
    },
    {
      "cell_type": "code",
      "metadata": {
        "id": "pQ_jFI1WJluH"
      },
      "source": [
        "toolbox.register(\"evaluate\", evalKnapsack)\n",
        "toolbox.register(\"mate\", cxSet)\n",
        "toolbox.register(\"mutate\", mutSet)\n",
        "toolbox.register(\"select\", tools.selNSGA2)"
      ],
      "execution_count": null,
      "outputs": []
    },
    {
      "cell_type": "code",
      "metadata": {
        "id": "C5UOGwWMJlqv"
      },
      "source": [
        "NGEN = 50\n",
        "MU = 50\n",
        "LAMBDA = 100\n",
        "CXPB = 0.7\n",
        "MUTPB = 0.2"
      ],
      "execution_count": null,
      "outputs": []
    },
    {
      "cell_type": "code",
      "metadata": {
        "id": "g-dEqtfQxH3r"
      },
      "source": [
        "pop = toolbox.population(n=MU)\n",
        "hof = tools.ParetoFront()\n",
        "stats = tools.Statistics(lambda ind: ind.fitness.values)\n",
        "stats.register(\"avg\", numpy.mean, axis=0)\n",
        "stats.register(\"std\", numpy.std, axis=0)\n",
        "stats.register(\"min\", numpy.min, axis=0)\n",
        "stats.register(\"max\", numpy.max, axis=0)\n",
        "    \n",
        "algorithms.eaMuPlusLambda(pop, toolbox, MU, LAMBDA, CXPB, \n",
        "                          MUTPB, NGEN, stats, halloffame=hof)\n",
        "\n",
        "hof"
      ],
      "execution_count": null,
      "outputs": []
    },
    {
      "cell_type": "code",
      "metadata": {
        "id": "bPP8HiKJMRP7"
      },
      "source": [
        ""
      ],
      "execution_count": null,
      "outputs": []
    },
    {
      "cell_type": "code",
      "metadata": {
        "id": "Ai0XijnuQTvw"
      },
      "source": [
        ""
      ],
      "execution_count": null,
      "outputs": []
    },
    {
      "cell_type": "markdown",
      "metadata": {
        "id": "Ps2nf1ZKQtFK"
      },
      "source": [
        "#### <font color=green>**1.4.** </font> ライブラリを使用：Ackley関数"
      ]
    },
    {
      "cell_type": "code",
      "metadata": {
        "id": "bpSFJ_s9MUqP"
      },
      "source": [
        "## 出典 ： https://qiita.com/tyoshitake/items/e76f6f8e4110731606bc"
      ],
      "execution_count": null,
      "outputs": []
    },
    {
      "cell_type": "code",
      "metadata": {
        "id": "3tDjNIZNMUnt"
      },
      "source": [
        "import random\n",
        "from deap import base, creator, tools\n",
        "from deap.benchmarks import ackley"
      ],
      "execution_count": null,
      "outputs": []
    },
    {
      "cell_type": "code",
      "metadata": {
        "id": "IrIJwRlqMUlQ"
      },
      "source": [
        "# 適応度クラスの作成\n",
        "creator.create(\"FitnessMin\", base.Fitness, weights=(-1.0,))"
      ],
      "execution_count": null,
      "outputs": []
    },
    {
      "cell_type": "code",
      "metadata": {
        "id": "qdiKTN63MUi8"
      },
      "source": [
        "# 個体クラスの作成\n",
        "creator.create(\"Individual\", list, fitness=creator.FitnessMin)"
      ],
      "execution_count": null,
      "outputs": []
    },
    {
      "cell_type": "code",
      "metadata": {
        "id": "Xt_BwKcvMUg0"
      },
      "source": [
        "# Toolboxの作成\n",
        "toolbox = base.Toolbox()"
      ],
      "execution_count": null,
      "outputs": []
    },
    {
      "cell_type": "code",
      "metadata": {
        "id": "2aHPkBqUMVYC"
      },
      "source": [
        "# 遺伝子を生成する関数\"attr_gene\"を登録\n",
        "toolbox.register(\"attr_gene\", random.uniform, -500, 500)"
      ],
      "execution_count": null,
      "outputs": []
    },
    {
      "cell_type": "code",
      "metadata": {
        "id": "6VzWQD72MVVi"
      },
      "source": [
        "# 個体を生成する関数”individual\"を登録\n",
        "toolbox.register(\"individual\", tools.initRepeat, creator.Individual,\n",
        "                 toolbox.attr_gene, 2)"
      ],
      "execution_count": null,
      "outputs": []
    },
    {
      "cell_type": "code",
      "metadata": {
        "id": "j_0kBJajOjG8"
      },
      "source": [
        "# 個体集団を生成する関数\"population\"を登録\n",
        "toolbox.register(\"population\", tools.initRepeat, list, toolbox.individual)"
      ],
      "execution_count": null,
      "outputs": []
    },
    {
      "cell_type": "code",
      "metadata": {
        "id": "W4tzlTLyOjEg"
      },
      "source": [
        "# 評価関数\"evaluate\"を登録\n",
        "toolbox.register(\"evaluate\", ackley)"
      ],
      "execution_count": null,
      "outputs": []
    },
    {
      "cell_type": "markdown",
      "metadata": {
        "id": "06Zlu0TgqZwv"
      },
      "source": [
        "![ackley1.gif](data:image/gif;base64,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)"
      ]
    },
    {
      "cell_type": "code",
      "metadata": {
        "id": "VjFbEY20qZOx"
      },
      "source": [
        ""
      ],
      "execution_count": null,
      "outputs": []
    },
    {
      "cell_type": "code",
      "metadata": {
        "id": "Km9gP4jyOjCQ"
      },
      "source": [
        "# 交叉を行う関数\"mate\"を登録\n",
        "toolbox.register(\"mate\", tools.cxBlend, alpha=0.2)"
      ],
      "execution_count": null,
      "outputs": []
    },
    {
      "cell_type": "code",
      "metadata": {
        "id": "fkfdwN-ZOi_b"
      },
      "source": [
        "# 変異を行う関数\"mutate\"を登録\n",
        "toolbox.register(\"mutate\", tools.mutGaussian, mu=[\n",
        "                 0.0, 0.0], sigma=[200.0, 200.0], indpb=0.2)"
      ],
      "execution_count": null,
      "outputs": []
    },
    {
      "cell_type": "code",
      "metadata": {
        "id": "3VhHM5g6Oi7r"
      },
      "source": [
        "# 個体選択法\"select\"を登録\n",
        "toolbox.register(\"select\", tools.selTournament, tournsize=3)"
      ],
      "execution_count": null,
      "outputs": []
    },
    {
      "cell_type": "code",
      "metadata": {
        "id": "DWJ1kxuXMVTU"
      },
      "source": [
        "random.seed(1)\n",
        "\n",
        "# GAパラメータ\n",
        "N_GEN = 100      # 繰り返し世代数\n",
        "\n",
        "POP_SIZE = 1000  # 集団内の個体数\n",
        "CX_PB = 0.5      # 交叉確率\n",
        "MUT_PB = 0.2     # 変異確率"
      ],
      "execution_count": null,
      "outputs": []
    },
    {
      "cell_type": "code",
      "metadata": {
        "id": "kUnu9ZD2MVQ6"
      },
      "source": [
        "# 個体集団の生成\n",
        "pop = toolbox.population(n=POP_SIZE)\n",
        "print(\"Start of evolution\")\n",
        "\n",
        "# 個体集団の適応度の評価\n",
        "fitnesses = list(map(toolbox.evaluate, pop))\n",
        "for ind, fit in zip(pop, fitnesses):\n",
        "  ind.fitness.values = fit\n",
        "print(\"  Evaluated %i individuals\" % len(pop))\n",
        "\n",
        "# 適応度の抽出\n",
        "fits = [ind.fitness.values[0] for ind in pop]"
      ],
      "execution_count": null,
      "outputs": []
    },
    {
      "cell_type": "code",
      "metadata": {
        "id": "EuxgwNq-MUcQ"
      },
      "source": [
        "# 進化ループ開始\n",
        "g = 0\n",
        "while g < N_GEN:\n",
        "  g = g + 1\n",
        "  print(\"-- Generation %i --\" % g)\n",
        "\n",
        "  # 次世代個体の選択・複製\n",
        "  offspring = toolbox.select(pop, len(pop))\n",
        "  offspring = list(map(toolbox.clone, offspring))\n",
        "\n",
        "  # 交叉\n",
        "  for child1, child2 in zip(offspring[::2], offspring[1::2]):\n",
        "    # 交叉させる個体を選択\n",
        "    if random.random() < CX_PB:\n",
        "      toolbox.mate(child1, child2)\n",
        "      # 交叉させた個体は適応度を削除する\n",
        "      del child1.fitness.values\n",
        "      del child2.fitness.values\n",
        "\n",
        "  # 変異\n",
        "  for mutant in offspring:\n",
        "    # 変異させる個体を選択\n",
        "    if random.random() < MUT_PB:\n",
        "      toolbox.mutate(mutant)\n",
        "      # 変異させた個体は適応度を削除する\n",
        "      del mutant.fitness.values\n",
        "\n",
        "      # 適応度を削除した個体について適応度の再評価を行う\n",
        "      invalid_ind = [ind for ind in offspring if not ind.fitness.valid]\n",
        "      fitnesses = map(toolbox.evaluate, invalid_ind)\n",
        "      for ind, fit in zip(invalid_ind, fitnesses):\n",
        "        ind.fitness.values = fit\n",
        "\n",
        "      print(\"  Evaluated %i individuals\" % len(invalid_ind))\n",
        "\n",
        "      # 個体集団を新世代個体集団で更新\n",
        "      pop[:] = offspring\n",
        "\n",
        "      # 新世代の全個体の適応度の抽出\n",
        "      fits = [ind.fitness.values[0] for ind in pop]\n",
        "\n",
        "      # 適応度の統計情報の出力\n",
        "      length = len(pop)\n",
        "      mean = sum(fits) / length\n",
        "      sum2 = sum(x*x for x in fits)\n",
        "      std = abs(sum2 / length - mean**2)**0.5\n",
        "\n",
        "      print(\"  Min %s\" % min(fits), \"  Max %s\" % max(fits), \"  Avg %s\" % mean, \"  Std %s\" % std)"
      ],
      "execution_count": null,
      "outputs": []
    },
    {
      "cell_type": "code",
      "metadata": {
        "id": "lQGH2naMMUZt"
      },
      "source": [
        "# 最良個体の抽出\n",
        "best_ind = tools.selBest(pop, 1)[0]\n",
        "print(\"Best individual is %s, %s\" % (best_ind, best_ind.fitness.values))"
      ],
      "execution_count": null,
      "outputs": []
    },
    {
      "cell_type": "code",
      "metadata": {
        "id": "pJFc6NlQQwZB"
      },
      "source": [
        ""
      ],
      "execution_count": null,
      "outputs": []
    },
    {
      "cell_type": "code",
      "metadata": {
        "id": "pUyAICTYQwWe"
      },
      "source": [
        ""
      ],
      "execution_count": null,
      "outputs": []
    },
    {
      "cell_type": "markdown",
      "metadata": {
        "id": "TIfDIhZAQUIQ"
      },
      "source": [
        "### <font color=blue>**2.** </font> 遺伝的プログラミング（Genetic Programming：GP）"
      ]
    },
    {
      "cell_type": "markdown",
      "metadata": {
        "id": "RovmgQ--4aLL"
      },
      "source": [
        "#### <font color=green>**2.1.** </font> 曲線のフィッティングの例"
      ]
    },
    {
      "cell_type": "code",
      "metadata": {
        "id": "cUdO5lw7Ouqk"
      },
      "source": [
        "## 出典 ： https://wacchoz.hatenablog.com/entry/2015/09/21/124600"
      ],
      "execution_count": null,
      "outputs": []
    },
    {
      "cell_type": "code",
      "metadata": {
        "id": "RmKMwfCHPEAQ"
      },
      "source": [
        "!pip install deap"
      ],
      "execution_count": null,
      "outputs": []
    },
    {
      "cell_type": "code",
      "metadata": {
        "id": "ZTgt3bPeQc71"
      },
      "source": [
        "!sudo apt-get install graphviz graphviz-dev\n",
        "!pip install pygraphviz"
      ],
      "execution_count": null,
      "outputs": []
    },
    {
      "cell_type": "code",
      "metadata": {
        "id": "ggtvWnUsPD-M"
      },
      "source": [
        "import operator\n",
        "import math\n",
        "import random\n",
        "\n",
        "import numpy as np\n",
        "\n",
        "from deap import algorithms\n",
        "from deap import base\n",
        "from deap import creator\n",
        "from deap import tools\n",
        "from deap import gp"
      ],
      "execution_count": null,
      "outputs": []
    },
    {
      "cell_type": "code",
      "metadata": {
        "id": "b0jmHv0PPD8E"
      },
      "source": [
        "# Define new functions\n",
        "def protectedDiv(left, right):\n",
        "    try:\n",
        "        return left / right\n",
        "    except ZeroDivisionError:\n",
        "        return 1"
      ],
      "execution_count": null,
      "outputs": []
    },
    {
      "cell_type": "code",
      "metadata": {
        "id": "NMUz1yNKPKpi"
      },
      "source": [
        "pset = gp.PrimitiveSet(\"MAIN\", 1)\n",
        "pset.addPrimitive(operator.add, 2)\n",
        "pset.addPrimitive(operator.sub, 2)\n",
        "pset.addPrimitive(operator.mul, 2)\n",
        "pset.addPrimitive(protectedDiv, 2)\n",
        "pset.addPrimitive(operator.neg, 1)\n",
        "pset.addPrimitive(math.cos, 1)\n",
        "pset.addPrimitive(math.sin, 1)\n",
        "pset.addEphemeralConstant(\"rand101\", lambda: random.randint(-1,1))\n",
        "pset.renameArguments(ARG0='x')\n",
        "\n",
        "creator.create(\"FitnessMin\", base.Fitness, weights=(-1.0,))\n",
        "creator.create(\"Individual\", gp.PrimitiveTree, fitness=creator.FitnessMin)\n",
        "\n",
        "toolbox = base.Toolbox()\n",
        "toolbox.register(\"expr\", gp.genHalfAndHalf, pset=pset, min_=1, max_=2)\n",
        "toolbox.register(\"individual\", tools.initIterate, creator.Individual, toolbox.expr)\n",
        "toolbox.register(\"population\", tools.initRepeat, list, toolbox.individual)\n",
        "toolbox.register(\"compile\", gp.compile, pset=pset)"
      ],
      "execution_count": null,
      "outputs": []
    },
    {
      "cell_type": "code",
      "metadata": {
        "id": "a2WEj9J9PKmy"
      },
      "source": [
        "# これが探したい関数\n",
        "def target(x):\n",
        "    return x**4 + x**3 + x**2 + x + 1/(x+3)"
      ],
      "execution_count": null,
      "outputs": []
    },
    {
      "cell_type": "code",
      "metadata": {
        "id": "vE2JTsh_PKia"
      },
      "source": [
        "# 残差２乗和を最小化する\n",
        "def evalSymbReg(individual, points):\n",
        "    func = toolbox.compile(expr=individual)\n",
        "    sqerrors = ((func(x) - target(x))**2 for x in points)\n",
        "    return math.fsum(sqerrors) / len(points),"
      ],
      "execution_count": null,
      "outputs": []
    },
    {
      "cell_type": "code",
      "metadata": {
        "id": "5WJbnutU4xL4"
      },
      "source": [
        "toolbox.register(\"evaluate\", evalSymbReg, points=[x/10. for x in range(-10,10)])\n",
        "toolbox.register(\"select\", tools.selTournament, tournsize=3)\n",
        "toolbox.register(\"mate\", gp.cxOnePoint)\n",
        "toolbox.register(\"expr_mut\", gp.genFull, min_=0, max_=2)\n",
        "toolbox.register(\"mutate\", gp.mutUniform, expr=toolbox.expr_mut, pset=pset)\n",
        "\n",
        "toolbox.decorate(\"mate\", gp.staticLimit(key=operator.attrgetter(\"height\"), max_value=17))\n",
        "toolbox.decorate(\"mutate\", gp.staticLimit(key=operator.attrgetter(\"height\"), max_value=17))"
      ],
      "execution_count": null,
      "outputs": []
    },
    {
      "cell_type": "code",
      "metadata": {
        "id": "cKLVFLhKOuob"
      },
      "source": [
        "#random.seed(318)\n",
        "\n",
        "pop = toolbox.population(n=300)\n",
        "hof = tools.HallOfFame(1)\n",
        "\n",
        "stats_fit = tools.Statistics(lambda ind: ind.fitness.values)\n",
        "stats_size = tools.Statistics(len)\n",
        "mstats = tools.MultiStatistics(fitness=stats_fit, size=stats_size)\n",
        "mstats.register(\"avg\", np.mean)\n",
        "mstats.register(\"std\", np.std)\n",
        "mstats.register(\"min\", np.min)\n",
        "mstats.register(\"max\", np.max)\n",
        "\n",
        "pop, log = algorithms.eaSimple(pop, toolbox, 0.5, 0.1, \n",
        "                               500,   ## 100 -> 500\n",
        "                                       ## 10000くらいにするとかなりフィット（過学習）する\n",
        "                               stats=mstats,\n",
        "                               halloffame=hof, verbose=True)\n",
        "\n",
        "expr = tools.selBest(pop, 1)[0]\n",
        "tree = gp.PrimitiveTree(expr)\n",
        "print(str(tree))"
      ],
      "execution_count": null,
      "outputs": []
    },
    {
      "cell_type": "code",
      "metadata": {
        "id": "IASFMdlaOumL"
      },
      "source": [
        "nodes, edges, labels = gp.graph(expr)\n",
        "import networkx as nx\n",
        "import matplotlib.pyplot as plt\n",
        "\n",
        "plt.figure(figsize=(12,12))\n",
        "g = nx.Graph()\n",
        "g.add_nodes_from(nodes)\n",
        "g.add_edges_from(edges)\n",
        "pos = nx.drawing.nx_agraph.graphviz_layout(g, prog=\"dot\")\n",
        "\n",
        "nx.draw_networkx_nodes(g, pos,\n",
        "                       node_color=\"orange\"   ###\n",
        "                       )\n",
        "nx.draw_networkx_edges(g, pos)\n",
        "nx.draw_networkx_labels(g, pos, labels)\n",
        "plt.show()"
      ],
      "execution_count": null,
      "outputs": []
    },
    {
      "cell_type": "code",
      "metadata": {
        "id": "66mf8Dk6Ouj9"
      },
      "source": [
        "x = [x/10. for x in range(-10,10)]\n",
        "y_t = np.zeros(len(x))\n",
        "y_pred = np.zeros(len(x))\n",
        "func = toolbox.compile(expr)\n",
        "for i, x0 in enumerate(x):\n",
        "    y_t[i]= target(x0)\n",
        "    y_pred[i] = func(x0)\n",
        "plt.plot(x, y_t, label=\"target\")\n",
        "plt.plot(x, y_pred, label=\"prediction\")\n",
        "plt.legend()\n",
        "plt.show()"
      ],
      "execution_count": null,
      "outputs": []
    },
    {
      "cell_type": "code",
      "metadata": {
        "id": "Z6xrjYE3Ongq"
      },
      "source": [
        "x = [x/10. for x in range(-25,25)]\n",
        "y_t = np.zeros(len(x))\n",
        "y_pred = np.zeros(len(x))\n",
        "func = toolbox.compile(expr)\n",
        "for i, x0 in enumerate(x):\n",
        "    y_t[i]= target(x0)\n",
        "    y_pred[i] = func(x0)\n",
        "plt.plot(x, y_t, label=\"target\")\n",
        "plt.plot(x, y_pred, label=\"prediction\")\n",
        "plt.legend()\n",
        "plt.show()"
      ],
      "execution_count": null,
      "outputs": []
    },
    {
      "cell_type": "code",
      "metadata": {
        "id": "Z1hbDPn1Oprs"
      },
      "source": [
        ""
      ],
      "execution_count": null,
      "outputs": []
    },
    {
      "cell_type": "code",
      "metadata": {
        "id": "ES6CP5n3OppU"
      },
      "source": [
        ""
      ],
      "execution_count": null,
      "outputs": []
    },
    {
      "cell_type": "markdown",
      "metadata": {
        "id": "wfenbeKE5Bj4"
      },
      "source": [
        "#### <font color=green>**2.2.** </font> ライブラリのサンプルコード"
      ]
    },
    {
      "cell_type": "markdown",
      "metadata": {
        "id": "f17WXXA1QPyP"
      },
      "source": [
        "https://github.com/DEAP/deap/tree/master/examples/gp"
      ]
    },
    {
      "cell_type": "code",
      "metadata": {
        "id": "msm2GZVjQf7k"
      },
      "source": [
        "## https://github.com/DEAP/deap/blob/master/examples/gp/symbreg.py"
      ],
      "execution_count": null,
      "outputs": []
    },
    {
      "cell_type": "code",
      "metadata": {
        "id": "KBiJZ3DyQ5mx"
      },
      "source": [
        "import operator\n",
        "import math\n",
        "import random\n",
        "\n",
        "import numpy\n",
        "\n",
        "from deap import algorithms\n",
        "from deap import base\n",
        "from deap import creator\n",
        "from deap import tools\n",
        "from deap import gp"
      ],
      "execution_count": null,
      "outputs": []
    },
    {
      "cell_type": "code",
      "metadata": {
        "id": "iIHBe9JCQ5kI"
      },
      "source": [
        "# Define new functions\n",
        "def protectedDiv(left, right):\n",
        "    try:\n",
        "        return left / right\n",
        "    except ZeroDivisionError:\n",
        "        return 1"
      ],
      "execution_count": null,
      "outputs": []
    },
    {
      "cell_type": "code",
      "metadata": {
        "id": "jU_xCreNQ5hF"
      },
      "source": [
        "pset = gp.PrimitiveSet(\"MAIN\", 1)\n",
        "pset.addPrimitive(operator.add, 2)\n",
        "pset.addPrimitive(operator.sub, 2)\n",
        "pset.addPrimitive(operator.mul, 2)\n",
        "pset.addPrimitive(protectedDiv, 2)\n",
        "pset.addPrimitive(operator.neg, 1)\n",
        "pset.addPrimitive(math.cos, 1)\n",
        "pset.addPrimitive(math.sin, 1)\n",
        "pset.addEphemeralConstant(\"rand101\", lambda: random.randint(-1,1))\n",
        "pset.renameArguments(ARG0='x')\n",
        "\n",
        "creator.create(\"FitnessMin\", base.Fitness, weights=(-1.0,))\n",
        "creator.create(\"Individual\", gp.PrimitiveTree, fitness=creator.FitnessMin)\n",
        "\n",
        "toolbox = base.Toolbox()\n",
        "toolbox.register(\"expr\", gp.genHalfAndHalf, pset=pset, min_=1, max_=2)\n",
        "toolbox.register(\"individual\", tools.initIterate, creator.Individual, toolbox.expr)\n",
        "toolbox.register(\"population\", tools.initRepeat, list, toolbox.individual)\n",
        "toolbox.register(\"compile\", gp.compile, pset=pset)"
      ],
      "execution_count": null,
      "outputs": []
    },
    {
      "cell_type": "code",
      "metadata": {
        "id": "5nje0M9nQ5do"
      },
      "source": [
        "def evalSymbReg(individual, points):\n",
        "    # Transform the tree expression in a callable function\n",
        "    func = toolbox.compile(expr=individual)\n",
        "    # Evaluate the mean squared error between the expression\n",
        "    # and the real function : x**4 + x**3 + x**2 + x\n",
        "    sqerrors = ((func(x) - x**4 - x**3 - x**2 - x)**2 for x in points)\n",
        "    return math.fsum(sqerrors) / len(points),"
      ],
      "execution_count": null,
      "outputs": []
    },
    {
      "cell_type": "code",
      "metadata": {
        "id": "QO0nCalFRMOV"
      },
      "source": [
        "toolbox.register(\"evaluate\", evalSymbReg, points=[x/10. for x in range(-10,10)])\n",
        "toolbox.register(\"select\", tools.selTournament, tournsize=3)\n",
        "toolbox.register(\"mate\", gp.cxOnePoint)\n",
        "toolbox.register(\"expr_mut\", gp.genFull, min_=0, max_=2)\n",
        "toolbox.register(\"mutate\", gp.mutUniform, expr=toolbox.expr_mut, pset=pset)\n",
        "\n",
        "toolbox.decorate(\"mate\", gp.staticLimit(key=operator.attrgetter(\"height\"), max_value=17))\n",
        "toolbox.decorate(\"mutate\", gp.staticLimit(key=operator.attrgetter(\"height\"), max_value=17))"
      ],
      "execution_count": null,
      "outputs": []
    },
    {
      "cell_type": "code",
      "metadata": {
        "id": "QFT094X-Qf4B"
      },
      "source": [
        "def main():\n",
        "    random.seed(318)\n",
        "\n",
        "    pop = toolbox.population(n=300)\n",
        "    hof = tools.HallOfFame(1)\n",
        "    \n",
        "    stats_fit = tools.Statistics(lambda ind: ind.fitness.values)\n",
        "    stats_size = tools.Statistics(len)\n",
        "    mstats = tools.MultiStatistics(fitness=stats_fit, size=stats_size)\n",
        "    mstats.register(\"avg\", numpy.mean)\n",
        "    mstats.register(\"std\", numpy.std)\n",
        "    mstats.register(\"min\", numpy.min)\n",
        "    mstats.register(\"max\", numpy.max)\n",
        "\n",
        "    pop, log = algorithms.eaSimple(pop, toolbox, 0.5, 0.1, 40, stats=mstats,\n",
        "                                   halloffame=hof, verbose=True)\n",
        "    # print log\n",
        "    return pop, log, hof\n",
        "\n",
        "if __name__ == \"__main__\":\n",
        "    main()"
      ],
      "execution_count": null,
      "outputs": []
    },
    {
      "cell_type": "code",
      "metadata": {
        "id": "CvzkVMWFQTr0"
      },
      "source": [
        ""
      ],
      "execution_count": null,
      "outputs": []
    },
    {
      "cell_type": "code",
      "metadata": {
        "id": "392uQpq0QTpN"
      },
      "source": [
        ""
      ],
      "execution_count": null,
      "outputs": []
    },
    {
      "cell_type": "markdown",
      "metadata": {
        "id": "XuHuYsuTQUvu"
      },
      "source": [
        "### <font color=blue>**3.** </font> 進化的戦略（Evolutionary Strategy：ES）"
      ]
    },
    {
      "cell_type": "markdown",
      "metadata": {
        "id": "rJieJvGi6CmR"
      },
      "source": [
        "#### <font color=green>**3.1.** </font> 基礎的コード"
      ]
    },
    {
      "cell_type": "code",
      "metadata": {
        "id": "IKu6PU2SNZuV"
      },
      "source": [
        "## https://github.com/DEAP/deap/blob/master/examples/es/fctmin.py"
      ],
      "execution_count": null,
      "outputs": []
    },
    {
      "cell_type": "code",
      "metadata": {
        "id": "Tf4KyE9QRuTp"
      },
      "source": [
        "import array\n",
        "import random\n",
        "\n",
        "import numpy\n",
        "\n",
        "from deap import algorithms\n",
        "from deap import base\n",
        "from deap import benchmarks\n",
        "from deap import creator\n",
        "from deap import tools"
      ],
      "execution_count": null,
      "outputs": []
    },
    {
      "cell_type": "code",
      "metadata": {
        "id": "xld3YPCKRx5J"
      },
      "source": [
        "IND_SIZE = 30\n",
        "MIN_VALUE = 4\n",
        "MAX_VALUE = 5\n",
        "MIN_STRATEGY = 0.5\n",
        "MAX_STRATEGY = 3"
      ],
      "execution_count": null,
      "outputs": []
    },
    {
      "cell_type": "code",
      "metadata": {
        "id": "pI1ilAAlRx2j"
      },
      "source": [
        "creator.create(\"FitnessMin\", base.Fitness, weights=(-1.0,))\n",
        "creator.create(\"Individual\", array.array, typecode=\"d\", fitness=creator.FitnessMin, strategy=None)\n",
        "creator.create(\"Strategy\", array.array, typecode=\"d\")"
      ],
      "execution_count": null,
      "outputs": []
    },
    {
      "cell_type": "code",
      "metadata": {
        "id": "Haf_0wFtR0zY"
      },
      "source": [
        "# Individual generator\n",
        "def generateES(icls, scls, size, imin, imax, smin, smax):\n",
        "    ind = icls(random.uniform(imin, imax) for _ in range(size))\n",
        "    ind.strategy = scls(random.uniform(smin, smax) for _ in range(size))\n",
        "    return ind"
      ],
      "execution_count": null,
      "outputs": []
    },
    {
      "cell_type": "code",
      "metadata": {
        "id": "qAh6jWRuR0wa"
      },
      "source": [
        "def checkStrategy(minstrategy):\n",
        "    def decorator(func):\n",
        "        def wrappper(*args, **kargs):\n",
        "            children = func(*args, **kargs)\n",
        "            for child in children:\n",
        "                for i, s in enumerate(child.strategy):\n",
        "                    if s < minstrategy:\n",
        "                        child.strategy[i] = minstrategy\n",
        "            return children\n",
        "        return wrappper\n",
        "    return decorator"
      ],
      "execution_count": null,
      "outputs": []
    },
    {
      "cell_type": "code",
      "metadata": {
        "id": "B0vftfWkR4gD"
      },
      "source": [
        "toolbox = base.Toolbox()\n",
        "toolbox.register(\"individual\", generateES, creator.Individual, creator.Strategy,\n",
        "    IND_SIZE, MIN_VALUE, MAX_VALUE, MIN_STRATEGY, MAX_STRATEGY)\n",
        "toolbox.register(\"population\", tools.initRepeat, list, toolbox.individual)\n",
        "toolbox.register(\"mate\", tools.cxESBlend, alpha=0.1)\n",
        "toolbox.register(\"mutate\", tools.mutESLogNormal, c=1.0, indpb=0.03)\n",
        "toolbox.register(\"select\", tools.selTournament, tournsize=3)\n",
        "toolbox.register(\"evaluate\", benchmarks.sphere)   ###\n",
        "\n",
        "toolbox.decorate(\"mate\", checkStrategy(MIN_STRATEGY))\n",
        "toolbox.decorate(\"mutate\", checkStrategy(MIN_STRATEGY))"
      ],
      "execution_count": null,
      "outputs": []
    },
    {
      "cell_type": "markdown",
      "metadata": {
        "id": "Ag45AQzpBz3R"
      },
      "source": [
        "https://deap.readthedocs.io/en/master/api/benchmarks.html#deap.benchmarks.sphere"
      ]
    },
    {
      "cell_type": "code",
      "metadata": {
        "id": "OxB45VaUTDhG"
      },
      "source": [
        ""
      ],
      "execution_count": null,
      "outputs": []
    },
    {
      "cell_type": "code",
      "metadata": {
        "id": "5kQrf75iRuKx"
      },
      "source": [
        "def main():\n",
        "    random.seed()\n",
        "    MU, LAMBDA = 10, 100\n",
        "    pop = toolbox.population(n=MU)\n",
        "    hof = tools.HallOfFame(1)\n",
        "    stats = tools.Statistics(lambda ind: ind.fitness.values)\n",
        "    stats.register(\"avg\", numpy.mean)\n",
        "    stats.register(\"std\", numpy.std)\n",
        "    stats.register(\"min\", numpy.min)\n",
        "    stats.register(\"max\", numpy.max)\n",
        "    \n",
        "    pop, logbook = algorithms.eaMuCommaLambda(pop, toolbox, mu=MU, lambda_=LAMBDA, \n",
        "        cxpb=0.6, mutpb=0.3, ngen=500, stats=stats, halloffame=hof)\n",
        "    \n",
        "    return pop, logbook, hof\n",
        "    \n",
        "if __name__ == \"__main__\":\n",
        "    main()"
      ],
      "execution_count": null,
      "outputs": []
    },
    {
      "cell_type": "code",
      "metadata": {
        "id": "AJqNDk46QVTP"
      },
      "source": [
        ""
      ],
      "execution_count": null,
      "outputs": []
    },
    {
      "cell_type": "code",
      "metadata": {
        "id": "m-Nrni_VQVQl"
      },
      "source": [
        ""
      ],
      "execution_count": null,
      "outputs": []
    },
    {
      "cell_type": "markdown",
      "metadata": {
        "id": "GxJPWZUa6AYP"
      },
      "source": [
        "#### <font color=green>**3.2.** </font> one-fifth rule"
      ]
    },
    {
      "cell_type": "code",
      "metadata": {
        "id": "S_fA9y7XLEC0"
      },
      "source": [
        "## 出典 ： https://github.com/DEAP/deap/blob/master/examples/es/onefifth.py"
      ],
      "execution_count": null,
      "outputs": []
    },
    {
      "cell_type": "code",
      "metadata": {
        "id": "DM7qBYgX539u"
      },
      "source": [
        "import array\n",
        "import random\n",
        "\n",
        "from deap import base\n",
        "from deap import creator\n",
        "from deap import benchmarks\n",
        "from deap import tools"
      ],
      "execution_count": null,
      "outputs": []
    },
    {
      "cell_type": "code",
      "metadata": {
        "id": "3OqWoOM06OiR"
      },
      "source": [
        "IND_SIZE = 10\n",
        "\n",
        "creator.create(\"FitnessMin\", base.Fitness, weights=(-1.0,))\n",
        "creator.create(\"Individual\", array.array, typecode='d', fitness=creator.FitnessMin)"
      ],
      "execution_count": null,
      "outputs": []
    },
    {
      "cell_type": "code",
      "metadata": {
        "id": "5CgdKakr5362"
      },
      "source": [
        "def update(ind, mu, std):\n",
        "    for i, mu_i in enumerate(mu):\n",
        "        ind[i] = random.gauss(mu_i,std)\n",
        "\n",
        "toolbox = base.Toolbox()\n",
        "toolbox.register(\"update\", update)\n",
        "toolbox.register(\"evaluate\", benchmarks.sphere)"
      ],
      "execution_count": null,
      "outputs": []
    },
    {
      "cell_type": "code",
      "metadata": {
        "id": "SpAeWplLMcNb"
      },
      "source": [
        "random.seed(64)\n",
        "\n",
        "logbook = tools.Logbook()\n",
        "logbook.header = \"gen\", \"fitness\"\n",
        "\n",
        "interval = (-3,7)\n",
        "mu = (random.uniform(interval[0], interval[1]) for _ in range(IND_SIZE))\n",
        "sigma = (interval[1] - interval[0])/2.0\n",
        "alpha = 2.0**(1.0/IND_SIZE)\n",
        "\n",
        "best = creator.Individual(mu)\n",
        "best.fitness.values = toolbox.evaluate(best)\n",
        "worst = creator.Individual((0.0,)*IND_SIZE)\n",
        "\n",
        "NGEN = 1500\n",
        "for g in range(NGEN):\n",
        "  toolbox.update(worst, best, sigma)\n",
        "  worst.fitness.values = toolbox.evaluate(worst)\n",
        "  if best.fitness <= worst.fitness:\n",
        "    sigma = sigma * alpha\n",
        "    best, worst = worst, best\n",
        "  else:\n",
        "    sigma = sigma * alpha**(-0.25)\n",
        "  logbook.record(gen=g, fitness=best.fitness.values)\n",
        "  print(logbook.stream)"
      ],
      "execution_count": null,
      "outputs": []
    },
    {
      "cell_type": "code",
      "metadata": {
        "id": "QOLrjJGoEEfW"
      },
      "source": [
        ""
      ],
      "execution_count": null,
      "outputs": []
    },
    {
      "cell_type": "code",
      "metadata": {
        "id": "Ecfl6jNt7HIe"
      },
      "source": [
        ""
      ],
      "execution_count": null,
      "outputs": []
    },
    {
      "cell_type": "markdown",
      "metadata": {
        "id": "saN2i7VtMCrR"
      },
      "source": [
        "### <font color=blue>**4.** </font> 粒子群最適化（Particle Swarm Optimization：PSO）"
      ]
    },
    {
      "cell_type": "markdown",
      "metadata": {
        "id": "QazztKjOrt6H"
      },
      "source": [
        "#### <font color=green>**4.1.** </font> 平面上で図示する例"
      ]
    },
    {
      "cell_type": "code",
      "metadata": {
        "id": "1r-370O79UuP"
      },
      "source": [
        "## 出典 ： https://ni4muraano.hatenablog.com/entry/2017/01/31/000000"
      ],
      "execution_count": null,
      "outputs": []
    },
    {
      "cell_type": "code",
      "metadata": {
        "id": "OqCagKjZsgtg"
      },
      "source": [
        "import sys\n",
        "import numpy as np\n",
        "import matplotlib.pyplot as plt"
      ],
      "execution_count": null,
      "outputs": []
    },
    {
      "cell_type": "code",
      "metadata": {
        "id": "LuAbLYSgCQxo"
      },
      "source": [
        "class Particle(object):\n",
        "    \"\"\"粒子群最適化法の粒子を表すクラス\"\"\"\n",
        "\n",
        "    def __init__(self, f, position, velocity, maxs=None, mins=None):\n",
        "        \"\"\"\n",
        "        コンストラクタ\n",
        "        @param f 最適化を行う関数\n",
        "        @param position 粒子の初期位置\n",
        "        @param velocity 粒子の初期速度\n",
        "        @param maxs 粒子が移動可能な位置最大値\n",
        "        @param mins 粒子が移動可能な位置最小値\n",
        "        \"\"\"\n",
        "        self.__f = f\n",
        "        self.__my_best_position = position\n",
        "        self.__my_best_score = f(position)\n",
        "        self.__my_position = position\n",
        "        self.__my_velocity = velocity\n",
        "        self.__maxs = maxs\n",
        "        self.__mins = mins\n",
        "        self.__WEIGHT_V = 0.8\n",
        "        self.__WEIGHT_ME = 1.0\n",
        "        self.__WEIGHT_US = 1.0\n",
        "\n",
        "    @property\n",
        "    def score(self):\n",
        "        return self.__my_best_score\n",
        "\n",
        "    @property\n",
        "    def position(self):\n",
        "        return np.array(self.__my_best_position)\n",
        "\n",
        "    def move(self, best_position):\n",
        "        \"\"\"\n",
        "        粒子を移動させるメソッド\n",
        "        @param best_position 関数の最小値を与える粒子の位置\n",
        "        \"\"\"\n",
        "        # 粒子の位置を更新する\n",
        "        self.__my_position += self.__my_velocity\n",
        "        # 範囲外に出た粒子は範囲内に収める\n",
        "        if (self.__maxs is not None):\n",
        "            max_out_of_range_index = self.__my_position > self.__maxs\n",
        "            self.__my_position[max_out_of_range_index] = self.__maxs[max_out_of_range_index]\n",
        "        if (self.__mins is not None):\n",
        "            min_out_of_range_index = self.__my_position < self.__mins\n",
        "            self.__my_position[min_out_of_range_index] = self.__mins[min_out_of_range_index]\n",
        "        # 評価値を計算する\n",
        "        score = self.__f(self.__my_position)\n",
        "        # 最良解を更新する\n",
        "        if (score < self.__my_best_score):\n",
        "            self.__my_best_position = self.__my_position\n",
        "            self.__my_best_score = score\n",
        "        # 速度を更新する\n",
        "        item1 = self.__WEIGHT_V*self.__my_velocity\n",
        "        random_me = np.random.rand(self.__my_position.size)\n",
        "        item2 = self.__WEIGHT_ME*random_me*(self.__my_best_position - self.__my_position)\n",
        "        random_us = np.random.rand(self.__my_position.size)\n",
        "        item3 = self.__WEIGHT_US*random_us*(best_position - self.__my_position)\n",
        "        self.__my_velocity = item1 + item2 + item3\n",
        "        # 範囲外に出た粒子の速度は0とする\n",
        "        if (self.__maxs is not None): self.__my_velocity[max_out_of_range_index] = 0\n",
        "        if (self.__mins is not None): self.__my_velocity[min_out_of_range_index] = 0\n",
        "        "
      ],
      "execution_count": null,
      "outputs": []
    },
    {
      "cell_type": "code",
      "metadata": {
        "id": "qlSq_VVICQvs"
      },
      "source": [
        "class ParticleSwarmOptimization(object):\n",
        "    \"\"\"粒子群最適化法により最適化を行うクラス\"\"\"\n",
        "\n",
        "    def __init__(self, particles):\n",
        "        \"\"\"\n",
        "        コンストラクタ\n",
        "        @param particles 粒子のリスト\n",
        "        \"\"\"\n",
        "        self.__particles = particles\n",
        "        self.__best_score = sys.float_info.max\n",
        "        for particle in self.__particles:\n",
        "            if (particle.score < self.__best_score):\n",
        "                self.__best_score = particle.score\n",
        "                self.__best_position = particle.position\n",
        "\n",
        "    @property\n",
        "    def best_score(self):\n",
        "        return self.__best_score\n",
        "\n",
        "    @property\n",
        "    def best_position(self):\n",
        "        return self.__best_position\n",
        "\n",
        "    def position(self, index):\n",
        "        return [particle.position[index] for particle in self.__particles]\n",
        "\n",
        "    def update(self):\n",
        "        \"\"\"\n",
        "        粒子の位置を更新するメソッド\n",
        "        \"\"\"\n",
        "        for particle in self.__particles:\n",
        "            particle.move(self.__best_position)\n",
        "\n",
        "        for particle in self.__particles:\n",
        "            if (particle.score < self.__best_score):\n",
        "                self.__best_score = particle.score\n",
        "                self.__best_position = particle.position\n",
        "                "
      ],
      "execution_count": null,
      "outputs": []
    },
    {
      "cell_type": "code",
      "metadata": {
        "id": "9m_mF7fmtpGC"
      },
      "source": [
        "# 最適化する関数\n",
        "def f(x): return 100.0*(x[1]-x[0]**2)**2 + (1.0-x[0])**2"
      ],
      "execution_count": null,
      "outputs": []
    },
    {
      "cell_type": "code",
      "metadata": {
        "id": "LqlIZq32ttco"
      },
      "source": [
        "# 変数が取り得る最大値\n",
        "maxs = np.array([2.048, 2.048])\n",
        "\n",
        "# 変数が取り得る最小値\n",
        "mins = np.array([-2.048, -2.048])\n",
        "\n",
        "# ばらまく粒子の個数\n",
        "PARTICLE_COUNT = 100"
      ],
      "execution_count": null,
      "outputs": []
    },
    {
      "cell_type": "code",
      "metadata": {
        "id": "kFqDy0RrtvLA"
      },
      "source": [
        "# 粒子を作成する\n",
        "particles = []\n",
        "for i in range(PARTICLE_COUNT):\n",
        "  position = (np.random.rand(2) - 0.5)*4.0\n",
        "  velocity = (np.random.rand(2) - 0.5)/10.0\n",
        "  particle = Particle(f, position, velocity, maxs, mins)\n",
        "  particles.append(particle)"
      ],
      "execution_count": null,
      "outputs": []
    },
    {
      "cell_type": "code",
      "metadata": {
        "id": "QrfDAMJ4CQrG"
      },
      "source": [
        "# ParticleSwarmOptimizationクラスの生成\n",
        "pso = ParticleSwarmOptimization(particles)\n",
        "# 計算回数\n",
        "ITERATION = 50\n",
        "\n",
        "# 計算開始\n",
        "for i in range(ITERATION):\n",
        "  pso.update()\n",
        "  if i == 0 or (i+1)%10 == 0:\n",
        "    plt.figure(figsize=(8,6))\n",
        "    plt.xlim([-2.5, 2.5])\n",
        "    plt.ylim([-2.5, 2.5])\n",
        "    plt.grid()\n",
        "    plt.title('i = ' + str(i+1))\n",
        "    plt.scatter(pso.position(0), pso.position(1))\n",
        "    plt.show()"
      ],
      "execution_count": null,
      "outputs": []
    },
    {
      "cell_type": "code",
      "metadata": {
        "id": "c4yLGe5sMBpJ"
      },
      "source": [
        ""
      ],
      "execution_count": null,
      "outputs": []
    },
    {
      "cell_type": "code",
      "metadata": {
        "id": "PYGolUkLMBl3"
      },
      "source": [
        ""
      ],
      "execution_count": null,
      "outputs": []
    },
    {
      "cell_type": "markdown",
      "metadata": {
        "id": "ge5Y02C4rqE5"
      },
      "source": [
        "#### <font color=green>**4.2.** </font> Ackley関数への適用例"
      ]
    },
    {
      "cell_type": "code",
      "metadata": {
        "id": "dWLfESmMz3_H"
      },
      "source": [
        "## 出典 ： https://qiita.com/ganyariya/items/ae5a38a3537b06bd3842"
      ],
      "execution_count": null,
      "outputs": []
    },
    {
      "cell_type": "code",
      "metadata": {
        "id": "mzGoxvdY0dh_"
      },
      "source": [
        "import numpy as np\n",
        "import matplotlib.pyplot as plt\n",
        "from mpl_toolkits.mplot3d import Axes3D\n",
        "import random"
      ],
      "execution_count": null,
      "outputs": []
    },
    {
      "cell_type": "code",
      "metadata": {
        "id": "bpUcFl9L0dfa"
      },
      "source": [
        "# 目的関数（Ackley function）\n",
        "\n",
        "def objective_function(position):\n",
        "  t1 = 20\n",
        "  t2 = -20 * np.exp(-0.2 * np.sqrt(1.0 / len(position) * np.sum(position ** 2, axis=0)))\n",
        "  t3 = np.e\n",
        "  t4 = -np.exp(1.0 / len(position) * np.sum(np.cos(2 * np.pi * position), axis=0))\n",
        "  return t1 + t2 + t3 + t4"
      ],
      "execution_count": null,
      "outputs": []
    },
    {
      "cell_type": "code",
      "metadata": {
        "id": "ZM7aZGUb0ddI"
      },
      "source": [
        "# 描画のための初期化\n",
        "def init_plot(xy_min, xy_max):\n",
        "  matplot_x = np.arange(xy_min, xy_max, 1.0)\n",
        "  matplot_y = np.arange(xy_min, xy_max, 1.0)\n",
        "\n",
        "  matplot_mesh_X, matplot_mesh_Y = np.meshgrid(matplot_x, matplot_y)\n",
        "\n",
        "  Z = []\n",
        "  for i in range(len(matplot_mesh_X)):\n",
        "    z = []\n",
        "    for j in range(len(matplot_mesh_X[0])):\n",
        "      result = objective_function(np.array([matplot_mesh_X[i][j], matplot_mesh_Y[i][j]]))\n",
        "      z.append(result)\n",
        "    Z.append(z)\n",
        "  Z = np.array(Z)\n",
        "\n",
        "  axes = Axes3D(plt.figure())\n",
        "\n",
        "  axes.set_xlabel('x')\n",
        "  axes.set_ylabel('y')\n",
        "  axes.set_zlabel('f(x, y)')\n",
        "\n",
        "  mesh_XYZ = {\n",
        "      \"X\": matplot_mesh_X,\n",
        "      \"Y\": matplot_mesh_Y,\n",
        "      \"Z\": Z\n",
        "      }\n",
        "\n",
        "  return axes, mesh_XYZ"
      ],
      "execution_count": null,
      "outputs": []
    },
    {
      "cell_type": "code",
      "metadata": {
        "id": "hE3JJ0jx0dZ9"
      },
      "source": [
        "# 描画\n",
        "def play_plot(axes, mesh_XYZ, positions, personal_best_positions, \n",
        "              personal_best_scores, global_best_particle_position, velocities):\n",
        "  axes.plot_wireframe(mesh_XYZ['X'], mesh_XYZ['Y'], mesh_XYZ['Z'], alpha=0.3)\n",
        "  axes.scatter(positions[:, 0], positions[:, 1], \n",
        "               np.apply_along_axis(objective_function, 1, positions), \n",
        "               marker='^', c=\"red\", linewidths=5)\n",
        "  axes.scatter(personal_best_positions[:, 0], personal_best_positions[:, 1], \n",
        "               personal_best_scores, linewidths=5, marker='x', c='blue')\n",
        "  axes.scatter(global_best_particle_position[0], global_best_particle_position[1],\n",
        "               objective_function(global_best_particle_position), \n",
        "               linewidths=8, marker='o', c='green')\n",
        "\n",
        "  axes.quiver(positions[:,0], positions[:,1], \n",
        "              np.apply_along_axis(objective_function, 1, positions), \n",
        "              velocities[:, 0], velocities[:, 1], np.zeros(len(velocities)), color='gray')\n",
        "\n",
        "  plt.draw()\n",
        "  plt.pause(2)"
      ],
      "execution_count": null,
      "outputs": []
    },
    {
      "cell_type": "code",
      "metadata": {
        "id": "kTXbHlX_0dVu"
      },
      "source": [
        "# 各粒子の位置更新\n",
        "def update_positions(positions, velocities):\n",
        "  positions += velocities\n",
        "  return positions"
      ],
      "execution_count": null,
      "outputs": []
    },
    {
      "cell_type": "code",
      "metadata": {
        "id": "k5inHRC91UCD"
      },
      "source": [
        "# 各粒子の速度更新\n",
        "def update_velocities(positions, velocities, personal_best_positions, \n",
        "                      global_best_particle_position, w=0.5, ro_max=0.14):\n",
        "  rc1 = random.uniform(0, ro_max)\n",
        "  rc2 = random.uniform(0, ro_max)\n",
        "\n",
        "  velocities = velocities * w + rc1 * (personal_best_positions - positions) + rc2 * (\n",
        "            global_best_particle_position - positions)\n",
        "  return velocities"
      ],
      "execution_count": null,
      "outputs": []
    },
    {
      "cell_type": "code",
      "metadata": {
        "id": "337sH-i-1T3I"
      },
      "source": [
        "number_of_particles = 100\n",
        "dimensions = 2\n",
        "limit_times = 10"
      ],
      "execution_count": null,
      "outputs": []
    },
    {
      "cell_type": "code",
      "metadata": {
        "id": "X8-NgOe3z37O"
      },
      "source": [
        "xy_min, xy_max = -32, 32\n",
        "\n",
        "# グラフの初期化\n",
        "axes, mesh_XYZ = init_plot(xy_min, xy_max)\n",
        "\n",
        "# 各粒子の位置\n",
        "positions = np.array(\n",
        "    [[random.uniform(xy_min, xy_max) for _ in range(dimensions)] for _ in range(number_of_particles)]\n",
        "    )\n",
        "\n",
        "# 各粒子の速度\n",
        "velocities = np.zeros(positions.shape)\n",
        "\n",
        "# 各粒子ごとのパーソナルベスト位置\n",
        "personal_best_positions = np.copy(positions)\n",
        "\n",
        "# 各粒子ごとのパーソナルベストの値\n",
        "personal_best_scores = np.apply_along_axis(objective_function, 1, personal_best_positions)\n",
        "\n",
        "# グローバルベストの粒子ID\n",
        "global_best_particle_id = np.argmin(personal_best_scores)\n",
        "\n",
        "# グローバルベスト位置\n",
        "global_best_particle_position = personal_best_positions[global_best_particle_id]\n",
        "\n",
        "play_plot(axes, mesh_XYZ, positions, personal_best_positions, personal_best_scores,\n",
        "            global_best_particle_position, velocities)"
      ],
      "execution_count": null,
      "outputs": []
    },
    {
      "cell_type": "code",
      "metadata": {
        "id": "B0AoyrASz31k"
      },
      "source": [
        "# 規定回数\n",
        "for T in range(limit_times):\n",
        "  # 速度更新\n",
        "  velocities = update_velocities(positions, velocities, personal_best_positions,\n",
        "                                       global_best_particle_position)\n",
        "  # 位置更新\n",
        "  positions = update_positions(positions, velocities)\n",
        "\n",
        "  # パーソナルベストの更新\n",
        "  for i in range(number_of_particles):\n",
        "    score = objective_function(positions[i])\n",
        "    if score < personal_best_scores[i]:\n",
        "      personal_best_scores[i] = score\n",
        "      personal_best_positions[i] = positions[i]\n",
        "\n",
        "  # グローバルベストの更新\n",
        "  global_best_particle_id = np.argmin(personal_best_scores)\n",
        "  global_best_particle_position = personal_best_positions[global_best_particle_id]\n",
        "\n",
        "  # グラフ描画\n",
        "  axes, mesh_XYZ = init_plot(xy_min, xy_max)\n",
        "  play_plot(axes, mesh_XYZ, positions, personal_best_positions, personal_best_scores,\n",
        "            global_best_particle_position, velocities)"
      ],
      "execution_count": null,
      "outputs": []
    },
    {
      "cell_type": "code",
      "metadata": {
        "id": "jOgg8CdAz3zN"
      },
      "source": [
        ""
      ],
      "execution_count": null,
      "outputs": []
    },
    {
      "cell_type": "code",
      "metadata": {
        "id": "QRma8w_Bz3w3"
      },
      "source": [
        ""
      ],
      "execution_count": null,
      "outputs": []
    },
    {
      "cell_type": "markdown",
      "metadata": {
        "id": "Oz18_3cTrr1R"
      },
      "source": [
        "#### <font color=green>**4.3.** </font> 計算するだけの例"
      ]
    },
    {
      "cell_type": "code",
      "metadata": {
        "id": "v9lhkwHUz3sO"
      },
      "source": [
        "## 出典 ： https://qiita.com/pontyo4/items/fee230fd42228d5b561a"
      ],
      "execution_count": null,
      "outputs": []
    },
    {
      "cell_type": "code",
      "metadata": {
        "id": "oEkwNmlwAS3H"
      },
      "source": [
        "import numpy as np\n",
        "import random"
      ],
      "execution_count": null,
      "outputs": []
    },
    {
      "cell_type": "code",
      "metadata": {
        "id": "MGznwoZfAS0c"
      },
      "source": [
        "# 評価関数\n",
        "def evaluate(particle):\n",
        "    z = 0\n",
        "    for i in range(len(particle)):\n",
        "        z += particle[i] ** 2\n",
        "    return z"
      ],
      "execution_count": null,
      "outputs": []
    },
    {
      "cell_type": "code",
      "metadata": {
        "id": "rC0wkeANASyU"
      },
      "source": [
        "# 位置更新\n",
        "def update_position(particle, velocity):\n",
        "    new_particle = particle + velocity\n",
        "    return new_particle"
      ],
      "execution_count": null,
      "outputs": []
    },
    {
      "cell_type": "code",
      "metadata": {
        "id": "DrcMsIMWASvo"
      },
      "source": [
        "# 速度更新\n",
        "def update_velocity(particle, velocity, pbest, gbest, w=0.5, max=0.15):\n",
        "    new_velocity = np.array([0.0 for i in range(len(particle))])\n",
        "    #new_velocity = [0.0 for i in range(len(particle))]\n",
        "    r1 = random.uniform(0, max)\n",
        "    r2 = random.uniform(0, max)\n",
        "    for i in range(len(particle)):\n",
        "        new_velocity[i] = (w * float(velocity[i]) + r1 * (float(pbest[i]) - float(particle[i])) + r2 * (float(gbest[0]) - float(particle[i])))\n",
        "\n",
        "    return new_velocity"
      ],
      "execution_count": null,
      "outputs": []
    },
    {
      "cell_type": "code",
      "metadata": {
        "id": "kVi2piYxAjO4"
      },
      "source": [
        "N = 100 # 粒子の数\n",
        "length = 2  # 次元数\n",
        "para_max = 100  #パラメータの最大値"
      ],
      "execution_count": null,
      "outputs": []
    },
    {
      "cell_type": "code",
      "metadata": {
        "id": "zyM47UJPAjMx"
      },
      "source": [
        "# 粒子位置の初期化\n",
        "ps = [[random.uniform(-para_max, para_max) for j in range(length)] for i in range(N)]\n",
        "vs = [[0.0 for j in range(length)] for i in range(N)]"
      ],
      "execution_count": null,
      "outputs": []
    },
    {
      "cell_type": "code",
      "metadata": {
        "id": "dzCLOE0mAuFv"
      },
      "source": [
        "# パーソナルベスト\n",
        "personal_best_position = ps\n",
        "# パーソナルベストの評価\n",
        "personal_best_scores = [evaluate(p) for p in ps]\n",
        "# 評価値が最も小さい粒子のインデックス\n",
        "best_particle = np.argmin(personal_best_scores)\n",
        "# グローバルベスト\n",
        "global_best_position = personal_best_position[best_particle]"
      ],
      "execution_count": null,
      "outputs": []
    },
    {
      "cell_type": "code",
      "metadata": {
        "id": "sgY_ll19z3oj"
      },
      "source": [
        "generation = 100 # 最大世代数\n",
        "\n",
        "# 世代数分ループ\n",
        "for t in range(generation):\n",
        "  # 粒子数分ループ\n",
        "  for n in range(N):\n",
        "    # 粒子の速度の更新\n",
        "    vs[n] = update_velocity(ps[n], vs[n], personal_best_position[n], global_best_position)\n",
        "    # 粒子の位置の更新\n",
        "    ps[n] = update_position(ps[n], vs[n])\n",
        "\n",
        "    # 評価値計算をしてパーソナルベストを求める\n",
        "    score = evaluate(ps[n])\n",
        "    if score < personal_best_scores[n]:\n",
        "      personal_best_scores[n] = score\n",
        "      personal_best_position[n] = ps[n]\n",
        "    # グローバルベストの更新をする\n",
        "    best_particle = np.argmin(personal_best_scores)\n",
        "    global_best_position = personal_best_position[best_particle]\n",
        "\n",
        "  print(\"{}th gen : {}\".format(t+1, global_best_position))\n",
        "  print(\"best_score : {} \\n\".format(min(personal_best_scores)))"
      ],
      "execution_count": null,
      "outputs": []
    },
    {
      "cell_type": "code",
      "metadata": {
        "id": "yZquXjjoztMO"
      },
      "source": [
        ""
      ],
      "execution_count": null,
      "outputs": []
    },
    {
      "cell_type": "code",
      "metadata": {
        "id": "tuudYAdhztIe"
      },
      "source": [
        ""
      ],
      "execution_count": null,
      "outputs": []
    },
    {
      "cell_type": "markdown",
      "metadata": {
        "id": "nha8Ogu4rs3m"
      },
      "source": [
        "#### <font color=green>**4.4.** </font> 専用ライブラリを使用する例"
      ]
    },
    {
      "cell_type": "code",
      "metadata": {
        "id": "qbnC3iTfztGJ"
      },
      "source": [
        "## 出典 ： https://buaiso.blogspot.com/2021/02/pythonpso.html "
      ],
      "execution_count": null,
      "outputs": []
    },
    {
      "cell_type": "code",
      "metadata": {
        "id": "IUi4ep8hBYXv"
      },
      "source": [
        "!pip install pyswarms"
      ],
      "execution_count": null,
      "outputs": []
    },
    {
      "cell_type": "code",
      "metadata": {
        "id": "E_IiFkPbBRMu"
      },
      "source": [
        "import numpy as np\n",
        "import pyswarms as ps\n",
        "from matplotlib import pyplot as plt\n",
        "from mpl_toolkits.mplot3d import Axes3D\n",
        "%load_ext autoreload\n",
        "%autoreload 2"
      ],
      "execution_count": null,
      "outputs": []
    },
    {
      "cell_type": "code",
      "metadata": {
        "id": "7KrDiJVBBRJ2"
      },
      "source": [
        "# (0, 0)が最小の関数\n",
        "def eggcase(x, y):\n",
        "    return x*x - 15*np.cos(2*x) + y*y - 15*np.cos(2*y)"
      ],
      "execution_count": null,
      "outputs": []
    },
    {
      "cell_type": "code",
      "metadata": {
        "id": "wRlqJEXlB_F4"
      },
      "source": [
        "eggcase(0,0)"
      ],
      "execution_count": null,
      "outputs": []
    },
    {
      "cell_type": "code",
      "metadata": {
        "id": "BevF8hK5BRHC"
      },
      "source": [
        "# pyswarms用の関数\n",
        "def eggcase_ps(x):\n",
        "    return eggcase(x[:,0], x[:,1]) #なぜかこの形でアクセスしないといけない"
      ],
      "execution_count": null,
      "outputs": []
    },
    {
      "cell_type": "code",
      "metadata": {
        "id": "sWdY-C61BREQ"
      },
      "source": [
        "N = 1000\n",
        "x = np.linspace(-10, 10, N)\n",
        "y = np.linspace(-10, 10, N)\n",
        "X, Y = np.meshgrid(x, y)\n",
        "Z = eggcase(X,Y)"
      ],
      "execution_count": null,
      "outputs": []
    },
    {
      "cell_type": "code",
      "metadata": {
        "id": "L5EWACgZBRB6"
      },
      "source": [
        "# Figureと3DAxeS\n",
        "fig = plt.figure()\n",
        "ax = Axes3D(fig)\n",
        "ax.set_xlabel(\"X\")\n",
        "ax.set_ylabel(\"Y\")\n",
        "ax.set_zlabel(\"Z\")\n",
        "ax.plot_surface(X, Y, Z)"
      ],
      "execution_count": null,
      "outputs": []
    },
    {
      "cell_type": "code",
      "metadata": {
        "id": "oQsOwgiZBQ93"
      },
      "source": [
        "options = {'c1': 0.5, 'c2': 0.3, 'w': 0.9, 'k': 3, 'p': 2}\n",
        "optimizer = ps.single.LocalBestPSO(n_particles=10, dimensions=2, options=options)\n",
        "cost, pos = optimizer.optimize(eggcase_ps, 1000)"
      ],
      "execution_count": null,
      "outputs": []
    },
    {
      "cell_type": "code",
      "metadata": {
        "id": "nw2QYlkOzsav"
      },
      "source": [
        "eggcase(pos[0], pos[1])"
      ],
      "execution_count": null,
      "outputs": []
    },
    {
      "cell_type": "code",
      "metadata": {
        "id": "hN4C-7bRCIR-"
      },
      "source": [
        "a = optimizer.pos_history\n",
        "a[0]"
      ],
      "execution_count": null,
      "outputs": []
    },
    {
      "cell_type": "code",
      "metadata": {
        "id": "tjOKziiLCILa"
      },
      "source": [
        "b = optimizer.mean_pbest_history\n",
        "plt.plot(range(len(b)), b)\n",
        "plt.show()"
      ],
      "execution_count": null,
      "outputs": []
    },
    {
      "cell_type": "code",
      "metadata": {
        "id": "hVI7QxxpynQJ"
      },
      "source": [
        ""
      ],
      "execution_count": null,
      "outputs": []
    },
    {
      "cell_type": "code",
      "metadata": {
        "id": "G7v6l1L4ynNj"
      },
      "source": [
        ""
      ],
      "execution_count": null,
      "outputs": []
    },
    {
      "cell_type": "markdown",
      "metadata": {
        "id": "3a8Gx0NH5RIq"
      },
      "source": [
        "#### <font color=green>**4.5.** </font> DEAPのサンプルコード"
      ]
    },
    {
      "cell_type": "code",
      "metadata": {
        "id": "PHje3viM5ZqI"
      },
      "source": [
        "## https://github.com/DEAP/deap/blob/269608a4229acb2459d0072155d28e0d809813df/examples/pso/basic.py"
      ],
      "execution_count": null,
      "outputs": []
    },
    {
      "cell_type": "code",
      "metadata": {
        "id": "HvwASGIZ5puO"
      },
      "source": [
        "import operator\n",
        "import random\n",
        "\n",
        "import numpy\n",
        "import math\n",
        "\n",
        "from deap import base\n",
        "from deap import benchmarks\n",
        "from deap import creator\n",
        "from deap import tools\n",
        "\n",
        "creator.create(\"FitnessMax\", base.Fitness, weights=(1.0,))\n",
        "creator.create(\"Particle\", list, fitness=creator.FitnessMax, speed=list, \n",
        "    smin=None, smax=None, best=None)\n",
        "\n",
        "def generate(size, pmin, pmax, smin, smax):\n",
        "    part = creator.Particle(random.uniform(pmin, pmax) for _ in range(size)) \n",
        "    part.speed = [random.uniform(smin, smax) for _ in range(size)]\n",
        "    part.smin = smin\n",
        "    part.smax = smax\n",
        "    return part\n",
        "\n",
        "def updateParticle(part, best, phi1, phi2):\n",
        "    u1 = (random.uniform(0, phi1) for _ in range(len(part)))\n",
        "    u2 = (random.uniform(0, phi2) for _ in range(len(part)))\n",
        "    v_u1 = map(operator.mul, u1, map(operator.sub, part.best, part))\n",
        "    v_u2 = map(operator.mul, u2, map(operator.sub, best, part))\n",
        "    part.speed = list(map(operator.add, part.speed, map(operator.add, v_u1, v_u2)))\n",
        "    for i, speed in enumerate(part.speed):\n",
        "        if abs(speed) < part.smin:\n",
        "            part.speed[i] = math.copysign(part.smin, speed)\n",
        "        elif abs(speed) > part.smax:\n",
        "            part.speed[i] = math.copysign(part.smax, speed)\n",
        "    part[:] = list(map(operator.add, part, part.speed))\n",
        "\n",
        "toolbox = base.Toolbox()\n",
        "toolbox.register(\"particle\", generate, size=2, pmin=-6, pmax=6, smin=-3, smax=3)\n",
        "toolbox.register(\"population\", tools.initRepeat, list, toolbox.particle)\n",
        "toolbox.register(\"update\", updateParticle, phi1=2.0, phi2=2.0)\n",
        "toolbox.register(\"evaluate\", benchmarks.h1)\n",
        "\n",
        "def main():\n",
        "    pop = toolbox.population(n=5)\n",
        "    stats = tools.Statistics(lambda ind: ind.fitness.values)\n",
        "    stats.register(\"avg\", numpy.mean)\n",
        "    stats.register(\"std\", numpy.std)\n",
        "    stats.register(\"min\", numpy.min)\n",
        "    stats.register(\"max\", numpy.max)\n",
        "\n",
        "    logbook = tools.Logbook()\n",
        "    logbook.header = [\"gen\", \"evals\"] + stats.fields\n",
        "\n",
        "    GEN = 1000\n",
        "    best = None\n",
        "\n",
        "    for g in range(GEN):\n",
        "        for part in pop:\n",
        "            part.fitness.values = toolbox.evaluate(part)\n",
        "            if not part.best or part.best.fitness < part.fitness:\n",
        "                part.best = creator.Particle(part)\n",
        "                part.best.fitness.values = part.fitness.values\n",
        "            if not best or best.fitness < part.fitness:\n",
        "                best = creator.Particle(part)\n",
        "                best.fitness.values = part.fitness.values\n",
        "        for part in pop:\n",
        "            toolbox.update(part, best)\n",
        "\n",
        "        # Gather all the fitnesses in one list and print the stats\n",
        "        logbook.record(gen=g, evals=len(pop), **stats.compile(pop))\n",
        "        print(logbook.stream)\n",
        "    \n",
        "    return pop, logbook, best\n",
        "\n",
        "if __name__ == \"__main__\":\n",
        "    main()"
      ],
      "execution_count": null,
      "outputs": []
    },
    {
      "cell_type": "code",
      "metadata": {
        "id": "Tembd0uH5pnd"
      },
      "source": [
        ""
      ],
      "execution_count": null,
      "outputs": []
    },
    {
      "cell_type": "code",
      "metadata": {
        "id": "zYJsIJCH5Zjk"
      },
      "source": [
        ""
      ],
      "execution_count": null,
      "outputs": []
    },
    {
      "cell_type": "code",
      "metadata": {
        "id": "0vcOiAlx5Zmi"
      },
      "source": [
        "## https://github.com/DEAP/deap/blob/269608a4229acb2459d0072155d28e0d809813df/examples/pso/multiswarm.py"
      ],
      "execution_count": null,
      "outputs": []
    },
    {
      "cell_type": "code",
      "metadata": {
        "id": "Cagj-264ynKh"
      },
      "source": [
        "import itertools\n",
        "import math\n",
        "import operator\n",
        "import random\n",
        "\n",
        "import numpy\n",
        "\n",
        "try:\n",
        "    from itertools import imap\n",
        "except:\n",
        "    # Python 3 nothing to do\n",
        "    pass\n",
        "else:\n",
        "    map = imap\n",
        "\n",
        "from deap import base\n",
        "from deap.benchmarks import movingpeaks\n",
        "from deap import creator\n",
        "from deap import tools\n",
        "\n",
        "scenario = movingpeaks.SCENARIO_2\n",
        "\n",
        "NDIM = 5\n",
        "BOUNDS = [scenario[\"min_coord\"], scenario[\"max_coord\"]]\n",
        "\n",
        "mpb = movingpeaks.MovingPeaks(dim=NDIM, **scenario)\n",
        "\n",
        "creator.create(\"FitnessMax\", base.Fitness, weights=(1.0,))\n",
        "creator.create(\"Particle\", list, fitness=creator.FitnessMax, speed=list, \n",
        "    best=None, bestfit=creator.FitnessMax)\n",
        "creator.create(\"Swarm\", list, best=None, bestfit=creator.FitnessMax)\n",
        "        \n",
        "def generate(pclass, dim, pmin, pmax, smin, smax):\n",
        "    part = pclass(random.uniform(pmin, pmax) for _ in range(dim)) \n",
        "    part.speed = [random.uniform(smin, smax) for _ in range(dim)]\n",
        "    return part\n",
        "\n",
        "def convertQuantum(swarm, rcloud, centre, dist):\n",
        "    dim = len(swarm[0])\n",
        "    for part in swarm:\n",
        "        position = [random.gauss(0, 1) for _ in range(dim)]\n",
        "        dist = math.sqrt(sum(x**2 for x in position))\n",
        "        \n",
        "        if dist == \"gaussian\":\n",
        "            u = abs(random.gauss(0, 1.0/3.0))\n",
        "            part[:] = [(rcloud * x * u**(1.0/dim) / dist) + c for x, c in zip(position, centre)]\n",
        "        \n",
        "        elif dist == \"uvd\":\n",
        "            u = random.random()\n",
        "            part[:] = [(rcloud * x * u**(1.0/dim) / dist) + c for x, c in zip(position, centre)]\n",
        "        \n",
        "        elif dist == \"nuvd\":\n",
        "            u = abs(random.gauss(0, 1.0/3.0))\n",
        "            part[:] = [(rcloud * x * u / dist) + c for x, c in zip(position, centre)]\n",
        "        \n",
        "        del part.fitness.values\n",
        "        del part.bestfit.values\n",
        "        part.best = None\n",
        "    \n",
        "    return swarm\n",
        "\n",
        "def updateParticle(part, best, chi, c):\n",
        "    ce1 = (c * random.uniform(0, 1) for _ in range(len(part)))\n",
        "    ce2 = (c * random.uniform(0, 1) for _ in range(len(part)))\n",
        "    ce1_p = map(operator.mul, ce1, map(operator.sub, best, part))\n",
        "    ce2_g = map(operator.mul, ce2, map(operator.sub, part.best, part))\n",
        "    a = map(operator.sub,\n",
        "                      map(operator.mul,\n",
        "                                    itertools.repeat(chi),\n",
        "                                    map(operator.add, ce1_p, ce2_g)),\n",
        "                      map(operator.mul,\n",
        "                                     itertools.repeat(1 - chi),\n",
        "                                     part.speed))\n",
        "    part.speed = list(map(operator.add, part.speed, a))\n",
        "    part[:] = list(map(operator.add, part, part.speed))\n",
        "\n",
        "toolbox = base.Toolbox()\n",
        "toolbox.register(\"particle\", generate, creator.Particle, dim=NDIM,\n",
        "    pmin=BOUNDS[0], pmax=BOUNDS[1], smin=-(BOUNDS[1] - BOUNDS[0])/2.0,\n",
        "    smax=(BOUNDS[1] - BOUNDS[0])/2.0)\n",
        "toolbox.register(\"swarm\", tools.initRepeat, creator.Swarm, toolbox.particle)\n",
        "toolbox.register(\"update\", updateParticle, chi=0.729843788, c=2.05)\n",
        "toolbox.register(\"convert\", convertQuantum, dist=\"nuvd\")\n",
        "toolbox.register(\"evaluate\", mpb)\n",
        "\n",
        "def main(verbose=True):\n",
        "    NSWARMS = 1\n",
        "    NPARTICLES = 5\n",
        "    NEXCESS = 3\n",
        "    RCLOUD = 0.5    # 0.5 times the move severity\n",
        "\n",
        "    stats = tools.Statistics(lambda ind: ind.fitness.values)\n",
        "    stats.register(\"avg\", numpy.mean)\n",
        "    stats.register(\"std\", numpy.std)\n",
        "    stats.register(\"min\", numpy.min)\n",
        "    stats.register(\"max\", numpy.max)\n",
        "    \n",
        "    logbook = tools.Logbook()\n",
        "    logbook.header = \"gen\", \"nswarm\", \"evals\", \"error\", \"offline_error\", \"avg\", \"max\"\n",
        "    \n",
        "    # Generate the initial population\n",
        "    population = [toolbox.swarm(n=NPARTICLES) for _ in range(NSWARMS)]\n",
        "    \n",
        "    # Evaluate each particle\n",
        "    for swarm in population:\n",
        "        for part in swarm:\n",
        "            part.fitness.values = toolbox.evaluate(part)\n",
        "\n",
        "            # Update swarm's attractors personal best and global best\n",
        "            if not part.best or part.fitness > part.bestfit:\n",
        "                part.best = toolbox.clone(part[:])          # Get the position\n",
        "                part.bestfit.values = part.fitness.values   # Get the fitness\n",
        "            if not swarm.best or part.fitness > swarm.bestfit:\n",
        "                swarm.best = toolbox.clone(part[:])         # Get the position\n",
        "                swarm.bestfit.values = part.fitness.values  # Get the fitness\n",
        "\n",
        "    record = stats.compile(itertools.chain(*population))\n",
        "    logbook.record(gen=0, evals=mpb.nevals, nswarm=len(population),\n",
        "                   error=mpb.currentError(), offline_error=mpb.offlineError(), **record)\n",
        "\n",
        "    if verbose:\n",
        "        print(logbook.stream)\n",
        "    \n",
        "    generation = 1\n",
        "    while mpb.nevals < 5e5:\n",
        "        # Check for convergence\n",
        "        rexcl = (BOUNDS[1] - BOUNDS[0]) / (2 * len(population)**(1.0/NDIM))\n",
        "        \n",
        "        not_converged = 0\n",
        "        worst_swarm_idx = None\n",
        "        worst_swarm = None\n",
        "        for i, swarm in enumerate(population):\n",
        "            # Compute the diameter of the swarm\n",
        "            for p1, p2 in itertools.combinations(swarm, 2):\n",
        "                d = math.sqrt(sum((x1 - x2)**2. for x1, x2 in zip(p1, p2)))\n",
        "                if d > 2*rexcl:\n",
        "                    not_converged += 1\n",
        "                    # Search for the worst swarm according to its global best\n",
        "                    if not worst_swarm or swarm.bestfit < worst_swarm.bestfit:\n",
        "                        worst_swarm_idx = i\n",
        "                        worst_swarm = swarm\n",
        "                    break\n",
        "        \n",
        "        # If all swarms have converged, add a swarm\n",
        "        if not_converged == 0:\n",
        "            population.append(toolbox.swarm(n=NPARTICLES))\n",
        "        # If too many swarms are roaming, remove the worst swarm\n",
        "        elif not_converged > NEXCESS:\n",
        "            population.pop(worst_swarm_idx)\n",
        "            \n",
        "        # Update and evaluate the swarm\n",
        "        for swarm in population:\n",
        "            # Check for change\n",
        "            if swarm.best and toolbox.evaluate(swarm.best) != swarm.bestfit.values:\n",
        "                # Convert particles to quantum particles\n",
        "                swarm[:] = toolbox.convert(swarm, rcloud=RCLOUD, centre=swarm.best)\n",
        "                swarm.best = None\n",
        "                del swarm.bestfit.values\n",
        "            \n",
        "            for part in swarm:\n",
        "                # Not necessary to update if it is a new swarm\n",
        "                # or a swarm just converted to quantum\n",
        "                if swarm.best and part.best:\n",
        "                    toolbox.update(part, swarm.best)\n",
        "                part.fitness.values = toolbox.evaluate(part)\n",
        "                \n",
        "                # Update swarm's attractors personal best and global best\n",
        "                if not part.best or part.fitness > part.bestfit:\n",
        "                    part.best = toolbox.clone(part[:])\n",
        "                    part.bestfit.values = part.fitness.values\n",
        "                if not swarm.best or part.fitness > swarm.bestfit:\n",
        "                    swarm.best = toolbox.clone(part[:])\n",
        "                    swarm.bestfit.values = part.fitness.values\n",
        "        \n",
        "        record = stats.compile(itertools.chain(*population))\n",
        "        logbook.record(gen=generation, evals=mpb.nevals, nswarm=len(population),\n",
        "                       error=mpb.currentError(), offline_error=mpb.offlineError(), **record)\n",
        "\n",
        "        if verbose:\n",
        "            print(logbook.stream)\n",
        "        \n",
        "        # Apply exclusion\n",
        "        reinit_swarms = set()\n",
        "        for s1, s2 in itertools.combinations(range(len(population)), 2):\n",
        "            # Swarms must have a best and not already be set to reinitialize\n",
        "            if population[s1].best and population[s2].best and not (s1 in reinit_swarms or s2 in reinit_swarms):\n",
        "                dist = 0\n",
        "                for x1, x2 in zip(population[s1].best, population[s2].best):\n",
        "                    dist += (x1 - x2)**2.\n",
        "                dist = math.sqrt(dist)\n",
        "                if dist < rexcl:\n",
        "                    if population[s1].bestfit <= population[s2].bestfit:\n",
        "                        reinit_swarms.add(s1)\n",
        "                    else:\n",
        "                        reinit_swarms.add(s2)\n",
        "        \n",
        "        # Reinitialize and evaluate swarms\n",
        "        for s in reinit_swarms:\n",
        "            population[s] = toolbox.swarm(n=NPARTICLES)\n",
        "            for part in population[s]:\n",
        "                part.fitness.values = toolbox.evaluate(part)\n",
        "                \n",
        "                # Update swarm's attractors personal best and global best\n",
        "                if not part.best or part.fitness > part.bestfit:\n",
        "                    part.best = toolbox.clone(part[:])\n",
        "                    part.bestfit.values = part.fitness.values\n",
        "                if not population[s].best or part.fitness > population[s].bestfit:\n",
        "                    population[s].best = toolbox.clone(part[:])\n",
        "                    population[s].bestfit.values = part.fitness.values\n",
        "        generation += 1\n",
        "\n",
        "if __name__ == \"__main__\":\n",
        "    main()"
      ],
      "execution_count": null,
      "outputs": []
    },
    {
      "cell_type": "code",
      "metadata": {
        "id": "9xTZarL6Q1uM"
      },
      "source": [
        ""
      ],
      "execution_count": null,
      "outputs": []
    },
    {
      "cell_type": "code",
      "metadata": {
        "id": "3hiYO8Axrksv"
      },
      "source": [
        ""
      ],
      "execution_count": null,
      "outputs": []
    }
  ]
}