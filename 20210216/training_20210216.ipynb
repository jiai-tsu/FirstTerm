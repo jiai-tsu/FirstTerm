{
  "nbformat": 4,
  "nbformat_minor": 0,
  "metadata": {
    "colab": {
      "name": "training_20210216.ipynb",
      "provenance": [],
      "collapsed_sections": [
        "tcny132Kl5DN",
        "Ej8nNz20A1Bl",
        "oKt_7zemzv3x",
        "UKAxW2z-hbjn",
        "xkd7HZ6Euqkt",
        "ev7QWpOEvQK3",
        "OqVyFIvfbPrb",
        "TZkjxllqMQyA",
        "59z_h_sDMjut",
        "OrA_l2V8MzoC",
        "UI8CXuFJRXz8",
        "GaBVRgrjiKlf",
        "Y68vxJymkaql",
        "up4umN91XWOQ",
        "SDSwggOokiG4",
        "Wslz3RV0h3sf",
        "ILGIuEUxdLvk",
        "i63omqIyUzA2"
      ]
    },
    "kernelspec": {
      "name": "python3",
      "display_name": "Python 3"
    }
  },
  "cells": [
    {
      "cell_type": "markdown",
      "metadata": {
        "id": "tcny132Kl5DN"
      },
      "source": [
        "## 34. 最適化法による違い\n",
        "\n",
        "公式サンプルコードより\n",
        "\n",
        "https://scikit-learn.org/stable/auto_examples/neural_networks/plot_mlp_training_curves.html"
      ]
    },
    {
      "cell_type": "code",
      "metadata": {
        "id": "jestE8AeOPAD"
      },
      "source": [
        "import matplotlib.pyplot as plt\n",
        "\n",
        "from sklearn.neural_network import MLPClassifier\n",
        "from sklearn.preprocessing import MinMaxScaler\n",
        "from sklearn import datasets\n",
        "\n",
        "\n",
        "# 学習がうまくいかないモデルがあっても、処理を続行させるために使用\n",
        "import warnings\n",
        "from sklearn.exceptions import ConvergenceWarning"
      ],
      "execution_count": null,
      "outputs": []
    },
    {
      "cell_type": "markdown",
      "metadata": {
        "id": "YEavpMI7VM18"
      },
      "source": [
        "<font color = blue> **参考 :** </font> MLPClassifierの引数についての解説がされている日本語サイト\n",
        "\n",
        "https://spjai.com/neural-network-parameter/"
      ]
    },
    {
      "cell_type": "code",
      "metadata": {
        "id": "r5nHj56HOP5j"
      },
      "source": [
        "## different learning rate schedules and momentum parameters\n",
        "params = [\n",
        "          #{'solver': 'lbfgs'}, ## .loss_curve_ アトリビュートが存在しない\n",
        "          {'solver': 'sgd', 'learning_rate_init': 0.2, 'learning_rate': 'constant', 'momentum': 0},\n",
        "          {'solver': 'sgd', 'learning_rate_init': 0.2, 'learning_rate': 'constant', 'momentum': 0.9, 'nesterovs_momentum': False},\n",
        "          {'solver': 'sgd', 'learning_rate_init': 0.2, 'learning_rate': 'constant', 'momentum': 0.9, 'nesterovs_momentum': True},\n",
        "          {'solver': 'sgd', 'learning_rate_init': 0.2, 'learning_rate': 'invscaling', 'momentum': 0},\n",
        "          {'solver': 'sgd', 'learning_rate_init': 0.2, 'learning_rate': 'invscaling', 'momentum': 0.9, 'nesterovs_momentum': True},\n",
        "          {'solver': 'sgd', 'learning_rate_init': 0.2, 'learning_rate': 'invscaling', 'momentum': 0.9, 'nesterovs_momentum': False},\n",
        "          {'solver': 'adam', 'learning_rate_init': 0.01}\n",
        "          ]"
      ],
      "execution_count": null,
      "outputs": []
    },
    {
      "cell_type": "code",
      "metadata": {
        "id": "Ob3JffKNPXLU"
      },
      "source": [
        "# 図示の際のラベル\n",
        "labels = [#\"lbfgs\",\n",
        "          \"constant learning-rate\",\n",
        "          \"constant with momentum\",\n",
        "          \"constant with Nesterov's momentum\",\n",
        "          \"inv-scaling learning-rate\",\n",
        "          \"inv-scaling with momentum\",\n",
        "          \"inv-scaling with Nesterov's momentum\",\n",
        "          \"adam\"]"
      ],
      "execution_count": null,
      "outputs": []
    },
    {
      "cell_type": "code",
      "metadata": {
        "id": "_rtAhRqPPXFF"
      },
      "source": [
        "# 図示の際の線の設定\n",
        "plot_args = [#{'c': 'orange', 'linestyle': '-'},\n",
        "             {'c': 'red', 'linestyle': '-'},\n",
        "             {'c': 'green', 'linestyle': '-'},\n",
        "             {'c': 'blue', 'linestyle': '-'},\n",
        "             {'c': 'red', 'linestyle': '--'},\n",
        "             {'c': 'green', 'linestyle': '--'},\n",
        "             {'c': 'blue', 'linestyle': '--'},\n",
        "             {'c': 'black', 'linestyle': '-'}\n",
        "             ]"
      ],
      "execution_count": null,
      "outputs": []
    },
    {
      "cell_type": "code",
      "metadata": {
        "id": "_Wo6Z-8HPXBE"
      },
      "source": [
        "# モデルのインスタンス作成 -> データを渡して学習実行 -> 学習過程（損失関数）の図示\n",
        "# の一連の処理を関数化\n",
        "\n",
        "def plot_on_dataset(X, y, ax, name):\n",
        "  # for each dataset, plot learning for each learning strategy\n",
        "  #print(\"\\nlearning on dataset %s\" % name)\n",
        "  print(\"learning on dataset %s\" % name)\n",
        "  ax.set_title(name)\n",
        "\n",
        "  X = MinMaxScaler().fit_transform(X)\n",
        "  mlps = []\n",
        "  if name == \"digits\":\n",
        "    # digits is larger but converges fairly quickly\n",
        "    max_iter = 15\n",
        "  else:\n",
        "    max_iter = 400\n",
        "\n",
        "  for label, param in zip(labels, params):\n",
        "    #print(\"training: %s\" % label)\n",
        "    mlp = MLPClassifier(random_state=0,\n",
        "                        max_iter=max_iter, **param)\n",
        "    # some parameter combinations will not converge as can be seen on the\n",
        "    # plots so they are ignored here\n",
        "    with warnings.catch_warnings():\n",
        "      warnings.filterwarnings(\"ignore\", category=ConvergenceWarning,\n",
        "                              module=\"sklearn\")\n",
        "      mlp.fit(X, y)\n",
        "\n",
        "    mlps.append(mlp)\n",
        "    #print(\"Training set score: %f\" % mlp.score(X, y))\n",
        "    #print(\"Training set loss: %f\" % mlp.loss_)\n",
        "\n",
        "  for mlp, label, args in zip(mlps, labels, plot_args):\n",
        "    ax.plot(mlp.loss_curve_, label=label, **args)"
      ],
      "execution_count": null,
      "outputs": []
    },
    {
      "cell_type": "code",
      "metadata": {
        "id": "JuZhjmF2OPy8"
      },
      "source": [
        "## load / generate some toy datasets\n",
        "iris = datasets.load_iris()\n",
        "X_digits, y_digits = datasets.load_digits(return_X_y=True)"
      ],
      "execution_count": null,
      "outputs": []
    },
    {
      "cell_type": "code",
      "metadata": {
        "id": "2Aa7LSuLziQM"
      },
      "source": [
        "# ４種類のデータセットでそれぞれ最適化法を比較する\n",
        "data_sets = [(iris.data, iris.target),\n",
        "             (X_digits, y_digits),\n",
        "             datasets.make_circles(noise=0.2, factor=0.5, random_state=1),\n",
        "             datasets.make_moons(noise=0.3, random_state=0)]"
      ],
      "execution_count": null,
      "outputs": []
    },
    {
      "cell_type": "code",
      "metadata": {
        "id": "JJTqm5rEOPNu"
      },
      "source": [
        "fig, axes = plt.subplots(2, 2, figsize=(15, 10))\n",
        "\n",
        "for ax, data, name in zip(axes.ravel(), data_sets, ['iris', 'digits', 'circles', 'moons']):\n",
        "  plot_on_dataset(*data, ax=ax, name=name)\n",
        "\n",
        "fig.legend(ax.get_lines(), labels, ncol=3, loc=\"upper center\", fontsize=12)\n",
        "plt.show()"
      ],
      "execution_count": null,
      "outputs": []
    },
    {
      "cell_type": "code",
      "metadata": {
        "id": "-bvR6XpUSvXm"
      },
      "source": [
        ""
      ],
      "execution_count": null,
      "outputs": []
    },
    {
      "cell_type": "markdown",
      "metadata": {
        "id": "zXJx6q0eXBva"
      },
      "source": [
        "## 33. keras を使ったネットワーク構築\n",
        "\n",
        "https://keras.io/getting_started/"
      ]
    },
    {
      "cell_type": "markdown",
      "metadata": {
        "id": "E9a3H-mrOvxc"
      },
      "source": [
        "### <font color = blue>**4.** </font> CNN : Convolutional Neural Network　続き？改訂？"
      ]
    },
    {
      "cell_type": "markdown",
      "metadata": {
        "id": "Ej8nNz20A1Bl"
      },
      "source": [
        "#### <font color = green> **4.1.** </font> keras.layers.Conv2D の引数"
      ]
    },
    {
      "cell_type": "code",
      "metadata": {
        "id": "VTpZeruS-Lpo"
      },
      "source": [
        "'''tf.keras.layers.Conv2D(\n",
        "    filters,\n",
        "    kernel_size,\n",
        "    strides=(1, 1),\n",
        "    padding=\"valid\",\n",
        "    data_format=None,\n",
        "    dilation_rate=(1, 1),\n",
        "    groups=1,\n",
        "    activation=None,\n",
        "    use_bias=True,\n",
        "    kernel_initializer=\"glorot_uniform\",\n",
        "    bias_initializer=\"zeros\",\n",
        "    kernel_regularizer=None,\n",
        "    bias_regularizer=None,\n",
        "    activity_regularizer=None,\n",
        "    kernel_constraint=None,\n",
        "    bias_constraint=None,\n",
        "    **kwargs\n",
        ")"
      ],
      "execution_count": null,
      "outputs": []
    },
    {
      "cell_type": "markdown",
      "metadata": {
        "id": "N2hqKSFN-RMs"
      },
      "source": [
        "Arguments\n",
        "\n",
        "- **filters**: Integer, the dimensionality of the output space (i.e. the number of output filters in the convolution).\n",
        "- **kernel_size**: An integer or tuple/list of 2 integers, specifying the height and width of the 2D convolution window.\n",
        "- **strides**: An integer or tuple/list of 2 integers, specifying the strides of the convolution along the height and width.\n",
        "- **padding**: one of \"valid\" or \"same\" (case-insensitive).\n",
        "- **data_format**: A string, one of channels_last (default) or channels_first. The ordering of the dimensions in the inputs. channels_last corresponds to inputs with shape (batch_size, height, width, channels) while channels_first corresponds to inputs with shape (batch_size, channels, height, width).\n",
        "- **dilation_rate**: an integer or tuple/list of 2 integers, specifying the dilation rate to use for dilated convolution.\n",
        "- **groups**: A positive integer specifying the number of groups in which the input is split along the channel axis. Each group is convolved separately with filters / groups filters. The output is the concatenation of all the groups results along the channel axis. Input channels and filters must both be divisible by groups.\n",
        "- **activation**: Activation function to use. If you don't specify anything, no activation is applied.\n",
        "- **use_bias**: Boolean, whether the layer uses a bias vector.\n",
        "- **kernel_initializer**: Initializer for the kernel weights matrix.\n",
        "- **bias_initializer**: Initializer for the bias vector.\n",
        "- **kernel_regularizer**: Regularizer function applied to the kernel weights matrix.\n",
        "- **bias_regularizer**: Regularizer function applied to the bias vector .\n",
        "- **activity_regularizer**: Regularizer function applied to the output of the layer (its \"activation\").\n",
        "- **kernel_constraint**: Constraint function applied to the kernel matrix.\n",
        "- **bias_constraint**: Constraint function applied to the bias vector ."
      ]
    },
    {
      "cell_type": "code",
      "metadata": {
        "id": "YSF-Ku6R-LmH"
      },
      "source": [
        ""
      ],
      "execution_count": null,
      "outputs": []
    },
    {
      "cell_type": "markdown",
      "metadata": {
        "id": "oKt_7zemzv3x"
      },
      "source": [
        "#### <font color = green> **4.2.** </font> パディング（padding）とストライド（strides）"
      ]
    },
    {
      "cell_type": "markdown",
      "metadata": {
        "id": "xS9hR5MAA5T_"
      },
      "source": [
        "**図の引用元**\n",
        "\n",
        "https://qiita.com/nvtomo1029/items/601af18f82d8ffab551e"
      ]
    },
    {
      "cell_type": "markdown",
      "metadata": {
        "id": "ZGnh5I4s8gQK"
      },
      "source": [
        "- パディングなしの場合\\\n",
        "![image.png](data:image/png;base64,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)"
      ]
    },
    {
      "cell_type": "markdown",
      "metadata": {
        "id": "d5o55LhL8GIZ"
      },
      "source": [
        "- パディングありの場合\\\n",
        "![image.png](data:image/png;base64,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)"
      ]
    },
    {
      "cell_type": "code",
      "metadata": {
        "id": "pKEEurR11nUj"
      },
      "source": [
        ""
      ],
      "execution_count": null,
      "outputs": []
    },
    {
      "cell_type": "markdown",
      "metadata": {
        "id": "UKAxW2z-hbjn"
      },
      "source": [
        "#### <font color = green> **4.3.** </font> サンプルコード　パディングあり\n",
        "\n",
        "\\\n",
        "$\\downarrow \\downarrow$ 細かい解説付きのコードがあったのでこちらを引用改変 $\\downarrow \\downarrow$\n",
        "\n",
        "https://child-programmer.com/ai/cnn-mnist-basic-samplecode-description/"
      ]
    },
    {
      "cell_type": "code",
      "metadata": {
        "id": "xfBIjAqQcSUe"
      },
      "source": [
        "############\n",
        "# ライブラリのインポートなど\n",
        "\n",
        "import keras\n",
        "from keras.datasets import mnist       # 0〜9の手書き文字MNISTのデータセット\n",
        "from keras.models import Sequential    # モデル層を積み重ねる\n",
        "from keras.layers import Conv2D        # 2次元畳み込み層のモジュール\n",
        "from keras.layers import MaxPooling2D  # 2次元最大プーリング層のモジュール\n",
        "from keras.layers import Dense         # 全結合層\n",
        "from keras.layers import Dropout       # ドロップアウト\n",
        "from keras.layers import Flatten        # 入力を平滑化（平坦化：次元削減）\n",
        "from keras.optimizers import Adam     # Adaptive moment estimation : 学習の最適化手法の1つ。最適化関数\n",
        "import time"
      ],
      "execution_count": null,
      "outputs": []
    },
    {
      "cell_type": "code",
      "metadata": {
        "id": "F2fSzPfywG3o"
      },
      "source": [
        ""
      ],
      "execution_count": null,
      "outputs": []
    },
    {
      "cell_type": "code",
      "metadata": {
        "id": "eVIpeIxTvtBJ"
      },
      "source": [
        "############\n",
        "# 画像データの読み込みと、データ形式の設定・正規化\n",
        "\n",
        "(x_train, y_train), (x_test, y_test) = mnist.load_data()\n",
        "# 訓練用画像データ6万枚・テスト用画像データ1万枚\n",
        "# 縦28×横28ピクセル・グレースケール（白黒画像）\n",
        "# 各ピクセルは黒から白までの変化を0〜255で表現"
      ],
      "execution_count": null,
      "outputs": []
    },
    {
      "cell_type": "code",
      "metadata": {
        "id": "7xlINH1evs67"
      },
      "source": [
        "x_train = x_train.reshape(x_train.shape[0], 28, 28, 1)\n",
        "# 「縦28×横28ピクセル」の「グレースケール（白黒）」の「x_train.shape[0]：画像データが6万枚」\n",
        "# カラー画像の場合は(x_train.shape[0], 28, 28, 3)\n",
        "# x_train = x_train.reshape(-1, 28, 28, 1) と「-1」を指定すると、適当な値を推測して調整してくれるようです\n",
        "\n",
        "x_test = x_test.reshape(x_test.shape[0], 28, 28, 1)"
      ],
      "execution_count": null,
      "outputs": []
    },
    {
      "cell_type": "code",
      "metadata": {
        "id": "YySG20ANcSTZ"
      },
      "source": [
        "x_train = x_train.astype('float32')/255\n",
        "# 訓練用の画像データを正規化\n",
        "# 黒から白までの変化を0〜255で表現しているので、255で割ることでデータを0〜1の範囲に正規化\n",
        "# float型にすることで実数値で表現\n",
        "# 正規化前「0〜255」 正規化実施「0.0〜1.0」（実数値）\n",
        "\n",
        "x_test = x_test.astype('float32')/255"
      ],
      "execution_count": null,
      "outputs": []
    },
    {
      "cell_type": "code",
      "metadata": {
        "id": "SIFjqk3kwHW9"
      },
      "source": [
        ""
      ],
      "execution_count": null,
      "outputs": []
    },
    {
      "cell_type": "code",
      "metadata": {
        "id": "oboi9zJWcSQE"
      },
      "source": [
        "############\n",
        "# ラベルデータをOne-hotベクトルに変更\n",
        "\n",
        "y_train = keras.utils.to_categorical(y_train, 10)\n",
        "# 訓練用のラベルデータの整数値を2値クラスの行列に変換\n",
        "# 例「整数 1」を「0,1,0,0,0,0,0,0,0,0」と表現。One-hotベクトル（1-of-k表記法）\n",
        "\n",
        "# (y_train, 10）：0〜9までのため10クラス\n",
        "# このような形式にすることで、出力結果が「0.1,0,0,0,0,0,0.8,0,0.1,0」（0の確率10%。6の確率80%。10の確率10%）を得られる\n",
        "# 画像データが機械学習モデルで、どういう判定結果となっているか？という情報を取得できる\n",
        "\n",
        "y_test = keras.utils.to_categorical(y_test, 10)"
      ],
      "execution_count": null,
      "outputs": []
    },
    {
      "cell_type": "code",
      "metadata": {
        "id": "FlDyZg0iwH5s"
      },
      "source": [
        ""
      ],
      "execution_count": null,
      "outputs": []
    },
    {
      "cell_type": "code",
      "metadata": {
        "id": "YmNou3qUwJMJ"
      },
      "source": [
        "############\n",
        "# 機械学習（人工知能）モデルの作成\n",
        "# 「Conv2D」を使ってディープラーニング技術でおなじみの「畳み込みニューラルネットワーク」（CNN）を実装\n",
        "\n",
        "model = Sequential()\n",
        "# モデル層を積み重ねる形式の記述方法\n",
        "# .addメソッドで簡単に層を追加できます"
      ],
      "execution_count": null,
      "outputs": []
    },
    {
      "cell_type": "code",
      "metadata": {
        "id": "8LfV0upDwWiu"
      },
      "source": [
        "model.add(Conv2D(16, (3, 3), padding='same',\n",
        "          input_shape=(28, 28, 1), activation='relu'))\n",
        "# 空間フィルタ – 畳み込み演算層\n",
        "\n",
        "# Conv2D(16, (3, 3) : 「3×3」の大きさのフィルタを16枚使うという意味。「5×5」「7×7」などと、中心を決められる奇数が使いやすいようです。\n",
        "# フィルタ数は、「16・32・64・128・256・512枚」などが使われる傾向にあるようですが、複雑そうな問題ならフィルタ数を多めに、簡単そうな問題ならフィルタ数を少なめで試してみるようです\n",
        "\n",
        "# padding=’same’ ： 今回は出力画像のサイズが変わらないように「padding=’same’」でパディングを実施\n",
        "# フィルタを適用前に0などの要素で周囲を増やす（ゼロパディング）\n",
        "# その他にも「stride=(1,1)」（横に1ピクセル・縦に1ピクセルずつフィルタを適用）などとストライドの追加も可能\n",
        "# strideを指定しない場合（デフォルト）は縦・横1ピクセルずつフィルタが適用されるようです\n",
        "\n",
        "# activation=’relu’ ： 活性化関数「ReLU（Rectified Linear Unit）- ランプ関数」\n",
        "# フィルタ後の画像に実施。入力が0以下の時は出力0。入力が0より大きい場合はそのまま出力する"
      ],
      "execution_count": null,
      "outputs": []
    },
    {
      "cell_type": "code",
      "metadata": {
        "id": "0R_d2w0FwWgY"
      },
      "source": [
        "model.add(MaxPooling2D(pool_size=(2, 2)))               \n",
        "# 「2×2」の大きさの最大プーリング層。入力画像内の「2×2」の領域で最大の数値を出力する"
      ],
      "execution_count": null,
      "outputs": []
    },
    {
      "cell_type": "code",
      "metadata": {
        "id": "lYlacaTxwc_-"
      },
      "source": [
        "model.add(Conv2D(32, (3, 3), padding='same', activation='relu'))\n",
        "# 空間フィルタ – 畳み込み演算層。「3×3」の大きさのフィルタを32枚使う。\n",
        "# （学習時間短縮のため 128 -> 32 と変更した）"
      ],
      "execution_count": null,
      "outputs": []
    },
    {
      "cell_type": "code",
      "metadata": {
        "id": "nfz7Ab68wc9h"
      },
      "source": [
        "model.add(Conv2D(64, (3, 3), padding='same', activation='relu'))\n",
        "# （学習時間短縮のため 256 -> 64 と変更した）\n",
        "\n",
        "model.add(MaxPooling2D(pool_size=(2, 2)))\n",
        "\n",
        "## さらに畳み込みをしてプーリング"
      ],
      "execution_count": null,
      "outputs": []
    },
    {
      "cell_type": "code",
      "metadata": {
        "id": "yPpesSE6wc7K"
      },
      "source": [
        "model.add(Dropout(0.5))                                   \n",
        "# ドロップアウト – 過学習予防。今回は、全結合の層とのつながりを「50%」無効化しています"
      ],
      "execution_count": null,
      "outputs": []
    },
    {
      "cell_type": "code",
      "metadata": {
        "id": "o1Xd9Kozwc4h"
      },
      "source": [
        "model.add(Flatten())\n",
        "# 平坦化（次元削減） – 1次元ベクトルに変換する"
      ],
      "execution_count": null,
      "outputs": []
    },
    {
      "cell_type": "code",
      "metadata": {
        "id": "Bp-odgTXw5Ju"
      },
      "source": [
        "model.add(Dense(32, activation='relu'))\n",
        "# 全結合層。出力32\n",
        "# （学習時間短縮のため 128 -> 32 と変更した）"
      ],
      "execution_count": null,
      "outputs": []
    },
    {
      "cell_type": "code",
      "metadata": {
        "id": "fWtV72hYw45I"
      },
      "source": [
        "model.add(Dropout(0.25))\n",
        "\n",
        "## ここでもドロップアウト実行"
      ],
      "execution_count": null,
      "outputs": []
    },
    {
      "cell_type": "code",
      "metadata": {
        "id": "QWWbB1W-cbrP"
      },
      "source": [
        "model.add(Dense(10, activation='softmax'))\n",
        "# 全結合層。出力10（0~9の10クラス判定のため）\n",
        "# Denseのところで、畳み込みニューラルネットワーク（CNN）の最終的な全結合層の出力次元数の決め方は、判定するクラス数を指定します\n",
        "# 上記のコードの場合「0〜9」までの数字を判定するため、全部で「0・1・2・3・4・5・6・7・8・9」の「10」クラスになります\n",
        "# そのため、最終的な全結合層の出力次元数を「10」にします\n",
        "# Softmax関数で総和が1となるように、各出力の予測確率を計算\n",
        "# 例「0.1,0,0,0,0,0,0.8,0,0,0.1」（0の確率10%。6の確率80%。9の確率10%）"
      ],
      "execution_count": null,
      "outputs": []
    },
    {
      "cell_type": "code",
      "metadata": {
        "id": "wG-ETXPafBOx"
      },
      "source": [
        "keras.utils.plot_model(model, show_shapes=True)"
      ],
      "execution_count": null,
      "outputs": []
    },
    {
      "cell_type": "code",
      "metadata": {
        "id": "RqaPTJlP5zoE"
      },
      "source": [
        "model.summary()"
      ],
      "execution_count": null,
      "outputs": []
    },
    {
      "cell_type": "code",
      "metadata": {
        "id": "ERNpdWUnxFAU"
      },
      "source": [
        ""
      ],
      "execution_count": null,
      "outputs": []
    },
    {
      "cell_type": "code",
      "metadata": {
        "id": "kXPuEt8ucbog"
      },
      "source": [
        "############\n",
        "#5 損失関数・最適化関数・評価関数などを指定してモデルをコンパイル\n",
        "\n",
        "model.compile(loss='categorical_crossentropy',  # 損失化関数 – 交差エントロピー誤差を指定。今回のような分類問題（識別問題）などで使われる\n",
        "              optimizer=Adam(),                # 最適化関数 – Adam（Adaptive moment estimation）を指定。学習の最適化手法の1つ\n",
        "              metrics=['accuracy']              # 評価関数 – 訓練時とテスト時にモデルにより評価される評価関数。学習の評価として正解率も計算\n",
        "              )"
      ],
      "execution_count": null,
      "outputs": []
    },
    {
      "cell_type": "code",
      "metadata": {
        "id": "_0FY62T2xGkX"
      },
      "source": [
        ""
      ],
      "execution_count": null,
      "outputs": []
    },
    {
      "cell_type": "code",
      "metadata": {
        "id": "hb2pOVOfclke"
      },
      "source": [
        "############\n",
        "# 学習の実行\n",
        "\n",
        "# 処理を始めた時間\n",
        "start_time = time.time()\n",
        "\n",
        "history = model.ﬁt(x_train, y_train,\n",
        "                   batch_size=32,   # サブセットに分けて学習する理由 : 学習する際の異常値の影響を小さくするため\n",
        "                                     # 今回は 1024 -> 32 と変更した\n",
        "                   epochs=5,        # 学習時間短縮のため、20 -> 5 と変更した\n",
        "                   verbose=1,       # ログ出力の指定。「0」だとログが出ない\n",
        "                   validation_data=(x_test, y_test)\n",
        "                   )\n",
        "\n",
        "model_fit_time = time.time() - start_time\n",
        "print('Computation time:{0:.3f} sec'.format(model_fit_time))\n",
        "# 計算処理にかかった時間を表示\n",
        "# {0:.3f} ： {通し番号：float型の小数点以下3桁まで表示}"
      ],
      "execution_count": null,
      "outputs": []
    },
    {
      "cell_type": "code",
      "metadata": {
        "id": "HlcgXXS_ys4P"
      },
      "source": [
        ""
      ],
      "execution_count": null,
      "outputs": []
    },
    {
      "cell_type": "code",
      "metadata": {
        "id": "qxEOOxw1b3cX"
      },
      "source": [
        "############\n",
        "# モデルの評価\n",
        "\n",
        "score = model.evaluate(x_test, y_test, verbose=0)\n",
        "\n",
        "print('Test loss:', score[0])\n",
        "# score[0] – テストデータの交差エントロピー誤差を表示\n",
        "\n",
        "print('Test accuracy:', score[1])\n",
        "# score[1] – テストデータの正解率を表示"
      ],
      "execution_count": null,
      "outputs": []
    },
    {
      "cell_type": "code",
      "metadata": {
        "id": "BVQRY4z2-MOZ"
      },
      "source": [
        ""
      ],
      "execution_count": null,
      "outputs": []
    },
    {
      "cell_type": "markdown",
      "metadata": {
        "id": "xkd7HZ6Euqkt"
      },
      "source": [
        "#### <font color = green> **4.4.** </font> パディングなしの場合の計算時間/精度を比較"
      ]
    },
    {
      "cell_type": "code",
      "metadata": {
        "id": "s0RhCMnv2Dge"
      },
      "source": [
        "model2 = Sequential()\n",
        "\n",
        "model2.add(Conv2D(16, (3, 3),\n",
        "                  padding='valid',  ### 'same' -> 'valid' ###\n",
        "                  input_shape=(28, 28, 1), activation='relu'))\n",
        "model2.add(MaxPooling2D(pool_size=(2, 2)))               \n",
        "\n",
        "model2.add(Conv2D(32, (3, 3), padding='valid', activation='relu'))\n",
        "\n",
        "model2.add(Conv2D(64, (3, 3), padding='valid', activation='relu'))\n",
        "model2.add(MaxPooling2D(pool_size=(2, 2)))                \n",
        "\n",
        "model2.add(Dropout(0.5))                                   \n",
        "\n",
        "model2.add(Flatten())\n",
        "\n",
        "model2.add(Dense(32, activation='relu'))\n",
        "\n",
        "model2.add(Dropout(0.25))                                 \n",
        "\n",
        "model2.add(Dense(10, activation='softmax'))"
      ],
      "execution_count": null,
      "outputs": []
    },
    {
      "cell_type": "code",
      "metadata": {
        "id": "eJqJ5sNZ52N_"
      },
      "source": [
        "model2.summary()"
      ],
      "execution_count": null,
      "outputs": []
    },
    {
      "cell_type": "code",
      "metadata": {
        "id": "_mfHc35J2Dgi"
      },
      "source": [
        "model2.compile(loss='categorical_crossentropy',\n",
        "               optimizer=Adam(),\n",
        "               metrics=['accuracy']\n",
        "               )"
      ],
      "execution_count": null,
      "outputs": []
    },
    {
      "cell_type": "code",
      "metadata": {
        "id": "P1afB6X-2Dgi"
      },
      "source": [
        "start_time = time.time()\n",
        "\n",
        "history = model2.ﬁt(x_train, y_train,\n",
        "                    batch_size=32,\n",
        "                    epochs=5,\n",
        "                    verbose=1,\n",
        "                    validation_data=(x_test, y_test)\n",
        "                    )\n",
        "\n",
        "model2_fit_time = time.time() - start_time\n",
        "print('Computation time:{0:.3f} sec'.format(model2_fit_time))"
      ],
      "execution_count": null,
      "outputs": []
    },
    {
      "cell_type": "code",
      "metadata": {
        "id": "OSFSDAcw2Dgj"
      },
      "source": [
        "score2 = model2.evaluate(x_test, y_test, verbose=0)\n",
        "\n",
        "print('padding あり')\n",
        "print('Test loss:', score[0])\n",
        "print('Test accuracy:', score[1])\n",
        "print('time:', model_fit_time)\n",
        "\n",
        "print('\\n')\n",
        "print('padding なし')\n",
        "print('Test loss:', score2[0])\n",
        "print('Test accuracy:', score2[1])\n",
        "print('time:', model2_fit_time)"
      ],
      "execution_count": null,
      "outputs": []
    },
    {
      "cell_type": "code",
      "metadata": {
        "id": "wE8Uo5ZQ2GVg"
      },
      "source": [
        ""
      ],
      "execution_count": null,
      "outputs": []
    },
    {
      "cell_type": "markdown",
      "metadata": {
        "id": "ev7QWpOEvQK3"
      },
      "source": [
        "#### <font color = green> **4.5.** </font> カーネル数を減らして計算時間/精度を比較"
      ]
    },
    {
      "cell_type": "code",
      "metadata": {
        "id": "JRz9TwssvQK3"
      },
      "source": [
        "model3 = Sequential()\n",
        "model3.add(Conv2D(8,  ### 16 -> 8\n",
        "                  (3, 3), padding='valid', input_shape=(28, 28, 1), activation='relu'))\n",
        "model3.add(MaxPooling2D(pool_size=(2, 2)))\n",
        "\n",
        "model3.add(Conv2D(16, ### 32 -> 16\n",
        "                  (3, 3), padding='valid', activation='relu'))\n",
        "\n",
        "model3.add(Conv2D(32, ### 64 -> 32\n",
        "                  (3, 3), padding='valid', activation='relu'))\n",
        "model3.add(MaxPooling2D(pool_size=(2, 2)))                \n",
        "\n",
        "model3.add(Dropout(0.5))                                   \n",
        "model3.add(Flatten())\n",
        "\n",
        "model3.add(Dense(16,  ### 32 -> 32\n",
        "                 activation='relu'))\n",
        "\n",
        "model3.add(Dropout(0.25))\n",
        "model3.add(Dense(10, activation='softmax'))"
      ],
      "execution_count": null,
      "outputs": []
    },
    {
      "cell_type": "code",
      "metadata": {
        "id": "S74zsAOpB5i7"
      },
      "source": [
        "model3.summary()"
      ],
      "execution_count": null,
      "outputs": []
    },
    {
      "cell_type": "code",
      "metadata": {
        "id": "W9vbpg4avQK4"
      },
      "source": [
        "model3.compile(loss='categorical_crossentropy',\n",
        "               optimizer=Adam(),\n",
        "               metrics=['accuracy']\n",
        "               )"
      ],
      "execution_count": null,
      "outputs": []
    },
    {
      "cell_type": "code",
      "metadata": {
        "id": "m_mEfVoJvQK5"
      },
      "source": [
        "start_time = time.time()\n",
        "\n",
        "history = model3.ﬁt(x_train, y_train,\n",
        "                    batch_size=32,\n",
        "                    epochs=5,\n",
        "                    verbose=1,\n",
        "                    validation_data=(x_test, y_test)\n",
        "                    )\n",
        "\n",
        "model3_fit_time = time.time() - start_time\n",
        "print('Computation time:{0:.3f} sec'.format(model3_fit_time))"
      ],
      "execution_count": null,
      "outputs": []
    },
    {
      "cell_type": "code",
      "metadata": {
        "id": "UksfxTvOvQK6"
      },
      "source": [
        "score3 = model3.evaluate(x_test, y_test, verbose=0)\n",
        "\n",
        "print('16 -> 32 -> 64 -> 32')\n",
        "print('Test loss:', score2[0])\n",
        "print('Test accuracy:', score2[1])\n",
        "print('time:', model2_fit_time)\n",
        "\n",
        "print('\\n')\n",
        "print('8 -> 16 -> 32 -> 16')\n",
        "print('Test loss:', score3[0])\n",
        "print('Test accuracy:', score3[1])\n",
        "print('time:', model3_fit_time)"
      ],
      "execution_count": null,
      "outputs": []
    },
    {
      "cell_type": "code",
      "metadata": {
        "id": "k56mym7udwbF"
      },
      "source": [
        ""
      ],
      "execution_count": null,
      "outputs": []
    },
    {
      "cell_type": "markdown",
      "metadata": {
        "id": "OqVyFIvfbPrb"
      },
      "source": [
        "#### <font color = green> **4.6.** </font> kernel（学習したweight）を見てみる"
      ]
    },
    {
      "cell_type": "code",
      "metadata": {
        "id": "HmMgtCAyCnxT"
      },
      "source": [
        "import numpy as np"
      ],
      "execution_count": null,
      "outputs": []
    },
    {
      "cell_type": "code",
      "metadata": {
        "id": "BlJo8KEj_KJT"
      },
      "source": [
        "model3.layers"
      ],
      "execution_count": null,
      "outputs": []
    },
    {
      "cell_type": "code",
      "metadata": {
        "id": "lhOJNH_Vn0uZ"
      },
      "source": [
        "model3.layers[0].weights"
      ],
      "execution_count": null,
      "outputs": []
    },
    {
      "cell_type": "code",
      "metadata": {
        "id": "gHOeBWnQH-al"
      },
      "source": [
        "m3_w = model3.layers[0].get_weights()\n",
        "print(m3_w[0])  # kernel をnumpy.ndarray形式で取得\n",
        "print(m3_w[1])  # bias をnumpy.ndarray形式で取得"
      ],
      "execution_count": null,
      "outputs": []
    },
    {
      "cell_type": "code",
      "metadata": {
        "id": "kHP10mbBCiXK"
      },
      "source": [
        "model3.layers[0].kernel"
      ],
      "execution_count": null,
      "outputs": []
    },
    {
      "cell_type": "code",
      "metadata": {
        "id": "xUjkIm3i_DIl"
      },
      "source": [
        "model3.layers[0].bias"
      ],
      "execution_count": null,
      "outputs": []
    },
    {
      "cell_type": "code",
      "metadata": {
        "id": "rpvsyIK2AHyj"
      },
      "source": [
        ""
      ],
      "execution_count": null,
      "outputs": []
    },
    {
      "cell_type": "code",
      "metadata": {
        "id": "FjSU4xNGp8Em"
      },
      "source": [
        "model3.layers[0].kernel.shape"
      ],
      "execution_count": null,
      "outputs": []
    },
    {
      "cell_type": "code",
      "metadata": {
        "id": "_9G3eoFvp78W"
      },
      "source": [
        "# 最初の畳み込みに使われる、8枚の(3,3)のkernel　の形を取り出す\n",
        "\n",
        "m3_k1 = np.array([model3.layers[0].kernel[:,:,:,i] for i in range(8)]).reshape(8,3,3)\n",
        "m3_k1"
      ],
      "execution_count": null,
      "outputs": []
    },
    {
      "cell_type": "code",
      "metadata": {
        "id": "7nUE9eunCx6P"
      },
      "source": [
        ""
      ],
      "execution_count": null,
      "outputs": []
    },
    {
      "cell_type": "code",
      "metadata": {
        "id": "eK5Xf3VmH-V_"
      },
      "source": [
        "## ヒートマップで可視化してみる\n",
        "\n",
        "import matplotlib.pyplot as plt\n",
        "import seaborn as sns"
      ],
      "execution_count": null,
      "outputs": []
    },
    {
      "cell_type": "code",
      "metadata": {
        "id": "vVLg9NLSKo48"
      },
      "source": [
        "plt.figure(figsize=(16,8))\n",
        "for i in range(8):\n",
        "  plt.subplot(2,4,i+1)\n",
        "  sns.heatmap(m3_k1[i], annot=True, cmap='autumn', vmax=1., vmin=-1.)\n",
        "plt.show()"
      ],
      "execution_count": null,
      "outputs": []
    },
    {
      "cell_type": "code",
      "metadata": {
        "id": "FkgVPmp5CzGu"
      },
      "source": [
        "## コントラストをきつくしてみる\n",
        "\n",
        "plt.figure(figsize=(16,8))\n",
        "for i in range(8):\n",
        "  plt.subplot(2,4,i+1)\n",
        "  sns.heatmap(m3_k1[i], annot=True, cmap='autumn', vmax=.5, vmin=-.5)\n",
        "plt.show()"
      ],
      "execution_count": null,
      "outputs": []
    },
    {
      "cell_type": "code",
      "metadata": {
        "id": "as4oavzjBoAT"
      },
      "source": [
        ""
      ],
      "execution_count": null,
      "outputs": []
    },
    {
      "cell_type": "markdown",
      "metadata": {
        "id": "ASZck5KWSmGQ"
      },
      "source": [
        "### <font color = blue>**3.** </font> ResNet : Residual Network"
      ]
    },
    {
      "cell_type": "markdown",
      "metadata": {
        "id": "TZkjxllqMQyA"
      },
      "source": [
        "#### <font color = green> **3.1.** </font> keras.layers.concatenate\n",
        "\n",
        "https://www.tensorflow.org/api_docs/python/tf/keras/layers/concatenate"
      ]
    },
    {
      "cell_type": "code",
      "metadata": {
        "id": "TFhzcXmfED_1"
      },
      "source": [
        "## ResNet の例\n",
        "from keras import layers"
      ],
      "execution_count": null,
      "outputs": []
    },
    {
      "cell_type": "code",
      "metadata": {
        "id": "z0OGFuJ4Eh2q"
      },
      "source": [
        "# 入力層\n",
        "inputs = layers.Input(shape=(28,28))\n",
        "flatten = layers.Flatten()(inputs)\n",
        "\n",
        "# 第１層\n",
        "dense1 = layers.Dense(1000, activation='relu')(flatten)\n",
        "\n",
        "# 第２層\n",
        "dense2 = layers.Dense(100)(dense1)\n",
        "\n",
        "# 第１層の出力と第2層の出力を合流\n",
        "merged = layers.concatenate([dense1, dense2])\n",
        "\n",
        "# 出力層\n",
        "outputs = layers.Dense(10, activation='softmax')(merged)\n",
        "\n",
        "RN = keras.Model(inputs=inputs, outputs=outputs)"
      ],
      "execution_count": null,
      "outputs": []
    },
    {
      "cell_type": "code",
      "metadata": {
        "id": "-6PfeEZ8FeMZ"
      },
      "source": [
        "keras.utils.plot_model(RN, show_shapes=True)"
      ],
      "execution_count": null,
      "outputs": []
    },
    {
      "cell_type": "code",
      "metadata": {
        "id": "wivKE9RTGE2d"
      },
      "source": [
        ""
      ],
      "execution_count": null,
      "outputs": []
    },
    {
      "cell_type": "code",
      "metadata": {
        "id": "pg8-HXikI0So"
      },
      "source": [
        "## 出力が多次元データの層同士を合流させたい場合\n",
        "\n",
        "# 入力層\n",
        "inputs = layers.Input(shape=(28,28))\n",
        "\n",
        "# 第１層\n",
        "dense1 = layers.Dense(100, activation='relu')(inputs)\n",
        "\n",
        "# 第２層\n",
        "dense2 = layers.Dense(200, activation='relu')(dense1)\n",
        "\n",
        "# 第１層の出力と第2層の出力を合流\n",
        "merged = layers.concatenate([dense1, dense2])\n",
        "\n",
        "# 出力層\n",
        "outputs = layers.Dense(10, activation='softmax')(merged)\n",
        "\n",
        "RN = keras.Model(inputs=inputs, outputs=outputs)"
      ],
      "execution_count": null,
      "outputs": []
    },
    {
      "cell_type": "code",
      "metadata": {
        "id": "cuNySYSxIo8M"
      },
      "source": [
        "keras.utils.plot_model(RN, show_shapes=True)"
      ],
      "execution_count": null,
      "outputs": []
    },
    {
      "cell_type": "code",
      "metadata": {
        "id": "pLA1Gqf6JsbM"
      },
      "source": [
        ""
      ],
      "execution_count": null,
      "outputs": []
    },
    {
      "cell_type": "code",
      "metadata": {
        "id": "dqUDJbbBG5uW"
      },
      "source": [
        "###########\n",
        "## ダメな例 ##\n",
        "###########\n",
        "\n",
        "# 入力層\n",
        "inputs = layers.Input(shape=(28,28))\n",
        "flatten = layers.Flatten()(inputs)\n",
        "\n",
        "# 第１層\n",
        "dense1 = layers.Dense(100, activation='relu')(flatten)\n",
        "reshape1 = layers.Reshape((10,10))(dense1)\n",
        "\n",
        "# 第２層\n",
        "dense2 = layers.Dense(200, activation='relu')(reshape1)\n",
        "reshape2 = layers.Reshape((200,10))(dense2)\n",
        "\n",
        "# 第１層の出力と第2層の出力を合流\n",
        "merged = layers.concatenate([reshape1, reshape2])\n",
        "\n",
        "# 出力層\n",
        "outputs = layers.Dense(10, activation='softmax')(merged)\n",
        "\n",
        "RN = keras.Model(inputs=inputs, outputs=outputs)"
      ],
      "execution_count": null,
      "outputs": []
    },
    {
      "cell_type": "code",
      "metadata": {
        "id": "Ns1ms7EbJewe"
      },
      "source": [
        ""
      ],
      "execution_count": null,
      "outputs": []
    },
    {
      "cell_type": "code",
      "metadata": {
        "id": "n6QcyklXJ_n8"
      },
      "source": [
        "## 実際に学習させてみる"
      ],
      "execution_count": null,
      "outputs": []
    },
    {
      "cell_type": "code",
      "metadata": {
        "id": "SI7hFq4gML-9"
      },
      "source": [
        "## 1.1. より学習データを用意\n",
        "\n",
        "from tensorflow import keras\n",
        "from tensorflow.keras.datasets import mnist\n",
        "\n",
        "(x_train, y_train), (x_test, y_test) = mnist.load_data()\n",
        "x_train, x_test = x_train / 255., x_test / 255.\n",
        "\n",
        "# 目的変数をone-hot表現へ変換（予測結果がクラスごとの確率になる）\n",
        "num_classes = 10\n",
        "y_train_vector = keras.utils.to_categorical(y_train, num_classes)\n",
        "y_test_vector = keras.utils.to_categorical(y_test, num_classes)"
      ],
      "execution_count": null,
      "outputs": []
    },
    {
      "cell_type": "code",
      "metadata": {
        "id": "KpQ6rQKnQMyl"
      },
      "source": [
        "# 入力層\n",
        "inputs = layers.Input(shape=(28,28))\n",
        "flatten = layers.Flatten()(inputs)\n",
        "\n",
        "# 第１層\n",
        "dense1 = layers.Dense(1000)(flatten)\n",
        "activation1 = layers.Activation(keras.activations.relu)(dense1)\n",
        "dropout1 = layers.Dropout(0.2)(activation1)\n",
        "\n",
        "# 第２層\n",
        "dense2 = layers.Dense(100)(dropout1)\n",
        "activation2 = layers.Activation(keras.activations.relu)(dense2)\n",
        "dropout2 = layers.Dropout(0.2)(activation2)\n",
        "\n",
        "# 第１層の出口と第2層の出口を合流\n",
        "merged = layers.concatenate([dropout1, dropout2])\n",
        "\n",
        "# 出力層\n",
        "outputs = layers.Dense(10, activation='softmax')(merged)\n",
        "\n",
        "RN = keras.Model(inputs=inputs, outputs=outputs)"
      ],
      "execution_count": null,
      "outputs": []
    },
    {
      "cell_type": "code",
      "metadata": {
        "id": "nRDn14gGQMwg"
      },
      "source": [
        "keras.utils.plot_model(RN, show_shapes=True)"
      ],
      "execution_count": null,
      "outputs": []
    },
    {
      "cell_type": "code",
      "metadata": {
        "id": "jThE0JqPRpMR"
      },
      "source": [
        "RN.compile(optimizer='adam',\n",
        "           loss='categorical_crossentropy',\n",
        "           metrics=['accuracy'])"
      ],
      "execution_count": null,
      "outputs": []
    },
    {
      "cell_type": "code",
      "metadata": {
        "id": "-wglKHX6QC17"
      },
      "source": [
        "fitting_rn = RN.fit(x_train, y_train_vector,\n",
        "                      epochs=10,  ####\n",
        "                      validation_data=(x_test,y_test_vector))\n",
        "\n",
        "# １エポック19秒前後、１０エポックで計3分超かかる"
      ],
      "execution_count": null,
      "outputs": []
    },
    {
      "cell_type": "code",
      "metadata": {
        "id": "hDScQvoSRwMK"
      },
      "source": [
        "plt.figure(figsize=(9,6))\n",
        "plt.plot(fitting_rn.history['accuracy'], c='b')\n",
        "plt.plot(fitting_rn.history['val_accuracy'], c='r')\n",
        "plt.show()"
      ],
      "execution_count": null,
      "outputs": []
    },
    {
      "cell_type": "code",
      "metadata": {
        "id": "Cc-g3Qy7SAIH"
      },
      "source": [
        "plt.figure(figsize=(9,6))\n",
        "plt.plot(fitting_rn.history['loss'], c='b')\n",
        "plt.plot(fitting_rn.history['val_loss'], c='r')\n",
        "plt.show()"
      ],
      "execution_count": null,
      "outputs": []
    },
    {
      "cell_type": "code",
      "metadata": {
        "id": "3FcW2v69Mw-N"
      },
      "source": [
        ""
      ],
      "execution_count": null,
      "outputs": []
    },
    {
      "cell_type": "markdown",
      "metadata": {
        "id": "59z_h_sDMjut"
      },
      "source": [
        "#### <font color = green> **3.2.** </font> keras.layers.add\n",
        "\n",
        "https://www.tensorflow.org/api_docs/python/tf/keras/layers/add"
      ]
    },
    {
      "cell_type": "code",
      "metadata": {
        "id": "Y-v9rr2GGWoP"
      },
      "source": [
        "# 入力層\n",
        "inputs = layers.Input(shape=(28,28))\n",
        "flatten = layers.Flatten()(inputs)\n",
        "\n",
        "# 第１層\n",
        "dense1 = layers.Dense(1000, activation='relu')(flatten)\n",
        "reshape1 = layers.Reshape((10,100))(dense1)\n",
        "\n",
        "# 第２層\n",
        "dense2 = layers.Dense(1000)(dense1)\n",
        "reshape2 = layers.Reshape((10,100))(dense2)\n",
        "\n",
        "# 第１層の出力と第2層の出力を合流\n",
        "merged = layers.add([reshape1, reshape2])\n",
        "\n",
        "# 出力層\n",
        "flatten2 = layers.Flatten()(merged)\n",
        "outputs = layers.Dense(10, activation='softmax')(flatten2)\n",
        "\n",
        "RN = keras.Model(inputs=inputs, outputs=outputs)"
      ],
      "execution_count": null,
      "outputs": []
    },
    {
      "cell_type": "code",
      "metadata": {
        "id": "B3YZXMY2GWoa"
      },
      "source": [
        "keras.utils.plot_model(RN, show_shapes=True)"
      ],
      "execution_count": null,
      "outputs": []
    },
    {
      "cell_type": "code",
      "metadata": {
        "id": "HUGzyS28gCgx"
      },
      "source": [
        "RN.compile(optimizer='adam',\n",
        "           loss='categorical_crossentropy',\n",
        "           metrics=['accuracy'])"
      ],
      "execution_count": null,
      "outputs": []
    },
    {
      "cell_type": "code",
      "metadata": {
        "id": "JeUBSQQtgChY"
      },
      "source": [
        "fitting_rn = RN.fit(x_train, y_train_vector,\n",
        "                      epochs=5,  ####\n",
        "                      validation_data=(x_test,y_test_vector))\n",
        "\n",
        "# １エポック35秒前後、5エポックで約3分かかる"
      ],
      "execution_count": null,
      "outputs": []
    },
    {
      "cell_type": "code",
      "metadata": {
        "id": "_RmNIcYagChZ"
      },
      "source": [
        "plt.figure(figsize=(9,6))\n",
        "plt.plot(fitting_rn.history['accuracy'], c='b')\n",
        "plt.plot(fitting_rn.history['val_accuracy'], c='r')\n",
        "plt.show()"
      ],
      "execution_count": null,
      "outputs": []
    },
    {
      "cell_type": "code",
      "metadata": {
        "id": "AYp0h0F_gCha"
      },
      "source": [
        "plt.figure(figsize=(9,6))\n",
        "plt.plot(fitting_rn.history['loss'], c='b')\n",
        "plt.plot(fitting_rn.history['val_loss'], c='r')\n",
        "plt.show()"
      ],
      "execution_count": null,
      "outputs": []
    },
    {
      "cell_type": "code",
      "metadata": {
        "id": "WwdWita0gDc6"
      },
      "source": [
        ""
      ],
      "execution_count": null,
      "outputs": []
    },
    {
      "cell_type": "code",
      "metadata": {
        "id": "VMsCEGxnGXSN"
      },
      "source": [
        ""
      ],
      "execution_count": null,
      "outputs": []
    },
    {
      "cell_type": "markdown",
      "metadata": {
        "id": "OrA_l2V8MzoC"
      },
      "source": [
        "#### <font color = green> **3.3.** </font> keras.layers.dot\n",
        "\n",
        "https://www.tensorflow.org/api_docs/python/tf/keras/layers/dot"
      ]
    },
    {
      "cell_type": "code",
      "metadata": {
        "id": "jETt38rNNLc_"
      },
      "source": [
        "# 入力層\n",
        "inputs = layers.Input(shape=(28,28))\n",
        "flatten = layers.Flatten()(inputs)\n",
        "\n",
        "# 第１層\n",
        "dense1 = layers.Dense(100, activation='relu')(flatten)\n",
        "reshape1 = layers.Reshape((5,2,2,5))(dense1)  ###\n",
        "\n",
        "# 第２層\n",
        "dense2 = layers.Dense(100)(dense1)\n",
        "reshape2 = layers.Reshape((5,2,5,2))(dense2)  ###\n",
        "\n",
        "# 第１層の出力と第2層の出力を合流\n",
        "merged = layers.dot([reshape1, reshape2], axes=(1,1))\n",
        "\n",
        "# 出力層\n",
        "flatten2 = layers.Flatten()(merged)\n",
        "outputs = layers.Dense(10, activation='softmax')(flatten2)\n",
        "\n",
        "RN = keras.Model(inputs=inputs, outputs=outputs)"
      ],
      "execution_count": null,
      "outputs": []
    },
    {
      "cell_type": "code",
      "metadata": {
        "id": "Txusu77UNLdW"
      },
      "source": [
        "keras.utils.plot_model(RN, show_shapes=True)"
      ],
      "execution_count": null,
      "outputs": []
    },
    {
      "cell_type": "code",
      "metadata": {
        "id": "ePgKGJohgygr"
      },
      "source": [
        "RN.compile(optimizer='adam',\n",
        "           loss='categorical_crossentropy',\n",
        "           metrics=['accuracy'])"
      ],
      "execution_count": null,
      "outputs": []
    },
    {
      "cell_type": "code",
      "metadata": {
        "id": "X4FQ6fC2gygs"
      },
      "source": [
        "fitting_rn = RN.fit(x_train, y_train_vector,\n",
        "                      epochs=10,  ####\n",
        "                      validation_data=(x_test,y_test_vector))\n",
        "\n",
        "# １エポック6秒前後、１０エポックで約1分かかる"
      ],
      "execution_count": null,
      "outputs": []
    },
    {
      "cell_type": "code",
      "metadata": {
        "id": "_Zx3kmqZgygv"
      },
      "source": [
        "plt.figure(figsize=(9,6))\n",
        "plt.plot(fitting_rn.history['accuracy'], c='b')\n",
        "plt.plot(fitting_rn.history['val_accuracy'], c='r')\n",
        "plt.show()"
      ],
      "execution_count": null,
      "outputs": []
    },
    {
      "cell_type": "code",
      "metadata": {
        "id": "EV1NkJ57gygw"
      },
      "source": [
        "plt.figure(figsize=(9,6))\n",
        "plt.plot(fitting_rn.history['loss'], c='b')\n",
        "plt.plot(fitting_rn.history['val_loss'], c='r')\n",
        "plt.show()"
      ],
      "execution_count": null,
      "outputs": []
    },
    {
      "cell_type": "code",
      "metadata": {
        "id": "0y5TJ_Wyg0MS"
      },
      "source": [
        ""
      ],
      "execution_count": null,
      "outputs": []
    },
    {
      "cell_type": "code",
      "metadata": {
        "id": "AO6oit-WRXVr"
      },
      "source": [
        ""
      ],
      "execution_count": null,
      "outputs": []
    },
    {
      "cell_type": "markdown",
      "metadata": {
        "id": "UI8CXuFJRXz8"
      },
      "source": [
        "#### <font color = red> **task** </font> ResNetを作ってみる"
      ]
    },
    {
      "cell_type": "code",
      "metadata": {
        "id": "RbsYSYIgRXQH"
      },
      "source": [
        ""
      ],
      "execution_count": null,
      "outputs": []
    },
    {
      "cell_type": "code",
      "metadata": {
        "id": "I1rdLugPRW_M"
      },
      "source": [
        ""
      ],
      "execution_count": null,
      "outputs": []
    },
    {
      "cell_type": "code",
      "metadata": {
        "id": "NsiTSfwBRVxe"
      },
      "source": [
        ""
      ],
      "execution_count": null,
      "outputs": []
    },
    {
      "cell_type": "markdown",
      "metadata": {
        "id": "FJC0wz6OXUMo"
      },
      "source": [
        "### <font color = blue>**5.** </font> RNN : Recurrent Neural Network\n",
        "\n",
        "https://keras.io/api/layers/recurrent_layers/rnn/"
      ]
    },
    {
      "cell_type": "markdown",
      "metadata": {
        "id": "GaBVRgrjiKlf"
      },
      "source": [
        "#### Base RNN layer"
      ]
    },
    {
      "cell_type": "markdown",
      "metadata": {
        "id": "-7ZcP5LbTdWU"
      },
      "source": [
        "- 数値の時系列データなどのシーケンシャルデータのパターンを認識するように設計されたニューラルネットワークのモデル\n",
        "- 入力値と出力値に可変長のシーケンシャルデータを扱うことができるネットワーク構造をしています"
      ]
    },
    {
      "cell_type": "code",
      "metadata": {
        "id": "tmgASy6QOPI4"
      },
      "source": [
        "tf.keras.layers.RNN(\n",
        "    cell,\n",
        "    return_sequences=False,\n",
        "    return_state=False,\n",
        "    go_backwards=False,\n",
        "    stateful=False,\n",
        "    unroll=False,\n",
        "    time_major=False,\n",
        "    **kwargs\n",
        ")"
      ],
      "execution_count": null,
      "outputs": []
    },
    {
      "cell_type": "code",
      "metadata": {
        "id": "V__aXBoxiNNd"
      },
      "source": [
        ""
      ],
      "execution_count": null,
      "outputs": []
    },
    {
      "cell_type": "markdown",
      "metadata": {
        "id": "Y68vxJymkaql"
      },
      "source": [
        "#### SimpleRNN layer"
      ]
    },
    {
      "cell_type": "markdown",
      "metadata": {
        "id": "fRQOkEtNTIKj"
      },
      "source": [
        "- 提案者の名前から通称Elman/Jordan netと呼ばれるRNNの一種\n"
      ]
    },
    {
      "cell_type": "code",
      "metadata": {
        "id": "Xr6DQj7uiNAV"
      },
      "source": [
        "tf.keras.layers.SimpleRNN(\n",
        "    units,\n",
        "    activation=\"tanh\",\n",
        "    use_bias=True,\n",
        "    kernel_initializer=\"glorot_uniform\",\n",
        "    recurrent_initializer=\"orthogonal\",\n",
        "    bias_initializer=\"zeros\",\n",
        "    kernel_regularizer=None,\n",
        "    recurrent_regularizer=None,\n",
        "    bias_regularizer=None,\n",
        "    activity_regularizer=None,\n",
        "    kernel_constraint=None,\n",
        "    recurrent_constraint=None,\n",
        "    bias_constraint=None,\n",
        "    dropout=0.0,\n",
        "    recurrent_dropout=0.0,\n",
        "    return_sequences=False,\n",
        "    return_state=False,\n",
        "    go_backwards=False,\n",
        "    stateful=False,\n",
        "    unroll=False,\n",
        "    **kwargs\n",
        ")"
      ],
      "execution_count": null,
      "outputs": []
    },
    {
      "cell_type": "code",
      "metadata": {
        "id": "T8qN7abHiM7b"
      },
      "source": [
        ""
      ],
      "execution_count": null,
      "outputs": []
    },
    {
      "cell_type": "markdown",
      "metadata": {
        "id": "up4umN91XWOQ"
      },
      "source": [
        "#### LSTM : Long Short-Term Memory"
      ]
    },
    {
      "cell_type": "markdown",
      "metadata": {
        "id": "ka32WmriSxKW"
      },
      "source": [
        "- ある状態の中間層の出力値を次の状態に順伝播するネットワーク"
      ]
    },
    {
      "cell_type": "code",
      "metadata": {
        "id": "Hs6DLIphXTxG"
      },
      "source": [
        "'''tf.keras.layers.LSTM(\n",
        "    units,\n",
        "    activation=\"tanh\",\n",
        "    recurrent_activation=\"sigmoid\",\n",
        "    use_bias=True,\n",
        "    kernel_initializer=\"glorot_uniform\",\n",
        "    recurrent_initializer=\"orthogonal\",\n",
        "    bias_initializer=\"zeros\",\n",
        "    unit_forget_bias=True,\n",
        "    kernel_regularizer=None,\n",
        "    recurrent_regularizer=None,\n",
        "    bias_regularizer=None,\n",
        "    activity_regularizer=None,\n",
        "    kernel_constraint=None,\n",
        "    recurrent_constraint=None,\n",
        "    bias_constraint=None,\n",
        "    dropout=0.0,\n",
        "    recurrent_dropout=0.0,\n",
        "    return_sequences=False,\n",
        "    return_state=False,\n",
        "    go_backwards=False,\n",
        "    stateful=False,\n",
        "    time_major=False,\n",
        "    unroll=False,\n",
        "    **kwargs\n",
        ")"
      ],
      "execution_count": null,
      "outputs": []
    },
    {
      "cell_type": "code",
      "metadata": {
        "id": "Mlyk52O9iMu6"
      },
      "source": [
        ""
      ],
      "execution_count": null,
      "outputs": []
    },
    {
      "cell_type": "markdown",
      "metadata": {
        "id": "SDSwggOokiG4"
      },
      "source": [
        "#### Bidirectional layer"
      ]
    },
    {
      "cell_type": "markdown",
      "metadata": {
        "id": "s3a-OhijS7PZ"
      },
      "source": [
        "- 過去の情報だけでなく、未来の情報を加味することで精度を向上させるためのモデル\n",
        "- 一般的なRNNでは、過去から未来のみの情報で学習しますが、Bidirectional RNNは未来から過去の方向でも同時に学習します"
      ]
    },
    {
      "cell_type": "code",
      "metadata": {
        "id": "Ij0v4PgMiM4k"
      },
      "source": [
        "'''tf.keras.layers.Bidirectional(\n",
        "    layer,\n",
        "    merge_mode=\"concat\", \n",
        "    weights=None, \n",
        "    backward_layer=None, \n",
        "    **kwargs\n",
        ")"
      ],
      "execution_count": null,
      "outputs": []
    },
    {
      "cell_type": "code",
      "metadata": {
        "id": "ACEAqRnbiMzh"
      },
      "source": [
        ""
      ],
      "execution_count": null,
      "outputs": []
    },
    {
      "cell_type": "markdown",
      "metadata": {
        "id": "Wslz3RV0h3sf"
      },
      "source": [
        "#### GRU : Gated recurrent unit"
      ]
    },
    {
      "cell_type": "markdown",
      "metadata": {
        "id": "qq6OXlyDR-Xt"
      },
      "source": [
        "- GRUは忘却ゲートを持つLSTMに似ているが、出力ゲートを欠くためLSTMよりもパラメータが少ない\n",
        "- 多声音楽モデリングおよび音声シグナルモデリングの特定の課題におけるGRUの性能は、LSTMの性能と類似していることが明らかにされている。\n",
        "- GRUは特定のより小さなデータセットではもっと良い性能を示すことが明らかにされている"
      ]
    },
    {
      "cell_type": "code",
      "metadata": {
        "id": "fD4cx6E4XTzB"
      },
      "source": [
        "'''tf.keras.layers.GRU(\n",
        "    units,\n",
        "    activation=\"tanh\",\n",
        "    recurrent_activation=\"sigmoid\",\n",
        "    use_bias=True,\n",
        "    kernel_initializer=\"glorot_uniform\",\n",
        "    recurrent_initializer=\"orthogonal\",\n",
        "    bias_initializer=\"zeros\",\n",
        "    kernel_regularizer=None,\n",
        "    recurrent_regularizer=None,\n",
        "    bias_regularizer=None,\n",
        "    activity_regularizer=None,\n",
        "    kernel_constraint=None,\n",
        "    recurrent_constraint=None,\n",
        "    bias_constraint=None,\n",
        "    dropout=0.0,\n",
        "    recurrent_dropout=0.0,\n",
        "    return_sequences=False,\n",
        "    return_state=False,\n",
        "    go_backwards=False,\n",
        "    stateful=False,\n",
        "    unroll=False,\n",
        "    time_major=False,\n",
        "    reset_after=True,\n",
        "    **kwargs\n",
        ")"
      ],
      "execution_count": null,
      "outputs": []
    },
    {
      "cell_type": "code",
      "metadata": {
        "id": "IuuKQjmWiL7q"
      },
      "source": [
        ""
      ],
      "execution_count": null,
      "outputs": []
    },
    {
      "cell_type": "markdown",
      "metadata": {
        "id": "ILGIuEUxdLvk"
      },
      "source": [
        "#### 公式サンプルコード\n",
        "\n",
        "https://keras.io/guides/working_with_rnns/"
      ]
    },
    {
      "cell_type": "markdown",
      "metadata": {
        "id": "CdPfJjDWUH_U"
      },
      "source": [
        "- Authors: Scott Zhu, Francois Chollet\n",
        "- Date created: 2019/07/08\n",
        "- Last modified: 2020/04/14\n",
        "- Description: Complete guide to using & customizing RNN layers."
      ]
    },
    {
      "cell_type": "code",
      "metadata": {
        "id": "VGbCEMylXBV-"
      },
      "source": [
        "## Setup\n",
        "\n",
        "import numpy as np\n",
        "import tensorflow as tf\n",
        "from tensorflow import keras\n",
        "from tensorflow.keras import layers"
      ],
      "execution_count": null,
      "outputs": []
    },
    {
      "cell_type": "code",
      "metadata": {
        "id": "yhvBubCenWOL"
      },
      "source": [
        ""
      ],
      "execution_count": null,
      "outputs": []
    },
    {
      "cell_type": "code",
      "metadata": {
        "id": "2ZpRUWPOnWJU"
      },
      "source": [
        "##########\n",
        "## 様々なモデルの構築例"
      ],
      "execution_count": null,
      "outputs": []
    },
    {
      "cell_type": "code",
      "metadata": {
        "id": "yKLtMndLdSCH"
      },
      "source": [
        "## Built-in RNN layers: a simple example\n",
        "\n",
        "model = keras.Sequential()\n",
        "# Add an Embedding layer expecting input vocab of size 1000, and\n",
        "# output embedding dimension of size 64.\n",
        "model.add(layers.Embedding(input_dim=1000, output_dim=64))\n",
        "\n",
        "# Add a LSTM layer with 128 internal units.\n",
        "model.add(layers.LSTM(128))\n",
        "\n",
        "# Add a Dense layer with 10 units.\n",
        "model.add(layers.Dense(10))\n",
        "\n",
        "model.summary()"
      ],
      "execution_count": null,
      "outputs": []
    },
    {
      "cell_type": "code",
      "metadata": {
        "id": "86PO8-vlnM5e"
      },
      "source": [
        ""
      ],
      "execution_count": null,
      "outputs": []
    },
    {
      "cell_type": "code",
      "metadata": {
        "id": "egeqt5e-dR_4"
      },
      "source": [
        "## Outputs and states\n",
        "\n",
        "model = keras.Sequential()\n",
        "model.add(layers.Embedding(input_dim=1000, output_dim=64))\n",
        "\n",
        "# The output of GRU will be a 3D tensor of shape (batch_size, timesteps, 256)\n",
        "model.add(layers.GRU(256, return_sequences=True))\n",
        "\n",
        "# The output of SimpleRNN will be a 2D tensor of shape (batch_size, 128)\n",
        "model.add(layers.SimpleRNN(128))\n",
        "\n",
        "model.add(layers.Dense(10))\n",
        "\n",
        "model.summary()"
      ],
      "execution_count": null,
      "outputs": []
    },
    {
      "cell_type": "code",
      "metadata": {
        "id": "JG7RA7P_nN2p"
      },
      "source": [
        ""
      ],
      "execution_count": null,
      "outputs": []
    },
    {
      "cell_type": "code",
      "metadata": {
        "id": "19efWrqfdR9R"
      },
      "source": [
        "encoder_vocab = 1000\n",
        "decoder_vocab = 2000\n",
        "\n",
        "encoder_input = layers.Input(shape=(None,))\n",
        "encoder_embedded = layers.Embedding(input_dim=encoder_vocab, output_dim=64)(\n",
        "    encoder_input\n",
        ")\n",
        "\n",
        "# Return states in addition to output\n",
        "output, state_h, state_c = layers.LSTM(64, return_state=True, name=\"encoder\")(\n",
        "    encoder_embedded\n",
        ")\n",
        "encoder_state = [state_h, state_c]\n",
        "\n",
        "decoder_input = layers.Input(shape=(None,))\n",
        "decoder_embedded = layers.Embedding(input_dim=decoder_vocab, output_dim=64)(\n",
        "    decoder_input\n",
        ")\n",
        "\n",
        "# Pass the 2 states to a new LSTM layer, as initial state\n",
        "decoder_output = layers.LSTM(64, name=\"decoder\")(\n",
        "    decoder_embedded, initial_state=encoder_state\n",
        ")\n",
        "output = layers.Dense(10)(decoder_output)\n",
        "\n",
        "model = keras.Model([encoder_input, decoder_input], output)\n",
        "model.summary()"
      ],
      "execution_count": null,
      "outputs": []
    },
    {
      "cell_type": "code",
      "metadata": {
        "id": "puf8bezXnPCc"
      },
      "source": [
        ""
      ],
      "execution_count": null,
      "outputs": []
    },
    {
      "cell_type": "code",
      "metadata": {
        "id": "MPIQE201dtc-"
      },
      "source": [
        "## Cross-batch statefulness\n",
        "\n",
        "paragraph1 = np.random.random((20, 10, 50)).astype(np.float32)\n",
        "paragraph2 = np.random.random((20, 10, 50)).astype(np.float32)\n",
        "paragraph3 = np.random.random((20, 10, 50)).astype(np.float32)\n",
        "\n",
        "lstm_layer = layers.LSTM(64, stateful=True)\n",
        "output = lstm_layer(paragraph1)\n",
        "output = lstm_layer(paragraph2)\n",
        "output = lstm_layer(paragraph3)\n",
        "\n",
        "# reset_states() will reset the cached state to the original initial_state.\n",
        "# If no initial_state was provided, zero-states will be used by default.\n",
        "lstm_layer.reset_states()"
      ],
      "execution_count": null,
      "outputs": []
    },
    {
      "cell_type": "code",
      "metadata": {
        "id": "KLXyhXKRnQJZ"
      },
      "source": [
        ""
      ],
      "execution_count": null,
      "outputs": []
    },
    {
      "cell_type": "code",
      "metadata": {
        "id": "djV6yVR_dtYA"
      },
      "source": [
        "## Bidirectional RNNs\n",
        "\n",
        "model = keras.Sequential()\n",
        "\n",
        "model.add(\n",
        "    layers.Bidirectional(layers.LSTM(64, return_sequences=True), input_shape=(5, 10))\n",
        ")\n",
        "model.add(layers.Bidirectional(layers.LSTM(32)))\n",
        "model.add(layers.Dense(10))\n",
        "\n",
        "model.summary()"
      ],
      "execution_count": null,
      "outputs": []
    },
    {
      "cell_type": "code",
      "metadata": {
        "id": "T2ZZj-znnRK7"
      },
      "source": [
        ""
      ],
      "execution_count": null,
      "outputs": []
    },
    {
      "cell_type": "code",
      "metadata": {
        "id": "0Grjx9OudtWB"
      },
      "source": [
        "## Using CuDNN kernels when available\n",
        "# NVIDIA のGPU開発環境である CUDA と CUDA を使って Deep Learning の計算を高速で行うためのライブラリである cuDNN \n",
        "\n",
        "batch_size = 64\n",
        "# Each MNIST image batch is a tensor of shape (batch_size, 28, 28).\n",
        "# Each input sequence will be of size (28, 28) (height is treated like time).\n",
        "input_dim = 28\n",
        "\n",
        "units = 64\n",
        "output_size = 10  # labels are from 0 to 9\n",
        "\n",
        "# Build the RNN model\n",
        "def build_model(allow_cudnn_kernel=True):\n",
        "    # CuDNN is only available at the layer level, and not at the cell level.\n",
        "    # This means `LSTM(units)` will use the CuDNN kernel,\n",
        "    # while RNN(LSTMCell(units)) will run on non-CuDNN kernel.\n",
        "    if allow_cudnn_kernel:\n",
        "        # The LSTM layer with default options uses CuDNN.\n",
        "        lstm_layer = keras.layers.LSTM(units, input_shape=(None, input_dim))\n",
        "    else:\n",
        "        # Wrapping a LSTMCell in a RNN layer will not use CuDNN.\n",
        "        lstm_layer = keras.layers.RNN(\n",
        "            keras.layers.LSTMCell(units), input_shape=(None, input_dim)\n",
        "        )\n",
        "    model = keras.models.Sequential(\n",
        "        [\n",
        "            lstm_layer,\n",
        "            keras.layers.BatchNormalization(),\n",
        "            keras.layers.Dense(output_size),\n",
        "        ]\n",
        "    )\n",
        "    return model"
      ],
      "execution_count": null,
      "outputs": []
    },
    {
      "cell_type": "code",
      "metadata": {
        "id": "iNtsPXCGnSvW"
      },
      "source": [
        ""
      ],
      "execution_count": null,
      "outputs": []
    },
    {
      "cell_type": "code",
      "metadata": {
        "id": "oWTJPHc5nSYF"
      },
      "source": [
        "###########\n",
        "## 学習はここから"
      ],
      "execution_count": null,
      "outputs": []
    },
    {
      "cell_type": "code",
      "metadata": {
        "id": "Lg1Dqs4kXBSA"
      },
      "source": [
        "mnist = keras.datasets.mnist\n",
        "\n",
        "(x_train, y_train), (x_test, y_test) = mnist.load_data()\n",
        "x_train, x_test = x_train / 255.0, x_test / 255.0\n",
        "sample, sample_label = x_train[0], y_train[0]"
      ],
      "execution_count": null,
      "outputs": []
    },
    {
      "cell_type": "code",
      "metadata": {
        "id": "VRF4ND-pWoXH"
      },
      "source": [
        "model = build_model(allow_cudnn_kernel=True)\n",
        "\n",
        "model.compile(\n",
        "    loss=keras.losses.SparseCategoricalCrossentropy(from_logits=True),\n",
        "    optimizer=\"sgd\",\n",
        "    metrics=[\"accuracy\"],\n",
        ")\n",
        "\n",
        "\n",
        "model.fit(\n",
        "    x_train, y_train, validation_data=(x_test, y_test), batch_size=batch_size, epochs=1\n",
        ")"
      ],
      "execution_count": null,
      "outputs": []
    },
    {
      "cell_type": "code",
      "metadata": {
        "id": "Cp4ZqIJVXT5N"
      },
      "source": [
        "noncudnn_model = build_model(allow_cudnn_kernel=False)\n",
        "noncudnn_model.set_weights(model.get_weights())\n",
        "noncudnn_model.compile(\n",
        "    loss=keras.losses.SparseCategoricalCrossentropy(from_logits=True),\n",
        "    optimizer=\"sgd\",\n",
        "    metrics=[\"accuracy\"],\n",
        ")\n",
        "noncudnn_model.fit(\n",
        "    x_train, y_train, validation_data=(x_test, y_test), batch_size=batch_size, epochs=1\n",
        ")"
      ],
      "execution_count": null,
      "outputs": []
    },
    {
      "cell_type": "code",
      "metadata": {
        "id": "A_os361mhCE9"
      },
      "source": [
        "import matplotlib.pyplot as plt\n",
        "\n",
        "with tf.device(\"CPU:0\"):\n",
        "    cpu_model = build_model(allow_cudnn_kernel=True)\n",
        "    cpu_model.set_weights(model.get_weights())\n",
        "    result = tf.argmax(cpu_model.predict_on_batch(tf.expand_dims(sample, 0)), axis=1)\n",
        "    print(\n",
        "        \"Predicted result is: %s, target result is: %s\" % (result.numpy(), sample_label)\n",
        "    )\n",
        "    plt.imshow(sample, cmap=plt.get_cmap(\"gray\"))"
      ],
      "execution_count": null,
      "outputs": []
    },
    {
      "cell_type": "code",
      "metadata": {
        "id": "QCIehm9PnjFJ"
      },
      "source": [
        ""
      ],
      "execution_count": null,
      "outputs": []
    },
    {
      "cell_type": "code",
      "metadata": {
        "id": "yv8Mp88shFPO"
      },
      "source": [
        "## RNNs with list/dict inputs, or nested inputs\n",
        "\n",
        "class NestedCell(keras.layers.Layer):\n",
        "    def __init__(self, unit_1, unit_2, unit_3, **kwargs):\n",
        "        self.unit_1 = unit_1\n",
        "        self.unit_2 = unit_2\n",
        "        self.unit_3 = unit_3\n",
        "        self.state_size = [tf.TensorShape([unit_1]), tf.TensorShape([unit_2, unit_3])]\n",
        "        self.output_size = [tf.TensorShape([unit_1]), tf.TensorShape([unit_2, unit_3])]\n",
        "        super(NestedCell, self).__init__(**kwargs)\n",
        "\n",
        "    def build(self, input_shapes):\n",
        "        # expect input_shape to contain 2 items, [(batch, i1), (batch, i2, i3)]\n",
        "        i1 = input_shapes[0][1]\n",
        "        i2 = input_shapes[1][1]\n",
        "        i3 = input_shapes[1][2]\n",
        "\n",
        "        self.kernel_1 = self.add_weight(\n",
        "            shape=(i1, self.unit_1), initializer=\"uniform\", name=\"kernel_1\"\n",
        "        )\n",
        "        self.kernel_2_3 = self.add_weight(\n",
        "            shape=(i2, i3, self.unit_2, self.unit_3),\n",
        "            initializer=\"uniform\",\n",
        "            name=\"kernel_2_3\",\n",
        "        )\n",
        "\n",
        "    def call(self, inputs, states):\n",
        "        # inputs should be in [(batch, input_1), (batch, input_2, input_3)]\n",
        "        # state should be in shape [(batch, unit_1), (batch, unit_2, unit_3)]\n",
        "        input_1, input_2 = tf.nest.flatten(inputs)\n",
        "        s1, s2 = states\n",
        "\n",
        "        output_1 = tf.matmul(input_1, self.kernel_1)\n",
        "        output_2_3 = tf.einsum(\"bij,ijkl->bkl\", input_2, self.kernel_2_3)\n",
        "        state_1 = s1 + output_1\n",
        "        state_2_3 = s2 + output_2_3\n",
        "\n",
        "        output = (output_1, output_2_3)\n",
        "        new_states = (state_1, state_2_3)\n",
        "\n",
        "        return output, new_states\n",
        "\n",
        "    def get_config(self):\n",
        "        return {\"unit_1\": self.unit_1, \"unit_2\": unit_2, \"unit_3\": self.unit_3}"
      ],
      "execution_count": null,
      "outputs": []
    },
    {
      "cell_type": "code",
      "metadata": {
        "id": "RljEjrCpnk37"
      },
      "source": [
        ""
      ],
      "execution_count": null,
      "outputs": []
    },
    {
      "cell_type": "code",
      "metadata": {
        "id": "ot4QywplhCBC"
      },
      "source": [
        "## Build a RNN model with nested input/output\n",
        "\n",
        "unit_1 = 10\n",
        "unit_2 = 20\n",
        "unit_3 = 30\n",
        "\n",
        "i1 = 32\n",
        "i2 = 64\n",
        "i3 = 32\n",
        "batch_size = 64\n",
        "num_batches = 10\n",
        "timestep = 50\n",
        "\n",
        "cell = NestedCell(unit_1, unit_2, unit_3)\n",
        "rnn = keras.layers.RNN(cell)\n",
        "\n",
        "input_1 = keras.Input((None, i1))\n",
        "input_2 = keras.Input((None, i2, i3))\n",
        "\n",
        "outputs = rnn((input_1, input_2))\n",
        "\n",
        "model = keras.models.Model([input_1, input_2], outputs)\n",
        "\n",
        "model.compile(optimizer=\"adam\", loss=\"mse\", metrics=[\"accuracy\"])"
      ],
      "execution_count": null,
      "outputs": []
    },
    {
      "cell_type": "code",
      "metadata": {
        "id": "vMBH4kpHnl0D"
      },
      "source": [
        ""
      ],
      "execution_count": null,
      "outputs": []
    },
    {
      "cell_type": "code",
      "metadata": {
        "id": "n7LbJBhAhOQF"
      },
      "source": [
        "## Train the model with randomly generated data\n",
        "\n",
        "input_1_data = np.random.random((batch_size * num_batches, timestep, i1))\n",
        "input_2_data = np.random.random((batch_size * num_batches, timestep, i2, i3))\n",
        "target_1_data = np.random.random((batch_size * num_batches, unit_1))\n",
        "target_2_data = np.random.random((batch_size * num_batches, unit_2, unit_3))\n",
        "input_data = [input_1_data, input_2_data]\n",
        "target_data = [target_1_data, target_2_data]\n",
        "\n",
        "model.fit(input_data, target_data, batch_size=batch_size)"
      ],
      "execution_count": null,
      "outputs": []
    },
    {
      "cell_type": "code",
      "metadata": {
        "id": "ao1g0zpHhOLS"
      },
      "source": [
        ""
      ],
      "execution_count": null,
      "outputs": []
    },
    {
      "cell_type": "code",
      "metadata": {
        "id": "fhaSE8Iwwvy1"
      },
      "source": [
        ""
      ],
      "execution_count": null,
      "outputs": []
    },
    {
      "cell_type": "markdown",
      "metadata": {
        "id": "i63omqIyUzA2"
      },
      "source": [
        "#### <font color = red> **task** </font> genomics_oodで精度の高い学習を目指す"
      ]
    },
    {
      "cell_type": "code",
      "metadata": {
        "id": "MLR3yqWiF96S"
      },
      "source": [
        "import tensorflow as tf\n",
        "import tensorflow_datasets as tfds"
      ],
      "execution_count": null,
      "outputs": []
    },
    {
      "cell_type": "code",
      "metadata": {
        "id": "a9pio41bGKVd"
      },
      "source": [
        "dataset, info = tfds.load('genomics_ood', as_supervised = True, with_info = True, batch_size=-1,)\n",
        "\n",
        "## データ数が 2,400,000個あるので読み込みにそこそこ時間を要する"
      ],
      "execution_count": null,
      "outputs": []
    },
    {
      "cell_type": "code",
      "metadata": {
        "id": "v5CzTOKZGWeu"
      },
      "source": [
        "info"
      ],
      "execution_count": null,
      "outputs": []
    },
    {
      "cell_type": "code",
      "metadata": {
        "id": "7pTk_efSGWaf"
      },
      "source": [
        "type(dataset)"
      ],
      "execution_count": null,
      "outputs": []
    },
    {
      "cell_type": "code",
      "metadata": {
        "id": "nvx1CmziHoQj"
      },
      "source": [
        "dataset.keys()"
      ],
      "execution_count": null,
      "outputs": []
    },
    {
      "cell_type": "code",
      "metadata": {
        "id": "NQIjoY741POb"
      },
      "source": [
        "import numpy as np\n",
        "\n",
        "x_ascii = np.array(dataset['train'][0])\n",
        "print(x_ascii[0])\n",
        "print(type(x_ascii[0]))"
      ],
      "execution_count": null,
      "outputs": []
    },
    {
      "cell_type": "code",
      "metadata": {
        "id": "Rfmx4aZSYSNO"
      },
      "source": [
        "len(x_ascii)"
      ],
      "execution_count": null,
      "outputs": []
    },
    {
      "cell_type": "code",
      "metadata": {
        "id": "x0jAuigQ4SHx"
      },
      "source": [
        "def trans(X):\n",
        "  T = [list(X[k]) for k in range(len(X))]\n",
        "  for k in range(len(X)):\n",
        "    for i in range(len(T[k])):\n",
        "      if T[k][i]==ord('A'): T[k][i]=[-1,-1]\n",
        "      elif T[k][i]==ord('T'): T[k][i]=[-1,1]\n",
        "      elif T[k][i]==ord('G'): T[k][i]=[1,-1]\n",
        "      elif T[k][i]==ord('C'): T[k][i]=[1,1]\n",
        "  return np.array(T)"
      ],
      "execution_count": null,
      "outputs": []
    },
    {
      "cell_type": "code",
      "metadata": {
        "id": "r99AdE0GGKQp"
      },
      "source": [
        "## データ数が多すぎてColaboratoryだとクラッシュします\n",
        "# x_train = trans(x_ascii)\n",
        "# x_train"
      ],
      "execution_count": null,
      "outputs": []
    },
    {
      "cell_type": "code",
      "metadata": {
        "id": "69vSd9d7YSJt"
      },
      "source": [
        ""
      ],
      "execution_count": null,
      "outputs": []
    },
    {
      "cell_type": "code",
      "metadata": {
        "id": "40eUSbwqYZUY"
      },
      "source": [
        "train_data_num = int(1e4)\n",
        "test_data_num = int(train_data_num/4)\n",
        "\n",
        "X = np.array(dataset['train'][0][:train_data_num])\n",
        "Y = np.array(dataset['train'][1][:train_data_num])\n",
        "\n",
        "X = np.append(X,np.array(dataset['validation'][0][:test_data_num]))\n",
        "Y = np.append(Y,np.array(dataset['validation'][1][:test_data_num]))\n",
        "\n",
        "X = np.append(X,np.array(dataset['test'][0][:test_data_num]))\n",
        "Y = np.append(Y,np.array(dataset['test'][1][:test_data_num]))"
      ],
      "execution_count": null,
      "outputs": []
    },
    {
      "cell_type": "code",
      "metadata": {
        "id": "6Ib3wTS4aFez"
      },
      "source": [
        "X = trans(X)"
      ],
      "execution_count": null,
      "outputs": []
    },
    {
      "cell_type": "code",
      "metadata": {
        "id": "YnsVsU6GaFYs"
      },
      "source": [
        "from sklearn.model_selection import train_test_split\n",
        "X_train, X_test, Y_train, Y_test = train_test_split(X, Y, test_size=0.33, random_state=42)"
      ],
      "execution_count": null,
      "outputs": []
    },
    {
      "cell_type": "code",
      "metadata": {
        "id": "V5DOV2CDF942"
      },
      "source": [
        "from keras.layers.wrappers import Bidirectional\n",
        "from keras.layers.recurrent import SimpleRNN"
      ],
      "execution_count": null,
      "outputs": []
    },
    {
      "cell_type": "code",
      "metadata": {
        "id": "c84PeiyXam2m"
      },
      "source": [
        "model = tf.keras.models.Sequential([\n",
        "                                    tf.keras.layers.Bidirectional(SimpleRNN(128), input_shape=(250, 2)),\n",
        "                                    tf.keras.layers.Dense(10),\n",
        "                                    tf.keras.layers.Activation('softmax')\n",
        "                                    ])\n",
        "\n",
        "loss_fn = tf.keras.losses.SparseCategoricalCrossentropy(from_logits=True)\n",
        "model.compile(optimizer='adam',\n",
        "              loss=loss_fn,\n",
        "              metrics=['accuracy'])\n",
        "\n",
        "fitting = model.fit(X_train, Y_train, epochs=10, validation_data=(X_test,Y_test))"
      ],
      "execution_count": null,
      "outputs": []
    },
    {
      "cell_type": "code",
      "metadata": {
        "id": "fjjCTNGIamz-"
      },
      "source": [
        "import matplotlib.pyplot as plt"
      ],
      "execution_count": null,
      "outputs": []
    },
    {
      "cell_type": "code",
      "metadata": {
        "id": "XqSeXQh3F93V"
      },
      "source": [
        "plt.figure(figsize = (12, 8))\n",
        "plt.plot(fitting.history['loss'])\n",
        "plt.plot(fitting.history['val_loss'])\n",
        "plt.show()"
      ],
      "execution_count": null,
      "outputs": []
    },
    {
      "cell_type": "code",
      "metadata": {
        "id": "r6pWRAyhF90Y"
      },
      "source": [
        ""
      ],
      "execution_count": null,
      "outputs": []
    },
    {
      "cell_type": "code",
      "metadata": {
        "id": "loYA8aRQF9yX"
      },
      "source": [
        ""
      ],
      "execution_count": null,
      "outputs": []
    },
    {
      "cell_type": "code",
      "metadata": {
        "id": "EXKCyIcFF9wH"
      },
      "source": [
        ""
      ],
      "execution_count": null,
      "outputs": []
    },
    {
      "cell_type": "code",
      "metadata": {
        "id": "f-1TKFnbF8bQ"
      },
      "source": [
        ""
      ],
      "execution_count": null,
      "outputs": []
    },
    {
      "cell_type": "code",
      "metadata": {
        "id": "lt4zgrBcwvpg"
      },
      "source": [
        ""
      ],
      "execution_count": null,
      "outputs": []
    },
    {
      "cell_type": "code",
      "metadata": {
        "id": "iWPM5nPgXQs4"
      },
      "source": [
        ""
      ],
      "execution_count": null,
      "outputs": []
    },
    {
      "cell_type": "code",
      "metadata": {
        "id": "U9H3u_qwWoUE"
      },
      "source": [
        ""
      ],
      "execution_count": null,
      "outputs": []
    },
    {
      "cell_type": "code",
      "metadata": {
        "id": "Du2S3iUOWoQE"
      },
      "source": [
        ""
      ],
      "execution_count": null,
      "outputs": []
    }
  ]
}