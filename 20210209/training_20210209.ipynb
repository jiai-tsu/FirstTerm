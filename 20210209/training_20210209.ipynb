{
  "nbformat": 4,
  "nbformat_minor": 0,
  "metadata": {
    "colab": {
      "name": "training_20210209.ipynb",
      "provenance": [],
      "collapsed_sections": [
        "C_WIi0UGpkZV",
        "8LlBsHtGpq4B",
        "yhm1KiZLfGCo",
        "4gSHCa4awHli",
        "_HVBoZNBwMMR",
        "uqMzhZNoxhER",
        "YacBEaM3zXpd",
        "FDot98sG5ZRc",
        "TdX-Scn66gku",
        "Rzp_gTQ2JGSY",
        "gSvxVhKE_FmB",
        "S3Mti09RAwhj",
        "VaIkEFbmbqHo",
        "NIomjtYPLWbr",
        "ptjqQyE6Ma0b",
        "FJC0wz6OXUMo",
        "E9a3H-mrOvxc"
      ]
    },
    "kernelspec": {
      "name": "python3",
      "display_name": "Python 3"
    }
  },
  "cells": [
    {
      "cell_type": "markdown",
      "metadata": {
        "id": "MZtoNweHnUQI"
      },
      "source": [
        "## 32. 多層パーセプトロン（MLP : Multi-layer Perceptron）"
      ]
    },
    {
      "cell_type": "markdown",
      "metadata": {
        "id": "3cEc3khZnxPi"
      },
      "source": [
        "### <font color = blue>**1.** </font> ライブラリのサンプルコード\n",
        "\n",
        "https://scikit-learn.org/stable/modules/generated/sklearn.neural_network.MLPClassifier.html"
      ]
    },
    {
      "cell_type": "markdown",
      "metadata": {
        "id": "C_WIi0UGpkZV"
      },
      "source": [
        "#### <font color = green> **1.1.** </font> 公式サンプルコードその１"
      ]
    },
    {
      "cell_type": "code",
      "metadata": {
        "id": "ejgd0KRIcwPH"
      },
      "source": [
        "from sklearn.neural_network import MLPClassifier\n",
        "\n",
        "from sklearn.datasets import make_classification\n",
        "from sklearn.model_selection import train_test_split"
      ],
      "execution_count": null,
      "outputs": []
    },
    {
      "cell_type": "code",
      "metadata": {
        "id": "dTeWefA4oOht"
      },
      "source": [
        "X, y = make_classification(n_samples=100, random_state=1)"
      ],
      "execution_count": null,
      "outputs": []
    },
    {
      "cell_type": "code",
      "metadata": {
        "id": "hGyIrrTXohqm"
      },
      "source": [
        "X.shape"
      ],
      "execution_count": null,
      "outputs": []
    },
    {
      "cell_type": "code",
      "metadata": {
        "id": "gp3Jj32Sohfy"
      },
      "source": [
        "X[0]"
      ],
      "execution_count": null,
      "outputs": []
    },
    {
      "cell_type": "code",
      "metadata": {
        "id": "cFeXq9zZovZz"
      },
      "source": [
        "y.shape"
      ],
      "execution_count": null,
      "outputs": []
    },
    {
      "cell_type": "code",
      "metadata": {
        "id": "pgXPJDa7oxNP"
      },
      "source": [
        "y"
      ],
      "execution_count": null,
      "outputs": []
    },
    {
      "cell_type": "code",
      "metadata": {
        "id": "J7yhc8uicywl"
      },
      "source": [
        "X_train, X_test, y_train, y_test = train_test_split(X, y, stratify=y, random_state=1)"
      ],
      "execution_count": null,
      "outputs": []
    },
    {
      "cell_type": "code",
      "metadata": {
        "id": "-mxJCfN7oYLs"
      },
      "source": [
        "clf = MLPClassifier(random_state=1, max_iter=300).fit(X_train, y_train)"
      ],
      "execution_count": null,
      "outputs": []
    },
    {
      "cell_type": "code",
      "metadata": {
        "id": "pUVJMls9btIc"
      },
      "source": [
        "clf.predict_proba(X_test[:1])"
      ],
      "execution_count": null,
      "outputs": []
    },
    {
      "cell_type": "code",
      "metadata": {
        "id": "iV5x7qeTb871"
      },
      "source": [
        "clf.predict(X_test[:5, :])"
      ],
      "execution_count": null,
      "outputs": []
    },
    {
      "cell_type": "code",
      "metadata": {
        "id": "RjQMU1OSb9MI"
      },
      "source": [
        "clf.score(X_test, y_test)"
      ],
      "execution_count": null,
      "outputs": []
    },
    {
      "cell_type": "code",
      "metadata": {
        "id": "gsK6Tg7bdIzh"
      },
      "source": [
        ""
      ],
      "execution_count": null,
      "outputs": []
    },
    {
      "cell_type": "markdown",
      "metadata": {
        "id": "8LlBsHtGpq4B"
      },
      "source": [
        "#### <font color = green> **1.2.** </font> 公式サンプルコードその２"
      ]
    },
    {
      "cell_type": "code",
      "metadata": {
        "id": "RwO14evqdM30"
      },
      "source": [
        "from sklearn.neural_network import MLPClassifier"
      ],
      "execution_count": null,
      "outputs": []
    },
    {
      "cell_type": "code",
      "metadata": {
        "id": "-juNqNfFp0-z"
      },
      "source": [
        "X = [[0., 0.], [1., 1.]]\n",
        "y = [0, 1]"
      ],
      "execution_count": null,
      "outputs": []
    },
    {
      "cell_type": "code",
      "metadata": {
        "id": "w3L8QKhPp04a"
      },
      "source": [
        "clf = MLPClassifier(solver='lbfgs',\n",
        "                    alpha=1e-5, ####\n",
        "                    hidden_layer_sizes=(5, 2),  ####\n",
        "                    random_state=1)"
      ],
      "execution_count": null,
      "outputs": []
    },
    {
      "cell_type": "code",
      "metadata": {
        "id": "zHtuyGUpdIs6"
      },
      "source": [
        "clf.fit(X, y)"
      ],
      "execution_count": null,
      "outputs": []
    },
    {
      "cell_type": "code",
      "metadata": {
        "id": "59KQ6Y2jdYR3"
      },
      "source": [
        "clf.predict([[2., 2.], [-1., -2.]])"
      ],
      "execution_count": null,
      "outputs": []
    },
    {
      "cell_type": "code",
      "metadata": {
        "id": "CIWknr3AdYP2"
      },
      "source": [
        "# the weight matrices that constitute the model parameters\n",
        "[coef.shape for coef in clf.coefs_]"
      ],
      "execution_count": null,
      "outputs": []
    },
    {
      "cell_type": "code",
      "metadata": {
        "id": "DsZRhoBbdYLR"
      },
      "source": [
        "# the Cross-Entropy loss function\n",
        "clf.predict_proba([[2., 2.], [1., 2.]])"
      ],
      "execution_count": null,
      "outputs": []
    },
    {
      "cell_type": "code",
      "metadata": {
        "id": "sYPvVr4eqGFi"
      },
      "source": [
        ""
      ],
      "execution_count": null,
      "outputs": []
    },
    {
      "cell_type": "code",
      "metadata": {
        "id": "RAdyo39OdYA_"
      },
      "source": [
        "## the model supports multi-label classification"
      ],
      "execution_count": null,
      "outputs": []
    },
    {
      "cell_type": "code",
      "metadata": {
        "id": "b3oPHLIEqHbY"
      },
      "source": [
        "X = [[0., 0.], [1., 1.]]\n",
        "y = [[0, 1], [1, 1]]"
      ],
      "execution_count": null,
      "outputs": []
    },
    {
      "cell_type": "code",
      "metadata": {
        "id": "HNiJGCtzqI22"
      },
      "source": [
        "clf = MLPClassifier(solver='lbfgs',\n",
        "                    alpha=1e-5, ####\n",
        "                    hidden_layer_sizes=(15,), ####\n",
        "                    random_state=1)"
      ],
      "execution_count": null,
      "outputs": []
    },
    {
      "cell_type": "code",
      "metadata": {
        "id": "4IAF0Lt0ecLR"
      },
      "source": [
        "clf.fit(X, y)"
      ],
      "execution_count": null,
      "outputs": []
    },
    {
      "cell_type": "code",
      "metadata": {
        "id": "2TIPTSoyedDR"
      },
      "source": [
        "clf.predict([[1., 2.]])"
      ],
      "execution_count": null,
      "outputs": []
    },
    {
      "cell_type": "code",
      "metadata": {
        "id": "Yh-HLYeIdX-z"
      },
      "source": [
        "clf.predict([[0., 0.]])"
      ],
      "execution_count": null,
      "outputs": []
    },
    {
      "cell_type": "code",
      "metadata": {
        "id": "zflo3V_odYHW"
      },
      "source": [
        ""
      ],
      "execution_count": null,
      "outputs": []
    },
    {
      "cell_type": "markdown",
      "metadata": {
        "id": "yhm1KiZLfGCo"
      },
      "source": [
        "#### <font color = green> **1.3.** </font> MNIST（エムニスト : 手書き数字の画像のデータセット）を使用したサンプルコード\n",
        "\n",
        "https://scikit-learn.org/stable/auto_examples/neural_networks/plot_mnist_filters.html"
      ]
    },
    {
      "cell_type": "code",
      "metadata": {
        "id": "GN1ObPAAq8ib"
      },
      "source": [
        "import matplotlib.pyplot as plt\n",
        "from sklearn.datasets import fetch_openml\n",
        "from sklearn.exceptions import ConvergenceWarning\n",
        "from sklearn.neural_network import MLPClassifier\n",
        "\n",
        "# import warnings\n",
        "# import time"
      ],
      "execution_count": null,
      "outputs": []
    },
    {
      "cell_type": "code",
      "metadata": {
        "id": "rI5HXpqDrHNR"
      },
      "source": [
        "# Load data from https://www.openml.org/d/554\n",
        "\n",
        "X, y = fetch_openml('mnist_784', version=1, return_X_y=True)\n",
        "\n",
        "## 30秒くらいかかる"
      ],
      "execution_count": null,
      "outputs": []
    },
    {
      "cell_type": "code",
      "metadata": {
        "id": "AQDCIeTorTA3"
      },
      "source": [
        "X.shape"
      ],
      "execution_count": null,
      "outputs": []
    },
    {
      "cell_type": "code",
      "metadata": {
        "id": "1qlVYbbpuB5d"
      },
      "source": [
        "# 28*28 = 784"
      ],
      "execution_count": null,
      "outputs": []
    },
    {
      "cell_type": "code",
      "metadata": {
        "id": "BRJry0vLq8V9"
      },
      "source": [
        "plt.matshow(X[0].reshape(28,28), cmap='binary')\n",
        "plt.show()"
      ],
      "execution_count": null,
      "outputs": []
    },
    {
      "cell_type": "code",
      "metadata": {
        "id": "e6nUf9K7r2DQ"
      },
      "source": [
        "plt.matshow(X[1].reshape(28,28), cmap='binary')\n",
        "plt.show()"
      ],
      "execution_count": null,
      "outputs": []
    },
    {
      "cell_type": "code",
      "metadata": {
        "id": "zssRonWKr1_b"
      },
      "source": [
        "plt.matshow(X[2].reshape(28,28), cmap='binary')\n",
        "plt.show()"
      ],
      "execution_count": null,
      "outputs": []
    },
    {
      "cell_type": "code",
      "metadata": {
        "id": "XunbTClEr65a"
      },
      "source": [
        "X[0][150:200]"
      ],
      "execution_count": null,
      "outputs": []
    },
    {
      "cell_type": "code",
      "metadata": {
        "id": "gMKHMddsffG5"
      },
      "source": [
        "X = X / 255."
      ],
      "execution_count": null,
      "outputs": []
    },
    {
      "cell_type": "code",
      "metadata": {
        "id": "bScCVQT5ffEl"
      },
      "source": [
        "# rescale the data, use the traditional train/test split\n",
        "X_train, X_test = X[:60000], X[60000:]\n",
        "y_train, y_test = y[:60000], y[60000:]"
      ],
      "execution_count": null,
      "outputs": []
    },
    {
      "cell_type": "code",
      "metadata": {
        "id": "-fTbXNC3fe0t"
      },
      "source": [
        "mlp = MLPClassifier(hidden_layer_sizes=(500,), #### (50,) -> (500,)\n",
        "                    max_iter=1000,  ####  10 -> 1000\n",
        "                    alpha=1e-4, ####\n",
        "                    solver='sgd', verbose=10, random_state=1,\n",
        "                    learning_rate_init=.1)"
      ],
      "execution_count": null,
      "outputs": []
    },
    {
      "cell_type": "code",
      "metadata": {
        "id": "FucLJ3ASgU-z"
      },
      "source": [
        "mlp.fit(X_train, y_train)\n",
        "\n",
        "## 4分くらいかかる"
      ],
      "execution_count": null,
      "outputs": []
    },
    {
      "cell_type": "code",
      "metadata": {
        "id": "nU6iDfkvskKX"
      },
      "source": [
        "print(\"Training set score: %f\" % mlp.score(X_train, y_train))\n",
        "print(\"Test set score: %f\" % mlp.score(X_test, y_test))"
      ],
      "execution_count": null,
      "outputs": []
    },
    {
      "cell_type": "code",
      "metadata": {
        "id": "XnZibg75uYYM"
      },
      "source": [
        "print(type(mlp.coefs_))\n",
        "print(len(mlp.coefs_))"
      ],
      "execution_count": null,
      "outputs": []
    },
    {
      "cell_type": "code",
      "metadata": {
        "id": "HY7KZFIFm_FB"
      },
      "source": [
        "mlp.coefs_[0].shape"
      ],
      "execution_count": null,
      "outputs": []
    },
    {
      "cell_type": "code",
      "metadata": {
        "id": "hBVP31d8ufbS"
      },
      "source": [
        "mlp.coefs_[1].shape"
      ],
      "execution_count": null,
      "outputs": []
    },
    {
      "cell_type": "code",
      "metadata": {
        "id": "BVCr-fV5uQl2"
      },
      "source": [
        "# use global min / max to ensure all weights are shown on the same scale\n",
        "vmin, vmax = mlp.coefs_[0].min(), mlp.coefs_[0].max()"
      ],
      "execution_count": null,
      "outputs": []
    },
    {
      "cell_type": "code",
      "metadata": {
        "id": "ESQ0qK9XfYlY"
      },
      "source": [
        "fig, axes = plt.subplots(8, 8, figsize=(12,12))\n",
        "\n",
        "for coef, ax in zip(mlp.coefs_[0].T, axes.ravel()):\n",
        "  ax.matshow(coef.reshape(28, 28), cmap=plt.cm.gray, vmin=.5 * vmin, vmax=.5 * vmax)\n",
        "  ax.set_xticks(())\n",
        "  ax.set_yticks(())\n",
        "\n",
        "plt.show()"
      ],
      "execution_count": null,
      "outputs": []
    },
    {
      "cell_type": "code",
      "metadata": {
        "id": "pXh3ct20pi77"
      },
      "source": [
        "plt.matshow(mlp.coefs_[0].T[0].reshape(28,28), cmap=plt.cm.gray, vmin=.5 * vmin, vmax=.5 * vmax)"
      ],
      "execution_count": null,
      "outputs": []
    },
    {
      "cell_type": "code",
      "metadata": {
        "id": "YODhq9GbkYAi"
      },
      "source": [
        "index = 102 ###\n",
        "\n",
        "plt.matshow(X_test[index].reshape(28,28), cmap='binary')\n",
        "print(mlp.predict(X_test[index].reshape(-1,28*28)))"
      ],
      "execution_count": null,
      "outputs": []
    },
    {
      "cell_type": "code",
      "metadata": {
        "id": "VvPaTwnmwHOU"
      },
      "source": [
        ""
      ],
      "execution_count": null,
      "outputs": []
    },
    {
      "cell_type": "markdown",
      "metadata": {
        "id": "4gSHCa4awHli"
      },
      "source": [
        "#### <font color = green> **1.4.** </font> 自作お絵描きデータをモデルに突っ込んで遊ぶ"
      ]
    },
    {
      "cell_type": "code",
      "metadata": {
        "id": "yh5o9sMHsH08"
      },
      "source": [
        "import numpy as np\n",
        "own_data = np.array([\n",
        "            [0,0,0,0,0,0,0,0,0,0,0,0,0,1,1,0,0,0,0,0,0,0,0,0,0,0,0,0],\n",
        "            [0,0,0,0,0,0,0,0,0,0,0,0,0,1,1,0,0,0,0,0,0,0,0,0,0,0,0,0],\n",
        "            [0,0,0,0,0,0,0,0,0,0,0,0,0,1,1,0,0,0,0,0,0,0,0,0,0,0,0,0],\n",
        "            [0,0,0,0,0,0,0,0,0,0,0,0,0,1,1,0,0,0,0,0,0,0,0,0,0,0,0,0],\n",
        "            [0,0,0,0,0,0,0,0,0,0,0,0,0,1,1,0,0,0,0,0,0,0,0,0,0,0,0,0],\n",
        "            [0,0,0,0,0,0,0,0,0,0,0,0,0,1,1,0,0,0,0,0,0,0,0,0,0,0,0,0],\n",
        "            [0,0,0,0,0,0,0,0,0,0,0,0,0,1,1,0,0,0,0,0,0,0,0,0,0,0,0,0],\n",
        "            [0,0,0,0,0,0,0,0,0,0,0,0,0,1,1,0,0,0,0,0,0,0,0,0,0,0,0,0],\n",
        "            [0,0,0,0,0,0,0,0,0,0,0,0,0,1,1,0,0,0,0,0,0,0,0,0,0,0,0,0],\n",
        "            [0,0,0,0,0,0,0,0,0,0,0,0,0,1,1,0,0,0,0,0,0,0,0,0,0,0,0,0],\n",
        "            [0,0,0,0,0,0,0,0,0,0,0,0,0,1,1,0,0,0,0,0,0,0,0,0,0,0,0,0],\n",
        "            [0,0,0,0,0,0,0,0,0,0,0,0,0,1,1,0,0,0,0,0,0,0,0,0,0,0,0,0],\n",
        "            [0,0,0,0,0,0,0,0,0,0,0,0,0,1,1,0,0,0,0,0,0,0,0,0,0,0,0,0],\n",
        "            [0,0,0,0,0,0,0,0,0,0,0,0,0,1,1,0,0,0,0,0,0,0,0,0,0,0,0,0],\n",
        "            [0,0,0,0,0,0,0,0,0,0,0,0,0,1,1,0,0,0,0,0,0,0,0,0,0,0,0,0],\n",
        "            [0,0,0,0,0,0,0,0,0,0,0,0,0,1,1,0,0,0,0,0,0,0,0,0,0,0,0,0],\n",
        "            [0,0,0,0,0,0,0,0,0,0,0,0,0,1,1,0,0,0,0,0,0,0,0,0,0,0,0,0],\n",
        "            [0,0,0,0,0,0,0,0,0,0,0,0,0,1,1,0,0,0,0,0,0,0,0,0,0,0,0,0],\n",
        "            [0,0,0,0,0,0,0,0,0,0,0,0,0,1,1,0,0,0,0,0,0,0,0,0,0,0,0,0],\n",
        "            [0,0,0,0,0,0,0,0,0,0,0,0,0,1,1,0,0,0,0,0,0,0,0,0,0,0,0,0],\n",
        "            [0,0,0,0,0,0,0,0,0,0,0,0,0,1,1,0,0,0,0,0,0,0,0,0,0,0,0,0],\n",
        "            [0,0,0,0,0,0,0,0,0,0,0,0,0,1,1,0,0,0,0,0,0,0,0,0,0,0,0,0],\n",
        "            [0,0,0,0,0,0,0,0,0,0,0,0,0,1,1,0,0,0,0,0,0,0,0,0,0,0,0,0],\n",
        "            [0,0,0,0,0,0,0,0,0,0,0,0,0,1,1,0,0,0,0,0,0,0,0,0,0,0,0,0],\n",
        "            [0,0,0,0,0,0,0,0,0,0,0,0,0,1,1,0,0,0,0,0,0,0,0,0,0,0,0,0],\n",
        "            [0,0,0,0,0,0,0,0,0,0,0,0,0,1,1,0,0,0,0,0,0,0,0,0,0,0,0,0],\n",
        "            [0,0,0,0,0,0,0,0,0,0,0,0,0,1,1,0,0,0,0,0,0,0,0,0,0,0,0,0],\n",
        "            [0,0,0,0,0,0,0,0,0,0,0,0,0,1,1,0,0,0,0,0,0,0,0,0,0,0,0,0],])\n",
        "\n",
        "plt.matshow(own_data.reshape(28,28), cmap='binary')\n",
        "print(mlp.predict(own_data.reshape(-1,28*28)))"
      ],
      "execution_count": null,
      "outputs": []
    },
    {
      "cell_type": "code",
      "metadata": {
        "id": "FHl02_krsHuj"
      },
      "source": [
        ""
      ],
      "execution_count": null,
      "outputs": []
    },
    {
      "cell_type": "markdown",
      "metadata": {
        "id": "_HVBoZNBwMMR"
      },
      "source": [
        "#### <font color = green> **1.5.** </font> 隠れ層をいじって遊ぶ"
      ]
    },
    {
      "cell_type": "code",
      "metadata": {
        "id": "Kc2bGnuAtLAr"
      },
      "source": [
        "hiddenLayer = (50, 10, 5, 10, 50)  ####\n",
        "\n",
        "mlp2 = MLPClassifier(hidden_layer_sizes=hiddenLayer,\n",
        "                    max_iter=10,  ####\n",
        "                    alpha=1e-4, ####\n",
        "                    solver='sgd', verbose=10, random_state=1,\n",
        "                    learning_rate_init=.1)"
      ],
      "execution_count": null,
      "outputs": []
    },
    {
      "cell_type": "code",
      "metadata": {
        "id": "GJ1XlmYZtK2Y"
      },
      "source": [
        "mlp2.fit(X_train, y_train)"
      ],
      "execution_count": null,
      "outputs": []
    },
    {
      "cell_type": "code",
      "metadata": {
        "id": "VvRh6iVQvDL6"
      },
      "source": [
        "print(\"Training set score: %f\" % mlp2.score(X_train, y_train))\n",
        "print(\"Test set score: %f\" % mlp2.score(X_test, y_test))"
      ],
      "execution_count": null,
      "outputs": []
    },
    {
      "cell_type": "code",
      "metadata": {
        "id": "unnPl3U4vTFs"
      },
      "source": [
        "print(type(mlp2.coefs_))\n",
        "print(len(mlp2.coefs_))"
      ],
      "execution_count": null,
      "outputs": []
    },
    {
      "cell_type": "code",
      "metadata": {
        "id": "c67H1X--vTGC"
      },
      "source": [
        "print(mlp2.coefs_[0].shape)\n",
        "print(mlp2.coefs_[1].shape)\n",
        "print(mlp2.coefs_[2].shape)\n",
        "print(mlp2.coefs_[3].shape)\n",
        "print(mlp2.coefs_[4].shape)\n",
        "print(mlp2.coefs_[5].shape)"
      ],
      "execution_count": null,
      "outputs": []
    },
    {
      "cell_type": "code",
      "metadata": {
        "id": "IxPkc39pdIae"
      },
      "source": [
        ""
      ],
      "execution_count": null,
      "outputs": []
    },
    {
      "cell_type": "markdown",
      "metadata": {
        "id": "uqMzhZNoxhER"
      },
      "source": [
        "### <font color = blue>**2.** </font> 隠れ層の　層数／パラメータ数　による影響\n",
        "（公式サンプルコードを改変）"
      ]
    },
    {
      "cell_type": "code",
      "metadata": {
        "id": "sb4Y3FTMxnGF"
      },
      "source": [
        "# Code source: Gaël Varoquaux\n",
        "#              Andreas Müller\n",
        "# Modified for documentation by Jaques Grobler\n",
        "# License: BSD 3 clause"
      ],
      "execution_count": null,
      "outputs": []
    },
    {
      "cell_type": "code",
      "metadata": {
        "id": "E0wEjg7PxnDI"
      },
      "source": [
        "import numpy as np\n",
        "import matplotlib.pyplot as plt\n",
        "from matplotlib.colors import ListedColormap\n",
        "from sklearn.model_selection import train_test_split\n",
        "from sklearn.preprocessing import StandardScaler\n",
        "from sklearn.datasets import make_moons, make_circles, make_classification\n",
        "\n",
        "'''from sklearn.neighbors import KNeighborsClassifier\n",
        "from sklearn.svm import SVC\n",
        "from sklearn.gaussian_process import GaussianProcessClassifier\n",
        "from sklearn.gaussian_process.kernels import RBF\n",
        "from sklearn.tree import DecisionTreeClassifier\n",
        "from sklearn.ensemble import RandomForestClassifier, AdaBoostClassifier\n",
        "from sklearn.naive_bayes import GaussianNB\n",
        "from sklearn.discriminant_analysis import QuadraticDiscriminantAnalysis\n",
        "'''\n",
        "\n",
        "from sklearn.neural_network import MLPClassifier"
      ],
      "execution_count": null,
      "outputs": []
    },
    {
      "cell_type": "code",
      "metadata": {
        "id": "WC_7CK4lxqZy"
      },
      "source": [
        "h = .02  # step size in the mesh"
      ],
      "execution_count": null,
      "outputs": []
    },
    {
      "cell_type": "code",
      "metadata": {
        "id": "ZiU8z68rxqQd"
      },
      "source": [
        "X, y = make_classification(n_features=2, n_redundant=0, n_informative=2,\n",
        "                           random_state=1, n_clusters_per_class=1)\n",
        "\n",
        "rng = np.random.RandomState(2)\n",
        "\n",
        "X += 2 * rng.uniform(size=X.shape)\n",
        "\n",
        "linearly_separable = (X, y)"
      ],
      "execution_count": null,
      "outputs": []
    },
    {
      "cell_type": "code",
      "metadata": {
        "id": "t4uIwuAtxm-6"
      },
      "source": [
        "datasets = [make_moons(noise=0.3, random_state=0),\n",
        "            make_circles(noise=0.2, factor=0.5, random_state=1),\n",
        "            linearly_separable]"
      ],
      "execution_count": null,
      "outputs": []
    },
    {
      "cell_type": "code",
      "metadata": {
        "id": "DkyS7_PUx1Gq"
      },
      "source": [
        "##########\n",
        "\n",
        "hidLayer_list = [(10,),\n",
        "                 (10, 10,),\n",
        "                 (10, 10, 10,),\n",
        "                 (10, 10, 10, 10,),\n",
        "                 (10, 10, 10, 10, 10,)]\n",
        "\n",
        "##########"
      ],
      "execution_count": null,
      "outputs": []
    },
    {
      "cell_type": "code",
      "metadata": {
        "id": "YoYqjBFPxqTO"
      },
      "source": [
        "classifiers = [MLPClassifier(alpha=1, max_iter=1000, hidden_layer_sizes=k) for k in hidLayer_list]"
      ],
      "execution_count": null,
      "outputs": []
    },
    {
      "cell_type": "code",
      "metadata": {
        "id": "pB_e1QeBxlGM"
      },
      "source": [
        "figure = plt.figure(figsize=(18, 9))\n",
        "i = 1\n",
        "# iterate over datasets\n",
        "for ds_cnt, ds in enumerate(datasets):\n",
        "  # preprocess dataset, split into training and test part\n",
        "  X, y = ds\n",
        "  X = StandardScaler().fit_transform(X)\n",
        "  X_train, X_test, y_train, y_test = train_test_split(X, y, test_size=.4, random_state=42)\n",
        "\n",
        "  x_min, x_max = X[:, 0].min() - .5, X[:, 0].max() + .5\n",
        "  y_min, y_max = X[:, 1].min() - .5, X[:, 1].max() + .5\n",
        "  xx, yy = np.meshgrid(np.arange(x_min, x_max, h), np.arange(y_min, y_max, h))\n",
        "\n",
        "  # just plot the dataset first\n",
        "  cm = plt.cm.RdBu\n",
        "  cm_bright = ListedColormap(['#FF0000', '#0000FF'])\n",
        "  ax = plt.subplot(len(datasets), len(classifiers) + 1, i)\n",
        "  if ds_cnt == 0:\n",
        "    ax.set_title(\"Input data\")\n",
        "  # Plot the training points\n",
        "  ax.scatter(X_train[:, 0], X_train[:, 1], c=y_train, cmap=cm_bright, edgecolors='k')\n",
        "  # Plot the testing points\n",
        "  ax.scatter(X_test[:, 0], X_test[:, 1], c=y_test, cmap=cm_bright, alpha=0.6, edgecolors='k')\n",
        "  ax.set_xlim(xx.min(), xx.max())\n",
        "  ax.set_ylim(yy.min(), yy.max())\n",
        "  ax.set_xticks(())\n",
        "  ax.set_yticks(())\n",
        "  i += 1\n",
        "\n",
        "  # iterate over classifiers\n",
        "  for name, clf in zip(hidLayer_list, classifiers):\n",
        "    ax = plt.subplot(len(datasets), len(classifiers) + 1, i)\n",
        "    clf.fit(X_train, y_train)\n",
        "    score = clf.score(X_test, y_test)\n",
        "\n",
        "    # Plot the decision boundary. For that, we will assign a color to each\n",
        "    # point in the mesh [x_min, x_max]x[y_min, y_max].\n",
        "    if hasattr(clf, \"decision_function\"):\n",
        "      Z = clf.decision_function(np.c_[xx.ravel(), yy.ravel()])\n",
        "    else:\n",
        "      Z = clf.predict_proba(np.c_[xx.ravel(), yy.ravel()])[:, 1]\n",
        "\n",
        "    # Put the result into a color plot\n",
        "    Z = Z.reshape(xx.shape)\n",
        "    ax.contourf(xx, yy, Z, cmap=cm, alpha=.8)\n",
        "\n",
        "    # Plot the training points\n",
        "    ax.scatter(X_train[:, 0], X_train[:, 1], c=y_train, cmap=cm_bright, edgecolors='k')\n",
        "    # Plot the testing points\n",
        "    ax.scatter(X_test[:, 0], X_test[:, 1], c=y_test, cmap=cm_bright, edgecolors='k', alpha=0.6)\n",
        "\n",
        "    ax.set_xlim(xx.min(), xx.max())\n",
        "    ax.set_ylim(yy.min(), yy.max())\n",
        "    ax.set_xticks(())\n",
        "    ax.set_yticks(())\n",
        "    if ds_cnt == 0:\n",
        "      ax.set_title(name)\n",
        "    ax.text(xx.max() - .3, yy.min() + .3, ('%.2f' % score).lstrip('0'), size=15, horizontalalignment='right')\n",
        "    i += 1\n",
        "\n",
        "plt.tight_layout()\n",
        "plt.show()"
      ],
      "execution_count": null,
      "outputs": []
    },
    {
      "cell_type": "code",
      "metadata": {
        "id": "lCXtbrAAdIXo"
      },
      "source": [
        ""
      ],
      "execution_count": null,
      "outputs": []
    },
    {
      "cell_type": "markdown",
      "metadata": {
        "id": "YacBEaM3zXpd"
      },
      "source": [
        "### <font color = blue>**3.** </font> 正則化パラメータによる影響\n",
        "（公式サンプルコード）\n",
        "\n",
        "https://scikit-learn.org/stable/auto_examples/neural_networks/plot_mlp_alpha.html"
      ]
    },
    {
      "cell_type": "code",
      "metadata": {
        "id": "lfMVcCgRzbXu"
      },
      "source": [
        "# Author: Issam H. Laradji\n",
        "# License: BSD 3 clause"
      ],
      "execution_count": null,
      "outputs": []
    },
    {
      "cell_type": "code",
      "metadata": {
        "id": "p-8Z95qdzTDY"
      },
      "source": [
        "import numpy as np\n",
        "from matplotlib import pyplot as plt\n",
        "from matplotlib.colors import ListedColormap\n",
        "from sklearn.model_selection import train_test_split\n",
        "from sklearn.preprocessing import StandardScaler\n",
        "from sklearn.datasets import make_moons, make_circles, make_classification\n",
        "from sklearn.neural_network import MLPClassifier\n",
        "from sklearn.pipeline import make_pipeline"
      ],
      "execution_count": null,
      "outputs": []
    },
    {
      "cell_type": "code",
      "metadata": {
        "id": "WDnxE9RBzeLd"
      },
      "source": [
        "h = .02  # step size in the mesh"
      ],
      "execution_count": null,
      "outputs": []
    },
    {
      "cell_type": "code",
      "metadata": {
        "id": "bbppK36qzd_t"
      },
      "source": [
        "X, y = make_classification(n_features=2, n_redundant=0, n_informative=2,\n",
        "                           random_state=0, n_clusters_per_class=1)\n",
        "\n",
        "rng = np.random.RandomState(2)\n",
        "\n",
        "X += 2 * rng.uniform(size=X.shape)\n",
        "\n",
        "linearly_separable = (X, y)"
      ],
      "execution_count": null,
      "outputs": []
    },
    {
      "cell_type": "code",
      "metadata": {
        "id": "QLmIkyftzd9G"
      },
      "source": [
        "datasets = [make_moons(noise=0.3, random_state=0),\n",
        "            make_circles(noise=0.2, factor=0.5, random_state=1),\n",
        "            linearly_separable]"
      ],
      "execution_count": null,
      "outputs": []
    },
    {
      "cell_type": "code",
      "metadata": {
        "id": "vO199hnrzeIe"
      },
      "source": [
        "##########\n",
        "\n",
        "alphas = np.logspace(-1, 1, 5)\n",
        "\n",
        "##########"
      ],
      "execution_count": null,
      "outputs": []
    },
    {
      "cell_type": "code",
      "metadata": {
        "id": "s5ixyNwxzeFp"
      },
      "source": [
        "classifiers = []\n",
        "names = []\n",
        "for alpha in alphas:\n",
        "  classifiers.append(make_pipeline(StandardScaler(),\n",
        "                                   MLPClassifier(solver='lbfgs',\n",
        "                                                 alpha=alpha,\n",
        "                                                 random_state=1,\n",
        "                                                 max_iter=2000,\n",
        "                                                 early_stopping=True,\n",
        "                                                 hidden_layer_sizes=[100, 100])))\n",
        "  names.append(f\"alpha {alpha:.2f}\")"
      ],
      "execution_count": null,
      "outputs": []
    },
    {
      "cell_type": "code",
      "metadata": {
        "id": "LzyjiQViWx3F"
      },
      "source": [
        "figure = plt.figure(figsize=(17, 9))\n",
        "i = 1\n",
        "# iterate over datasets\n",
        "for X, y in datasets:\n",
        "  # split into training and test part\n",
        "  X_train, X_test, y_train, y_test = train_test_split(X, y, test_size=.4)\n",
        "  x_min, x_max = X[:, 0].min() - .5, X[:, 0].max() + .5\n",
        "  y_min, y_max = X[:, 1].min() - .5, X[:, 1].max() + .5\n",
        "  xx, yy = np.meshgrid(np.arange(x_min, x_max, h), np.arange(y_min, y_max, h))\n",
        "\n",
        "  # just plot the dataset first\n",
        "  cm = plt.cm.RdBu\n",
        "  cm_bright = ListedColormap(['#FF0000', '#0000FF'])\n",
        "  ax = plt.subplot(len(datasets), len(classifiers) + 1, i)\n",
        "  # Plot the training points\n",
        "  ax.scatter(X_train[:, 0], X_train[:, 1], c=y_train, cmap=cm_bright)\n",
        "  # and testing points\n",
        "  ax.scatter(X_test[:, 0], X_test[:, 1], c=y_test, cmap=cm_bright, alpha=0.6)\n",
        "  ax.set_xlim(xx.min(), xx.max())\n",
        "  ax.set_ylim(yy.min(), yy.max())\n",
        "  ax.set_xticks(())\n",
        "  ax.set_yticks(())\n",
        "  i += 1\n",
        "\n",
        "  # iterate over classifiers\n",
        "  for name, clf in zip(names, classifiers):\n",
        "    ax = plt.subplot(len(datasets), len(classifiers) + 1, i)\n",
        "    clf.fit(X_train, y_train)\n",
        "    score = clf.score(X_test, y_test)\n",
        "\n",
        "    # Plot the decision boundary. For that, we will assign a color to each\n",
        "    # point in the mesh [x_min, x_max] x [y_min, y_max].\n",
        "    if hasattr(clf, \"decision_function\"):\n",
        "      Z = clf.decision_function(np.c_[xx.ravel(), yy.ravel()])\n",
        "    else:\n",
        "      Z = clf.predict_proba(np.c_[xx.ravel(), yy.ravel()])[:, 1]\n",
        "\n",
        "    # Put the result into a color plot\n",
        "    Z = Z.reshape(xx.shape)\n",
        "    ax.contourf(xx, yy, Z, cmap=cm, alpha=.8)\n",
        "\n",
        "    # Plot also the training points\n",
        "    ax.scatter(X_train[:, 0], X_train[:, 1], c=y_train, cmap=cm_bright, edgecolors='black', s=25)\n",
        "    # and testing points\n",
        "    ax.scatter(X_test[:, 0], X_test[:, 1], c=y_test, cmap=cm_bright, alpha=0.6, edgecolors='black', s=25)\n",
        "\n",
        "    ax.set_xlim(xx.min(), xx.max())\n",
        "    ax.set_ylim(yy.min(), yy.max())\n",
        "    ax.set_xticks(())\n",
        "    ax.set_yticks(())\n",
        "    ax.set_title(name)\n",
        "    ax.text(xx.max() - .3, yy.min() + .3, ('%.2f' % score).lstrip('0'), size=15, horizontalalignment='right')\n",
        "    i += 1\n",
        "\n",
        "figure.subplots_adjust(left=.02, right=.98)\n",
        "plt.show()"
      ],
      "execution_count": null,
      "outputs": []
    },
    {
      "cell_type": "code",
      "metadata": {
        "id": "tdbuZbiGWx07"
      },
      "source": [
        ""
      ],
      "execution_count": null,
      "outputs": []
    },
    {
      "cell_type": "markdown",
      "metadata": {
        "id": "zXJx6q0eXBva"
      },
      "source": [
        "## 33. keras を使ったネットワーク構築\n",
        "\n",
        "https://keras.io/getting_started/"
      ]
    },
    {
      "cell_type": "markdown",
      "metadata": {
        "id": "nZiNqlYY2fN-"
      },
      "source": [
        "ライブラリとしての keras 自体のチュートリアルはこちら\n",
        "\n",
        "- Introduction to Keras for engineers\n",
        "  - https://keras.io/getting_started/intro_to_keras_for_engineers/\n",
        "- Introduction to Keras for Researchers\n",
        "  - https://keras.io/getting_started/intro_to_keras_for_researchers/"
      ]
    },
    {
      "cell_type": "markdown",
      "metadata": {
        "id": "K0TDAyJwJGcL"
      },
      "source": [
        "### <font color = blue>**1.** </font> 初歩的なネットワーク"
      ]
    },
    {
      "cell_type": "markdown",
      "metadata": {
        "id": "FDot98sG5ZRc"
      },
      "source": [
        "#### <font color = green> **1.1.** </font> 学習用データの用意（MNIST）"
      ]
    },
    {
      "cell_type": "code",
      "metadata": {
        "id": "s1cxCqOg5V3P"
      },
      "source": [
        "from tensorflow.keras.datasets import mnist\n",
        "\n",
        "import matplotlib.pyplot as plt\n",
        "import seaborn as sns\n",
        "import pandas as pd"
      ],
      "execution_count": 1,
      "outputs": []
    },
    {
      "cell_type": "code",
      "metadata": {
        "id": "JXe6ICsU5zv9"
      },
      "source": [
        "(x_train, y_train), (x_test, y_test) = mnist.load_data()"
      ],
      "execution_count": 12,
      "outputs": []
    },
    {
      "cell_type": "code",
      "metadata": {
        "id": "3-bTaTNgtJvu"
      },
      "source": [
        "x_train, x_test = x_train / 255., x_test / 255."
      ],
      "execution_count": 13,
      "outputs": []
    },
    {
      "cell_type": "code",
      "metadata": {
        "id": "pBEWbHJw6L-g"
      },
      "source": [
        "pd.options.display.max_columns = 28"
      ],
      "execution_count": 4,
      "outputs": []
    },
    {
      "cell_type": "code",
      "metadata": {
        "id": "spo71_Bj6Co-"
      },
      "source": [
        "test_number = x_train[153]  ####"
      ],
      "execution_count": 5,
      "outputs": []
    },
    {
      "cell_type": "code",
      "metadata": {
        "id": "LgqkGK936Oyk"
      },
      "source": [
        "test_number_image = test_number.reshape(28,28)\n",
        " \n",
        "number_matrix = pd.DataFrame(test_number_image)"
      ],
      "execution_count": 6,
      "outputs": []
    },
    {
      "cell_type": "code",
      "metadata": {
        "id": "gLAWhc8DGSm9"
      },
      "source": [
        "plt.figure(figsize=(15,15))\n",
        "sns.heatmap(number_matrix, annot=True, square=True,vmin=0,vmax=1, fmt='.2f', cmap='Greys') \n",
        "plt.show()"
      ],
      "execution_count": null,
      "outputs": []
    },
    {
      "cell_type": "code",
      "metadata": {
        "id": "-D1EZi-i5V0e"
      },
      "source": [
        ""
      ],
      "execution_count": null,
      "outputs": []
    },
    {
      "cell_type": "markdown",
      "metadata": {
        "id": "TdX-Scn66gku"
      },
      "source": [
        "#### <font color = green> **1.2.** </font> Sequential を使った構築"
      ]
    },
    {
      "cell_type": "code",
      "metadata": {
        "id": "g_InVDjg5Vxw"
      },
      "source": [
        "from tensorflow import keras"
      ],
      "execution_count": 7,
      "outputs": []
    },
    {
      "cell_type": "code",
      "metadata": {
        "id": "aeAeZlbtbDyP"
      },
      "source": [
        "model = keras.Sequential([\n",
        "                          # 入力層\n",
        "                          keras.layers.Flatten(input_shape=(28, 28)),\n",
        "\n",
        "                          # 第１層\n",
        "                          keras.layers.Dense(1000),\n",
        "                          keras.layers.Activation(keras.activations.relu),\n",
        "\n",
        "                          # 第２層\n",
        "                          keras.layers.Dense(100),\n",
        "                          keras.layers.Activation(keras.activations.relu),\n",
        "\n",
        "                          # 出力層\n",
        "                          keras.layers.Dense(10, activation='softmax')\n",
        "                          ])"
      ],
      "execution_count": null,
      "outputs": []
    },
    {
      "cell_type": "code",
      "metadata": {
        "id": "QtkVpDOUKE3y"
      },
      "source": [
        "keras.utils.plot_model(model, show_shapes=True)"
      ],
      "execution_count": null,
      "outputs": []
    },
    {
      "cell_type": "code",
      "metadata": {
        "id": "mW3A276CenvB"
      },
      "source": [
        "loss_fn = keras.losses.SparseCategoricalCrossentropy(from_logits=True)\n",
        "model.compile(optimizer='adam',\n",
        "              loss=loss_fn,\n",
        "              metrics=['accuracy'])"
      ],
      "execution_count": null,
      "outputs": []
    },
    {
      "cell_type": "code",
      "metadata": {
        "id": "PfFVQyuLYP0C"
      },
      "source": [
        "fitting = model.fit(x_train, y_train,\n",
        "                    epochs=10,  ####\n",
        "                    validation_data=(x_test,y_test))\n",
        "\n",
        "# １エポック18秒前後、１０エポックで計3分前後かかる"
      ],
      "execution_count": null,
      "outputs": []
    },
    {
      "cell_type": "code",
      "metadata": {
        "id": "PtWYl6hgiFGM"
      },
      "source": [
        "plt.figure(figsize=(9,6))\n",
        "plt.plot(fitting.history['accuracy'], c='b')\n",
        "plt.plot(fitting.history['val_accuracy'], c='r')\n",
        "plt.show()"
      ],
      "execution_count": null,
      "outputs": []
    },
    {
      "cell_type": "code",
      "metadata": {
        "id": "KmxIonDNBbOg"
      },
      "source": [
        "plt.figure(figsize=(9,6))\n",
        "plt.plot(fitting.history['loss'], c='b')\n",
        "plt.plot(fitting.history['val_loss'], c='r')\n",
        "plt.show()"
      ],
      "execution_count": null,
      "outputs": []
    },
    {
      "cell_type": "code",
      "metadata": {
        "id": "M1ju3B2L5Vs6"
      },
      "source": [
        ""
      ],
      "execution_count": null,
      "outputs": []
    },
    {
      "cell_type": "markdown",
      "metadata": {
        "id": "Rzp_gTQ2JGSY"
      },
      "source": [
        "#### <font color = green> **1.3.** </font> **1.2.** にバッチ正規化を追加"
      ]
    },
    {
      "cell_type": "code",
      "metadata": {
        "id": "IvhpmVEVJGSu"
      },
      "source": [
        "model2 = keras.Sequential([\n",
        "                          # 入力層\n",
        "                          keras.layers.Flatten(input_shape=(28, 28)),\n",
        "\n",
        "                          # 第１層\n",
        "                          keras.layers.Dense(1000),\n",
        "                          keras.layers.BatchNormalization(),  ###\n",
        "                          keras.layers.Activation(keras.activations.relu),\n",
        "\n",
        "                          # 第２層\n",
        "                          keras.layers.Dense(100),\n",
        "                          keras.layers.BatchNormalization(),  ###\n",
        "                          keras.layers.Activation(keras.activations.relu),\n",
        "\n",
        "                          # 出力層\n",
        "                          keras.layers.Dense(10, activation='softmax')\n",
        "                          ])"
      ],
      "execution_count": null,
      "outputs": []
    },
    {
      "cell_type": "code",
      "metadata": {
        "id": "bKT-psC8KiWI"
      },
      "source": [
        "keras.utils.plot_model(model2, show_shapes=True)"
      ],
      "execution_count": null,
      "outputs": []
    },
    {
      "cell_type": "code",
      "metadata": {
        "id": "eNd0yyFDJGSv"
      },
      "source": [
        "loss_fn = keras.losses.SparseCategoricalCrossentropy(from_logits=True)\n",
        "model2.compile(optimizer='adam',\n",
        "              loss=loss_fn,\n",
        "              metrics=['accuracy'])"
      ],
      "execution_count": null,
      "outputs": []
    },
    {
      "cell_type": "code",
      "metadata": {
        "id": "IRTetwlHJGSv"
      },
      "source": [
        "fitting2 = model2.fit(x_train, y_train,\n",
        "                    epochs=10,  ####\n",
        "                    validation_data=(x_test,y_test))\n",
        "\n",
        "# １エポック20秒前後、１０エポックで計3分超かかる"
      ],
      "execution_count": null,
      "outputs": []
    },
    {
      "cell_type": "code",
      "metadata": {
        "id": "pYvPtxkFJGSw"
      },
      "source": [
        "plt.figure(figsize=(9,6))\n",
        "plt.plot(fitting2.history['accuracy'], c='b')\n",
        "plt.plot(fitting2.history['val_accuracy'], c='r')\n",
        "plt.show()"
      ],
      "execution_count": null,
      "outputs": []
    },
    {
      "cell_type": "code",
      "metadata": {
        "id": "AFIv_lq9JGSw"
      },
      "source": [
        "plt.figure(figsize=(9,6))\n",
        "plt.plot(fitting2.history['loss'], c='b')\n",
        "plt.plot(fitting2.history['val_loss'], c='r')\n",
        "plt.show()"
      ],
      "execution_count": null,
      "outputs": []
    },
    {
      "cell_type": "code",
      "metadata": {
        "id": "hkOsd66IJGSx"
      },
      "source": [
        ""
      ],
      "execution_count": null,
      "outputs": []
    },
    {
      "cell_type": "markdown",
      "metadata": {
        "id": "gSvxVhKE_FmB"
      },
      "source": [
        "#### <font color = green> **1.4.** </font> .add を使った構築"
      ]
    },
    {
      "cell_type": "code",
      "metadata": {
        "id": "4qWFgYGG_eum"
      },
      "source": [
        "from tensorflow.keras import layers, models"
      ],
      "execution_count": 8,
      "outputs": []
    },
    {
      "cell_type": "code",
      "metadata": {
        "id": "MeQopPJO-0Ww"
      },
      "source": [
        "model3 = models.Sequential()\n",
        "\n",
        "# 入力層\n",
        "model3.add(layers.Flatten(input_shape=(28, 28)))\n",
        "\n",
        "# 第１層\n",
        "model3.add(layers.Dense(1000, activation='relu'))\n",
        "\n",
        "# 第２層\n",
        "model3.add(layers.Dense(100, activation='relu'))\n",
        "\n",
        "# 出力層\n",
        "model3.add(layers.Dense(10, activation='softmax'))"
      ],
      "execution_count": null,
      "outputs": []
    },
    {
      "cell_type": "code",
      "metadata": {
        "id": "SYlcexhXKmYx"
      },
      "source": [
        "keras.utils.plot_model(model3, show_shapes=True)"
      ],
      "execution_count": null,
      "outputs": []
    },
    {
      "cell_type": "code",
      "metadata": {
        "id": "R7ZN1VuV-0XT"
      },
      "source": [
        "loss_fn = keras.losses.SparseCategoricalCrossentropy(from_logits=True)\n",
        "model3.compile(optimizer='adam',\n",
        "               loss=loss_fn,\n",
        "               metrics=['accuracy'])"
      ],
      "execution_count": null,
      "outputs": []
    },
    {
      "cell_type": "code",
      "metadata": {
        "id": "2PxD30xz-0XT"
      },
      "source": [
        "fitting3 = model3.fit(x_train, y_train,\n",
        "                      epochs=10,  ####\n",
        "                      validation_data=(x_test,y_test))\n",
        "\n",
        "# １エポック18秒前後、１０エポックで計3分前後かかる"
      ],
      "execution_count": null,
      "outputs": []
    },
    {
      "cell_type": "code",
      "metadata": {
        "id": "30eKUfXK-0XU"
      },
      "source": [
        "plt.figure(figsize=(9,6))\n",
        "plt.plot(fitting3.history['accuracy'], c='b')\n",
        "plt.plot(fitting3.history['val_accuracy'], c='r')\n",
        "plt.show()"
      ],
      "execution_count": null,
      "outputs": []
    },
    {
      "cell_type": "code",
      "metadata": {
        "id": "pGvcY18n-0XV"
      },
      "source": [
        "plt.figure(figsize=(9,6))\n",
        "plt.plot(fitting3.history['loss'], c='b')\n",
        "plt.plot(fitting3.history['val_loss'], c='r')\n",
        "plt.show()"
      ],
      "execution_count": null,
      "outputs": []
    },
    {
      "cell_type": "code",
      "metadata": {
        "id": "BUoSWHdn5Vk1"
      },
      "source": [
        ""
      ],
      "execution_count": null,
      "outputs": []
    },
    {
      "cell_type": "markdown",
      "metadata": {
        "id": "S3Mti09RAwhj"
      },
      "source": [
        "#### <font color = green> **1.5.** </font> 過程全てをオブジェクト化した構築\n",
        "（ラベルデータの整形が必要）"
      ]
    },
    {
      "cell_type": "code",
      "metadata": {
        "id": "pz-8AhdSauyd"
      },
      "source": [
        "num_classes = 10\n",
        "y_train_vector = keras.utils.to_categorical(y_train, num_classes)\n",
        "y_test_vector = keras.utils.to_categorical(y_test, num_classes)"
      ],
      "execution_count": 14,
      "outputs": []
    },
    {
      "cell_type": "code",
      "metadata": {
        "id": "ncMpYppIBU2N"
      },
      "source": [
        "# 入力層\n",
        "inputs = layers.Input(shape=(28, 28))\n",
        "flatten = layers.Flatten()(inputs)\n",
        "\n",
        "# 第１層\n",
        "dense1 = layers.Dense(1000)(flatten)\n",
        "activation1 = layers.Activation(keras.activations.relu)(dense1)\n",
        "\n",
        "# 第２層\n",
        "dense2 = layers.Dense(100)(activation1)\n",
        "activation2 = layers.Activation(keras.activations.relu)(dense2)\n",
        "\n",
        "# 出力層\n",
        "outputs = layers.Dense(10, activation='softmax')(activation2)\n",
        "\n",
        "model4 = keras.Model(inputs=inputs, outputs=outputs)"
      ],
      "execution_count": 10,
      "outputs": []
    },
    {
      "cell_type": "code",
      "metadata": {
        "colab": {
          "base_uri": "https://localhost:8080/",
          "height": 754
        },
        "id": "0mIiIo0sKrDK",
        "outputId": "44f16102-2f63-4e84-d12b-ccb7711a6f76"
      },
      "source": [
        "keras.utils.plot_model(model4, show_shapes=True)"
      ],
      "execution_count": 11,
      "outputs": [
        {
          "output_type": "execute_result",
          "data": {
            "image/png": "[encoded data removed]",
            "text/plain": [
              "<IPython.core.display.Image object>"
            ]
          },
          "metadata": {
            "tags": []
          },
          "execution_count": 11
        }
      ]
    },
    {
      "cell_type": "code",
      "metadata": {
        "id": "8tWvbzkCBU2O"
      },
      "source": [
        "model4.compile(optimizer='adam',\n",
        "               loss='categorical_crossentropy',\n",
        "               metrics=['accuracy'])"
      ],
      "execution_count": 15,
      "outputs": []
    },
    {
      "cell_type": "code",
      "metadata": {
        "colab": {
          "base_uri": "https://localhost:8080/"
        },
        "id": "-aoSM-BHBU2O",
        "outputId": "ba830f75-2d3a-4d75-b161-220fcb0243be"
      },
      "source": [
        "fitting4 = model4.fit(x_train, y_train_vector,\n",
        "                      epochs=10,  ####\n",
        "                      validation_data=(x_test,y_test_vector))\n",
        "\n",
        "# １エポック18秒前後、１０エポックで計3分前後かかる"
      ],
      "execution_count": 16,
      "outputs": [
        {
          "output_type": "stream",
          "text": [
            "Epoch 1/10\n",
            "1875/1875 [==============================] - 18s 9ms/step - loss: 0.3120 - accuracy: 0.9065 - val_loss: 0.0990 - val_accuracy: 0.9703\n",
            "Epoch 2/10\n",
            "1875/1875 [==============================] - 17s 9ms/step - loss: 0.0778 - accuracy: 0.9755 - val_loss: 0.0931 - val_accuracy: 0.9714\n",
            "Epoch 3/10\n",
            "1875/1875 [==============================] - 16s 9ms/step - loss: 0.0523 - accuracy: 0.9832 - val_loss: 0.0785 - val_accuracy: 0.9777\n",
            "Epoch 4/10\n",
            "1875/1875 [==============================] - 17s 9ms/step - loss: 0.0342 - accuracy: 0.9893 - val_loss: 0.0667 - val_accuracy: 0.9816\n",
            "Epoch 5/10\n",
            "1875/1875 [==============================] - 18s 10ms/step - loss: 0.0295 - accuracy: 0.9905 - val_loss: 0.0752 - val_accuracy: 0.9775\n",
            "Epoch 6/10\n",
            "1875/1875 [==============================] - 18s 9ms/step - loss: 0.0226 - accuracy: 0.9926 - val_loss: 0.0784 - val_accuracy: 0.9812\n",
            "Epoch 7/10\n",
            "1875/1875 [==============================] - 17s 9ms/step - loss: 0.0201 - accuracy: 0.9936 - val_loss: 0.0731 - val_accuracy: 0.9820\n",
            "Epoch 8/10\n",
            "1875/1875 [==============================] - 17s 9ms/step - loss: 0.0183 - accuracy: 0.9939 - val_loss: 0.0841 - val_accuracy: 0.9811\n",
            "Epoch 9/10\n",
            "1875/1875 [==============================] - 18s 9ms/step - loss: 0.0131 - accuracy: 0.9955 - val_loss: 0.1030 - val_accuracy: 0.9777\n",
            "Epoch 10/10\n",
            "1875/1875 [==============================] - 17s 9ms/step - loss: 0.0139 - accuracy: 0.9960 - val_loss: 0.1025 - val_accuracy: 0.9775\n"
          ],
          "name": "stdout"
        }
      ]
    },
    {
      "cell_type": "code",
      "metadata": {
        "colab": {
          "base_uri": "https://localhost:8080/",
          "height": 374
        },
        "id": "01ko60M3BU2P",
        "outputId": "998801e4-9cec-48bb-f0d8-81244eafb474"
      },
      "source": [
        "plt.figure(figsize=(9,6))\n",
        "plt.plot(fitting4.history['accuracy'], c='b')\n",
        "plt.plot(fitting4.history['val_accuracy'], c='r')\n",
        "plt.show()"
      ],
      "execution_count": 17,
      "outputs": [
        {
          "output_type": "display_data",
          "data": {
            "image/png": "[encoded data removed]",
            "text/plain": [
              "<Figure size 648x432 with 1 Axes>"
            ]
          },
          "metadata": {
            "tags": [],
            "needs_background": "light"
          }
        }
      ]
    },
    {
      "cell_type": "code",
      "metadata": {
        "colab": {
          "base_uri": "https://localhost:8080/",
          "height": 374
        },
        "id": "RIfTnhsGBU2Q",
        "outputId": "0ea4a278-4357-410a-9e29-cbe23d91bdad"
      },
      "source": [
        "plt.figure(figsize=(9,6))\n",
        "plt.plot(fitting4.history['loss'], c='b')\n",
        "plt.plot(fitting4.history['val_loss'], c='r')\n",
        "plt.show()"
      ],
      "execution_count": 18,
      "outputs": [
        {
          "output_type": "display_data",
          "data": {
            "image/png": "[encoded data removed]",
            "text/plain": [
              "<Figure size 648x432 with 1 Axes>"
            ]
          },
          "metadata": {
            "tags": [],
            "needs_background": "light"
          }
        }
      ]
    },
    {
      "cell_type": "code",
      "metadata": {
        "id": "c-iIb-gebpyv"
      },
      "source": [
        ""
      ],
      "execution_count": null,
      "outputs": []
    },
    {
      "cell_type": "markdown",
      "metadata": {
        "id": "VaIkEFbmbqHo"
      },
      "source": [
        "#### <font color = green> **1.6.** </font> **1.5.** にバッチ正規化を追加"
      ]
    },
    {
      "cell_type": "code",
      "metadata": {
        "id": "KySyl91QbucZ"
      },
      "source": [
        "# 入力層\n",
        "inputs = layers.Input(shape=(28, 28))\n",
        "flatten = layers.Flatten()(inputs)\n",
        "\n",
        "# 第１層\n",
        "dense1 = layers.Dense(1000)(flatten)\n",
        "batch1 = layers.BatchNormalization()(dense1)\n",
        "activation1 = layers.Activation(keras.activations.relu)(batch1)\n",
        "\n",
        "# 第２層\n",
        "dense2 = layers.Dense(100)(activation1)\n",
        "batch2 = layers.BatchNormalization()(dense2)\n",
        "activation2 = layers.Activation(keras.activations.relu)(batch2)\n",
        "\n",
        "# 出力層\n",
        "outputs = layers.Dense(10, activation='softmax')(activation2)\n",
        "\n",
        "model4_ = keras.Model(inputs=inputs, outputs=outputs)"
      ],
      "execution_count": 20,
      "outputs": []
    },
    {
      "cell_type": "code",
      "metadata": {
        "colab": {
          "base_uri": "https://localhost:8080/",
          "height": 976
        },
        "id": "IW4z7sl1cC0K",
        "outputId": "9c62f80c-23a6-47b2-b723-45e883eb8476"
      },
      "source": [
        "keras.utils.plot_model(model4_, show_shapes=True)"
      ],
      "execution_count": 21,
      "outputs": [
        {
          "output_type": "execute_result",
          "data": {
            "image/png": "[encoded data removed]",
            "text/plain": [
              "<IPython.core.display.Image object>"
            ]
          },
          "metadata": {
            "tags": []
          },
          "execution_count": 21
        }
      ]
    },
    {
      "cell_type": "code",
      "metadata": {
        "id": "hme4sYkhcZjJ"
      },
      "source": [
        "model4_.compile(optimizer='adam',\n",
        "                loss='categorical_crossentropy',\n",
        "                metrics=['accuracy'])"
      ],
      "execution_count": 22,
      "outputs": []
    },
    {
      "cell_type": "code",
      "metadata": {
        "colab": {
          "base_uri": "https://localhost:8080/"
        },
        "id": "UedIUgWdcZjK",
        "outputId": "214ced40-33b4-47b2-c27e-bc544b1d81c5"
      },
      "source": [
        "fitting4_ = model4_.fit(x_train, y_train_vector,\n",
        "                        epochs=10,  ####\n",
        "                        validation_data=(x_test,y_test_vector))\n",
        "\n",
        "# １エポック20秒前後、１０エポックで計3分半くらいかかる"
      ],
      "execution_count": 23,
      "outputs": [
        {
          "output_type": "stream",
          "text": [
            "Epoch 1/10\n",
            "1875/1875 [==============================] - 20s 10ms/step - loss: 0.3003 - accuracy: 0.9115 - val_loss: 0.1149 - val_accuracy: 0.9636\n",
            "Epoch 2/10\n",
            "1875/1875 [==============================] - 19s 10ms/step - loss: 0.1025 - accuracy: 0.9686 - val_loss: 0.0761 - val_accuracy: 0.9758\n",
            "Epoch 3/10\n",
            "1875/1875 [==============================] - 20s 11ms/step - loss: 0.0680 - accuracy: 0.9784 - val_loss: 0.0705 - val_accuracy: 0.9768\n",
            "Epoch 4/10\n",
            "1875/1875 [==============================] - 20s 11ms/step - loss: 0.0495 - accuracy: 0.9837 - val_loss: 0.0591 - val_accuracy: 0.9810\n",
            "Epoch 5/10\n",
            "1875/1875 [==============================] - 19s 10ms/step - loss: 0.0421 - accuracy: 0.9866 - val_loss: 0.0579 - val_accuracy: 0.9819\n",
            "Epoch 6/10\n",
            "1875/1875 [==============================] - 19s 10ms/step - loss: 0.0354 - accuracy: 0.9885 - val_loss: 0.0620 - val_accuracy: 0.9817\n",
            "Epoch 7/10\n",
            "1875/1875 [==============================] - 19s 10ms/step - loss: 0.0276 - accuracy: 0.9906 - val_loss: 0.0648 - val_accuracy: 0.9808\n",
            "Epoch 8/10\n",
            "1875/1875 [==============================] - 19s 10ms/step - loss: 0.0234 - accuracy: 0.9922 - val_loss: 0.0623 - val_accuracy: 0.9822\n",
            "Epoch 9/10\n",
            "1875/1875 [==============================] - 19s 10ms/step - loss: 0.0209 - accuracy: 0.9931 - val_loss: 0.0673 - val_accuracy: 0.9822\n",
            "Epoch 10/10\n",
            "1875/1875 [==============================] - 19s 10ms/step - loss: 0.0201 - accuracy: 0.9932 - val_loss: 0.0607 - val_accuracy: 0.9833\n"
          ],
          "name": "stdout"
        }
      ]
    },
    {
      "cell_type": "code",
      "metadata": {
        "colab": {
          "base_uri": "https://localhost:8080/",
          "height": 374
        },
        "id": "KCiDqZg6cZjL",
        "outputId": "0803240c-85d3-4124-bf45-50fb449b4248"
      },
      "source": [
        "plt.figure(figsize=(9,6))\n",
        "plt.plot(fitting4_.history['accuracy'], c='b')\n",
        "plt.plot(fitting4_.history['val_accuracy'], c='r')\n",
        "plt.show()"
      ],
      "execution_count": 25,
      "outputs": [
        {
          "output_type": "display_data",
          "data": {
            "image/png": "[encoded data removed]",
            "text/plain": [
              "<Figure size 648x432 with 1 Axes>"
            ]
          },
          "metadata": {
            "tags": [],
            "needs_background": "light"
          }
        }
      ]
    },
    {
      "cell_type": "code",
      "metadata": {
        "colab": {
          "base_uri": "https://localhost:8080/",
          "height": 374
        },
        "id": "Kra_HaTIcZjL",
        "outputId": "0ea4a278-4357-410a-9e29-cbe23d91bdad"
      },
      "source": [
        "plt.figure(figsize=(9,6))\n",
        "plt.plot(fitting4_.history['loss'], c='b')\n",
        "plt.plot(fitting4_.history['val_loss'], c='r')\n",
        "plt.show()"
      ],
      "execution_count": null,
      "outputs": [
        {
          "output_type": "display_data",
          "data": {
            "image/png": "[encoded data removed]",
            "text/plain": [
              "<Figure size 648x432 with 1 Axes>"
            ]
          },
          "metadata": {
            "tags": [],
            "needs_background": "light"
          }
        }
      ]
    },
    {
      "cell_type": "code",
      "metadata": {
        "id": "7wSXAavzcCxE"
      },
      "source": [
        ""
      ],
      "execution_count": null,
      "outputs": []
    },
    {
      "cell_type": "code",
      "metadata": {
        "id": "q6zDLr1TBIBs"
      },
      "source": [
        ""
      ],
      "execution_count": null,
      "outputs": []
    },
    {
      "cell_type": "markdown",
      "metadata": {
        "id": "Xyn_ZEKHJKqX"
      },
      "source": [
        "### <font color = blue>**2.** </font> ドロップアウト"
      ]
    },
    {
      "cell_type": "markdown",
      "metadata": {
        "id": "NIomjtYPLWbr"
      },
      "source": [
        "#### <font color = green> **2.1.** </font> Sequential を使った構築"
      ]
    },
    {
      "cell_type": "code",
      "metadata": {
        "id": "7Wo3oD4OLWby"
      },
      "source": [
        "model5 = keras.Sequential([\n",
        "                           # 入力層\n",
        "                           layers.Flatten(input_shape=(28, 28)),\n",
        "\n",
        "                           # 第１層\n",
        "                           layers.Dense(1000),\n",
        "                           layers.Activation(keras.activations.relu),\n",
        "                           layers.Dropout(0.2), ####\n",
        "\n",
        "                           # 第２層\n",
        "                           layers.Dense(100),\n",
        "                           layers.Activation(keras.activations.relu),\n",
        "                           layers.Dropout(0.2), ####\n",
        "\n",
        "                           # 出力層\n",
        "                           layers.Dense(10, activation='softmax')\n",
        "                           ])"
      ],
      "execution_count": null,
      "outputs": []
    },
    {
      "cell_type": "code",
      "metadata": {
        "id": "iQEFQqCyLWby"
      },
      "source": [
        "keras.utils.plot_model(model5, show_shapes=True)"
      ],
      "execution_count": null,
      "outputs": []
    },
    {
      "cell_type": "code",
      "metadata": {
        "id": "KRHZXXHmLWbz"
      },
      "source": [
        "loss_fn = keras.losses.SparseCategoricalCrossentropy(from_logits=True)\n",
        "model5.compile(optimizer='adam',\n",
        "               loss=loss_fn,\n",
        "               metrics=['accuracy'])"
      ],
      "execution_count": null,
      "outputs": []
    },
    {
      "cell_type": "code",
      "metadata": {
        "id": "VjYp03tzLWb0"
      },
      "source": [
        "fitting5 = model5.fit(x_train, y_train,\n",
        "                      epochs=10,  ####\n",
        "                      validation_data=(x_test,y_test))\n",
        "\n",
        "# １エポック19秒前後、１０エポックで計3分超かかる"
      ],
      "execution_count": null,
      "outputs": []
    },
    {
      "cell_type": "code",
      "metadata": {
        "id": "XnD6uja0LWb0"
      },
      "source": [
        "plt.figure(figsize=(9,6))\n",
        "plt.plot(fitting5.history['accuracy'], c='b')\n",
        "plt.plot(fitting5.history['val_accuracy'], c='r')\n",
        "plt.show()"
      ],
      "execution_count": null,
      "outputs": []
    },
    {
      "cell_type": "code",
      "metadata": {
        "id": "ewO9kJU8LWb1"
      },
      "source": [
        "plt.figure(figsize=(9,6))\n",
        "plt.plot(fitting5.history['loss'], c='b')\n",
        "plt.plot(fitting5.history['val_loss'], c='r')\n",
        "plt.show()"
      ],
      "execution_count": null,
      "outputs": []
    },
    {
      "cell_type": "code",
      "metadata": {
        "id": "KWnXtHQJLWb2"
      },
      "source": [
        ""
      ],
      "execution_count": null,
      "outputs": []
    },
    {
      "cell_type": "markdown",
      "metadata": {
        "id": "ptjqQyE6Ma0b"
      },
      "source": [
        "#### <font color = green> **2.2.** </font> 過程全てをオブジェクト化した構築"
      ]
    },
    {
      "cell_type": "code",
      "metadata": {
        "id": "2ZYLFe58Mven"
      },
      "source": [
        "# 入力層\n",
        "inputs = layers.Input(shape=(28, 28))\n",
        "flatten = layers.Flatten()(inputs)\n",
        "\n",
        "# 第１層\n",
        "dense1 = layers.Dense(1000)(flatten)\n",
        "activation1 = layers.Activation(keras.activations.relu)(dense1)\n",
        "dropout1 = layers.Dropout(0.2)(activation1) ####\n",
        "\n",
        "# 第２層\n",
        "dense2 = layers.Dense(100)(dropout1)\n",
        "activation2 = layers.Activation(keras.activations.relu)(dense2)\n",
        "dropout2 = layers.Dropout(0.2)(activation2) ####\n",
        "\n",
        "# 出力層\n",
        "outputs = layers.Dense(10, activation='softmax')(dropout2)\n",
        "\n",
        "model6 = keras.Model(inputs=inputs, outputs=outputs)"
      ],
      "execution_count": null,
      "outputs": []
    },
    {
      "cell_type": "code",
      "metadata": {
        "id": "TBzuMbuDMa0_"
      },
      "source": [
        "keras.utils.plot_model(model6, show_shapes=True)"
      ],
      "execution_count": null,
      "outputs": []
    },
    {
      "cell_type": "code",
      "metadata": {
        "id": "F38hSOueMa1A"
      },
      "source": [
        "loss_fn = keras.losses.SparseCategoricalCrossentropy(from_logits=True)\n",
        "model6.compile(optimizer='adam',\n",
        "               loss=loss_fn,\n",
        "               metrics=['accuracy'])"
      ],
      "execution_count": null,
      "outputs": []
    },
    {
      "cell_type": "code",
      "metadata": {
        "id": "Br0bbb6jMa1B"
      },
      "source": [
        "fitting6 = model6.fit(x_train, y_train,\n",
        "                      epochs=10,  ####\n",
        "                      validation_data=(x_test,y_test))\n",
        "\n",
        "# １エポック19秒前後、１０エポックで計3分超かかる"
      ],
      "execution_count": null,
      "outputs": []
    },
    {
      "cell_type": "code",
      "metadata": {
        "id": "8pOesUFvMa1B"
      },
      "source": [
        "plt.figure(figsize=(9,6))\n",
        "plt.plot(fitting6.history['accuracy'], c='b')\n",
        "plt.plot(fitting6.history['val_accuracy'], c='r')\n",
        "plt.show()"
      ],
      "execution_count": null,
      "outputs": []
    },
    {
      "cell_type": "code",
      "metadata": {
        "id": "r5mSrFtwMa1C"
      },
      "source": [
        "plt.figure(figsize=(9,6))\n",
        "plt.plot(fitting6.history['loss'], c='b')\n",
        "plt.plot(fitting6.history['val_loss'], c='r')\n",
        "plt.show()"
      ],
      "execution_count": null,
      "outputs": []
    },
    {
      "cell_type": "code",
      "metadata": {
        "id": "wqubBvvyMa1C"
      },
      "source": [
        ""
      ],
      "execution_count": null,
      "outputs": []
    },
    {
      "cell_type": "markdown",
      "metadata": {
        "id": "FJC0wz6OXUMo"
      },
      "source": [
        "### <font color = blue>**3.** </font> ResNet : Residual Network"
      ]
    },
    {
      "cell_type": "code",
      "metadata": {
        "id": "KpQ6rQKnQMyl"
      },
      "source": [
        "# 入力層\n",
        "inputs = layers.Input(shape=(28,28))\n",
        "flatten = layers.Flatten()(inputs)\n",
        "\n",
        "# 第１層\n",
        "dense1 = layers.Dense(1000)(flatten)\n",
        "activation1 = layers.Activation(keras.activations.relu)(dense1)\n",
        "dropout1 = layers.Dropout(0.2)(activation1)\n",
        "\n",
        "# 第２層\n",
        "dense2 = layers.Dense(100)(dropout1)\n",
        "activation2 = layers.Activation(keras.activations.relu)(dense2)\n",
        "dropout2 = layers.Dropout(0.2)(activation2)\n",
        "\n",
        "# 第１層の出口と第2層の出口を合流\n",
        "merged = layers.concatenate([dropout1, dropout2])\n",
        "\n",
        "# 出力層\n",
        "outputs = layers.Dense(10, activation='softmax')(merged)\n",
        "\n",
        "RN = keras.Model(inputs=inputs, outputs=outputs)"
      ],
      "execution_count": null,
      "outputs": []
    },
    {
      "cell_type": "code",
      "metadata": {
        "id": "nRDn14gGQMwg"
      },
      "source": [
        "keras.utils.plot_model(RN, show_shapes=True)"
      ],
      "execution_count": null,
      "outputs": []
    },
    {
      "cell_type": "code",
      "metadata": {
        "id": "jThE0JqPRpMR"
      },
      "source": [
        "RN.compile(optimizer='adam',\n",
        "           loss='categorical_crossentropy',\n",
        "           metrics=['accuracy'])"
      ],
      "execution_count": null,
      "outputs": []
    },
    {
      "cell_type": "code",
      "metadata": {
        "id": "-wglKHX6QC17"
      },
      "source": [
        "fitting_rn = RN.fit(x_train, y_train_vector,\n",
        "                      epochs=10,  ####\n",
        "                      validation_data=(x_test,y_test_vector))\n",
        "\n",
        "# １エポック19秒前後、１０エポックで計3分超かかる"
      ],
      "execution_count": null,
      "outputs": []
    },
    {
      "cell_type": "code",
      "metadata": {
        "id": "hDScQvoSRwMK"
      },
      "source": [
        "plt.figure(figsize=(9,6))\n",
        "plt.plot(fitting_rn.history['accuracy'], c='b')\n",
        "plt.plot(fitting_rn.history['val_accuracy'], c='r')\n",
        "plt.show()"
      ],
      "execution_count": null,
      "outputs": []
    },
    {
      "cell_type": "code",
      "metadata": {
        "id": "Cc-g3Qy7SAIH"
      },
      "source": [
        "plt.figure(figsize=(9,6))\n",
        "plt.plot(fitting_rn.history['loss'], c='b')\n",
        "plt.plot(fitting_rn.history['val_loss'], c='r')\n",
        "plt.show()"
      ],
      "execution_count": null,
      "outputs": []
    },
    {
      "cell_type": "code",
      "metadata": {
        "id": "42VCVfjVQCwe"
      },
      "source": [
        ""
      ],
      "execution_count": null,
      "outputs": []
    },
    {
      "cell_type": "markdown",
      "metadata": {
        "id": "E9a3H-mrOvxc"
      },
      "source": [
        "### <font color = blue>**4.** </font> CNN : Convolutional Neural Network"
      ]
    },
    {
      "cell_type": "markdown",
      "metadata": {
        "id": "UKAxW2z-hbjn"
      },
      "source": [
        "公式サンプルコードより\n",
        "\n",
        "Simple MNIST convnet\n",
        "\n",
        "https://keras.io/examples/vision/mnist_convnet/"
      ]
    },
    {
      "cell_type": "code",
      "metadata": {
        "id": "pR8uGHxOhmr3"
      },
      "source": [
        "import numpy as np\n",
        "from tensorflow import keras\n",
        "from tensorflow.keras import layers"
      ],
      "execution_count": null,
      "outputs": []
    },
    {
      "cell_type": "code",
      "metadata": {
        "id": "hNVteRHmh-ps"
      },
      "source": [
        "# Model / data parameters\n",
        "num_classes = 10\n",
        "input_shape = (28, 28, 1)"
      ],
      "execution_count": null,
      "outputs": []
    },
    {
      "cell_type": "code",
      "metadata": {
        "id": "fJxlQM4Sh-nN"
      },
      "source": [
        "# the data, split between train and test sets\n",
        "(x_train, y_train), (x_test, y_test) = keras.datasets.mnist.load_data()"
      ],
      "execution_count": null,
      "outputs": []
    },
    {
      "cell_type": "code",
      "metadata": {
        "id": "8_CA8rAziCxW"
      },
      "source": [
        "# Scale images to the [0, 1] range\n",
        "x_train = x_train.astype(\"float32\") / 255\n",
        "x_test = x_test.astype(\"float32\") / 255"
      ],
      "execution_count": null,
      "outputs": []
    },
    {
      "cell_type": "code",
      "metadata": {
        "id": "rzPF_-_liCV5"
      },
      "source": [
        "# Make sure images have shape (28, 28, 1)\n",
        "x_train = np.expand_dims(x_train, -1)\n",
        "x_test = np.expand_dims(x_test, -1)\n",
        "print(\"x_train shape:\", x_train.shape)\n",
        "print(x_train.shape[0], \"train samples\")\n",
        "print(x_test.shape[0], \"test samples\")"
      ],
      "execution_count": null,
      "outputs": []
    },
    {
      "cell_type": "code",
      "metadata": {
        "id": "uTl5Z_Wnhmpw"
      },
      "source": [
        "# convert class vectors to binary class matrices\n",
        "y_train = keras.utils.to_categorical(y_train, num_classes)\n",
        "y_test = keras.utils.to_categorical(y_test, num_classes)"
      ],
      "execution_count": null,
      "outputs": []
    },
    {
      "cell_type": "code",
      "metadata": {
        "id": "-zkPSocxhmnE"
      },
      "source": [
        "model = keras.Sequential(\n",
        "    [keras.Input(shape=input_shape),\n",
        "     layers.Conv2D(32, kernel_size=(3, 3), activation=\"relu\"),\n",
        "     layers.MaxPooling2D(pool_size=(2, 2)),\n",
        "     layers.Conv2D(64, kernel_size=(3, 3), activation=\"relu\"),\n",
        "     layers.MaxPooling2D(pool_size=(2, 2)),\n",
        "     layers.Flatten(),\n",
        "     layers.Dropout(0.5),\n",
        "     layers.Dense(num_classes, activation=\"softmax\"),]\n",
        "     )\n",
        "\n",
        "model.summary()"
      ],
      "execution_count": null,
      "outputs": []
    },
    {
      "cell_type": "code",
      "metadata": {
        "id": "KRI2_LyZPJm2"
      },
      "source": [
        "keras.utils.plot_model(model, show_shapes=True)"
      ],
      "execution_count": null,
      "outputs": []
    },
    {
      "cell_type": "code",
      "metadata": {
        "id": "3fQLmdbWhbHA"
      },
      "source": [
        "batch_size = 128\n",
        "epochs = 15\n",
        "\n",
        "model.compile(loss=\"categorical_crossentropy\", optimizer=\"adam\", metrics=[\"accuracy\"])\n",
        "\n",
        "model.fit(x_train, y_train, batch_size=batch_size, epochs=epochs, validation_split=0.1)\n",
        "\n",
        "# １エポック35秒前後、１5エポックで計9分くらいかかる"
      ],
      "execution_count": null,
      "outputs": []
    },
    {
      "cell_type": "code",
      "metadata": {
        "id": "eT7RPBqPhbE0"
      },
      "source": [
        "score = model.evaluate(x_test, y_test, verbose=0)\n",
        "print(\"Test loss:\", score[0])\n",
        "print(\"Test accuracy:\", score[1])"
      ],
      "execution_count": null,
      "outputs": []
    },
    {
      "cell_type": "code",
      "metadata": {
        "id": "QFj7edUuXBYV"
      },
      "source": [
        ""
      ],
      "execution_count": null,
      "outputs": []
    },
    {
      "cell_type": "code",
      "metadata": {
        "id": "Du2S3iUOWoQE"
      },
      "source": [
        ""
      ],
      "execution_count": null,
      "outputs": []
    }
  ]
}