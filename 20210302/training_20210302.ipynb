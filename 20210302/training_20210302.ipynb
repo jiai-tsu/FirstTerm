{
  "nbformat": 4,
  "nbformat_minor": 0,
  "metadata": {
    "colab": {
      "name": "training_20210302.ipynb",
      "provenance": [],
      "collapsed_sections": [
        "zTj6ItlCi88t",
        "7SN5USFEIIK3",
        "KCoA6qwqP836",
        "vA7iLvAJ3X0b",
        "TyOSFQf192Eo",
        "-G3gzf4SU7wk",
        "1UwhhjSgU7wz",
        "IHjVPq_pU79F",
        "Tftlrb9fU9bp",
        "ipxOK5DRU9cH",
        "J0Qjg6vuaHNt"
      ]
    },
    "kernelspec": {
      "name": "python3",
      "display_name": "Python 3"
    }
  },
  "cells": [
    {
      "cell_type": "markdown",
      "metadata": {
        "id": "zTj6ItlCi88t"
      },
      "source": [
        "## 35. Embedding（埋め込み法）"
      ]
    },
    {
      "cell_type": "markdown",
      "metadata": {
        "id": "7SN5USFEIIK3"
      },
      "source": [
        "### <font color = blue>**1.** </font> 単語埋め込み (Word embeddings)"
      ]
    },
    {
      "cell_type": "markdown",
      "metadata": {
        "id": "XvPBoZoyjp86"
      },
      "source": [
        "Copyright 2019 The TensorFlow Authors."
      ]
    },
    {
      "cell_type": "code",
      "metadata": {
        "id": "YS3NA-i6nAFC"
      },
      "source": [
        "#@title Licensed under the Apache License, Version 2.0 (the \"License\");\n",
        "# you may not use this file except in compliance with the License.\n",
        "# You may obtain a copy of the License at\n",
        "#\n",
        "# https://www.apache.org/licenses/LICENSE-2.0\n",
        "#\n",
        "# Unless required by applicable law or agreed to in writing, software\n",
        "# distributed under the License is distributed on an \"AS IS\" BASIS,\n",
        "# WITHOUT WARRANTIES OR CONDITIONS OF ANY KIND, either express or implied.\n",
        "# See the License for the specific language governing permissions and\n",
        "# limitations under the License."
      ],
      "execution_count": null,
      "outputs": []
    },
    {
      "cell_type": "code",
      "metadata": {
        "id": "jzRORb-Ok7QL"
      },
      "source": [
        ""
      ],
      "execution_count": null,
      "outputs": []
    },
    {
      "cell_type": "markdown",
      "metadata": {
        "id": "YQuBrTSFlyNF"
      },
      "source": [
        "#### <font color = green> **1.1.** </font> 簡単な図解"
      ]
    },
    {
      "cell_type": "markdown",
      "metadata": {
        "id": "m-Iv0NvzkWhZ"
      },
      "source": [
        "##### テキストを数値で表す\n",
        "\n",
        "機械学習モデルは、ベクトル（数値の配列）を入力として受け取ります。\n",
        "\n",
        "テキストを扱う際、最初に決めなければならないのは、文字列を機械学習モデルに入力する前に、数値に変換する（あるいはテキストを「ベクトル化」する）ための戦略です。\n",
        "\n",
        "このセクションでは、これを行う3つの戦略を見てみます。"
      ]
    },
    {
      "cell_type": "code",
      "metadata": {
        "id": "wrd8tJkEk7q9"
      },
      "source": [
        ""
      ],
      "execution_count": null,
      "outputs": []
    },
    {
      "cell_type": "markdown",
      "metadata": {
        "id": "nn1AnHw3kWdu"
      },
      "source": [
        "##### ワンホット・エンコーディング\n",
        "\n",
        "最初のアイデアとして、ボキャブラリの中の単語それぞれを「ワンホット」エンコードするというのがあります。\n",
        "\n",
        "\"The cat sat on the mat\" という文を考えてみましょう。\n",
        " \n",
        "この文に含まれるボキャブラリ（ユニークな単語）は、 (cat, mat, on, sat, the) です。\n",
        " \n",
        "それぞれの単語を表現するため、ボキャブラリの長さに等しいゼロベクトルを作り、その単語に対応するインデックスの場所に 1 を立てます。\n",
        "\n",
        "これを下図で示します。 \n",
        "\n",
        "<img src=\"https://github.com/tensorflow/docs/blob/master/site/en/tutorials/text/images/one-hot.png?raw=1\" alt=\"Diagram of one-hot encodings\" width=\"400\" />\n",
        "\n",
        "文をエンコードしたベクトルを作成するには、その後、それぞれの単語のワンホット・ベクトルをつなげればよいのです。"
      ]
    },
    {
      "cell_type": "code",
      "metadata": {
        "id": "NMN_Xf9Mk8Xv"
      },
      "source": [
        ""
      ],
      "execution_count": null,
      "outputs": []
    },
    {
      "cell_type": "markdown",
      "metadata": {
        "id": "Fz2QYQv4kyfR"
      },
      "source": [
        "##### Key point: この手法は非効率です。\n",
        "ワンホット・エンコードされたベクトルは疎（つまり、ほとんどのインデックスではゼロ）です。\n",
        "\n",
        "ボキャブラリに 10,000 の単語があると考えてみましょう。\n",
        "\n",
        "単語をすべてワンホット・エンコードするということは、要素の 99.99% がゼロであるベクトルを作ることになります。"
      ]
    },
    {
      "cell_type": "code",
      "metadata": {
        "id": "K1b-6FQrk80O"
      },
      "source": [
        ""
      ],
      "execution_count": null,
      "outputs": []
    },
    {
      "cell_type": "markdown",
      "metadata": {
        "id": "oFMTXtMUkyb3"
      },
      "source": [
        "##### それぞれの単語をユニークな数値としてエンコードする\n",
        "\n",
        "2つ目のアプローチとして、それぞれの単語をユニークな数値でエンコードするというのがあります。\n",
        "\n",
        "上記の例をとれば、\"cat\" に 1、\"mat\" に 2、というふうに番号を割り当てることができます。\n",
        "\n",
        "そうすれば、 \"The cat sat on the mat\" という文は、 [5, 1, 4, 3, 5, 2] という密なベクトルで表すことができます。\n",
        "\n",
        "この手法は効率的です。疎なベクトルの代わりに、密な（すべての要素が入っている）ベクトルが得られます。\n",
        "\n",
        "しかしながら、このアプローチには 2つの欠点があります。\n",
        "\n",
        "* 整数エンコーディングは勝手に決めたものです（単語間のいかなる関係性も含んでいません）。\n",
        "\n",
        "* 整数エンコーディングはモデルにとっては解釈しにくいものです。たとえば、線形分類器はそれぞれの特徴量について単一の重みしか学習しません。したがって、2つの単語が似かよっていることと、それらのエンコーディングが似かよっていることの間には、なんの関係もありません。この特徴と重みの組み合わせには意味がありません。\n"
      ]
    },
    {
      "cell_type": "code",
      "metadata": {
        "id": "OhNvJyY5k9Ru"
      },
      "source": [
        ""
      ],
      "execution_count": null,
      "outputs": []
    },
    {
      "cell_type": "markdown",
      "metadata": {
        "id": "GOK_rXL1kVuh"
      },
      "source": [
        "##### 単語埋め込み\n",
        "\n",
        "単語埋め込みを使うと、似たような単語が似たようにエンコードされる、効率的で密な表現が得られます。\n",
        "\n",
        "重要なのは、このエンコーディングを手動で行う必要がないということです。\n",
        "\n",
        "埋め込みは浮動小数点数の密なベクトルです（そのベクトルの長さはあなたが指定するパラメータです）。\n",
        "\n",
        "埋め込みベクトルの値は指定するものではなく、学習されるパラメータです（モデルが密結合レイヤーの重みを学習するように、訓練をとおしてモデルが学習する重みです）。\n",
        "\n",
        "一般的には、（小さいデータセットの場合の）8次元の埋め込みベクトルから、大きなデータセットを扱う 1024次元のものまで見られます。\n",
        "\n",
        "高次元の埋め込みは単語間の細かな関係を取得できますが、学習にはよりたくさんのデータが必要です。"
      ]
    },
    {
      "cell_type": "code",
      "metadata": {
        "id": "LK4OTfw8k92q"
      },
      "source": [
        ""
      ],
      "execution_count": null,
      "outputs": []
    },
    {
      "cell_type": "markdown",
      "metadata": {
        "id": "ud1mDGRKkVoG"
      },
      "source": [
        "<img src=\"https://github.com/tensorflow/docs/blob/master/site/en/tutorials/text/images/embedding2.png?raw=1\" alt=\"Diagram of an embedding\" width=\"400\"/>\n",
        "\n",
        "\n",
        "上図は単語埋め込みを図示したものです。\n",
        "\n",
        "それぞれの単語が 4次元の浮動小数点数のベクトルで表されています。\n",
        "\n",
        "埋め込みは「参照テーブル」と考えることもできます。\n",
        "\n",
        "重みが学習された後では、テーブルを参照して、それぞれの単語を対応する密ベクトルにエンコードできます。"
      ]
    },
    {
      "cell_type": "code",
      "metadata": {
        "id": "JvGK4sKOk-Uc"
      },
      "source": [
        ""
      ],
      "execution_count": null,
      "outputs": []
    },
    {
      "cell_type": "markdown",
      "metadata": {
        "id": "u3cb82Ba9BG3"
      },
      "source": [
        "#### <font color = green> **1.2.** </font> チュートリアルコード"
      ]
    },
    {
      "cell_type": "code",
      "metadata": {
        "id": "YmG3iq8d9BG4",
        "colab": {
          "base_uri": "https://localhost:8080/"
        },
        "outputId": "78733f7c-86d4-4040-bda7-831232414005"
      },
      "source": [
        "## 必要ライブラリのインストール等\n",
        "!pip install tf-nightly\n",
        "import tensorflow as tf\n",
        "\n",
        "from tensorflow import keras\n",
        "from tensorflow.keras import layers\n",
        "\n",
        "import tensorflow_datasets as tfds\n",
        "tfds.disable_progress_bar()"
      ],
      "execution_count": null,
      "outputs": [
        {
          "output_type": "stream",
          "text": [
            "Collecting tf-nightly\n",
            "\u001b[?25l  Downloading https://files.pythonhosted.org/packages/cb/db/a9e8b9a6e8be932d30064a50d6944c6dc4821690afc8b318a4adac5be7fd/tf_nightly-2.5.0.dev20210301-cp37-cp37m-manylinux2010_x86_64.whl (409.0MB)\n",
            "\u001b[K     |████████████████████████████████| 409.0MB 40kB/s \n",
            "\u001b[?25hRequirement already satisfied: google-pasta~=0.2 in /usr/local/lib/python3.7/dist-packages (from tf-nightly) (0.2.0)\n",
            "Requirement already satisfied: protobuf>=3.9.2 in /usr/local/lib/python3.7/dist-packages (from tf-nightly) (3.12.4)\n",
            "Requirement already satisfied: six~=1.15.0 in /usr/local/lib/python3.7/dist-packages (from tf-nightly) (1.15.0)\n",
            "Requirement already satisfied: termcolor~=1.1.0 in /usr/local/lib/python3.7/dist-packages (from tf-nightly) (1.1.0)\n",
            "Requirement already satisfied: absl-py~=0.10 in /usr/local/lib/python3.7/dist-packages (from tf-nightly) (0.10.0)\n",
            "Requirement already satisfied: typing-extensions~=3.7.4 in /usr/local/lib/python3.7/dist-packages (from tf-nightly) (3.7.4.3)\n",
            "Requirement already satisfied: wrapt~=1.12.1 in /usr/local/lib/python3.7/dist-packages (from tf-nightly) (1.12.1)\n",
            "Collecting tf-estimator-nightly~=2.5.0.dev\n",
            "\u001b[?25l  Downloading https://files.pythonhosted.org/packages/6b/0a/ad0233ca628c5c9af8219676406d4f71f3036b8f53a03a1300e50b91021c/tf_estimator_nightly-2.5.0.dev2021030101-py2.py3-none-any.whl (462kB)\n",
            "\u001b[K     |████████████████████████████████| 471kB 41.4MB/s \n",
            "\u001b[?25hRequirement already satisfied: flatbuffers~=1.12.0 in /usr/local/lib/python3.7/dist-packages (from tf-nightly) (1.12)\n",
            "Requirement already satisfied: keras-preprocessing~=1.1.2 in /usr/local/lib/python3.7/dist-packages (from tf-nightly) (1.1.2)\n",
            "Requirement already satisfied: astunparse~=1.6.3 in /usr/local/lib/python3.7/dist-packages (from tf-nightly) (1.6.3)\n",
            "Collecting gast==0.4.0\n",
            "  Downloading https://files.pythonhosted.org/packages/b6/48/583c032b79ae5b3daa02225a675aeb673e58d2cb698e78510feceb11958c/gast-0.4.0-py3-none-any.whl\n",
            "Collecting h5py~=3.1.0\n",
            "\u001b[?25l  Downloading https://files.pythonhosted.org/packages/9d/74/9eae2bedd8201ab464308f42c601a12d79727a1c87f0c867fdefb212c6cf/h5py-3.1.0-cp37-cp37m-manylinux1_x86_64.whl (4.0MB)\n",
            "\u001b[K     |████████████████████████████████| 4.0MB 38.8MB/s \n",
            "\u001b[?25hCollecting grpcio~=1.34.0\n",
            "\u001b[?25l  Downloading https://files.pythonhosted.org/packages/d5/d1/f38a91d8724706427fe973a7dfa11e938cee98aa7196b03d870a25a08bab/grpcio-1.34.1-cp37-cp37m-manylinux2014_x86_64.whl (4.0MB)\n",
            "\u001b[K     |████████████████████████████████| 4.0MB 37.6MB/s \n",
            "\u001b[?25hRequirement already satisfied: numpy~=1.19.2 in /usr/local/lib/python3.7/dist-packages (from tf-nightly) (1.19.5)\n",
            "Collecting tb-nightly~=2.5.0.a\n",
            "\u001b[?25l  Downloading https://files.pythonhosted.org/packages/d9/5d/c4dcd14ee626f6dc4e688517a374ddf60e775c8b28151414bb10de5e0778/tb_nightly-2.5.0a20210301-py3-none-any.whl (5.9MB)\n",
            "\u001b[K     |████████████████████████████████| 5.9MB 36.8MB/s \n",
            "\u001b[?25hRequirement already satisfied: opt-einsum~=3.3.0 in /usr/local/lib/python3.7/dist-packages (from tf-nightly) (3.3.0)\n",
            "Requirement already satisfied: wheel~=0.35 in /usr/local/lib/python3.7/dist-packages (from tf-nightly) (0.36.2)\n",
            "Requirement already satisfied: setuptools in /usr/local/lib/python3.7/dist-packages (from protobuf>=3.9.2->tf-nightly) (53.0.0)\n",
            "Collecting cached-property; python_version < \"3.8\"\n",
            "  Downloading https://files.pythonhosted.org/packages/48/19/f2090f7dad41e225c7f2326e4cfe6fff49e57dedb5b53636c9551f86b069/cached_property-1.5.2-py2.py3-none-any.whl\n",
            "Collecting tensorboard-data-server<0.4.0,>=0.3.0\n",
            "\u001b[?25l  Downloading https://files.pythonhosted.org/packages/f2/6f/a1a04f6aece9cdabe80fba01241e76172380753801e34ad50d482fbde0c0/tensorboard_data_server-0.3.0-py3-none-manylinux2010_x86_64.whl (3.8MB)\n",
            "\u001b[K     |████████████████████████████████| 3.8MB 33.5MB/s \n",
            "\u001b[?25hRequirement already satisfied: tensorboard-plugin-wit>=1.6.0 in /usr/local/lib/python3.7/dist-packages (from tb-nightly~=2.5.0.a->tf-nightly) (1.8.0)\n",
            "Requirement already satisfied: werkzeug>=0.11.15 in /usr/local/lib/python3.7/dist-packages (from tb-nightly~=2.5.0.a->tf-nightly) (1.0.1)\n",
            "Requirement already satisfied: google-auth-oauthlib<0.5,>=0.4.1 in /usr/local/lib/python3.7/dist-packages (from tb-nightly~=2.5.0.a->tf-nightly) (0.4.2)\n",
            "Requirement already satisfied: markdown>=2.6.8 in /usr/local/lib/python3.7/dist-packages (from tb-nightly~=2.5.0.a->tf-nightly) (3.3.4)\n",
            "Requirement already satisfied: requests<3,>=2.21.0 in /usr/local/lib/python3.7/dist-packages (from tb-nightly~=2.5.0.a->tf-nightly) (2.23.0)\n",
            "Requirement already satisfied: google-auth<2,>=1.6.3 in /usr/local/lib/python3.7/dist-packages (from tb-nightly~=2.5.0.a->tf-nightly) (1.27.0)\n",
            "Requirement already satisfied: requests-oauthlib>=0.7.0 in /usr/local/lib/python3.7/dist-packages (from google-auth-oauthlib<0.5,>=0.4.1->tb-nightly~=2.5.0.a->tf-nightly) (1.3.0)\n",
            "Requirement already satisfied: importlib-metadata; python_version < \"3.8\" in /usr/local/lib/python3.7/dist-packages (from markdown>=2.6.8->tb-nightly~=2.5.0.a->tf-nightly) (3.7.0)\n",
            "Requirement already satisfied: urllib3!=1.25.0,!=1.25.1,<1.26,>=1.21.1 in /usr/local/lib/python3.7/dist-packages (from requests<3,>=2.21.0->tb-nightly~=2.5.0.a->tf-nightly) (1.24.3)\n",
            "Requirement already satisfied: idna<3,>=2.5 in /usr/local/lib/python3.7/dist-packages (from requests<3,>=2.21.0->tb-nightly~=2.5.0.a->tf-nightly) (2.10)\n",
            "Requirement already satisfied: chardet<4,>=3.0.2 in /usr/local/lib/python3.7/dist-packages (from requests<3,>=2.21.0->tb-nightly~=2.5.0.a->tf-nightly) (3.0.4)\n",
            "Requirement already satisfied: certifi>=2017.4.17 in /usr/local/lib/python3.7/dist-packages (from requests<3,>=2.21.0->tb-nightly~=2.5.0.a->tf-nightly) (2020.12.5)\n",
            "Requirement already satisfied: rsa<5,>=3.1.4; python_version >= \"3.6\" in /usr/local/lib/python3.7/dist-packages (from google-auth<2,>=1.6.3->tb-nightly~=2.5.0.a->tf-nightly) (4.7.2)\n",
            "Requirement already satisfied: cachetools<5.0,>=2.0.0 in /usr/local/lib/python3.7/dist-packages (from google-auth<2,>=1.6.3->tb-nightly~=2.5.0.a->tf-nightly) (4.2.1)\n",
            "Requirement already satisfied: pyasn1-modules>=0.2.1 in /usr/local/lib/python3.7/dist-packages (from google-auth<2,>=1.6.3->tb-nightly~=2.5.0.a->tf-nightly) (0.2.8)\n",
            "Requirement already satisfied: oauthlib>=3.0.0 in /usr/local/lib/python3.7/dist-packages (from requests-oauthlib>=0.7.0->google-auth-oauthlib<0.5,>=0.4.1->tb-nightly~=2.5.0.a->tf-nightly) (3.1.0)\n",
            "Requirement already satisfied: zipp>=0.5 in /usr/local/lib/python3.7/dist-packages (from importlib-metadata; python_version < \"3.8\"->markdown>=2.6.8->tb-nightly~=2.5.0.a->tf-nightly) (3.4.0)\n",
            "Requirement already satisfied: pyasn1>=0.1.3 in /usr/local/lib/python3.7/dist-packages (from rsa<5,>=3.1.4; python_version >= \"3.6\"->google-auth<2,>=1.6.3->tb-nightly~=2.5.0.a->tf-nightly) (0.4.8)\n",
            "\u001b[31mERROR: tensorflow 2.4.1 has requirement gast==0.3.3, but you'll have gast 0.4.0 which is incompatible.\u001b[0m\n",
            "\u001b[31mERROR: tensorflow 2.4.1 has requirement grpcio~=1.32.0, but you'll have grpcio 1.34.1 which is incompatible.\u001b[0m\n",
            "\u001b[31mERROR: tensorflow 2.4.1 has requirement h5py~=2.10.0, but you'll have h5py 3.1.0 which is incompatible.\u001b[0m\n",
            "Installing collected packages: tf-estimator-nightly, gast, cached-property, h5py, grpcio, tensorboard-data-server, tb-nightly, tf-nightly\n",
            "  Found existing installation: gast 0.3.3\n",
            "    Uninstalling gast-0.3.3:\n",
            "      Successfully uninstalled gast-0.3.3\n",
            "  Found existing installation: h5py 2.10.0\n",
            "    Uninstalling h5py-2.10.0:\n",
            "      Successfully uninstalled h5py-2.10.0\n",
            "  Found existing installation: grpcio 1.32.0\n",
            "    Uninstalling grpcio-1.32.0:\n",
            "      Successfully uninstalled grpcio-1.32.0\n",
            "Successfully installed cached-property-1.5.2 gast-0.4.0 grpcio-1.34.1 h5py-3.1.0 tb-nightly-2.5.0a20210301 tensorboard-data-server-0.3.0 tf-estimator-nightly-2.5.0.dev2021030101 tf-nightly-2.5.0.dev20210301\n"
          ],
          "name": "stdout"
        }
      ]
    },
    {
      "cell_type": "code",
      "metadata": {
        "id": "9zEnwkkz9BG6"
      },
      "source": [
        ""
      ],
      "execution_count": null,
      "outputs": []
    },
    {
      "cell_type": "markdown",
      "metadata": {
        "id": "eqBazMiVQkj1"
      },
      "source": [
        "Embedding Layers 公式ドキュメント\n",
        "\n",
        "https://www.tensorflow.org/api_docs/python/tf/keras/layers/Embedding"
      ]
    },
    {
      "cell_type": "code",
      "metadata": {
        "id": "BGZ5C1u39BG_"
      },
      "source": [
        "embedding_layer = layers.Embedding(1000,  # 入力データの最大次元数\n",
        "                                   5  # 出力データ(embeddingした結果)の次元数\n",
        "                                   )\n",
        "\n",
        "# 埋め込み（重み）の初期値は（ほかのレイヤーとおなじように）ランダム\n",
        "# 訓練を通じて、これらの重みは誤差逆伝搬によって徐々に調整される\n",
        "# 学習された単語埋め込みは、単語の間の類似性をおおまかにコード化される"
      ],
      "execution_count": null,
      "outputs": []
    },
    {
      "cell_type": "code",
      "metadata": {
        "id": "tjQcSAZW9BHC",
        "colab": {
          "base_uri": "https://localhost:8080/"
        },
        "outputId": "3f10cee0-0b76-4661-e27f-3bbc7b7991e4"
      },
      "source": [
        "# 整数を渡すと、結果はそれぞれの整数が埋め込みテーブルのベクトルに置き換えられる\n",
        "\n",
        "result = embedding_layer(tf.constant([1,2,3]))\n",
        "result.numpy()"
      ],
      "execution_count": null,
      "outputs": [
        {
          "output_type": "execute_result",
          "data": {
            "text/plain": [
              "array([[ 0.04960454,  0.01364697,  0.04547786,  0.03638072, -0.02447274],\n",
              "       [ 0.03529087, -0.04131696, -0.01143914,  0.01581587, -0.04308077],\n",
              "       [ 0.03108749, -0.04935341,  0.04237579,  0.02814522, -0.01249101]],\n",
              "      dtype=float32)"
            ]
          },
          "metadata": {
            "tags": []
          },
          "execution_count": 3
        }
      ]
    },
    {
      "cell_type": "code",
      "metadata": {
        "colab": {
          "base_uri": "https://localhost:8080/"
        },
        "id": "4HzoA0ZCqAXS",
        "outputId": "7234125d-0f9e-40ce-8c97-f7113b45c8a8"
      },
      "source": [
        "result.shape"
      ],
      "execution_count": null,
      "outputs": [
        {
          "output_type": "execute_result",
          "data": {
            "text/plain": [
              "TensorShape([3, 5])"
            ]
          },
          "metadata": {
            "tags": []
          },
          "execution_count": 4
        }
      ]
    },
    {
      "cell_type": "code",
      "metadata": {
        "id": "djzhCGo59BHG",
        "colab": {
          "base_uri": "https://localhost:8080/"
        },
        "outputId": "f72f80ec-0573-472d-dea9-0b81318801e0"
      },
      "source": [
        "## テキストあるいはシーケンスの問題では、入力 shape が (samples, sequence_length) の2次元整数テンソルを取る\n",
        "# 返されたテンソルは入力より 1つ軸が多くなっており、埋め込みベクトルはその最後の新しい軸に沿って並べられる\n",
        "# (2, 3) の入力バッチを渡すと、出力は (2, 3, N) となる\n",
        "\n",
        "result = embedding_layer(tf.constant([[0,1,2],[3,4,5]]))\n",
        "result.shape"
      ],
      "execution_count": null,
      "outputs": [
        {
          "output_type": "execute_result",
          "data": {
            "text/plain": [
              "TensorShape([2, 3, 5])"
            ]
          },
          "metadata": {
            "tags": []
          },
          "execution_count": 5
        }
      ]
    },
    {
      "cell_type": "markdown",
      "metadata": {
        "id": "0wxglamN9BHI"
      },
      "source": [
        "シーケンスのバッチを入力されると、Embedding レイヤーは shape が `(samples, sequence_length, embedding_dimensionality)` の3次元浮動小数点数テンソルを返します。\n",
        "\n",
        "この可変長のシーケンスを、固定長の表現に変換するには、さまざまな標準的なアプローチが存在します。\n",
        "\n",
        "Dense レイヤーに渡す前に、RNNやアテンション、プーリングレイヤーを使うことができます。\n",
        "\n",
        "ここでは、一番単純なのでプーリングを使用します。"
      ]
    },
    {
      "cell_type": "code",
      "metadata": {
        "id": "RgHU9sO6qVWs"
      },
      "source": [
        ""
      ],
      "execution_count": null,
      "outputs": []
    },
    {
      "cell_type": "markdown",
      "metadata": {
        "id": "_Bh8B1TUT6mV"
      },
      "source": [
        "#### <font color = green> **1.3.** </font> IMDB の映画レビュー　データセット\n",
        "\n",
        "https://ai.stanford.edu/~amaas/data/sentiment/"
      ]
    },
    {
      "cell_type": "code",
      "metadata": {
        "id": "cQrYYEvvUuV7",
        "colab": {
          "base_uri": "https://localhost:8080/"
        },
        "outputId": "90c7fbe3-ebaf-4afc-b57b-b382279b9bf0"
      },
      "source": [
        "## 前処理済みのデータセットを使用する\n",
        "\n",
        "(train_data, test_data), info = tfds.load(\n",
        "    'imdb_reviews/subwords8k', \n",
        "    split = (tfds.Split.TRAIN, tfds.Split.TEST), \n",
        "    with_info=True, as_supervised=True)\n",
        "\n",
        "# WARNING が出るが公式チュートリアルコードなので特に修正しない"
      ],
      "execution_count": null,
      "outputs": [
        {
          "output_type": "stream",
          "text": [
            "WARNING:absl:TFDS datasets with text encoding are deprecated and will be removed in a future version. Instead, you should use the plain text version and tokenize the text using `tensorflow_text` (See: https://www.tensorflow.org/tutorials/tensorflow_text/intro#tfdata_example)\n"
          ],
          "name": "stderr"
        },
        {
          "output_type": "stream",
          "text": [
            "\u001b[1mDownloading and preparing dataset imdb_reviews/subwords8k/1.0.0 (download: 80.23 MiB, generated: Unknown size, total: 80.23 MiB) to /root/tensorflow_datasets/imdb_reviews/subwords8k/1.0.0...\u001b[0m\n",
            "Shuffling and writing examples to /root/tensorflow_datasets/imdb_reviews/subwords8k/1.0.0.incomplete6AAHII/imdb_reviews-train.tfrecord\n",
            "Shuffling and writing examples to /root/tensorflow_datasets/imdb_reviews/subwords8k/1.0.0.incomplete6AAHII/imdb_reviews-test.tfrecord\n"
          ],
          "name": "stdout"
        },
        {
          "output_type": "stream",
          "text": [
            "WARNING:absl:Dataset is using deprecated text encoder API which will be removed soon. Please use the plain_text version of the dataset and migrate to `tensorflow_text`.\n"
          ],
          "name": "stderr"
        },
        {
          "output_type": "stream",
          "text": [
            "Shuffling and writing examples to /root/tensorflow_datasets/imdb_reviews/subwords8k/1.0.0.incomplete6AAHII/imdb_reviews-unsupervised.tfrecord\n",
            "\u001b[1mDataset imdb_reviews downloaded and prepared to /root/tensorflow_datasets/imdb_reviews/subwords8k/1.0.0. Subsequent calls will reuse this data.\u001b[0m\n"
          ],
          "name": "stdout"
        }
      ]
    },
    {
      "cell_type": "code",
      "metadata": {
        "id": "yueILuntVEhr",
        "colab": {
          "base_uri": "https://localhost:8080/"
        },
        "outputId": "c376cef6-2fbc-479f-8694-a9dddf402f6f"
      },
      "source": [
        "## ボキャブラリを具体的に見てみる\n",
        "# \"_\" は空白スペースを表している\n",
        "# \"_\" で終わる単語全体と、長い単語を構成する文字列の一部が含まれている\n",
        "\n",
        "encoder = info.features['text'].encoder\n",
        "encoder.subwords[:20]"
      ],
      "execution_count": null,
      "outputs": [
        {
          "output_type": "execute_result",
          "data": {
            "text/plain": [
              "['the_',\n",
              " ', ',\n",
              " '. ',\n",
              " 'a_',\n",
              " 'and_',\n",
              " 'of_',\n",
              " 'to_',\n",
              " 's_',\n",
              " 'is_',\n",
              " 'br',\n",
              " 'in_',\n",
              " 'I_',\n",
              " 'that_',\n",
              " 'this_',\n",
              " 'it_',\n",
              " ' /><',\n",
              " ' />',\n",
              " 'was_',\n",
              " 'The_',\n",
              " 'as_']"
            ]
          },
          "metadata": {
            "tags": []
          },
          "execution_count": 7
        }
      ]
    },
    {
      "cell_type": "code",
      "metadata": {
        "id": "athVncTP5cBP",
        "colab": {
          "base_uri": "https://localhost:8080/"
        },
        "outputId": "c2d6e8d2-4230-4938-b578-d127035faf18"
      },
      "source": [
        "train_data"
      ],
      "execution_count": null,
      "outputs": [
        {
          "output_type": "execute_result",
          "data": {
            "text/plain": [
              "<PrefetchDataset shapes: ((None,), ()), types: (tf.int64, tf.int64)>"
            ]
          },
          "metadata": {
            "tags": []
          },
          "execution_count": 8
        }
      ]
    },
    {
      "cell_type": "code",
      "metadata": {
        "id": "f5Ao1VJb5cBS"
      },
      "source": [
        "## 映画のレビューはそれぞれ長さが異なっているはずなので、レビューの長さを標準化する\n",
        "\n",
        "train_batches = train_data.shuffle(1000).padded_batch(10, padded_shapes=([None],[]))\n",
        "test_batches = test_data.shuffle(1000).padded_batch(10, padded_shapes=([None],[]))"
      ],
      "execution_count": null,
      "outputs": []
    },
    {
      "cell_type": "code",
      "metadata": {
        "id": "YCTGQc24tEgM"
      },
      "source": [
        ""
      ],
      "execution_count": null,
      "outputs": []
    },
    {
      "cell_type": "code",
      "metadata": {
        "id": "0Ejbvj8mVbIE"
      },
      "source": [
        "## TensorFlow 2.2 から、padded_shapes は必須ではなくなりました\n",
        "## デフォルトではすべての軸をバッチ中で最も長いものに合わせてパディングします\n",
        "\n",
        "train_batches = train_data.shuffle(1000).padded_batch(10)\n",
        "test_batches = test_data.shuffle(1000).padded_batch(10)"
      ],
      "execution_count": null,
      "outputs": []
    },
    {
      "cell_type": "code",
      "metadata": {
        "id": "p5vXyeHvtV9p"
      },
      "source": [
        ""
      ],
      "execution_count": null,
      "outputs": []
    },
    {
      "cell_type": "code",
      "metadata": {
        "id": "T7Tef4XhV2u9",
        "colab": {
          "base_uri": "https://localhost:8080/"
        },
        "outputId": "93c4bea0-4cd0-499d-8b61-dadf3d7df147"
      },
      "source": [
        "train_batch, train_labels = next(iter(train_batches))\n",
        "train_batch.numpy()\n",
        "\n",
        "## インポートした状態では、レビューのテキストは整数エンコードされています\n",
        "## （それぞれの整数がボキャブラリ中の特定の単語あるいは部分単語を表しています）\n",
        "## あとの方のゼロは、バッチが一番長いサンプルに合わせてパディングされた結果です"
      ],
      "execution_count": null,
      "outputs": [
        {
          "output_type": "execute_result",
          "data": {
            "text/plain": [
              "array([[  12,  284,   14, ..., 7968, 8044, 7975],\n",
              "       [4667, 5193,  124, ...,    0,    0,    0],\n",
              "       [ 398,  198,   46, ...,    0,    0,    0],\n",
              "       ...,\n",
              "       [6169,  167, 7976, ...,    0,    0,    0],\n",
              "       [ 693, 7037, 7961, ...,    0,    0,    0],\n",
              "       [4555,  102,   11, ...,    0,    0,    0]])"
            ]
          },
          "metadata": {
            "tags": []
          },
          "execution_count": 11
        }
      ]
    },
    {
      "cell_type": "code",
      "metadata": {
        "id": "ntGWoEDKt25q"
      },
      "source": [
        ""
      ],
      "execution_count": null,
      "outputs": []
    },
    {
      "cell_type": "markdown",
      "metadata": {
        "id": "zI9_wLIiWO8Z"
      },
      "source": [
        "#### <font color = green> **1.4.** </font> 単純なモデルで学習させてみる"
      ]
    },
    {
      "cell_type": "code",
      "metadata": {
        "id": "pHLcFtn5Wsqj",
        "colab": {
          "base_uri": "https://localhost:8080/"
        },
        "outputId": "41a59735-f953-4820-a45a-4a2412d325d6"
      },
      "source": [
        "## 今回のモデルは「連続した Bag of Words」スタイルのモデルです\n",
        "\n",
        "embedding_dim=16\n",
        "\n",
        "model = keras.Sequential([\n",
        "                          layers.Embedding(encoder.vocab_size, embedding_dim),\n",
        "                          # 整数エンコードされた語彙を受け取り、それぞれの単語のインデックスに対応する埋め込みベクトルをみつけて取り出す\n",
        "                          # これらのベクトルはモデルの訓練により学習される\n",
        "                          # このベクトルは出力配列に次元を追加しその結果 (batch, sequence, embedding) という次元になる\n",
        "\n",
        "                          layers.GlobalAveragePooling1D(),\n",
        "                          # それぞれのサンプルについて、シーケンスの次元で平均を取り、固定長の出力ベクトルを返す\n",
        "                          # これにより、モデルは可変長の入力を最も簡単な方法で扱えるようになる\n",
        "\n",
        "                          # 固定長のベクトルが、16個の隠れユニットを持つ全結合（Dense）レイヤーに接続する\n",
        "                          layers.Dense(16, activation='relu'),\n",
        "\n",
        "                          layers.Dense(1)\n",
        "                          # 1個の出力ノードを持つ Dense レイヤー\n",
        "                          # シグモイド活性化関数を使うことで、値は 0 と 1 の間の値を取り、レビューがポジティブ（好意的）であるかどうかの確率（または確信度）を表す\n",
        "                          ])\n",
        "\n",
        "model.summary()"
      ],
      "execution_count": null,
      "outputs": [
        {
          "output_type": "stream",
          "text": [
            "Model: \"sequential\"\n",
            "_________________________________________________________________\n",
            "Layer (type)                 Output Shape              Param #   \n",
            "=================================================================\n",
            "embedding_1 (Embedding)      (None, None, 16)          130960    \n",
            "_________________________________________________________________\n",
            "global_average_pooling1d (Gl (None, 16)                0         \n",
            "_________________________________________________________________\n",
            "dense (Dense)                (None, 16)                272       \n",
            "_________________________________________________________________\n",
            "dense_1 (Dense)              (None, 1)                 17        \n",
            "=================================================================\n",
            "Total params: 131,249\n",
            "Trainable params: 131,249\n",
            "Non-trainable params: 0\n",
            "_________________________________________________________________\n"
          ],
          "name": "stdout"
        }
      ]
    },
    {
      "cell_type": "code",
      "metadata": {
        "id": "p8f4PmTSvg_a"
      },
      "source": [
        "##########\n",
        "# このモデルはマスキングを使用していないため、\n",
        "# ゼロパディングが入力の一部として扱われ、\n",
        "# 結果としてパディングの長さが出力に影響を与える可能性がある\n",
        "##########"
      ],
      "execution_count": null,
      "outputs": []
    },
    {
      "cell_type": "code",
      "metadata": {
        "id": "W_Tik5QBvg9X"
      },
      "source": [
        ""
      ],
      "execution_count": null,
      "outputs": []
    },
    {
      "cell_type": "code",
      "metadata": {
        "id": "AbKgCSk4v_TH"
      },
      "source": [
        "model.compile(optimizer='adam',\n",
        "              loss=tf.keras.losses.BinaryCrossentropy(from_logits=True),\n",
        "              metrics=['accuracy'])"
      ],
      "execution_count": null,
      "outputs": []
    },
    {
      "cell_type": "code",
      "metadata": {
        "id": "lCUgdP69Wzix",
        "colab": {
          "base_uri": "https://localhost:8080/"
        },
        "outputId": "3f740e39-82b9-4d22-f919-87cb8aafd666"
      },
      "source": [
        "history = model.fit(\n",
        "    train_batches,\n",
        "    epochs=10,\n",
        "    validation_data=test_batches,\n",
        "    validation_steps=20)\n",
        "\n",
        "## 1エポック11秒前後、10エポックで計2分くらいかかる"
      ],
      "execution_count": null,
      "outputs": [
        {
          "output_type": "stream",
          "text": [
            "Epoch 1/10\n",
            "2500/2500 [==============================] - 12s 5ms/step - loss: 0.6149 - accuracy: 0.5792 - val_loss: 0.3332 - val_accuracy: 0.8400\n",
            "Epoch 2/10\n",
            "2500/2500 [==============================] - 11s 4ms/step - loss: 0.3009 - accuracy: 0.8725 - val_loss: 0.3512 - val_accuracy: 0.8650\n",
            "Epoch 3/10\n",
            "2500/2500 [==============================] - 11s 4ms/step - loss: 0.2352 - accuracy: 0.9046 - val_loss: 0.3271 - val_accuracy: 0.8750\n",
            "Epoch 4/10\n",
            "2500/2500 [==============================] - 11s 4ms/step - loss: 0.2031 - accuracy: 0.9228 - val_loss: 0.3537 - val_accuracy: 0.8800\n",
            "Epoch 5/10\n",
            "2500/2500 [==============================] - 11s 4ms/step - loss: 0.1778 - accuracy: 0.9342 - val_loss: 0.3307 - val_accuracy: 0.8700\n",
            "Epoch 6/10\n",
            "2500/2500 [==============================] - 11s 4ms/step - loss: 0.1568 - accuracy: 0.9424 - val_loss: 0.4528 - val_accuracy: 0.8500\n",
            "Epoch 7/10\n",
            "2500/2500 [==============================] - 11s 4ms/step - loss: 0.1418 - accuracy: 0.9485 - val_loss: 0.4110 - val_accuracy: 0.8850\n",
            "Epoch 8/10\n",
            "2500/2500 [==============================] - 11s 4ms/step - loss: 0.1289 - accuracy: 0.9535 - val_loss: 0.4245 - val_accuracy: 0.8700\n",
            "Epoch 9/10\n",
            "2500/2500 [==============================] - 11s 4ms/step - loss: 0.1210 - accuracy: 0.9560 - val_loss: 0.3245 - val_accuracy: 0.9050\n",
            "Epoch 10/10\n",
            "2500/2500 [==============================] - 11s 4ms/step - loss: 0.1082 - accuracy: 0.9599 - val_loss: 0.4700 - val_accuracy: 0.8750\n"
          ],
          "name": "stdout"
        }
      ]
    },
    {
      "cell_type": "code",
      "metadata": {
        "id": "gEUtGPEdxS0u"
      },
      "source": [
        ""
      ],
      "execution_count": null,
      "outputs": []
    },
    {
      "cell_type": "code",
      "metadata": {
        "id": "0D3OTmOT1z1O",
        "colab": {
          "base_uri": "https://localhost:8080/",
          "height": 404
        },
        "outputId": "338f9d3c-4c68-4e6f-83a6-02409897bfe7"
      },
      "source": [
        "## 可視化（subplotで横に並べて表示されるように改変した）\n",
        "\n",
        "import matplotlib.pyplot as plt\n",
        "\n",
        "history_dict = history.history\n",
        "\n",
        "acc = history_dict['accuracy']\n",
        "val_acc = history_dict['val_accuracy']\n",
        "loss=history_dict['loss']\n",
        "val_loss=history_dict['val_loss']\n",
        "\n",
        "epochs = range(1, len(acc) + 1)\n",
        "\n",
        "#plt.figure(figsize=(12,9))\n",
        "plt.figure(figsize=(16,6))  ##\n",
        "plt.subplot(1,2,1)  ##\n",
        "plt.plot(epochs, loss, 'bo', label='Training loss')\n",
        "plt.plot(epochs, val_loss, 'b', label='Validation loss')\n",
        "plt.title('Training and validation loss')\n",
        "plt.xlabel('Epochs')\n",
        "plt.ylabel('Loss')\n",
        "plt.legend()\n",
        "#plt.show()\n",
        "\n",
        "#plt.figure(figsize=(12,9))\n",
        "plt.subplot(1,2,2)  ##\n",
        "plt.plot(epochs, acc, 'bo', label='Training acc')\n",
        "plt.plot(epochs, val_acc, 'b', label='Validation acc')\n",
        "plt.title('Training and validation accuracy')\n",
        "plt.xlabel('Epochs')\n",
        "plt.ylabel('Accuracy')\n",
        "plt.legend(loc='lower right')\n",
        "plt.ylim((0.5,1))\n",
        "plt.show()"
      ],
      "execution_count": null,
      "outputs": [
        {
          "output_type": "display_data",
          "data": {
            "image/png": "[encoded data removed]",
            "text/plain": [
              "<Figure size 1152x432 with 2 Axes>"
            ]
          },
          "metadata": {
            "tags": [],
            "needs_background": "light"
          }
        }
      ]
    },
    {
      "cell_type": "code",
      "metadata": {
        "id": "bDZuON62ztLZ"
      },
      "source": [
        ""
      ],
      "execution_count": null,
      "outputs": []
    },
    {
      "cell_type": "markdown",
      "metadata": {
        "id": "KCoA6qwqP836"
      },
      "source": [
        "#### <font color = green> **1.5.** </font> 学習した埋め込みの取得"
      ]
    },
    {
      "cell_type": "code",
      "metadata": {
        "id": "j4DOmqtw9BHf",
        "colab": {
          "base_uri": "https://localhost:8080/"
        },
        "outputId": "56ec911f-f1b9-42b7-e751-cb7f992528e4"
      },
      "source": [
        "## 訓練によって学習された単語埋め込みを取得してみる\n",
        "\n",
        "e = model.layers[0]\n",
        "weights = e.get_weights()[0]\n",
        "print(weights.shape)  # shape: (vocab_size, embedding_dim)"
      ],
      "execution_count": null,
      "outputs": [
        {
          "output_type": "stream",
          "text": [
            "(8185, 16)\n"
          ],
          "name": "stdout"
        }
      ]
    },
    {
      "cell_type": "code",
      "metadata": {
        "id": "GsjempweP9Lq"
      },
      "source": [
        "## 重みをディスクに出力\n",
        "\n",
        "import io\n",
        "\n",
        "encoder = info.features['text'].encoder\n",
        "\n",
        "out_v = io.open('vecs.tsv', 'w', encoding='utf-8')\n",
        "out_m = io.open('meta.tsv', 'w', encoding='utf-8')\n",
        "\n",
        "for num, word in enumerate(encoder.subwords):\n",
        "  vec = weights[num+1] # 0 はパディングのためスキップ\n",
        "  out_m.write(word + \"\\n\")  ## （単語を含む）メタデータファイル\n",
        "  out_v.write('\\t'.join([str(x) for x in vec]) + \"\\n\")  ## （埋め込みを含む）ベクトルのファイル\n",
        "out_v.close()\n",
        "out_m.close()"
      ],
      "execution_count": null,
      "outputs": []
    },
    {
      "cell_type": "code",
      "metadata": {
        "id": "-gFbbMmvYvhp",
        "colab": {
          "base_uri": "https://localhost:8080/",
          "height": 17
        },
        "outputId": "ddad05e8-d30e-44c4-83ef-40a5782ff06a"
      },
      "source": [
        "## Colaboratory で実行している場合には、下記のコードを使ってこれらのファイルをローカルマシンにダウンロードすることができる\n",
        "\n",
        "try:\n",
        "  from google.colab import files\n",
        "except ImportError:\n",
        "   pass\n",
        "else:\n",
        "  files.download('vecs.tsv')\n",
        "  files.download('meta.tsv')"
      ],
      "execution_count": null,
      "outputs": [
        {
          "output_type": "display_data",
          "data": {
            "application/javascript": [
              "\n",
              "    async function download(id, filename, size) {\n",
              "      if (!google.colab.kernel.accessAllowed) {\n",
              "        return;\n",
              "      }\n",
              "      const div = document.createElement('div');\n",
              "      const label = document.createElement('label');\n",
              "      label.textContent = `Downloading \"${filename}\": `;\n",
              "      div.appendChild(label);\n",
              "      const progress = document.createElement('progress');\n",
              "      progress.max = size;\n",
              "      div.appendChild(progress);\n",
              "      document.body.appendChild(div);\n",
              "\n",
              "      const buffers = [];\n",
              "      let downloaded = 0;\n",
              "\n",
              "      const channel = await google.colab.kernel.comms.open(id);\n",
              "      // Send a message to notify the kernel that we're ready.\n",
              "      channel.send({})\n",
              "\n",
              "      for await (const message of channel.messages) {\n",
              "        // Send a message to notify the kernel that we're ready.\n",
              "        channel.send({})\n",
              "        if (message.buffers) {\n",
              "          for (const buffer of message.buffers) {\n",
              "            buffers.push(buffer);\n",
              "            downloaded += buffer.byteLength;\n",
              "            progress.value = downloaded;\n",
              "          }\n",
              "        }\n",
              "      }\n",
              "      const blob = new Blob(buffers, {type: 'application/binary'});\n",
              "      const a = document.createElement('a');\n",
              "      a.href = window.URL.createObjectURL(blob);\n",
              "      a.download = filename;\n",
              "      div.appendChild(a);\n",
              "      a.click();\n",
              "      div.remove();\n",
              "    }\n",
              "  "
            ],
            "text/plain": [
              "<IPython.core.display.Javascript object>"
            ]
          },
          "metadata": {
            "tags": []
          }
        },
        {
          "output_type": "display_data",
          "data": {
            "application/javascript": [
              "download(\"download_0164b042-a5d6-4726-b493-fb97febd1c51\", \"vecs.tsv\", 1451882)"
            ],
            "text/plain": [
              "<IPython.core.display.Javascript object>"
            ]
          },
          "metadata": {
            "tags": []
          }
        },
        {
          "output_type": "display_data",
          "data": {
            "application/javascript": [
              "\n",
              "    async function download(id, filename, size) {\n",
              "      if (!google.colab.kernel.accessAllowed) {\n",
              "        return;\n",
              "      }\n",
              "      const div = document.createElement('div');\n",
              "      const label = document.createElement('label');\n",
              "      label.textContent = `Downloading \"${filename}\": `;\n",
              "      div.appendChild(label);\n",
              "      const progress = document.createElement('progress');\n",
              "      progress.max = size;\n",
              "      div.appendChild(progress);\n",
              "      document.body.appendChild(div);\n",
              "\n",
              "      const buffers = [];\n",
              "      let downloaded = 0;\n",
              "\n",
              "      const channel = await google.colab.kernel.comms.open(id);\n",
              "      // Send a message to notify the kernel that we're ready.\n",
              "      channel.send({})\n",
              "\n",
              "      for await (const message of channel.messages) {\n",
              "        // Send a message to notify the kernel that we're ready.\n",
              "        channel.send({})\n",
              "        if (message.buffers) {\n",
              "          for (const buffer of message.buffers) {\n",
              "            buffers.push(buffer);\n",
              "            downloaded += buffer.byteLength;\n",
              "            progress.value = downloaded;\n",
              "          }\n",
              "        }\n",
              "      }\n",
              "      const blob = new Blob(buffers, {type: 'application/binary'});\n",
              "      const a = document.createElement('a');\n",
              "      a.href = window.URL.createObjectURL(blob);\n",
              "      a.download = filename;\n",
              "      div.appendChild(a);\n",
              "      a.click();\n",
              "      div.remove();\n",
              "    }\n",
              "  "
            ],
            "text/plain": [
              "<IPython.core.display.Javascript object>"
            ]
          },
          "metadata": {
            "tags": []
          }
        },
        {
          "output_type": "display_data",
          "data": {
            "application/javascript": [
              "download(\"download_84a2e1a7-7b48-4142-944e-6f1f2e3ae8fa\", \"meta.tsv\", 47332)"
            ],
            "text/plain": [
              "<IPython.core.display.Javascript object>"
            ]
          },
          "metadata": {
            "tags": []
          }
        }
      ]
    },
    {
      "cell_type": "code",
      "metadata": {
        "id": "QZll78zk1GXs"
      },
      "source": [
        ""
      ],
      "execution_count": null,
      "outputs": []
    },
    {
      "cell_type": "markdown",
      "metadata": {
        "id": "PXLfFA54Yz-o"
      },
      "source": [
        "#### <font color = green> **1.6.** </font> 埋め込みを可視化する"
      ]
    },
    {
      "cell_type": "markdown",
      "metadata": {
        "id": "tcOMA0Hl1RgT"
      },
      "source": [
        "埋め込みを可視化するため、1.5. でダウンロードした２つのファイルを Embedding Projector にアップロードします。\n",
        "\n",
        "[Embedding Projector](http://projector.tensorflow.org/) を開きます。\n",
        "\n",
        "* \"Load data\" をクリックします\n",
        "\n",
        "* 作成した```vecs.tsv``` と ```meta.tsv``` の 2つのファイルをアップロードします\n"
      ]
    },
    {
      "cell_type": "code",
      "metadata": {
        "id": "IMY1CxtA1lgT"
      },
      "source": [
        ""
      ],
      "execution_count": null,
      "outputs": []
    },
    {
      "cell_type": "markdown",
      "metadata": {
        "id": "6HB5Pen91lpZ"
      },
      "source": [
        "学習させた埋め込みが表示されます。\n",
        "\n",
        "単語を探し、最も近い単語を見つけることができます。\n",
        "\n",
        "たとえば、\"beautiful\" という単語を探してみてください。\n",
        "\n",
        "近くに、 \"wonderful\" のような単語が見つかると思います。"
      ]
    },
    {
      "cell_type": "code",
      "metadata": {
        "id": "Eh5oQ46M1n8_"
      },
      "source": [
        ""
      ],
      "execution_count": null,
      "outputs": []
    },
    {
      "cell_type": "markdown",
      "metadata": {
        "id": "WXXdyBov1fm2"
      },
      "source": [
        "**Note:** 訓練の前に重みが乱数によってどのように初期化されたかによって、結果は少し異なるかもしれません。"
      ]
    },
    {
      "cell_type": "code",
      "metadata": {
        "id": "_jt59GbwjPOR"
      },
      "source": [
        ""
      ],
      "execution_count": null,
      "outputs": []
    },
    {
      "cell_type": "markdown",
      "metadata": {
        "id": "q6zvL0l71qjH"
      },
      "source": [
        "**Note:** 実験として、もっと単純なモデルを使い、より解釈しやすい埋め込みを作ることもできます。\n",
        "\n",
        "`Dense(16)` レイヤーを削除してみてください。\n",
        "\n",
        "このモデルを再度訓練して、埋め込みの可視化をもう一度行ってみましょう。\n"
      ]
    },
    {
      "cell_type": "code",
      "metadata": {
        "colab": {
          "base_uri": "https://localhost:8080/"
        },
        "id": "nQRXcF2m2FDe",
        "outputId": "ed49fd23-5a94-4a02-9509-0b4e8f47d9c4"
      },
      "source": [
        "## 以下コピペ改変用\n",
        "\n",
        "embedding_dim2 = 16\n",
        "\n",
        "model2 = keras.Sequential([\n",
        "                          layers.Embedding(encoder.vocab_size, embedding_dim2),\n",
        "                          layers.GlobalAveragePooling1D(),\n",
        "                          #layers.Dense(16, activation='relu'),\n",
        "                          layers.Dense(1)\n",
        "                          ])\n",
        "\n",
        "model2.summary()"
      ],
      "execution_count": null,
      "outputs": [
        {
          "output_type": "stream",
          "text": [
            "Model: \"sequential_1\"\n",
            "_________________________________________________________________\n",
            "Layer (type)                 Output Shape              Param #   \n",
            "=================================================================\n",
            "embedding_2 (Embedding)      (None, None, 16)          130960    \n",
            "_________________________________________________________________\n",
            "global_average_pooling1d_1 ( (None, 16)                0         \n",
            "_________________________________________________________________\n",
            "dense_2 (Dense)              (None, 1)                 17        \n",
            "=================================================================\n",
            "Total params: 130,977\n",
            "Trainable params: 130,977\n",
            "Non-trainable params: 0\n",
            "_________________________________________________________________\n"
          ],
          "name": "stdout"
        }
      ]
    },
    {
      "cell_type": "code",
      "metadata": {
        "id": "BIaoKDg42FDz"
      },
      "source": [
        "model2.compile(optimizer='adam',\n",
        "              loss=tf.keras.losses.BinaryCrossentropy(from_logits=True),\n",
        "              metrics=['accuracy'])"
      ],
      "execution_count": null,
      "outputs": []
    },
    {
      "cell_type": "code",
      "metadata": {
        "colab": {
          "base_uri": "https://localhost:8080/"
        },
        "id": "7YsRiVDS2FDz",
        "outputId": "6fd5ea98-ac5b-4d5e-f6b0-5bc0d7b7c880"
      },
      "source": [
        "history2 = model2.fit(\n",
        "    train_batches,\n",
        "    epochs=10,\n",
        "    validation_data=test_batches,\n",
        "    validation_steps=20)"
      ],
      "execution_count": null,
      "outputs": [
        {
          "output_type": "stream",
          "text": [
            "Epoch 1/10\n",
            "2500/2500 [==============================] - 11s 4ms/step - loss: 0.6709 - accuracy: 0.5110 - val_loss: 0.5783 - val_accuracy: 0.7050\n",
            "Epoch 2/10\n",
            "2500/2500 [==============================] - 10s 4ms/step - loss: 0.4962 - accuracy: 0.7324 - val_loss: 0.4443 - val_accuracy: 0.8400\n",
            "Epoch 3/10\n",
            "2500/2500 [==============================] - 10s 4ms/step - loss: 0.3752 - accuracy: 0.8303 - val_loss: 0.4056 - val_accuracy: 0.8500\n",
            "Epoch 4/10\n",
            "2500/2500 [==============================] - 10s 4ms/step - loss: 0.3146 - accuracy: 0.8695 - val_loss: 0.3980 - val_accuracy: 0.8400\n",
            "Epoch 5/10\n",
            "2500/2500 [==============================] - 10s 4ms/step - loss: 0.2767 - accuracy: 0.8901 - val_loss: 0.2924 - val_accuracy: 0.8500\n",
            "Epoch 6/10\n",
            "2500/2500 [==============================] - 11s 4ms/step - loss: 0.2523 - accuracy: 0.9029 - val_loss: 0.4080 - val_accuracy: 0.8400\n",
            "Epoch 7/10\n",
            "2500/2500 [==============================] - 10s 4ms/step - loss: 0.2317 - accuracy: 0.9108 - val_loss: 0.4463 - val_accuracy: 0.8450\n",
            "Epoch 8/10\n",
            "2500/2500 [==============================] - 11s 4ms/step - loss: 0.2156 - accuracy: 0.9193 - val_loss: 0.3446 - val_accuracy: 0.8800\n",
            "Epoch 9/10\n",
            "2500/2500 [==============================] - 10s 4ms/step - loss: 0.2010 - accuracy: 0.9224 - val_loss: 0.4238 - val_accuracy: 0.8200\n",
            "Epoch 10/10\n",
            "2500/2500 [==============================] - 10s 4ms/step - loss: 0.1901 - accuracy: 0.9289 - val_loss: 0.3224 - val_accuracy: 0.8600\n"
          ],
          "name": "stdout"
        }
      ]
    },
    {
      "cell_type": "code",
      "metadata": {
        "id": "yEK85Dfx2FD0"
      },
      "source": [
        "## 重みをディスクに出力\n",
        "\n",
        "encoder = info.features['text'].encoder\n",
        "\n",
        "e2 = model2.layers[0]\n",
        "weights2 = e2.get_weights()[0]\n",
        "\n",
        "out_v = io.open('vecs2.tsv', 'w', encoding='utf-8')\n",
        "out_m = io.open('meta2.tsv', 'w', encoding='utf-8')\n",
        "\n",
        "for num, word in enumerate(encoder.subwords):\n",
        "  vec = weights2[num+1] # 0 はパディングのためスキップ\n",
        "  out_m.write(word + \"\\n\")  ## （単語を含む）メタデータファイル\n",
        "  out_v.write('\\t'.join([str(x) for x in vec]) + \"\\n\")  ## （埋め込みを含む）ベクトルのファイル\n",
        "out_v.close()\n",
        "out_m.close()\n",
        "\n",
        "try:\n",
        "  from google.colab import files\n",
        "except ImportError:\n",
        "   pass\n",
        "else:\n",
        "  files.download('vecs2.tsv')\n",
        "  files.download('meta2.tsv')"
      ],
      "execution_count": null,
      "outputs": []
    },
    {
      "cell_type": "code",
      "metadata": {
        "id": "bSQiku7W10fc"
      },
      "source": [
        ""
      ],
      "execution_count": null,
      "outputs": []
    },
    {
      "cell_type": "code",
      "metadata": {
        "id": "pEYS0dZBjPJm"
      },
      "source": [
        ""
      ],
      "execution_count": null,
      "outputs": []
    },
    {
      "cell_type": "markdown",
      "metadata": {
        "id": "vA7iLvAJ3X0b"
      },
      "source": [
        "### <font color = blue>**2.** </font> genomics_ood に embedding を適用"
      ]
    },
    {
      "cell_type": "code",
      "metadata": {
        "id": "yJQ6QSk6zge6"
      },
      "source": [
        "import tensorflow as tf\n",
        "from tensorflow import keras\n",
        "from tensorflow.keras import layers\n",
        "import tensorflow_datasets as tfds\n",
        "tfds.disable_progress_bar()"
      ],
      "execution_count": null,
      "outputs": []
    },
    {
      "cell_type": "code",
      "metadata": {
        "id": "LgrrZH6szgdS"
      },
      "source": [
        "dataset = tfds.load('genomics_ood', as_supervised = True, batch_size=-1)"
      ],
      "execution_count": null,
      "outputs": []
    },
    {
      "cell_type": "code",
      "metadata": {
        "id": "CATAj3ojzgb2"
      },
      "source": [
        "import numpy as np\n",
        "\n",
        "## 計算速度向上のためデータ数を絞る\n",
        "X_train = np.array(dataset[\"train\"][0][:10000])\n",
        "Y_train = np.array(dataset[\"train\"][1][:10000])\n",
        "\n",
        "## 自由研究 : 下記のように10万、もしくは全データで学習実行してどこまで精度が上がるか確かめる\n",
        "#X_train = np.array(dataset[\"train\"][0][:100000])\n",
        "#Y_train = np.array(dataset[\"train\"][1][:100000])\n",
        "\n",
        "X_val = np.array(dataset['validation'][0][:1000])\n",
        "Y_val = np.array(dataset['validation'][1][:1000])\n",
        "X_test = np.array(dataset['test'][0])\n",
        "Y_test = np.array(dataset['test'][1])"
      ],
      "execution_count": null,
      "outputs": []
    },
    {
      "cell_type": "code",
      "metadata": {
        "id": "Rew2IeVBzgZf"
      },
      "source": [
        "def trans(X):\n",
        "  T = [0 for k in range(len(X))]\n",
        "  for k in range(len(X)):\n",
        "    T[k]=list(X[k])\n",
        "    for i in range(len(T[k])):\n",
        "      if T[k][i]==ord('A'):\n",
        "        T[k][i]=1\n",
        "      elif T[k][i]==ord('T'):\n",
        "        T[k][i]=2\n",
        "      elif T[k][i]==ord('G'):\n",
        "        T[k][i]=3\n",
        "      elif T[k][i]==ord('C'):\n",
        "        T[k][i]=4\n",
        "  return np.array(T)"
      ],
      "execution_count": null,
      "outputs": []
    },
    {
      "cell_type": "code",
      "metadata": {
        "id": "I68i35JBzmr-"
      },
      "source": [
        "X_train=trans(X_train)\n",
        "X_val=trans(X_val)\n",
        "X_test=trans(X_test)"
      ],
      "execution_count": null,
      "outputs": []
    },
    {
      "cell_type": "code",
      "metadata": {
        "id": "hzUy60Bozmpz"
      },
      "source": [
        "embedding_dim=16\n",
        "model = keras.Sequential([\n",
        "                          layers.Embedding(250, embedding_dim),\n",
        "                          layers.LSTM(64,return_sequences=True),\n",
        "                          layers.BatchNormalization(),\n",
        "                          layers.LSTM(16),\n",
        "                          layers.BatchNormalization(),\n",
        "                          layers.Dense(16),\n",
        "                          tf.keras.layers.BatchNormalization(),\n",
        "                          tf.keras.layers.Activation('relu'),\n",
        "                          layers.Dense(10),\n",
        "                          tf.keras.layers.BatchNormalization(),\n",
        "                          tf.keras.layers.Activation('softmax')\n",
        "                          ])\n",
        "model.summary()"
      ],
      "execution_count": null,
      "outputs": []
    },
    {
      "cell_type": "code",
      "metadata": {
        "id": "6TUOypJ1zmoE"
      },
      "source": [
        "tf.keras.utils.plot_model(model, show_shapes=True)"
      ],
      "execution_count": null,
      "outputs": []
    },
    {
      "cell_type": "code",
      "metadata": {
        "id": "Bvj5gb4Rzml8"
      },
      "source": [
        "loss_fn = tf.keras.losses.SparseCategoricalCrossentropy(from_logits=True)\n",
        "model.compile(optimizer='adam',\n",
        "              loss=loss_fn,\n",
        "              metrics=['accuracy'])\n",
        "fitting = model.fit(X_train, Y_train, epochs=10, validation_data=(X_val,Y_val), batch_size=128)\n",
        "\n",
        "## 1エポック30秒前後"
      ],
      "execution_count": null,
      "outputs": []
    },
    {
      "cell_type": "code",
      "metadata": {
        "id": "EADsfmdD8yCa"
      },
      "source": [
        "import matplotlib.pyplot as plt\n",
        "plt.figure(figsize = (12, 8))\n",
        "plt.plot(fitting.history['loss'])\n",
        "plt.plot(fitting.history['val_loss'])\n",
        "plt.show()"
      ],
      "execution_count": null,
      "outputs": []
    },
    {
      "cell_type": "code",
      "metadata": {
        "id": "ucV4pvWr8yYl"
      },
      "source": [
        ""
      ],
      "execution_count": null,
      "outputs": []
    },
    {
      "cell_type": "code",
      "metadata": {
        "id": "v1vtdV2z8yGf"
      },
      "source": [
        ""
      ],
      "execution_count": null,
      "outputs": []
    },
    {
      "cell_type": "code",
      "metadata": {
        "id": "_J7JQton3aUV"
      },
      "source": [
        ""
      ],
      "execution_count": null,
      "outputs": []
    },
    {
      "cell_type": "markdown",
      "metadata": {
        "id": "TyOSFQf192Eo"
      },
      "source": [
        "## 36. 自然言語処理（Natural Language Processing : NLP）"
      ]
    },
    {
      "cell_type": "markdown",
      "metadata": {
        "id": "-G3gzf4SU7wk"
      },
      "source": [
        "### <font color = blue>**1.** </font> Sequence to sequence learning for performing number addition\n",
        "\n",
        "**Author:** [Smerity](https://twitter.com/Smerity) and others<br>\n",
        "**Date created:** 2015/08/17<br>\n",
        "**Last modified:** 2020/04/17<br>\n",
        "**Description:** A model that learns to add strings of numbers, e.g. \"535+61\" -> \"596\"."
      ]
    },
    {
      "cell_type": "markdown",
      "metadata": {
        "id": "3Yt-RlgNIxtp"
      },
      "source": [
        "#### <font color = green> **1.1.** </font> Introduction"
      ]
    },
    {
      "cell_type": "markdown",
      "metadata": {
        "id": "RXmi-nzSU7wx"
      },
      "source": [
        "In this example, we train a model to learn to add two numbers, provided as strings.\n",
        "\n",
        "**Example:**\n",
        "\n",
        "- Input: \"535+61\"\n",
        "- Output: \"596\"\n",
        "\n",
        "Input may optionally be reversed, which was shown to increase performance in many tasks in: [Learning to Execute](http://arxiv.org/abs/1410.4615) and\n",
        "[Sequence to Sequence Learning with Neural Networks](http://papers.nips.cc/paper/5346-sequence-to-sequence-learning-with-neural-networks.pdf)\n",
        "\n",
        "Theoretically, sequence order inversion introduces shorter term dependencies between source and target for this problem."
      ]
    },
    {
      "cell_type": "markdown",
      "metadata": {
        "id": "1UwhhjSgU7wz"
      },
      "source": [
        "#### <font color = green> **1.2.** </font> コード\n"
      ]
    },
    {
      "cell_type": "code",
      "metadata": {
        "id": "9u_nXtd3U7wz"
      },
      "source": [
        "## Setup\n",
        "\n",
        "from tensorflow import keras\n",
        "from tensorflow.keras import layers\n",
        "import numpy as np"
      ],
      "execution_count": null,
      "outputs": []
    },
    {
      "cell_type": "code",
      "metadata": {
        "id": "ItS6ipzqEnqG"
      },
      "source": [
        "# Parameters for the model and dataset.\n",
        "\n",
        "TRAINING_SIZE = 10000 ### 50000 -> 10000\n",
        "DIGITS = 3  ###\n",
        "REVERSE = True"
      ],
      "execution_count": null,
      "outputs": []
    },
    {
      "cell_type": "code",
      "metadata": {
        "id": "L0-_z6fEEnlQ"
      },
      "source": [
        "# Maximum length of input is 'int + int' (e.g., '345+678').\n",
        "# Maximum length of int is DIGITS.\n",
        "\n",
        "MAXLEN = DIGITS + 1 + DIGITS"
      ],
      "execution_count": null,
      "outputs": []
    },
    {
      "cell_type": "code",
      "metadata": {
        "id": "iSe7CeJEGY2m"
      },
      "source": [
        ""
      ],
      "execution_count": null,
      "outputs": []
    },
    {
      "cell_type": "code",
      "metadata": {
        "id": "SIyZHGXME3_t"
      },
      "source": [
        "## Generate the data\n",
        "\n",
        "class CharacterTable:\n",
        "  \"\"\"Given a set of characters:\n",
        "  + Encode them to a one-hot integer representation\n",
        "  + Decode the one-hot or integer representation to their character output\n",
        "  + Decode a vector of probabilities to their character output\n",
        "  \"\"\"\n",
        "\n",
        "  def __init__(self, chars):\n",
        "    \"\"\"Initialize character table.\n",
        "    # Arguments\n",
        "        chars: Characters that can appear in the input.\n",
        "    \"\"\"\n",
        "    self.chars = sorted(set(chars))\n",
        "    self.char_indices = dict((c, i) for i, c in enumerate(self.chars))\n",
        "    self.indices_char = dict((i, c) for i, c in enumerate(self.chars))\n",
        "\n",
        "  def encode(self, C, num_rows):\n",
        "    \"\"\"One-hot encode given string C.\n",
        "    # Arguments\n",
        "        C: string, to be encoded.\n",
        "        num_rows: Number of rows in the returned one-hot encoding.\n",
        "        This is used to keep the # of rows for each data the same.\n",
        "    \"\"\"\n",
        "    x = np.zeros((num_rows, len(self.chars)))\n",
        "    for i, c in enumerate(C):\n",
        "      x[i, self.char_indices[c]] = 1\n",
        "    return x\n",
        "\n",
        "  def decode(self, x, calc_argmax=True):\n",
        "    \"\"\"Decode the given vector or 2D array to their character output.\n",
        "    # Arguments\n",
        "        x: A vector or a 2D array of probabilities or one-hot representations;\n",
        "            or a vector of character indices (used with `calc_argmax=False`).\n",
        "        calc_argmax: Whether to find the character index with maximum\n",
        "            probability, defaults to `True`.\n",
        "    \"\"\"\n",
        "    if calc_argmax:\n",
        "      x = x.argmax(axis=-1)\n",
        "    return \"\".join(self.indices_char[x] for x in x)"
      ],
      "execution_count": null,
      "outputs": []
    },
    {
      "cell_type": "code",
      "metadata": {
        "id": "QRQZhFcrE39E"
      },
      "source": [
        "# All the numbers, plus sign and space for padding.\n",
        "chars = \"0123456789+ \"\n",
        "ctable = CharacterTable(chars)"
      ],
      "execution_count": null,
      "outputs": []
    },
    {
      "cell_type": "code",
      "metadata": {
        "id": "MEXaJPbzU7x5",
        "colab": {
          "base_uri": "https://localhost:8080/"
        },
        "outputId": "611d67af-2b87-49b2-e4b4-911d9c663ccc"
      },
      "source": [
        "questions = []\n",
        "expected = []\n",
        "seen = set()\n",
        "\n",
        "print(\"Generating data...\")\n",
        "while len(questions) < TRAINING_SIZE:\n",
        "  f = lambda: int(\n",
        "      \"\".join(\n",
        "          np.random.choice(list(\"0123456789\"))\n",
        "          for i in range(np.random.randint(1, DIGITS + 1))\n",
        "          )\n",
        "      )\n",
        "  a, b = f(), f()\n",
        "  # Skip any addition questions we've already seen also skip any such that x+Y == Y+x (hence the sorting).\n",
        "  key = tuple(sorted((a, b)))\n",
        "  if key in seen:\n",
        "    continue\n",
        "  seen.add(key)\n",
        "  # Pad the data with spaces such that it is always MAXLEN.\n",
        "  q = \"{}+{}\".format(a, b)\n",
        "  query = q + \" \" * (MAXLEN - len(q))\n",
        "  ans = str(a + b)\n",
        "  # Answers can be of maximum size DIGITS + 1.\n",
        "  ans += \" \" * (DIGITS + 1 - len(ans))\n",
        "  if REVERSE:\n",
        "    # Reverse the query, e.g., '12+345  ' becomes '  543+21'. (Note the space used for padding.)\n",
        "    query = query[::-1]\n",
        "  questions.append(query)\n",
        "  expected.append(ans)\n",
        "\n",
        "print(\"Total questions:\", len(questions))"
      ],
      "execution_count": null,
      "outputs": [
        {
          "output_type": "stream",
          "text": [
            "Generating data...\n",
            "Total questions: 10000\n"
          ],
          "name": "stdout"
        }
      ]
    },
    {
      "cell_type": "code",
      "metadata": {
        "id": "F3V2oeoKGXyW"
      },
      "source": [
        ""
      ],
      "execution_count": null,
      "outputs": []
    },
    {
      "cell_type": "code",
      "metadata": {
        "id": "DOxZu4FlU7x7",
        "colab": {
          "base_uri": "https://localhost:8080/"
        },
        "outputId": "a9677ec2-6d68-4124-b3c6-f473c9cafd3c"
      },
      "source": [
        "## Vectorize the data\n",
        "\n",
        "print(\"Vectorization...\")\n",
        "x = np.zeros((len(questions), MAXLEN, len(chars)), dtype=np.bool)\n",
        "y = np.zeros((len(questions), DIGITS + 1, len(chars)), dtype=np.bool)\n",
        "for i, sentence in enumerate(questions):\n",
        "  x[i] = ctable.encode(sentence, MAXLEN)\n",
        "for i, sentence in enumerate(expected):\n",
        "  y[i] = ctable.encode(sentence, DIGITS + 1)"
      ],
      "execution_count": null,
      "outputs": [
        {
          "output_type": "stream",
          "text": [
            "Vectorization...\n"
          ],
          "name": "stdout"
        }
      ]
    },
    {
      "cell_type": "code",
      "metadata": {
        "id": "m_ezxwgtGQoh"
      },
      "source": [
        "# Shuffle (x, y) in unison as the later parts of x will almost all be larger digits.\n",
        "indices = np.arange(len(y))\n",
        "np.random.shuffle(indices)\n",
        "x = x[indices]\n",
        "y = y[indices]"
      ],
      "execution_count": null,
      "outputs": []
    },
    {
      "cell_type": "code",
      "metadata": {
        "colab": {
          "base_uri": "https://localhost:8080/"
        },
        "id": "zkm5CcbCGM7D",
        "outputId": "322778e2-35db-4166-f469-19bafe6a4e85"
      },
      "source": [
        "# Explicitly set apart 10% for validation data that we never train over.\n",
        "split_at = len(x) - len(x) // 10\n",
        "(x_train, x_val) = x[:split_at], x[split_at:]\n",
        "(y_train, y_val) = y[:split_at], y[split_at:]\n",
        "\n",
        "print(\"Training Data:\")\n",
        "print(x_train.shape)\n",
        "print(y_train.shape)\n",
        "\n",
        "print(\"Validation Data:\")\n",
        "print(x_val.shape)\n",
        "print(y_val.shape)"
      ],
      "execution_count": null,
      "outputs": [
        {
          "output_type": "stream",
          "text": [
            "Training Data:\n",
            "(9000, 7, 12)\n",
            "(9000, 4, 12)\n",
            "Validation Data:\n",
            "(1000, 7, 12)\n",
            "(1000, 4, 12)\n"
          ],
          "name": "stdout"
        }
      ]
    },
    {
      "cell_type": "code",
      "metadata": {
        "id": "bFV4OQBZGM4r"
      },
      "source": [
        ""
      ],
      "execution_count": null,
      "outputs": []
    },
    {
      "cell_type": "code",
      "metadata": {
        "id": "EwzZqZuKU7x8",
        "colab": {
          "base_uri": "https://localhost:8080/"
        },
        "outputId": "e9c6f03d-7cd4-41df-898d-cd80e1648a78"
      },
      "source": [
        "## Build the model\n",
        "\n",
        "print(\"Build model...\")\n",
        "num_layers = 1  # Try to add more LSTM layers!\n",
        "\n",
        "model = keras.Sequential()\n",
        "# \"Encode\" the input sequence using a LSTM, producing an output of size 128.\n",
        "# Note: In a situation where your input sequences have a variable length, use input_shape=(None, num_feature).\n",
        "\n",
        "model.add(layers.LSTM(128, input_shape=(MAXLEN, len(chars))))\n",
        "# As the decoder RNN's input, repeatedly provide with the last output of RNN for each time step.\n",
        "# Repeat 'DIGITS + 1' times as that's the maximum length of output, e.g., when DIGITS=3, max output is 999+999=1998.\n",
        "\n",
        "model.add(layers.RepeatVector(DIGITS + 1))\n",
        "# The decoder RNN could be multiple layers stacked or a single layer.\n",
        "\n",
        "for _ in range(num_layers):\n",
        "  # By setting return_sequences to True, return not only the last output but\n",
        "  # all the outputs so far in the form of (num_samples, timesteps, output_dim).\n",
        "  # This is necessary as TimeDistributed in the below expects the first dimension to be the timesteps.\n",
        "  model.add(layers.LSTM(128, return_sequences=True))\n",
        "\n",
        "# Apply a dense layer to the every temporal slice of an input.\n",
        "# For each of step of the output sequence, decide which character should be chosen.\n",
        "model.add(layers.Dense(len(chars), activation=\"softmax\"))\n",
        "model.compile(loss=\"categorical_crossentropy\", optimizer=\"adam\", metrics=[\"accuracy\"])\n",
        "model.summary()"
      ],
      "execution_count": null,
      "outputs": [
        {
          "output_type": "stream",
          "text": [
            "Build model...\n",
            "Model: \"sequential_2\"\n",
            "_________________________________________________________________\n",
            "Layer (type)                 Output Shape              Param #   \n",
            "=================================================================\n",
            "lstm (LSTM)                  (None, 128)               72192     \n",
            "_________________________________________________________________\n",
            "repeat_vector (RepeatVector) (None, 4, 128)            0         \n",
            "_________________________________________________________________\n",
            "lstm_1 (LSTM)                (None, 4, 128)            131584    \n",
            "_________________________________________________________________\n",
            "dense_3 (Dense)              (None, 4, 12)             1548      \n",
            "=================================================================\n",
            "Total params: 205,324\n",
            "Trainable params: 205,324\n",
            "Non-trainable params: 0\n",
            "_________________________________________________________________\n"
          ],
          "name": "stdout"
        }
      ]
    },
    {
      "cell_type": "code",
      "metadata": {
        "id": "NKjQ0NrVG3GD"
      },
      "source": [
        ""
      ],
      "execution_count": null,
      "outputs": []
    },
    {
      "cell_type": "code",
      "metadata": {
        "id": "zi9G7JXUU7x-",
        "colab": {
          "base_uri": "https://localhost:8080/"
        },
        "outputId": "09993812-378c-4970-d47a-bf3cb56c18a0"
      },
      "source": [
        "## Train the model\n",
        "\n",
        "epochs = 10 ## 30 -> 10\n",
        "batch_size = 32 ##\n",
        "\n",
        "\n",
        "# Train the model each generation and show predictions against the validation dataset.\n",
        "for epoch in range(1, epochs):\n",
        "  print()\n",
        "  print(\"Iteration\", epoch)\n",
        "  model.fit(x_train, y_train, batch_size=batch_size, epochs=1, validation_data=(x_val, y_val))\n",
        "  # Select 10 samples from the validation set at random so we can visualize errors.\n",
        "  for i in range(10): ###\n",
        "    ind = np.random.randint(0, len(x_val))\n",
        "    rowx, rowy = x_val[np.array([ind])], y_val[np.array([ind])]\n",
        "    preds = np.argmax(model.predict(rowx), axis=-1)\n",
        "    q = ctable.decode(rowx[0])\n",
        "    correct = ctable.decode(rowy[0])\n",
        "    guess = ctable.decode(preds[0], calc_argmax=False)\n",
        "    print(\"Q\", q[::-1] if REVERSE else q, end=\" \")\n",
        "    print(\"T\", correct, end=\" \")\n",
        "    if correct == guess:\n",
        "      print(\"☑ \" + guess)\n",
        "    else:\n",
        "      print(\"☒ \" + guess)\n",
        "\n",
        "## 1エポック6秒ちょっと、10エポックで計1分ちょいかかる"
      ],
      "execution_count": null,
      "outputs": [
        {
          "output_type": "stream",
          "text": [
            "\n",
            "Iteration 1\n",
            "282/282 [==============================] - 6s 20ms/step - loss: 1.1692 - accuracy: 0.5552 - val_loss: 1.1518 - val_accuracy: 0.5630\n",
            "Q 565+62  T 627  ☒ 602 \n",
            "Q 168+62  T 230  ☒ 207 \n",
            "Q 7+285   T 292  ☒ 288 \n",
            "\n",
            "Iteration 2\n",
            "282/282 [==============================] - 6s 20ms/step - loss: 1.0956 - accuracy: 0.5874 - val_loss: 1.0856 - val_accuracy: 0.5932\n",
            "Q 34+183  T 217  ☒ 201 \n",
            "Q 602+43  T 645  ☒ 669 \n",
            "Q 839+225 T 1064 ☒ 111 \n",
            "\n",
            "Iteration 3\n",
            "282/282 [==============================] - 5s 19ms/step - loss: 1.0359 - accuracy: 0.6124 - val_loss: 1.0266 - val_accuracy: 0.6175\n",
            "Q 961+94  T 1055 ☒ 1040\n",
            "Q 883+19  T 902  ☒ 892 \n",
            "Q 7+580   T 587  ☒ 588 \n",
            "\n",
            "Iteration 4\n",
            "282/282 [==============================] - 6s 20ms/step - loss: 0.9848 - accuracy: 0.6356 - val_loss: 0.9784 - val_accuracy: 0.6363\n",
            "Q 0+652   T 652  ☒ 653 \n",
            "Q 31+121  T 152  ☒ 146 \n",
            "Q 791+89  T 880  ☒ 855 \n",
            "\n",
            "Iteration 5\n",
            "282/282 [==============================] - 6s 20ms/step - loss: 0.9311 - accuracy: 0.6575 - val_loss: 0.9317 - val_accuracy: 0.6543\n",
            "Q 549+4   T 553  ☒ 552 \n",
            "Q 277+2   T 279  ☒ 278 \n",
            "Q 66+12   T 78   ☑ 78  \n",
            "\n",
            "Iteration 6\n",
            "282/282 [==============================] - 6s 21ms/step - loss: 0.8832 - accuracy: 0.6780 - val_loss: 0.9069 - val_accuracy: 0.6580\n",
            "Q 96+596  T 692  ☒ 663 \n",
            "Q 327+93  T 420  ☒ 427 \n",
            "Q 719+68  T 787  ☒ 786 \n",
            "\n",
            "Iteration 7\n",
            "282/282 [==============================] - 6s 20ms/step - loss: 0.8320 - accuracy: 0.6992 - val_loss: 0.8488 - val_accuracy: 0.6793\n",
            "Q 2+699   T 701  ☒ 607 \n",
            "Q 734+436 T 1170 ☒ 1106\n",
            "Q 56+282  T 338  ☒ 335 \n",
            "\n",
            "Iteration 8\n",
            "282/282 [==============================] - 6s 20ms/step - loss: 0.7903 - accuracy: 0.7159 - val_loss: 0.8071 - val_accuracy: 0.6977\n",
            "Q 25+77   T 102  ☒ 101 \n",
            "Q 33+811  T 844  ☒ 847 \n",
            "Q 33+811  T 844  ☒ 847 \n",
            "\n",
            "Iteration 9\n",
            "282/282 [==============================] - 6s 20ms/step - loss: 0.7444 - accuracy: 0.7349 - val_loss: 0.7847 - val_accuracy: 0.7095\n",
            "Q 69+105  T 174  ☒ 179 \n",
            "Q 571+436 T 1007 ☒ 1006\n",
            "Q 549+2   T 551  ☒ 552 \n"
          ],
          "name": "stdout"
        }
      ]
    },
    {
      "cell_type": "code",
      "metadata": {
        "id": "73Q4tUvVHXEL"
      },
      "source": [
        ""
      ],
      "execution_count": null,
      "outputs": []
    },
    {
      "cell_type": "code",
      "metadata": {
        "id": "QRbSMyg4Nfp-"
      },
      "source": [
        ""
      ],
      "execution_count": null,
      "outputs": []
    },
    {
      "cell_type": "markdown",
      "metadata": {
        "id": "IHjVPq_pU79F"
      },
      "source": [
        "### <font color = blue>**2.** </font> Bidirectional LSTM on IMDB\n",
        "\n",
        "**Author:** [fchollet](https://twitter.com/fchollet)<br>\n",
        "**Date created:** 2020/05/03<br>\n",
        "**Last modified:** 2020/05/03<br>\n",
        "**Description:** Train a 2-layer bidirectional LSTM on the IMDB movie review sentiment classification dataset."
      ]
    },
    {
      "cell_type": "code",
      "metadata": {
        "id": "KEf1PStlU79f"
      },
      "source": [
        "## Setup\n",
        "\n",
        "import numpy as np\n",
        "from tensorflow import keras\n",
        "from tensorflow.keras import layers"
      ],
      "execution_count": null,
      "outputs": []
    },
    {
      "cell_type": "code",
      "metadata": {
        "id": "8ewFXBqSJErT"
      },
      "source": [
        "# Only consider the top 20k words\n",
        "max_features = 10000  ### 20000 -> 10000\n",
        "\n",
        "# Only consider the first 200 words of each movie review\n",
        "maxlen = 100  ### 200 -> 100"
      ],
      "execution_count": null,
      "outputs": []
    },
    {
      "cell_type": "code",
      "metadata": {
        "id": "W7wTJlalJEE8"
      },
      "source": [
        ""
      ],
      "execution_count": null,
      "outputs": []
    },
    {
      "cell_type": "code",
      "metadata": {
        "id": "E-3H6AEDJLGJ"
      },
      "source": [
        "## Build the model\n",
        "\n",
        "# Input for variable-length sequences of integers\n",
        "inputs = keras.Input(shape=(None,), dtype=\"int32\")"
      ],
      "execution_count": null,
      "outputs": []
    },
    {
      "cell_type": "code",
      "metadata": {
        "id": "qb1LCnX0JLEO"
      },
      "source": [
        "# Embed each integer in a 128-dimensional vector\n",
        "x = layers.Embedding(max_features, 128)(inputs)"
      ],
      "execution_count": null,
      "outputs": []
    },
    {
      "cell_type": "code",
      "metadata": {
        "id": "bCQbYjBtJLB7"
      },
      "source": [
        "# Add 2 bidirectional LSTMs\n",
        "x = layers.Bidirectional(layers.LSTM(64, return_sequences=True))(x)\n",
        "x = layers.Bidirectional(layers.LSTM(64))(x)"
      ],
      "execution_count": null,
      "outputs": []
    },
    {
      "cell_type": "code",
      "metadata": {
        "id": "Wd_vOUoHU79g",
        "colab": {
          "base_uri": "https://localhost:8080/"
        },
        "outputId": "5dc6e9f0-0f04-433d-a4f6-514c27c3b704"
      },
      "source": [
        "# Add a classifier\n",
        "outputs = layers.Dense(1, activation=\"sigmoid\")(x)\n",
        "model = keras.Model(inputs, outputs)\n",
        "model.summary()"
      ],
      "execution_count": null,
      "outputs": [
        {
          "output_type": "stream",
          "text": [
            "Model: \"model\"\n",
            "_________________________________________________________________\n",
            "Layer (type)                 Output Shape              Param #   \n",
            "=================================================================\n",
            "input_1 (InputLayer)         [(None, None)]            0         \n",
            "_________________________________________________________________\n",
            "embedding (Embedding)        (None, None, 128)         1280000   \n",
            "_________________________________________________________________\n",
            "bidirectional (Bidirectional (None, None, 128)         98816     \n",
            "_________________________________________________________________\n",
            "bidirectional_1 (Bidirection (None, 128)               98816     \n",
            "_________________________________________________________________\n",
            "dense (Dense)                (None, 1)                 129       \n",
            "=================================================================\n",
            "Total params: 1,477,761\n",
            "Trainable params: 1,477,761\n",
            "Non-trainable params: 0\n",
            "_________________________________________________________________\n"
          ],
          "name": "stdout"
        }
      ]
    },
    {
      "cell_type": "code",
      "metadata": {
        "id": "_SM-Afw1JSUZ"
      },
      "source": [
        ""
      ],
      "execution_count": null,
      "outputs": []
    },
    {
      "cell_type": "code",
      "metadata": {
        "id": "kUlfwBBkU79h",
        "colab": {
          "base_uri": "https://localhost:8080/"
        },
        "outputId": "81d689c8-a4b4-4410-ba2d-0d70e41df96c"
      },
      "source": [
        "## Load the IMDB movie review sentiment data\n",
        "\n",
        "(x_train, y_train), (x_val, y_val) = keras.datasets.imdb.load_data(\n",
        "    num_words=max_features\n",
        ")\n",
        "\n",
        "print(len(x_train), \"Training sequences\")\n",
        "print(len(x_val), \"Validation sequences\")\n",
        "\n",
        "x_train = keras.preprocessing.sequence.pad_sequences(x_train, maxlen=maxlen)\n",
        "x_val = keras.preprocessing.sequence.pad_sequences(x_val, maxlen=maxlen)"
      ],
      "execution_count": null,
      "outputs": [
        {
          "output_type": "stream",
          "text": [
            "<string>:6: VisibleDeprecationWarning: Creating an ndarray from ragged nested sequences (which is a list-or-tuple of lists-or-tuples-or ndarrays with different lengths or shapes) is deprecated. If you meant to do this, you must specify 'dtype=object' when creating the ndarray\n",
            "/usr/local/lib/python3.7/dist-packages/tensorflow/python/keras/datasets/imdb.py:159: VisibleDeprecationWarning: Creating an ndarray from ragged nested sequences (which is a list-or-tuple of lists-or-tuples-or ndarrays with different lengths or shapes) is deprecated. If you meant to do this, you must specify 'dtype=object' when creating the ndarray\n",
            "  x_train, y_train = np.array(xs[:idx]), np.array(labels[:idx])\n",
            "/usr/local/lib/python3.7/dist-packages/tensorflow/python/keras/datasets/imdb.py:160: VisibleDeprecationWarning: Creating an ndarray from ragged nested sequences (which is a list-or-tuple of lists-or-tuples-or ndarrays with different lengths or shapes) is deprecated. If you meant to do this, you must specify 'dtype=object' when creating the ndarray\n",
            "  x_test, y_test = np.array(xs[idx:]), np.array(labels[idx:])\n"
          ],
          "name": "stderr"
        },
        {
          "output_type": "stream",
          "text": [
            "25000 Training sequences\n",
            "25000 Validation sequences\n"
          ],
          "name": "stdout"
        }
      ]
    },
    {
      "cell_type": "code",
      "metadata": {
        "id": "1RA-LnSdJcJ3"
      },
      "source": [
        ""
      ],
      "execution_count": null,
      "outputs": []
    },
    {
      "cell_type": "code",
      "metadata": {
        "id": "bPpDjvqCU79k",
        "colab": {
          "base_uri": "https://localhost:8080/"
        },
        "outputId": "a39a9e85-c5d1-438d-f54d-0e002d3bc751"
      },
      "source": [
        "## Train and evaluate the model\n",
        "\n",
        "model.compile(\"adam\", \"binary_crossentropy\", metrics=[\"accuracy\"])\n",
        "model.fit(x_train, y_train,\n",
        "          batch_size=512,  ### 32 -> 512\n",
        "          epochs=2, ### \n",
        "          validation_data=(x_val, y_val))\n",
        "\n",
        "## 1エポック2分ちょっと、2エポックで計4分半くらいかかる"
      ],
      "execution_count": null,
      "outputs": [
        {
          "output_type": "stream",
          "text": [
            "Epoch 1/2\n",
            "49/49 [==============================] - 133s 3s/step - loss: 0.6225 - accuracy: 0.6140 - val_loss: 0.3534 - val_accuracy: 0.8459\n",
            "Epoch 2/2\n",
            "49/49 [==============================] - 127s 3s/step - loss: 0.2643 - accuracy: 0.8935 - val_loss: 0.3419 - val_accuracy: 0.8521\n"
          ],
          "name": "stdout"
        },
        {
          "output_type": "execute_result",
          "data": {
            "text/plain": [
              "<tensorflow.python.keras.callbacks.History at 0x7f4fa69aa310>"
            ]
          },
          "metadata": {
            "tags": []
          },
          "execution_count": 8
        }
      ]
    },
    {
      "cell_type": "code",
      "metadata": {
        "id": "ApBP28XYUqZB"
      },
      "source": [
        ""
      ],
      "execution_count": null,
      "outputs": []
    },
    {
      "cell_type": "code",
      "metadata": {
        "id": "JVkHziyIyRoq"
      },
      "source": [
        ""
      ],
      "execution_count": null,
      "outputs": []
    },
    {
      "cell_type": "code",
      "metadata": {
        "id": "TtFgW-VkTVQJ"
      },
      "source": [
        ""
      ],
      "execution_count": null,
      "outputs": []
    },
    {
      "cell_type": "markdown",
      "metadata": {
        "id": "Tftlrb9fU9bp"
      },
      "source": [
        "### <font color = blue>**3.** </font> Character-level recurrent sequence-to-sequence model\n",
        "\n",
        "**Author:** [fchollet](https://twitter.com/fchollet)<br>\n",
        "**Date created:** 2017/09/29<br>\n",
        "**Last modified:** 2020/04/26<br>\n",
        "**Description:** Character-level recurrent sequence-to-sequence model."
      ]
    },
    {
      "cell_type": "markdown",
      "metadata": {
        "id": "kXy2UMv8n6u8"
      },
      "source": [
        "#### <font color = green> **3.1.** </font> Introduction"
      ]
    },
    {
      "cell_type": "markdown",
      "metadata": {
        "id": "Iv8fsY9eU9b-"
      },
      "source": [
        "This example demonstrates how to implement a basic character-level\n",
        "recurrent sequence-to-sequence model.\n",
        "\n",
        "We apply it to translating\n",
        "short English sentences into short French sentences,\n",
        "character-by-character. \n",
        "\n",
        "Note that it is fairly unusual to\n",
        "do character-level machine translation, as word-level\n",
        "models are more common in this domain."
      ]
    },
    {
      "cell_type": "markdown",
      "metadata": {
        "id": "Yg0xCvmtoGMK"
      },
      "source": [
        "**Summary of the algorithm**\n",
        "\n",
        "- We start with input sequences from a domain (e.g. English sentences)\n",
        "    and corresponding target sequences from another domain\n",
        "    (e.g. French sentences).\n",
        "- An encoder LSTM turns input sequences to 2 state vectors\n",
        "    (we keep the last LSTM state and discard the outputs).\n",
        "- A decoder LSTM is trained to turn the target sequences into\n",
        "    the same sequence but offset by one timestep in the future,\n",
        "    a training process called \"teacher forcing\" in this context.\n",
        "    It uses as initial state the state vectors from the encoder.\n",
        "    Effectively, the decoder learns to generate `targets[t+1...]`\n",
        "    given `targets[...t]`, conditioned on the input sequence.\n",
        "- In inference mode, when we want to decode unknown input sequences, we:\n",
        "    - Encode the input sequence into state vectors\n",
        "    - Start with a target sequence of size 1\n",
        "        (just the start-of-sequence character)\n",
        "    - Feed the state vectors and 1-char target sequence\n",
        "        to the decoder to produce predictions for the next character\n",
        "    - Sample the next character using these predictions\n",
        "        (we simply use argmax).\n",
        "    - Append the sampled character to the target sequence\n",
        "    - Repeat until we generate the end-of-sequence character or we\n",
        "        hit the character limit."
      ]
    },
    {
      "cell_type": "markdown",
      "metadata": {
        "id": "8EwrEFIGoIed"
      },
      "source": [
        "#### <font color = green> **3.2.** </font> コード"
      ]
    },
    {
      "cell_type": "code",
      "metadata": {
        "id": "OP5fxz93U9b_"
      },
      "source": [
        "## Setup\n",
        "\n",
        "import numpy as np\n",
        "import tensorflow as tf\n",
        "from tensorflow import keras"
      ],
      "execution_count": null,
      "outputs": []
    },
    {
      "cell_type": "code",
      "metadata": {
        "id": "TTxzATtwoZfH"
      },
      "source": [
        ""
      ],
      "execution_count": null,
      "outputs": []
    },
    {
      "cell_type": "code",
      "metadata": {
        "id": "ZZlrPsSeU9cD",
        "colab": {
          "base_uri": "https://localhost:8080/"
        },
        "outputId": "ab3d8b77-399f-4fea-8f48-161ff7382887"
      },
      "source": [
        "## Download the data\n",
        "\n",
        "!!curl -O http://www.manythings.org/anki/fra-eng.zip\n",
        "!!unzip fra-eng.zip"
      ],
      "execution_count": null,
      "outputs": [
        {
          "output_type": "execute_result",
          "data": {
            "text/plain": [
              "['Archive:  fra-eng.zip',\n",
              " '  inflating: _about.txt              ',\n",
              " '  inflating: fra.txt                 ']"
            ]
          },
          "metadata": {
            "tags": []
          },
          "execution_count": 10
        }
      ]
    },
    {
      "cell_type": "code",
      "metadata": {
        "id": "J_HKDvxJoZ5n"
      },
      "source": [
        ""
      ],
      "execution_count": null,
      "outputs": []
    },
    {
      "cell_type": "code",
      "metadata": {
        "id": "bYAJiw3_U9cE"
      },
      "source": [
        "## Configuration\n",
        "\n",
        "# Batch size for training.\n",
        "batch_size = 256  ### 64 -> 256\n",
        "\n",
        "# Number of epochs to train for.\n",
        "epochs = 5  ### 100 -> 5\n",
        "\n",
        "# Latent dimensionality of the encoding space.\n",
        "latent_dim = 256  \n",
        "\n",
        "# Number of samples to train on.\n",
        "num_samples = 10000  \n",
        "\n",
        "# Path to the data txt file on disk.\n",
        "data_path = \"fra.txt\""
      ],
      "execution_count": null,
      "outputs": []
    },
    {
      "cell_type": "code",
      "metadata": {
        "id": "UpB0vcmhotqC"
      },
      "source": [
        ""
      ],
      "execution_count": null,
      "outputs": []
    },
    {
      "cell_type": "code",
      "metadata": {
        "id": "EXvwP3yPozk2"
      },
      "source": [
        "## Prepare the data\n",
        "\n",
        "# Vectorize the data.\n",
        "input_texts = []\n",
        "target_texts = []\n",
        "input_characters = set()\n",
        "target_characters = set()\n",
        "with open(data_path, \"r\", encoding=\"utf-8\") as f:\n",
        "  lines = f.read().split(\"\\n\")"
      ],
      "execution_count": null,
      "outputs": []
    },
    {
      "cell_type": "code",
      "metadata": {
        "id": "96CggVcDozh9"
      },
      "source": [
        "for line in lines[: min(num_samples, len(lines) - 1)]:\n",
        "  input_text, target_text, _ = line.split(\"\\t\")\n",
        "  # We use \"tab\" as the \"start sequence\" character for the targets, and \"\\n\" as \"end sequence\" character.\n",
        "  target_text = \"\\t\" + target_text + \"\\n\"\n",
        "  input_texts.append(input_text)\n",
        "  target_texts.append(target_text)\n",
        "  for char in input_text:\n",
        "    if char not in input_characters:\n",
        "      input_characters.add(char)\n",
        "  for char in target_text:\n",
        "    if char not in target_characters:\n",
        "      target_characters.add(char)"
      ],
      "execution_count": null,
      "outputs": []
    },
    {
      "cell_type": "code",
      "metadata": {
        "colab": {
          "base_uri": "https://localhost:8080/"
        },
        "id": "n4sfkq4cpBI2",
        "outputId": "abefa72f-3798-480c-fb40-d39a82767286"
      },
      "source": [
        "input_characters = sorted(list(input_characters))\n",
        "target_characters = sorted(list(target_characters))\n",
        "num_encoder_tokens = len(input_characters)\n",
        "num_decoder_tokens = len(target_characters)\n",
        "max_encoder_seq_length = max([len(txt) for txt in input_texts])\n",
        "max_decoder_seq_length = max([len(txt) for txt in target_texts])\n",
        "\n",
        "print(\"Number of samples:\", len(input_texts))\n",
        "print(\"Number of unique input tokens:\", num_encoder_tokens)\n",
        "print(\"Number of unique output tokens:\", num_decoder_tokens)\n",
        "print(\"Max sequence length for inputs:\", max_encoder_seq_length)\n",
        "print(\"Max sequence length for outputs:\", max_decoder_seq_length)"
      ],
      "execution_count": null,
      "outputs": [
        {
          "output_type": "stream",
          "text": [
            "Number of samples: 10000\n",
            "Number of unique input tokens: 71\n",
            "Number of unique output tokens: 93\n",
            "Max sequence length for inputs: 15\n",
            "Max sequence length for outputs: 59\n"
          ],
          "name": "stdout"
        }
      ]
    },
    {
      "cell_type": "code",
      "metadata": {
        "id": "PWC_8IEypBGa"
      },
      "source": [
        "input_token_index = dict([(char, i) for i, char in enumerate(input_characters)])\n",
        "target_token_index = dict([(char, i) for i, char in enumerate(target_characters)])\n",
        "\n",
        "encoder_input_data = np.zeros(\n",
        "    (len(input_texts), max_encoder_seq_length, num_encoder_tokens), dtype=\"float32\"\n",
        "    )\n",
        "decoder_input_data = np.zeros(\n",
        "    (len(input_texts), max_decoder_seq_length, num_decoder_tokens), dtype=\"float32\"\n",
        "    )\n",
        "decoder_target_data = np.zeros(\n",
        "    (len(input_texts), max_decoder_seq_length, num_decoder_tokens), dtype=\"float32\"\n",
        "    )"
      ],
      "execution_count": null,
      "outputs": []
    },
    {
      "cell_type": "code",
      "metadata": {
        "id": "rELEps0fU9cF"
      },
      "source": [
        "for i, (input_text, target_text) in enumerate(zip(input_texts, target_texts)):\n",
        "  for t, char in enumerate(input_text):\n",
        "    encoder_input_data[i, t, input_token_index[char]] = 1.0\n",
        "  encoder_input_data[i, t + 1 :, input_token_index[\" \"]] = 1.0\n",
        "  for t, char in enumerate(target_text):\n",
        "    # decoder_target_data is ahead of decoder_input_data by one timestep\n",
        "    decoder_input_data[i, t, target_token_index[char]] = 1.0\n",
        "    if t > 0:\n",
        "      # decoder_target_data will be ahead by one timestep\n",
        "      # and will not include the start character.\n",
        "      decoder_target_data[i, t - 1, target_token_index[char]] = 1.0\n",
        "  decoder_input_data[i, t + 1 :, target_token_index[\" \"]] = 1.0\n",
        "  decoder_target_data[i, t:, target_token_index[\" \"]] = 1.0"
      ],
      "execution_count": null,
      "outputs": []
    },
    {
      "cell_type": "code",
      "metadata": {
        "id": "ULGu-_cDpBED"
      },
      "source": [
        ""
      ],
      "execution_count": null,
      "outputs": []
    },
    {
      "cell_type": "code",
      "metadata": {
        "id": "hYtQ3M28pZhj"
      },
      "source": [
        "## Build the model\n",
        "\n",
        "# Define an input sequence and process it.\n",
        "encoder_inputs = keras.Input(shape=(None, num_encoder_tokens))\n",
        "encoder = keras.layers.LSTM(latent_dim, return_state=True)\n",
        "encoder_outputs, state_h, state_c = encoder(encoder_inputs)"
      ],
      "execution_count": null,
      "outputs": []
    },
    {
      "cell_type": "code",
      "metadata": {
        "id": "482W3vyxpZe_"
      },
      "source": [
        "# We discard `encoder_outputs` and only keep the states.\n",
        "encoder_states = [state_h, state_c]"
      ],
      "execution_count": null,
      "outputs": []
    },
    {
      "cell_type": "code",
      "metadata": {
        "id": "2DioEr0npeiL"
      },
      "source": [
        "# Set up the decoder, using `encoder_states` as initial state.\n",
        "decoder_inputs = keras.Input(shape=(None, num_decoder_tokens))"
      ],
      "execution_count": null,
      "outputs": []
    },
    {
      "cell_type": "code",
      "metadata": {
        "id": "LGNoS0lrpju5"
      },
      "source": [
        "# We set up our decoder to return full output sequences, and to return internal states as well.\n",
        "# We don't use the return states in the training model, but we will use them in inference.\n",
        "decoder_lstm = keras.layers.LSTM(latent_dim, return_sequences=True, return_state=True)\n",
        "decoder_outputs, _, _ = decoder_lstm(decoder_inputs, initial_state=encoder_states)\n",
        "decoder_dense = keras.layers.Dense(num_decoder_tokens, activation=\"softmax\")\n",
        "decoder_outputs = decoder_dense(decoder_outputs)"
      ],
      "execution_count": null,
      "outputs": []
    },
    {
      "cell_type": "code",
      "metadata": {
        "id": "Iuzy8-huU9cG"
      },
      "source": [
        "# Define the model that will turn `encoder_input_data` & `decoder_input_data` into `decoder_target_data`\n",
        "model = keras.Model([encoder_inputs, decoder_inputs], decoder_outputs)"
      ],
      "execution_count": null,
      "outputs": []
    },
    {
      "cell_type": "code",
      "metadata": {
        "colab": {
          "base_uri": "https://localhost:8080/"
        },
        "id": "cbKhDi1_pp4s",
        "outputId": "73034501-9d7c-4d48-9efb-8fdc91b5d123"
      },
      "source": [
        "model.summary()"
      ],
      "execution_count": null,
      "outputs": [
        {
          "output_type": "stream",
          "text": [
            "Model: \"model_1\"\n",
            "__________________________________________________________________________________________________\n",
            "Layer (type)                    Output Shape         Param #     Connected to                     \n",
            "==================================================================================================\n",
            "input_2 (InputLayer)            [(None, None, 71)]   0                                            \n",
            "__________________________________________________________________________________________________\n",
            "input_3 (InputLayer)            [(None, None, 93)]   0                                            \n",
            "__________________________________________________________________________________________________\n",
            "lstm_2 (LSTM)                   [(None, 256), (None, 335872      input_2[0][0]                    \n",
            "__________________________________________________________________________________________________\n",
            "lstm_3 (LSTM)                   [(None, None, 256),  358400      input_3[0][0]                    \n",
            "                                                                 lstm_2[0][1]                     \n",
            "                                                                 lstm_2[0][2]                     \n",
            "__________________________________________________________________________________________________\n",
            "dense_1 (Dense)                 (None, None, 93)     23901       lstm_3[0][0]                     \n",
            "==================================================================================================\n",
            "Total params: 718,173\n",
            "Trainable params: 718,173\n",
            "Non-trainable params: 0\n",
            "__________________________________________________________________________________________________\n"
          ],
          "name": "stdout"
        }
      ]
    },
    {
      "cell_type": "code",
      "metadata": {
        "colab": {
          "base_uri": "https://localhost:8080/",
          "height": 422
        },
        "id": "MALYheoSp_Lx",
        "outputId": "e61af2f0-35ae-4fbe-bb4c-53d23491a45e"
      },
      "source": [
        "keras.utils.plot_model(model, show_shapes=True)"
      ],
      "execution_count": null,
      "outputs": [
        {
          "output_type": "execute_result",
          "data": {
            "image/png": "[encoded data removed]",
            "text/plain": [
              "<IPython.core.display.Image object>"
            ]
          },
          "metadata": {
            "tags": []
          },
          "execution_count": 24
        }
      ]
    },
    {
      "cell_type": "code",
      "metadata": {
        "id": "Bf3dxK4cpp1Z"
      },
      "source": [
        ""
      ],
      "execution_count": null,
      "outputs": []
    },
    {
      "cell_type": "code",
      "metadata": {
        "id": "0YtcWJPHU9cH",
        "colab": {
          "base_uri": "https://localhost:8080/"
        },
        "outputId": "9e2d717d-6d19-4775-b730-68f006863bde"
      },
      "source": [
        "## Train the model\n",
        "\n",
        "model.compile(\n",
        "    optimizer=\"rmsprop\", loss=\"categorical_crossentropy\", metrics=[\"accuracy\"]\n",
        "    )\n",
        "\n",
        "model.fit(\n",
        "    [encoder_input_data, decoder_input_data],\n",
        "    decoder_target_data,\n",
        "    batch_size=batch_size,\n",
        "    epochs=epochs,\n",
        "    validation_split=0.2\n",
        "    )\n",
        "\n",
        "# Save model\n",
        "model.save(\"s2s\")\n",
        "\n",
        "## 1エポック30秒前後、5エポックで計2分半くらいかかる"
      ],
      "execution_count": null,
      "outputs": [
        {
          "output_type": "stream",
          "text": [
            "Epoch 1/5\n",
            "32/32 [==============================] - 31s 875ms/step - loss: 2.1113 - accuracy: 0.6428 - val_loss: 1.3338 - val_accuracy: 0.6973\n",
            "Epoch 2/5\n",
            "32/32 [==============================] - 27s 842ms/step - loss: 1.1196 - accuracy: 0.7356 - val_loss: 1.1219 - val_accuracy: 0.7073\n",
            "Epoch 3/5\n",
            "32/32 [==============================] - 27s 846ms/step - loss: 1.0013 - accuracy: 0.7437 - val_loss: 1.0630 - val_accuracy: 0.7121\n",
            "Epoch 4/5\n",
            "32/32 [==============================] - 27s 847ms/step - loss: 0.9557 - accuracy: 0.7462 - val_loss: 1.0131 - val_accuracy: 0.7149\n",
            "Epoch 5/5\n",
            "32/32 [==============================] - 27s 845ms/step - loss: 0.8887 - accuracy: 0.7567 - val_loss: 0.9452 - val_accuracy: 0.7356\n"
          ],
          "name": "stdout"
        },
        {
          "output_type": "stream",
          "text": [
            "WARNING:absl:Found untraced functions such as lstm_cell_6_layer_call_fn, lstm_cell_6_layer_call_and_return_conditional_losses, lstm_cell_7_layer_call_fn, lstm_cell_7_layer_call_and_return_conditional_losses, lstm_cell_6_layer_call_fn while saving (showing 5 of 10). These functions will not be directly callable after loading.\n"
          ],
          "name": "stderr"
        },
        {
          "output_type": "stream",
          "text": [
            "INFO:tensorflow:Assets written to: s2s/assets\n"
          ],
          "name": "stdout"
        },
        {
          "output_type": "stream",
          "text": [
            "INFO:tensorflow:Assets written to: s2s/assets\n"
          ],
          "name": "stderr"
        }
      ]
    },
    {
      "cell_type": "markdown",
      "metadata": {
        "id": "ipxOK5DRU9cH"
      },
      "source": [
        "#### <font color = green> **3.3.** </font> Run inference (sampling)\n",
        "\n",
        "1. encode input and retrieve initial decoder state\n",
        "2. run one step of decoder with this initial state\n",
        "and a \"start of sequence\" token as target.\n",
        "Output will be the next target token.\n",
        "3. Repeat with the current target token and current states\n"
      ]
    },
    {
      "cell_type": "code",
      "metadata": {
        "id": "i2NlvE_zrbLR"
      },
      "source": [
        "## Define sampling models\n",
        "# Restore the model and construct the encoder and decoder.\n",
        "\n",
        "model = keras.models.load_model(\"s2s\")\n",
        "\n",
        "encoder_inputs = model.input[0]  # input_1\n",
        "encoder_outputs, state_h_enc, state_c_enc = model.layers[2].output  # lstm_1\n",
        "encoder_states = [state_h_enc, state_c_enc]\n",
        "encoder_model = keras.Model(encoder_inputs, encoder_states)"
      ],
      "execution_count": null,
      "outputs": []
    },
    {
      "cell_type": "code",
      "metadata": {
        "colab": {
          "base_uri": "https://localhost:8080/",
          "height": 201
        },
        "id": "2Qf9UaZLsunA",
        "outputId": "738b8bbb-beb4-4e30-84bb-0d5d74e20e95"
      },
      "source": [
        "keras.utils.plot_model(encoder_model, show_shapes=True)"
      ],
      "execution_count": null,
      "outputs": [
        {
          "output_type": "execute_result",
          "data": {
            "image/png": "[encoded data removed]",
            "text/plain": [
              "<IPython.core.display.Image object>"
            ]
          },
          "metadata": {
            "tags": []
          },
          "execution_count": 30
        }
      ]
    },
    {
      "cell_type": "code",
      "metadata": {
        "id": "xPPX058asr6y"
      },
      "source": [
        "decoder_inputs = model.input[1]  # input_2\n",
        "decoder_state_input_h = keras.Input(shape=(latent_dim,), name=\"input_4\")  # 3->4\n",
        "decoder_state_input_c = keras.Input(shape=(latent_dim,), name=\"input_5\")  # 4->5\n",
        "decoder_states_inputs = [decoder_state_input_h, decoder_state_input_c]\n",
        "decoder_lstm = model.layers[3]\n",
        "decoder_outputs, state_h_dec, state_c_dec = decoder_lstm(\n",
        "    decoder_inputs, initial_state=decoder_states_inputs\n",
        "    )\n",
        "decoder_states = [state_h_dec, state_c_dec]\n",
        "decoder_dense = model.layers[4]\n",
        "decoder_outputs = decoder_dense(decoder_outputs)\n",
        "decoder_model = keras.Model(\n",
        "    [decoder_inputs] + decoder_states_inputs, [decoder_outputs] + decoder_states\n",
        "    )"
      ],
      "execution_count": null,
      "outputs": []
    },
    {
      "cell_type": "code",
      "metadata": {
        "colab": {
          "base_uri": "https://localhost:8080/",
          "height": 283
        },
        "id": "W0Faw_YJsuXc",
        "outputId": "2f378743-83fd-4036-d187-22b7087c73f4"
      },
      "source": [
        "keras.utils.plot_model(decoder_model, show_shapes=True)"
      ],
      "execution_count": null,
      "outputs": [
        {
          "output_type": "execute_result",
          "data": {
            "image/png": "[encoded data removed]",
            "text/plain": [
              "<IPython.core.display.Image object>"
            ]
          },
          "metadata": {
            "tags": []
          },
          "execution_count": 31
        }
      ]
    },
    {
      "cell_type": "code",
      "metadata": {
        "id": "cUmLsygysvoF"
      },
      "source": [
        ""
      ],
      "execution_count": null,
      "outputs": []
    },
    {
      "cell_type": "code",
      "metadata": {
        "id": "JBnQUh1drbIR"
      },
      "source": [
        "# Reverse-lookup token index to decode sequences back to something readable.\n",
        "\n",
        "reverse_input_char_index = dict((i, char) for char, i in input_token_index.items())\n",
        "reverse_target_char_index = dict((i, char) for char, i in target_token_index.items())"
      ],
      "execution_count": null,
      "outputs": []
    },
    {
      "cell_type": "code",
      "metadata": {
        "id": "paGcI6s9U9cK"
      },
      "source": [
        "def decode_sequence(input_seq):\n",
        "  # Encode the input as state vectors.\n",
        "  states_value = encoder_model.predict(input_seq)\n",
        "\n",
        "  # Generate empty target sequence of length 1.\n",
        "  target_seq = np.zeros((1, 1, num_decoder_tokens))\n",
        "  # Populate the first character of target sequence with the start character.\n",
        "  target_seq[0, 0, target_token_index[\"\\t\"]] = 1.0\n",
        "\n",
        "  # Sampling loop for a batch of sequences\n",
        "  # (to simplify, here we assume a batch of size 1).\n",
        "  stop_condition = False\n",
        "  decoded_sentence = \"\"\n",
        "  while not stop_condition:\n",
        "    output_tokens, h, c = decoder_model.predict([target_seq] + states_value)\n",
        "\n",
        "    # Sample a token\n",
        "    sampled_token_index = np.argmax(output_tokens[0, -1, :])\n",
        "    sampled_char = reverse_target_char_index[sampled_token_index]\n",
        "    decoded_sentence += sampled_char\n",
        "\n",
        "    # Exit condition: either hit max length or find stop character.\n",
        "    if sampled_char == \"\\n\" or len(decoded_sentence) > max_decoder_seq_length:\n",
        "      stop_condition = True\n",
        "\n",
        "    # Update the target sequence (of length 1).\n",
        "    target_seq = np.zeros((1, 1, num_decoder_tokens))\n",
        "    target_seq[0, 0, sampled_token_index] = 1.0\n",
        "\n",
        "    # Update states\n",
        "    states_value = [h, c]\n",
        "  return decoded_sentence"
      ],
      "execution_count": null,
      "outputs": []
    },
    {
      "cell_type": "code",
      "metadata": {
        "id": "51h9Sbt3s-Hm"
      },
      "source": [
        ""
      ],
      "execution_count": null,
      "outputs": []
    },
    {
      "cell_type": "code",
      "metadata": {
        "id": "yyeG2PGFU9dN",
        "colab": {
          "base_uri": "https://localhost:8080/"
        },
        "outputId": "78c51404-aefa-4ec1-eafc-83048d2894b1"
      },
      "source": [
        "## You can now generate decoded sentences as such:\n",
        "\n",
        "for seq_index in range(20):\n",
        "  # Take one sequence (part of the training set) for trying out decoding.\n",
        "  input_seq = encoder_input_data[seq_index : seq_index + 1]\n",
        "  decoded_sentence = decode_sequence(input_seq)\n",
        "  print(\"-\")\n",
        "  print(\"Input sentence:\", input_texts[seq_index])\n",
        "  print(\"Decoded sentence:\", decoded_sentence)"
      ],
      "execution_count": null,
      "outputs": [
        {
          "output_type": "stream",
          "text": [
            "-\n",
            "Input sentence: Go.\n",
            "Decoded sentence: Je s                                                        \n",
            "-\n",
            "Input sentence: Go.\n",
            "Decoded sentence: Je s                                                        \n",
            "-\n",
            "Input sentence: Go.\n",
            "Decoded sentence: Je s                                                        \n",
            "-\n",
            "Input sentence: Hi.\n",
            "Decoded sentence: Je s                                                        \n",
            "-\n",
            "Input sentence: Hi.\n",
            "Decoded sentence: Je s                                                        \n",
            "-\n",
            "Input sentence: Run!\n",
            "Decoded sentence: Soss                                                        \n",
            "-\n",
            "Input sentence: Run!\n",
            "Decoded sentence: Soss                                                        \n",
            "-\n",
            "Input sentence: Run!\n",
            "Decoded sentence: Soss                                                        \n",
            "-\n",
            "Input sentence: Run!\n",
            "Decoded sentence: Soss                                                        \n",
            "-\n",
            "Input sentence: Run!\n",
            "Decoded sentence: Soss                                                        \n",
            "-\n",
            "Input sentence: Run!\n",
            "Decoded sentence: Soss                                                        \n",
            "-\n",
            "Input sentence: Run!\n",
            "Decoded sentence: Soss                                                        \n",
            "-\n",
            "Input sentence: Run!\n",
            "Decoded sentence: Soss                                                        \n",
            "-\n",
            "Input sentence: Run.\n",
            "Decoded sentence: Je s                                                        \n",
            "-\n",
            "Input sentence: Run.\n",
            "Decoded sentence: Je s                                                        \n",
            "-\n",
            "Input sentence: Run.\n",
            "Decoded sentence: Je s                                                        \n",
            "-\n",
            "Input sentence: Run.\n",
            "Decoded sentence: Je s                                                        \n",
            "-\n",
            "Input sentence: Run.\n",
            "Decoded sentence: Je s                                                        \n",
            "-\n",
            "Input sentence: Run.\n",
            "Decoded sentence: Je s                                                        \n",
            "-\n",
            "Input sentence: Run.\n",
            "Decoded sentence: Je s                                                        \n"
          ],
          "name": "stdout"
        }
      ]
    },
    {
      "cell_type": "code",
      "metadata": {
        "id": "vID4Rp_ireFq"
      },
      "source": [
        ""
      ],
      "execution_count": null,
      "outputs": []
    },
    {
      "cell_type": "code",
      "metadata": {
        "id": "PPL9sO_3Nfsq"
      },
      "source": [
        ""
      ],
      "execution_count": null,
      "outputs": []
    },
    {
      "cell_type": "markdown",
      "metadata": {
        "id": "J0Qjg6vuaHNt"
      },
      "source": [
        "### <font color = blue>**4.** </font> アテンションを用いたニューラル機械翻訳\n",
        "\n",
        "Copyright 2019 The TensorFlow Authors."
      ]
    },
    {
      "cell_type": "code",
      "metadata": {
        "id": "jmjh290raIky"
      },
      "source": [
        "#@title Licensed under the Apache License, Version 2.0 (the \"License\");\n",
        "# you may not use this file except in compliance with the License.\n",
        "# You may obtain a copy of the License at\n",
        "#\n",
        "# https://www.apache.org/licenses/LICENSE-2.0\n",
        "#\n",
        "# Unless required by applicable law or agreed to in writing, software\n",
        "# distributed under the License is distributed on an \"AS IS\" BASIS,\n",
        "# WITHOUT WARRANTIES OR CONDITIONS OF ANY KIND, either express or implied.\n",
        "# See the License for the specific language governing permissions and\n",
        "# limitations under the License."
      ],
      "execution_count": null,
      "outputs": []
    },
    {
      "cell_type": "markdown",
      "metadata": {
        "id": "CiwtNgENbx2g"
      },
      "source": [
        "このノートブックでは、スペイン語から英語への翻訳を行う Sequence to Sequence (seq2seq) モデルを訓練します。\n",
        "\n",
        "このチュートリアルは、 Sequence to Sequence モデルの知識があることを前提にした上級編のサンプルです。\n",
        "\n",
        "このノートブックのモデルを訓練すると、_\"¿todavia estan en casa?\"_  のようなスペイン語の文を入力して、英訳：  _\"are you still at home?\"_  を得ることができます。\n",
        "\n",
        "この翻訳品質はおもちゃとしてはそれなりのものですが、生成されたアテンションの図表の方が面白いかもしれません。\n",
        "\n",
        "これは、翻訳時にモデルが入力文のどの部分に注目しているかを表しています。\n",
        "\n",
        "<img src=\"https://tensorflow.org/images/spanish-english.png\" alt=\"spanish-english attention plot\">\n",
        "\n",
        "Note: このサンプルは P100 GPU 1基で実行した場合に約 10 分かかります。"
      ]
    },
    {
      "cell_type": "code",
      "metadata": {
        "id": "ZfWtimuetezZ"
      },
      "source": [
        ""
      ],
      "execution_count": null,
      "outputs": []
    },
    {
      "cell_type": "markdown",
      "metadata": {
        "id": "UB9Ulshutls5"
      },
      "source": [
        "#### <font color = green> **4.1.** </font> データセットのダウンロードと準備"
      ]
    },
    {
      "cell_type": "markdown",
      "metadata": {
        "id": "wfodePkj3jEa"
      },
      "source": [
        "http://www.manythings.org/anki/ で提供されている言語データセットを使用します。\n",
        "\n",
        "このデータセットには、次のような書式の言語翻訳ペアが含まれています。\n",
        "\n",
        "```\n",
        "May I borrow this book?\t¿Puedo tomar prestado este libro?\n",
        "```\n",
        "\n",
        "さまざまな言語が用意されていますが、ここでは英語ースペイン語のデータセットを使用します。\n",
        "\n",
        "利便性を考えてこのデータセットは Google Cloud 上に用意してありますが、ご自分でダウンロードすることも可能です。\n",
        "\n",
        "データセットをダウンロードしたあと、データを準備するために下記のようないくつかの手順を実行します。\n",
        "\n",
        "1. それぞれの文ごとに、*開始* と *終了* のトークンを付加する\n",
        "2. 特殊文字を除去して文をきれいにする\n",
        "3. 単語インデックスと逆単語インデックス（単語 → id と id → 単語のマッピングを行うディクショナリ）を作成する\n",
        "4. 最大長にあわせて各文をパディングする"
      ]
    },
    {
      "cell_type": "code",
      "metadata": {
        "id": "tnxXKDjq3jEL"
      },
      "source": [
        "import tensorflow as tf\n",
        "\n",
        "import matplotlib.pyplot as plt\n",
        "import matplotlib.ticker as ticker\n",
        "from sklearn.model_selection import train_test_split\n",
        "\n",
        "import unicodedata\n",
        "import re\n",
        "import numpy as np\n",
        "import os\n",
        "import io\n",
        "import time"
      ],
      "execution_count": null,
      "outputs": []
    },
    {
      "cell_type": "code",
      "metadata": {
        "id": "kRVATYOgJs1b",
        "colab": {
          "base_uri": "https://localhost:8080/"
        },
        "outputId": "d309dd35-5a68-4d51-9e3b-50d84abd1cab"
      },
      "source": [
        "# ファイルのダウンロード\n",
        "\n",
        "path_to_zip = tf.keras.utils.get_file(\n",
        "    'spa-eng.zip', origin='http://storage.googleapis.com/download.tensorflow.org/data/spa-eng.zip',\n",
        "    extract=True)\n",
        "\n",
        "path_to_file = os.path.dirname(path_to_zip)+\"/spa-eng/spa.txt\""
      ],
      "execution_count": null,
      "outputs": [
        {
          "output_type": "stream",
          "text": [
            "Downloading data from http://storage.googleapis.com/download.tensorflow.org/data/spa-eng.zip\n",
            "2646016/2638744 [==============================] - 0s 0us/step\n"
          ],
          "name": "stdout"
        }
      ]
    },
    {
      "cell_type": "code",
      "metadata": {
        "id": "rd0jw-eC3jEh"
      },
      "source": [
        "# ユニコードファイルを ascii に変換\n",
        "def unicode_to_ascii(s):\n",
        "  return ''.join(c for c in unicodedata.normalize('NFD', s) if unicodedata.category(c) != 'Mn')\n",
        "\n",
        "def preprocess_sentence(w):\n",
        "  w = unicode_to_ascii(w.lower().strip())\n",
        "\n",
        "  # 単語とそのあとの句読点の間にスペースを挿入\n",
        "  # 例：　\"he is a boy.\" => \"he is a boy .\"\n",
        "  # 参照：- https://stackoverflow.com/questions/3645931/python-padding-punctuation-with-white-spaces-keeping-punctuation\n",
        "  w = re.sub(r\"([?.!,¿])\", r\" \\1 \", w)\n",
        "  w = re.sub(r'[\" \"]+', \" \", w)\n",
        "\n",
        "  # (a-z, A-Z, \".\", \"?\", \"!\", \",\") 以外の全ての文字をスペースに置き換え\n",
        "  w = re.sub(r\"[^a-zA-Z?.!,¿]+\", \" \", w)\n",
        "\n",
        "  w = w.rstrip().strip()\n",
        "\n",
        "  # 文の開始と終了のトークンを付加\n",
        "  # モデルが予測をいつ開始し、いつ終了すれば良いかを知らせるため\n",
        "  w = '<start> ' + w + ' <end>'\n",
        "  return w"
      ],
      "execution_count": null,
      "outputs": []
    },
    {
      "cell_type": "code",
      "metadata": {
        "id": "opI2GzOt479E",
        "colab": {
          "base_uri": "https://localhost:8080/"
        },
        "outputId": "80649168-a126-4ffc-cd13-429fbec44aa3"
      },
      "source": [
        "en_sentence = u\"May I borrow this book?\"\n",
        "sp_sentence = u\"¿Puedo tomar prestado este libro?\"\n",
        "print(preprocess_sentence(en_sentence))\n",
        "print(preprocess_sentence(sp_sentence).encode('utf-8'))"
      ],
      "execution_count": null,
      "outputs": [
        {
          "output_type": "stream",
          "text": [
            "<start> may i borrow this book ? <end>\n",
            "b'<start> \\xc2\\xbf puedo tomar prestado este libro ? <end>'\n"
          ],
          "name": "stdout"
        }
      ]
    },
    {
      "cell_type": "code",
      "metadata": {
        "id": "iHikE_NmuUkJ"
      },
      "source": [
        ""
      ],
      "execution_count": null,
      "outputs": []
    },
    {
      "cell_type": "code",
      "metadata": {
        "id": "OHn4Dct23jEm"
      },
      "source": [
        "# 1. アクセント記号を除去\n",
        "# 2. 文をクリーニング\n",
        "# 3. [ENGLISH, SPANISH] の形で単語のペアを返す\n",
        "\n",
        "def create_dataset(path, num_examples):\n",
        "  lines = io.open(path, encoding='UTF-8').read().strip().split('\\n')\n",
        "  word_pairs = [[preprocess_sentence(w) for w in l.split('\\t')]  for l in lines[:num_examples]]\n",
        "  return zip(*word_pairs)"
      ],
      "execution_count": null,
      "outputs": []
    },
    {
      "cell_type": "code",
      "metadata": {
        "id": "cTbSbBz55QtF",
        "colab": {
          "base_uri": "https://localhost:8080/"
        },
        "outputId": "5eb205ee-b8b9-4156-dc87-a76e7a8faaaa"
      },
      "source": [
        "en, sp = create_dataset(path_to_file, None)\n",
        "print(en[-1])\n",
        "print(sp[-1])"
      ],
      "execution_count": null,
      "outputs": [
        {
          "output_type": "stream",
          "text": [
            "<start> if you want to sound like a native speaker , you must be willing to practice saying the same sentence over and over in the same way that banjo players practice the same phrase over and over until they can play it correctly and at the desired tempo . <end>\n",
            "<start> si quieres sonar como un hablante nativo , debes estar dispuesto a practicar diciendo la misma frase una y otra vez de la misma manera en que un musico de banjo practica el mismo fraseo una y otra vez hasta que lo puedan tocar correctamente y en el tiempo esperado . <end>\n"
          ],
          "name": "stdout"
        }
      ]
    },
    {
      "cell_type": "code",
      "metadata": {
        "id": "OmMZQpdO60dt"
      },
      "source": [
        "def max_length(tensor):\n",
        "  return max(len(t) for t in tensor)"
      ],
      "execution_count": null,
      "outputs": []
    },
    {
      "cell_type": "code",
      "metadata": {
        "id": "bIOn8RCNDJXG"
      },
      "source": [
        "def tokenize(lang):\n",
        "  lang_tokenizer = tf.keras.preprocessing.text.Tokenizer(\n",
        "      filters='')\n",
        "  lang_tokenizer.fit_on_texts(lang)\n",
        "  tensor = lang_tokenizer.texts_to_sequences(lang)\n",
        "  tensor = tf.keras.preprocessing.sequence.pad_sequences(tensor,\n",
        "                                                         padding='post')\n",
        "  return tensor, lang_tokenizer"
      ],
      "execution_count": null,
      "outputs": []
    },
    {
      "cell_type": "code",
      "metadata": {
        "id": "eAY9k49G3jE_"
      },
      "source": [
        "def load_dataset(path, num_examples=None):\n",
        "  # クリーニングされた入力と出力のペアを生成\n",
        "  targ_lang, inp_lang = create_dataset(path, num_examples)\n",
        "\n",
        "  input_tensor, inp_lang_tokenizer = tokenize(inp_lang)\n",
        "  target_tensor, targ_lang_tokenizer = tokenize(targ_lang)\n",
        "\n",
        "  return input_tensor, target_tensor, inp_lang_tokenizer, targ_lang_tokenizer"
      ],
      "execution_count": null,
      "outputs": []
    },
    {
      "cell_type": "code",
      "metadata": {
        "id": "5Akzbj_MunKf"
      },
      "source": [
        ""
      ],
      "execution_count": null,
      "outputs": []
    },
    {
      "cell_type": "code",
      "metadata": {
        "id": "cnxC7q-j3jFD"
      },
      "source": [
        "## データセットのサイズを制限（オプション）\n",
        "\n",
        "num_examples = 10000  ### 30000 -> 10000\n",
        "input_tensor, target_tensor, inp_lang, targ_lang = load_dataset(path_to_file, num_examples)\n",
        "\n",
        "# ターゲットテンソルの最大長を計算\n",
        "max_length_targ, max_length_inp = max_length(target_tensor), max_length(input_tensor)"
      ],
      "execution_count": null,
      "outputs": []
    },
    {
      "cell_type": "code",
      "metadata": {
        "id": "4QILQkOs3jFG",
        "colab": {
          "base_uri": "https://localhost:8080/"
        },
        "outputId": "8fd4d74f-97de-4958-a860-b635c14aded7"
      },
      "source": [
        "# 80-20で分割を行い、訓練用と検証用のデータセットを作成\n",
        "input_tensor_train, input_tensor_val, target_tensor_train, target_tensor_val = train_test_split(input_tensor, target_tensor, test_size=0.2)\n",
        "\n",
        "# 長さを表示\n",
        "print(len(input_tensor_train), len(target_tensor_train), len(input_tensor_val), len(target_tensor_val))"
      ],
      "execution_count": null,
      "outputs": [
        {
          "output_type": "stream",
          "text": [
            "8000 8000 2000 2000\n"
          ],
          "name": "stdout"
        }
      ]
    },
    {
      "cell_type": "code",
      "metadata": {
        "id": "lJPmLZGMeD5q"
      },
      "source": [
        "def convert(lang, tensor):\n",
        "  for t in tensor:\n",
        "    if t!=0:\n",
        "      print(\"%d ----> %s\" % (t, lang.index_word[t]))"
      ],
      "execution_count": null,
      "outputs": []
    },
    {
      "cell_type": "code",
      "metadata": {
        "id": "VXukARTDd7MT",
        "colab": {
          "base_uri": "https://localhost:8080/"
        },
        "outputId": "9bab1bd5-c979-4970-da0a-69f96c82c1c5"
      },
      "source": [
        "print(\"Input Language; index to word mapping\")\n",
        "convert(inp_lang, input_tensor_train[0])\n",
        "print()\n",
        "print(\"Target Language; index to word mapping\")\n",
        "convert(targ_lang, target_tensor_train[0])"
      ],
      "execution_count": null,
      "outputs": [
        {
          "output_type": "stream",
          "text": [
            "Input Language; index to word mapping\n",
            "1 ----> <start>\n",
            "454 ----> mama\n",
            "12 ----> esta\n",
            "287 ----> trabajando\n",
            "3 ----> .\n",
            "2 ----> <end>\n",
            "\n",
            "Target Language; index to word mapping\n",
            "1 ----> <start>\n",
            "574 ----> mom\n",
            "9 ----> s\n",
            "278 ----> working\n",
            "3 ----> .\n",
            "2 ----> <end>\n"
          ],
          "name": "stdout"
        }
      ]
    },
    {
      "cell_type": "code",
      "metadata": {
        "id": "FRV1NfPVvFsq"
      },
      "source": [
        ""
      ],
      "execution_count": null,
      "outputs": []
    },
    {
      "cell_type": "code",
      "metadata": {
        "id": "TqHsArVZ3jFS"
      },
      "source": [
        "## tf.data データセットの作成\n",
        "\n",
        "BUFFER_SIZE = len(input_tensor_train)\n",
        "BATCH_SIZE = 64\n",
        "steps_per_epoch = len(input_tensor_train)//BATCH_SIZE\n",
        "embedding_dim = 256\n",
        "units = 1024\n",
        "vocab_inp_size = len(inp_lang.word_index)+1\n",
        "vocab_tar_size = len(targ_lang.word_index)+1\n",
        "\n",
        "dataset = tf.data.Dataset.from_tensor_slices((input_tensor_train, target_tensor_train)).shuffle(BUFFER_SIZE)\n",
        "dataset = dataset.batch(BATCH_SIZE, drop_remainder=True)"
      ],
      "execution_count": null,
      "outputs": []
    },
    {
      "cell_type": "code",
      "metadata": {
        "id": "qc6-NK1GtWQt",
        "colab": {
          "base_uri": "https://localhost:8080/"
        },
        "outputId": "d41c150c-dcf4-4dc2-82ea-21c831c3c5ba"
      },
      "source": [
        "example_input_batch, example_target_batch = next(iter(dataset))\n",
        "example_input_batch.shape, example_target_batch.shape"
      ],
      "execution_count": null,
      "outputs": [
        {
          "output_type": "execute_result",
          "data": {
            "text/plain": [
              "(TensorShape([64, 12]), TensorShape([64, 8]))"
            ]
          },
          "metadata": {
            "tags": []
          },
          "execution_count": 46
        }
      ]
    },
    {
      "cell_type": "code",
      "metadata": {
        "id": "f9WIb7fHvO9G"
      },
      "source": [
        ""
      ],
      "execution_count": null,
      "outputs": []
    },
    {
      "cell_type": "markdown",
      "metadata": {
        "id": "TNfHIF71ulLu"
      },
      "source": [
        "#### <font color = green> **4.2.** </font> エンコーダー・デコーダーモデルの記述"
      ]
    },
    {
      "cell_type": "markdown",
      "metadata": {
        "id": "_vgyIKhvvnsM"
      },
      "source": [
        "下図は、入力の単語ひとつひとつにアテンション機構によって重みが割り当てられ、それを使ってデコーダーが文中の次の単語を予測することを示しています。\n",
        "\n",
        "下記の図と式は [Luong の論文](https://arxiv.org/abs/1508.04025v5) にあるアテンション機構の例です。\n",
        "\n",
        "<img src=\"https://www.tensorflow.org/images/seq2seq/attention_mechanism.jpg\" width=\"500\" alt=\"attention mechanism\">"
      ]
    },
    {
      "cell_type": "markdown",
      "metadata": {
        "id": "TbpWvpoSvqIJ"
      },
      "source": [
        "入力がエンコーダーを通過すると、\n",
        "\n",
        "shape が *(batch_size, max_length, hidden_size)* のエンコーダー出力と、\n",
        "\n",
        "shape が *(batch_size, hidden_size)* のエンコーダーの隠れ状態が得られます。\n",
        "\n",
        "下記に実装されている式を示します。\n",
        "\n",
        "<img src=\"https://www.tensorflow.org/images/seq2seq/attention_equation_0.jpg\" alt=\"attention equation 0\" width=\"800\">\n",
        "<img src=\"https://www.tensorflow.org/images/seq2seq/attention_equation_1.jpg\" alt=\"attention equation 1\" width=\"800\">"
      ]
    },
    {
      "cell_type": "markdown",
      "metadata": {
        "id": "fUcZPLzQvqnN"
      },
      "source": [
        "このチュートリアルでは、エンコーダーでは [Bahdanau attention](https://arxiv.org/pdf/1409.0473.pdf) を使用します。\n",
        "\n",
        "簡略化した式を書く前に、表記方法を定めましょう。\n",
        "\n",
        "* FC = 全結合 (Dense) レイヤー\n",
        "* EO = エンコーダーの出力\n",
        "* H = 隠れ状態\n",
        "* X = デコーダーへの入力"
      ]
    },
    {
      "cell_type": "markdown",
      "metadata": {
        "id": "jsV-ApqBvbNZ"
      },
      "source": [
        "擬似コードは下記のとおりです。\n",
        "\n",
        "* `score = FC(tanh(FC(EO) + FC(H)))`\n",
        "* `attention weights = softmax(score, axis = 1)`　softmax は既定では最後の軸に対して実行されますが、スコアの shape が *(batch_size, max_length, hidden_size)*　であるため、*最初の軸* に適用します。`max_length` は入力の長さです。入力それぞれに重みを割り当てようとしているので、softmax はその軸に適用されなければなりません。\n",
        "* `context vector = sum(attention weights * EO, axis = 1)`. 上記と同様の理由で axis = 1 に設定しています。\n",
        "* `embedding output` = デコーダーへの入力 X は Embedding レイヤーを通して渡されます。\n",
        "* `merged vector = concat(embedding output, context vector)`\n",
        "* この結合されたベクトルがつぎに GRU に渡されます。\n",
        "\n",
        "それぞれのステップでのベクトルの shape は、コードのコメントに指定されています。"
      ]
    },
    {
      "cell_type": "code",
      "metadata": {
        "id": "yyV5ptODv9Ay"
      },
      "source": [
        ""
      ],
      "execution_count": null,
      "outputs": []
    },
    {
      "cell_type": "code",
      "metadata": {
        "id": "nZ2rI24i3jFg"
      },
      "source": [
        "class Encoder(tf.keras.Model):\n",
        "  def __init__(self, vocab_size, embedding_dim, enc_units, batch_sz):\n",
        "    super(Encoder, self).__init__()\n",
        "    self.batch_sz = batch_sz\n",
        "    self.enc_units = enc_units\n",
        "    self.embedding = tf.keras.layers.Embedding(vocab_size, embedding_dim)\n",
        "    self.gru = tf.keras.layers.GRU(self.enc_units,\n",
        "                                   return_sequences=True,\n",
        "                                   return_state=True,\n",
        "                                   recurrent_initializer='glorot_uniform')\n",
        "\n",
        "  def call(self, x, hidden):\n",
        "    x = self.embedding(x)\n",
        "    output, state = self.gru(x, initial_state = hidden)\n",
        "    return output, state\n",
        "\n",
        "  def initialize_hidden_state(self):\n",
        "    return tf.zeros((self.batch_sz, self.enc_units))"
      ],
      "execution_count": null,
      "outputs": []
    },
    {
      "cell_type": "code",
      "metadata": {
        "id": "60gSVh05Jl6l",
        "colab": {
          "base_uri": "https://localhost:8080/"
        },
        "outputId": "698014b9-c7e6-4822-9c8f-293c765debd4"
      },
      "source": [
        "encoder = Encoder(vocab_inp_size, embedding_dim, units, BATCH_SIZE)\n",
        "\n",
        "# サンプル入力\n",
        "sample_hidden = encoder.initialize_hidden_state()\n",
        "sample_output, sample_hidden = encoder(example_input_batch, sample_hidden)\n",
        "print ('Encoder output shape: (batch size, sequence length, units) {}'.format(sample_output.shape))\n",
        "print ('Encoder Hidden state shape: (batch size, units) {}'.format(sample_hidden.shape))"
      ],
      "execution_count": null,
      "outputs": [
        {
          "output_type": "stream",
          "text": [
            "Encoder output shape: (batch size, sequence length, units) (64, 12, 1024)\n",
            "Encoder Hidden state shape: (batch size, units) (64, 1024)\n"
          ],
          "name": "stdout"
        }
      ]
    },
    {
      "cell_type": "code",
      "metadata": {
        "id": "umohpBN2OM94"
      },
      "source": [
        "class BahdanauAttention(tf.keras.layers.Layer):\n",
        "  def __init__(self, units):\n",
        "    super(BahdanauAttention, self).__init__()\n",
        "    self.W1 = tf.keras.layers.Dense(units)\n",
        "    self.W2 = tf.keras.layers.Dense(units)\n",
        "    self.V = tf.keras.layers.Dense(1)\n",
        "\n",
        "  def call(self, query, values):\n",
        "    # hidden shape == (batch_size, hidden size)\n",
        "    # hidden_with_time_axis shape == (batch_size, 1, hidden size)\n",
        "    # スコアを計算するためにこのように加算を実行する\n",
        "    hidden_with_time_axis = tf.expand_dims(query, 1)\n",
        "\n",
        "    # score shape == (batch_size, max_length, 1)\n",
        "    # スコアを self.V に適用するために最後の軸は 1 となる\n",
        "    # self.V に適用する前のテンソルの shape は  (batch_size, max_length, units)\n",
        "    score = self.V(tf.nn.tanh(\n",
        "        self.W1(values) + self.W2(hidden_with_time_axis)))\n",
        "\n",
        "    # attention_weights の shape == (batch_size, max_length, 1)\n",
        "    attention_weights = tf.nn.softmax(score, axis=1)\n",
        "\n",
        "    # context_vector の合計後の shape == (batch_size, hidden_size)\n",
        "    context_vector = attention_weights * values\n",
        "    context_vector = tf.reduce_sum(context_vector, axis=1)\n",
        "\n",
        "    return context_vector, attention_weights"
      ],
      "execution_count": null,
      "outputs": []
    },
    {
      "cell_type": "code",
      "metadata": {
        "id": "k534zTHiDjQU",
        "colab": {
          "base_uri": "https://localhost:8080/"
        },
        "outputId": "db92b7e1-173f-4b97-907d-7de17557b10f"
      },
      "source": [
        "attention_layer = BahdanauAttention(10)\n",
        "attention_result, attention_weights = attention_layer(sample_hidden, sample_output)\n",
        "\n",
        "print(\"Attention result shape: (batch size, units) {}\".format(attention_result.shape))\n",
        "print(\"Attention weights shape: (batch_size, sequence_length, 1) {}\".format(attention_weights.shape))"
      ],
      "execution_count": null,
      "outputs": [
        {
          "output_type": "stream",
          "text": [
            "Attention result shape: (batch size, units) (64, 1024)\n",
            "Attention weights shape: (batch_size, sequence_length, 1) (64, 12, 1)\n"
          ],
          "name": "stdout"
        }
      ]
    },
    {
      "cell_type": "code",
      "metadata": {
        "id": "yJ_B3mhW3jFk"
      },
      "source": [
        "class Decoder(tf.keras.Model):\n",
        "  def __init__(self, vocab_size, embedding_dim, dec_units, batch_sz):\n",
        "    super(Decoder, self).__init__()\n",
        "    self.batch_sz = batch_sz\n",
        "    self.dec_units = dec_units\n",
        "    self.embedding = tf.keras.layers.Embedding(vocab_size, embedding_dim)\n",
        "    self.gru = tf.keras.layers.GRU(self.dec_units,\n",
        "                                   return_sequences=True,\n",
        "                                   return_state=True,\n",
        "                                   recurrent_initializer='glorot_uniform')\n",
        "    self.fc = tf.keras.layers.Dense(vocab_size)\n",
        "\n",
        "    # アテンションのため\n",
        "    self.attention = BahdanauAttention(self.dec_units)\n",
        "\n",
        "  def call(self, x, hidden, enc_output):\n",
        "    # enc_output の shape == (batch_size, max_length, hidden_size)\n",
        "    context_vector, attention_weights = self.attention(hidden, enc_output)\n",
        "\n",
        "    # 埋め込み層を通過したあとの x の shape  == (batch_size, 1, embedding_dim)\n",
        "    x = self.embedding(x)\n",
        "\n",
        "    # 結合後の x の shape == (batch_size, 1, embedding_dim + hidden_size)\n",
        "    x = tf.concat([tf.expand_dims(context_vector, 1), x], axis=-1)\n",
        "\n",
        "    # 結合したベクトルを GRU 層に渡す\n",
        "    output, state = self.gru(x)\n",
        "\n",
        "    # output shape == (batch_size * 1, hidden_size)\n",
        "    output = tf.reshape(output, (-1, output.shape[2]))\n",
        "\n",
        "    # output shape == (batch_size, vocab)\n",
        "    x = self.fc(output)\n",
        "\n",
        "    return x, state, attention_weights"
      ],
      "execution_count": null,
      "outputs": []
    },
    {
      "cell_type": "code",
      "metadata": {
        "id": "P5UY8wko3jFp",
        "colab": {
          "base_uri": "https://localhost:8080/"
        },
        "outputId": "1bb3bf68-f3d7-4f53-e60b-a4380c8dfd32"
      },
      "source": [
        "decoder = Decoder(vocab_tar_size, embedding_dim, units, BATCH_SIZE)\n",
        "\n",
        "sample_decoder_output, _, _ = decoder(tf.random.uniform((64, 1)),\n",
        "                                      sample_hidden, sample_output)\n",
        "\n",
        "print ('Decoder output shape: (batch_size, vocab size) {}'.format(sample_decoder_output.shape))"
      ],
      "execution_count": null,
      "outputs": [
        {
          "output_type": "stream",
          "text": [
            "Decoder output shape: (batch_size, vocab size) (64, 2306)\n"
          ],
          "name": "stdout"
        }
      ]
    },
    {
      "cell_type": "code",
      "metadata": {
        "id": "diuu40tlwJhq"
      },
      "source": [
        ""
      ],
      "execution_count": null,
      "outputs": []
    },
    {
      "cell_type": "code",
      "metadata": {
        "id": "WmTHr5iV3jFr"
      },
      "source": [
        "## オプティマイザと損失関数の定義\n",
        "\n",
        "optimizer = tf.keras.optimizers.Adam()\n",
        "loss_object = tf.keras.losses.SparseCategoricalCrossentropy(\n",
        "    from_logits=True, reduction='none')\n",
        "\n",
        "def loss_function(real, pred):\n",
        "  mask = tf.math.logical_not(tf.math.equal(real, 0))\n",
        "  loss_ = loss_object(real, pred)\n",
        "\n",
        "  mask = tf.cast(mask, dtype=loss_.dtype)\n",
        "  loss_ *= mask\n",
        "\n",
        "  return tf.reduce_mean(loss_)"
      ],
      "execution_count": null,
      "outputs": []
    },
    {
      "cell_type": "code",
      "metadata": {
        "id": "tVwtZVQmwfip"
      },
      "source": [
        ""
      ],
      "execution_count": null,
      "outputs": []
    },
    {
      "cell_type": "code",
      "metadata": {
        "id": "Zj8bXQTgNwrF"
      },
      "source": [
        "## チェックポイント（オブジェクトベースの保存）\n",
        "\n",
        "checkpoint_dir = './training_checkpoints'\n",
        "checkpoint_prefix = os.path.join(checkpoint_dir, \"ckpt\")\n",
        "checkpoint = tf.train.Checkpoint(optimizer=optimizer,\n",
        "                                 encoder=encoder,\n",
        "                                 decoder=decoder)"
      ],
      "execution_count": null,
      "outputs": []
    },
    {
      "cell_type": "code",
      "metadata": {
        "id": "PUnOUOj_wggw"
      },
      "source": [
        ""
      ],
      "execution_count": null,
      "outputs": []
    },
    {
      "cell_type": "markdown",
      "metadata": {
        "id": "hpObfY22IddU"
      },
      "source": [
        "#### <font color = green> **4.3.** </font> 学習の実行"
      ]
    },
    {
      "cell_type": "markdown",
      "metadata": {
        "id": "9MbAonKcwtDl"
      },
      "source": [
        "1. *入力* を *エンコーダー* に通すと、*エンコーダー出力* と *エンコーダーの隠れ状態* が返される\n",
        "2. エンコーダーの出力とエンコーダーの隠れ状態、そしてデコーダーの入力（これが *開始トークン*）がデコーダーに渡される\n",
        "3. デコーダーは *予測値* と *デコーダーの隠れ状態* を返す\n",
        "4. つぎにデコーダーの隠れ状態がモデルに戻され、予測値が損失関数の計算に使用される\n",
        "5. デコーダーへの次の入力を決定するために *Teacher Forcing* が使用される\n",
        "6. *Teacher Forcing* は、*正解単語* をデコーダーの *次の入力* として使用するテクニックである\n",
        "7. 最後に勾配を計算し、それをオプティマイザに与えて誤差逆伝播を行う"
      ]
    },
    {
      "cell_type": "code",
      "metadata": {
        "id": "sC9ArXSsVfqn"
      },
      "source": [
        "@tf.function\n",
        "def train_step(inp, targ, enc_hidden):\n",
        "  loss = 0\n",
        "\n",
        "  with tf.GradientTape() as tape:\n",
        "    enc_output, enc_hidden = encoder(inp, enc_hidden)\n",
        "    dec_hidden = enc_hidden\n",
        "    dec_input = tf.expand_dims([targ_lang.word_index['<start>']] * BATCH_SIZE, 1)\n",
        "\n",
        "    # Teacher Forcing - 正解値を次の入力として供給\n",
        "    for t in range(1, targ.shape[1]):\n",
        "      # passing enc_output to the decoder\n",
        "      predictions, dec_hidden, _ = decoder(dec_input, dec_hidden, enc_output)\n",
        "      loss += loss_function(targ[:, t], predictions)\n",
        "      # Teacher Forcing を使用\n",
        "      dec_input = tf.expand_dims(targ[:, t], 1)\n",
        "\n",
        "  batch_loss = (loss / int(targ.shape[1]))\n",
        "  variables = encoder.trainable_variables + decoder.trainable_variables\n",
        "  gradients = tape.gradient(loss, variables)\n",
        "  optimizer.apply_gradients(zip(gradients, variables))\n",
        "  return batch_loss"
      ],
      "execution_count": null,
      "outputs": []
    },
    {
      "cell_type": "code",
      "metadata": {
        "id": "ddefjBMa3jF0",
        "colab": {
          "base_uri": "https://localhost:8080/"
        },
        "outputId": "ea3b96d1-3cc7-4fa5-af26-91632da19e90"
      },
      "source": [
        "EPOCHS = 2 ### 10 -> 2\n",
        "\n",
        "for epoch in range(EPOCHS):\n",
        "  start = time.time()\n",
        "\n",
        "  enc_hidden = encoder.initialize_hidden_state()\n",
        "  total_loss = 0\n",
        "\n",
        "  for (batch, (inp, targ)) in enumerate(dataset.take(steps_per_epoch)):\n",
        "    batch_loss = train_step(inp, targ, enc_hidden)\n",
        "    total_loss += batch_loss\n",
        "\n",
        "    if batch % 100 == 0:\n",
        "      print('Epoch {} Batch {} Loss {:.4f}'.format(epoch + 1, batch, batch_loss.numpy()))\n",
        "  # 2 エポックごとにモデル（のチェックポイント）を保存\n",
        "  if (epoch + 1) % 2 == 0:\n",
        "    checkpoint.save(file_prefix = checkpoint_prefix)\n",
        "\n",
        "  print('Epoch {} Loss {:.4f}'.format(epoch + 1, total_loss / steps_per_epoch))\n",
        "  print('Time taken for 1 epoch {} sec\\n'.format(time.time() - start))\n",
        "\n",
        "  ## 1エポック4分前後かかる"
      ],
      "execution_count": null,
      "outputs": [
        {
          "output_type": "stream",
          "text": [
            "Epoch 1 Batch 0 Loss 5.0665\n",
            "Epoch 1 Batch 100 Loss 2.2342\n",
            "Epoch 1 Loss 2.6152\n",
            "Time taken for 1 epoch 245.7692666053772 sec\n",
            "\n",
            "Epoch 2 Batch 0 Loss 2.0361\n",
            "Epoch 2 Batch 100 Loss 1.7193\n",
            "Epoch 2 Loss 1.8686\n",
            "Time taken for 1 epoch 234.06488823890686 sec\n",
            "\n",
            "Epoch 3 Batch 0 Loss 1.6050\n",
            "Epoch 3 Batch 100 Loss 1.5435\n",
            "Epoch 3 Loss 1.5662\n",
            "Time taken for 1 epoch 233.89911699295044 sec\n",
            "\n",
            "Epoch 4 Batch 0 Loss 1.4026\n",
            "Epoch 4 Batch 100 Loss 1.3188\n",
            "Epoch 4 Loss 1.3642\n",
            "Time taken for 1 epoch 233.4871907234192 sec\n",
            "\n"
          ],
          "name": "stdout"
        }
      ]
    },
    {
      "cell_type": "markdown",
      "metadata": {
        "id": "mU3Ce8M6I3rz"
      },
      "source": [
        "#### <font color = green> **4.4.** </font> 翻訳"
      ]
    },
    {
      "cell_type": "markdown",
      "metadata": {
        "id": "S38bTJIPxY_X"
      },
      "source": [
        "* 評価関数は、*Teacher Forcing* を使わないことを除いては、訓練ループと同様である。タイムステップごとのデコーダーへの入力は、過去の予測値に加えて、隠れ状態とエンコーダーのアウトプットである。\n",
        "* モデルが *終了トークン* を予測したら、予測を停止する。\n",
        "* また、*タイムステップごとのアテンションの重み*　を保存する。\n",
        "\n",
        "Note: エンコーダーの出力は 1 つの入力に対して 1 回だけ計算されます。"
      ]
    },
    {
      "cell_type": "code",
      "metadata": {
        "id": "EbQpyYs13jF_"
      },
      "source": [
        "def evaluate(sentence):\n",
        "  attention_plot = np.zeros((max_length_targ, max_length_inp))\n",
        "  sentence = preprocess_sentence(sentence)\n",
        "  inputs = [inp_lang.word_index[i] for i in sentence.split(' ')]\n",
        "  inputs = tf.keras.preprocessing.sequence.pad_sequences([inputs], maxlen=max_length_inp, padding='post')\n",
        "  inputs = tf.convert_to_tensor(inputs)\n",
        "  result = ''\n",
        "\n",
        "  hidden = [tf.zeros((1, units))]\n",
        "  enc_out, enc_hidden = encoder(inputs, hidden)\n",
        "\n",
        "  dec_hidden = enc_hidden\n",
        "  dec_input = tf.expand_dims([targ_lang.word_index['<start>']], 0)\n",
        "\n",
        "  for t in range(max_length_targ):\n",
        "    predictions, dec_hidden, attention_weights = decoder(dec_input, dec_hidden, enc_out)\n",
        "\n",
        "    # 後ほどプロットするためにアテンションの重みを保存\n",
        "    attention_weights = tf.reshape(attention_weights, (-1, ))\n",
        "    attention_plot[t] = attention_weights.numpy()\n",
        "\n",
        "    predicted_id = tf.argmax(predictions[0]).numpy()\n",
        "    result += targ_lang.index_word[predicted_id] + ' '\n",
        "    if targ_lang.index_word[predicted_id] == '<end>':\n",
        "      return result, sentence, attention_plot\n",
        "\n",
        "    # 予測された ID がモデルに戻される\n",
        "    dec_input = tf.expand_dims([predicted_id], 0)\n",
        "\n",
        "  return result, sentence, attention_plot"
      ],
      "execution_count": null,
      "outputs": []
    },
    {
      "cell_type": "code",
      "metadata": {
        "id": "s5hQWlbN3jGF"
      },
      "source": [
        "# アテンションの重みをプロットする関数\n",
        "def plot_attention(attention, sentence, predicted_sentence):\n",
        "  fig = plt.figure(figsize=(10,10))\n",
        "  ax = fig.add_subplot(1, 1, 1)\n",
        "  ax.matshow(attention, cmap='viridis')\n",
        "\n",
        "  fontdict = {'fontsize': 14}\n",
        "\n",
        "  ax.set_xticklabels([''] + sentence, fontdict=fontdict, rotation=90)\n",
        "  ax.set_yticklabels([''] + predicted_sentence, fontdict=fontdict)\n",
        "\n",
        "  ax.xaxis.set_major_locator(ticker.MultipleLocator(1))\n",
        "  ax.yaxis.set_major_locator(ticker.MultipleLocator(1))\n",
        "\n",
        "  plt.show()"
      ],
      "execution_count": null,
      "outputs": []
    },
    {
      "cell_type": "code",
      "metadata": {
        "id": "sl9zUHzg3jGI"
      },
      "source": [
        "def translate(sentence):\n",
        "  result, sentence, attention_plot = evaluate(sentence)\n",
        "\n",
        "  print('Input: %s' % (sentence))\n",
        "  print('Predicted translation: {}'.format(result))\n",
        "\n",
        "  attention_plot = attention_plot[:len(result.split(' ')), :len(sentence.split(' '))]\n",
        "  plot_attention(attention_plot, sentence.split(' '), result.split(' '))"
      ],
      "execution_count": null,
      "outputs": []
    },
    {
      "cell_type": "code",
      "metadata": {
        "id": "oTHDUTunzn_8"
      },
      "source": [
        ""
      ],
      "execution_count": null,
      "outputs": []
    },
    {
      "cell_type": "code",
      "metadata": {
        "id": "UJpT9D5_OgP6",
        "colab": {
          "base_uri": "https://localhost:8080/"
        },
        "outputId": "efaea579-df85-43b0-81fa-018a11edb1eb"
      },
      "source": [
        "## checkpoint_dir の中の最後のチェックポイントを復元しテストする\n",
        "\n",
        "checkpoint.restore(tf.train.latest_checkpoint(checkpoint_dir))"
      ],
      "execution_count": null,
      "outputs": [
        {
          "output_type": "execute_result",
          "data": {
            "text/plain": [
              "<tensorflow.python.training.tracking.util.CheckpointLoadStatus at 0x7f4f4e7da510>"
            ]
          },
          "metadata": {
            "tags": []
          },
          "execution_count": 60
        }
      ]
    },
    {
      "cell_type": "code",
      "metadata": {
        "id": "WrAM0FDomq3E",
        "colab": {
          "base_uri": "https://localhost:8080/"
        },
        "outputId": "0a6c3c80-05d6-48ec-b623-9cb44ab1bdb9"
      },
      "source": [
        "translate(u'hace mucho frio aqui.')"
      ],
      "execution_count": null,
      "outputs": [
        {
          "output_type": "stream",
          "text": [
            "Input: <start> hace mucho frio aqui . <end>\n",
            "Predicted translation: it s a good . <end> \n"
          ],
          "name": "stdout"
        },
        {
          "output_type": "display_data",
          "data": {
            "image/png": "[encoded data removed]",
            "text/plain": [
              "<Figure size 720x720 with 1 Axes>"
            ]
          },
          "metadata": {
            "tags": [],
            "needs_background": "light"
          }
        }
      ]
    },
    {
      "cell_type": "code",
      "metadata": {
        "id": "zSx2iM36EZQZ",
        "colab": {
          "base_uri": "https://localhost:8080/"
        },
        "outputId": "62fb16f9-5a0c-4853-eb27-95a981292e85"
      },
      "source": [
        "translate(u'esta es mi vida.')"
      ],
      "execution_count": null,
      "outputs": [
        {
          "output_type": "stream",
          "text": [
            "Input: <start> esta es mi vida . <end>\n",
            "Predicted translation: this is my car . <end> \n"
          ],
          "name": "stdout"
        },
        {
          "output_type": "display_data",
          "data": {
            "image/png": "[encoded data removed]",
            "text/plain": [
              "<Figure size 720x720 with 1 Axes>"
            ]
          },
          "metadata": {
            "tags": [],
            "needs_background": "light"
          }
        }
      ]
    },
    {
      "cell_type": "code",
      "metadata": {
        "id": "A3LLCx3ZE0Ls",
        "colab": {
          "base_uri": "https://localhost:8080/"
        },
        "outputId": "b60eda64-c2a2-4896-8770-9e9fea62b680"
      },
      "source": [
        "translate(u'¿todavia estan en casa?')"
      ],
      "execution_count": null,
      "outputs": [
        {
          "output_type": "stream",
          "text": [
            "Input: <start> ¿ todavia estan en casa ? <end>\n",
            "Predicted translation: can you know it ? <end> \n"
          ],
          "name": "stdout"
        },
        {
          "output_type": "display_data",
          "data": {
            "image/png": "[encoded data removed]",
            "text/plain": [
              "<Figure size 720x720 with 1 Axes>"
            ]
          },
          "metadata": {
            "tags": [],
            "needs_background": "light"
          }
        }
      ]
    },
    {
      "cell_type": "code",
      "metadata": {
        "id": "DUQVLVqUE1YW",
        "colab": {
          "base_uri": "https://localhost:8080/"
        },
        "outputId": "34aba1e7-ff53-4ebd-a299-c696b946217f"
      },
      "source": [
        "# 翻訳あやまりの例\n",
        "translate(u'trata de averiguarlo.')"
      ],
      "execution_count": null,
      "outputs": [
        {
          "output_type": "stream",
          "text": [
            "Input: <start> trata de averiguarlo . <end>\n",
            "Predicted translation: we ve seen it . <end> \n"
          ],
          "name": "stdout"
        },
        {
          "output_type": "display_data",
          "data": {
            "image/png": "[encoded data removed]",
            "text/plain": [
              "<Figure size 720x720 with 1 Axes>"
            ]
          },
          "metadata": {
            "tags": [],
            "needs_background": "light"
          }
        }
      ]
    },
    {
      "cell_type": "markdown",
      "metadata": {
        "id": "RTe5P5ioMJwN"
      },
      "source": [
        "#### <font color = green> **4.5.** </font> 次のステップ\n",
        "\n",
        "* [異なるデータセットをダウンロード](http://www.manythings.org/anki/)して翻訳の実験を行ってみよう。たとえば英語からドイツ語や、英語からフランス語。\n",
        "* もっと大きなデータセットで訓練を行ったり、もっと多くのエポックで訓練を行ったりしてみよう。"
      ]
    },
    {
      "cell_type": "code",
      "metadata": {
        "id": "AhMHYHPcz4YK"
      },
      "source": [
        ""
      ],
      "execution_count": null,
      "outputs": []
    },
    {
      "cell_type": "code",
      "metadata": {
        "id": "0L8vpE_Bz4vy"
      },
      "source": [
        ""
      ],
      "execution_count": null,
      "outputs": []
    },
    {
      "cell_type": "code",
      "metadata": {
        "id": "8BU3cuROz4ss"
      },
      "source": [
        ""
      ],
      "execution_count": null,
      "outputs": []
    }
  ]
}