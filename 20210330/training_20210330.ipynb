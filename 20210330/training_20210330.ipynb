{
  "nbformat": 4,
  "nbformat_minor": 0,
  "metadata": {
    "colab": {
      "name": "training_20210330.ipynb",
      "provenance": [],
      "collapsed_sections": [
        "O9J5Vk_9vJZl",
        "yPMW1Ch8rfUp",
        "cXOlNYUGeQZr",
        "Cqz1ZesT6wJK",
        "vYfrcgCCn_qV",
        "b0HaSKmwB7dG",
        "nJH4GNsgC-D8"
      ]
    },
    "kernelspec": {
      "name": "python3",
      "display_name": "Python 3"
    }
  },
  "cells": [
    {
      "cell_type": "markdown",
      "metadata": {
        "id": "EKA9P5hi9I9S"
      },
      "source": [
        "## 39. 混合ガウス分布（Gaussian Mixture Model）"
      ]
    },
    {
      "cell_type": "markdown",
      "metadata": {
        "id": "O9J5Vk_9vJZl"
      },
      "source": [
        "### <font color = blue>**1.** </font> 簡易な例を自己実装"
      ]
    },
    {
      "cell_type": "code",
      "metadata": {
        "id": "4_Gc-bDOvZDM"
      },
      "source": [
        "# 参考：https://qiita.com/ta-ka/items/3e8b127620ac92a32864\n",
        "\n",
        "import numpy as np\n",
        "import matplotlib.pyplot as plt\n",
        "import sys"
      ],
      "execution_count": null,
      "outputs": []
    },
    {
      "cell_type": "code",
      "metadata": {
        "id": "ciahwdRpvbh1"
      },
      "source": [
        "# 正規分布にノイズを乗せたデータを生成\n",
        "\n",
        "def create_data(N, K, seed):\n",
        "  np.random.seed(seed=seed)\n",
        "  X, mu_star, sigma_star = [], [], []\n",
        "  for i in range(K):\n",
        "    loc = (np.random.rand() - 0.5) * 10.0 # range: -5.0 - 5.0\n",
        "    scale = np.random.rand() * 3.0 # range: 0.0 - 3.0\n",
        "    X = np.append(X, np.random.normal(loc = loc, scale = scale, size = int(N / K)))\n",
        "    mu_star = np.append(mu_star, loc)\n",
        "    sigma_star = np.append(sigma_star, scale)\n",
        "  return (X, mu_star, sigma_star)"
      ],
      "execution_count": null,
      "outputs": []
    },
    {
      "cell_type": "code",
      "metadata": {
        "id": "GHCzlGtmvb6Q"
      },
      "source": [
        "# ノイズなしの正規分布\n",
        "\n",
        "def gaussian(mu, sigma):\n",
        "  def f(x):\n",
        "    return np.exp(-0.5 * (x - mu) ** 2 / sigma) / np.sqrt(2 * np.pi * sigma)\n",
        "  return f"
      ],
      "execution_count": null,
      "outputs": []
    },
    {
      "cell_type": "code",
      "metadata": {
        "id": "ocGtgudOvb-I"
      },
      "source": [
        "# 事後確率の尤度\n",
        "\n",
        "def estimate_posterior_likelihood(X, pi, gf):\n",
        "  l = np.zeros((X.size, pi.size))\n",
        "  for (i, x) in enumerate(X):\n",
        "    l[i, :] = gf(x)\n",
        "  return pi * l * np.vectorize(lambda y: 1 / y)(l.sum(axis = 1).reshape(-1, 1))"
      ],
      "execution_count": null,
      "outputs": []
    },
    {
      "cell_type": "code",
      "metadata": {
        "id": "i0M2-iHJvbzP"
      },
      "source": [
        "# ガウス分布を仮定した時のパラメータを推定\n",
        "\n",
        "def estimate_gmm_parameter(X, gamma):\n",
        "  N = gamma.sum(axis = 0)\n",
        "  mu = (gamma * X.reshape((-1, 1))).sum(axis = 0) / N\n",
        "  sigma = (gamma * (X.reshape(-1, 1) - mu) ** 2).sum(axis = 0) / N\n",
        "  pi = N / X.size\n",
        "  return (mu, sigma, pi)"
      ],
      "execution_count": null,
      "outputs": []
    },
    {
      "cell_type": "code",
      "metadata": {
        "id": "SjHimRsuvulR"
      },
      "source": [
        "# Q関数を計算\n",
        "\n",
        "def calc_Q(X, mu, sigma, pi, gamma):\n",
        "  Q = (gamma * (np.log(pi * (2 * np.pi * sigma) ** (-0.5)))).sum()\n",
        "  for (i, x) in enumerate(X):\n",
        "    Q += (gamma[i, :] * (-0.5 * (x - mu) ** 2 / sigma)).sum()\n",
        "  return Q"
      ],
      "execution_count": null,
      "outputs": []
    },
    {
      "cell_type": "code",
      "metadata": {
        "id": "Fr3ZTn2gJjZp"
      },
      "source": [
        "# data\n",
        "K = 3 ###\n",
        "N = 10000 * K\n",
        "seed = 9  ###\n",
        "X, mu_star, sigma_star = create_data(N, K, seed)\n",
        "\n",
        "plt.figure(figsize=(12,6))\n",
        "n, bins, _ = plt.hist(X, 200, density=True, alpha = 0.3)\n",
        "plt.show()"
      ],
      "execution_count": null,
      "outputs": []
    },
    {
      "cell_type": "code",
      "metadata": {
        "id": "S3cVUJYsJjU_"
      },
      "source": [
        "# termination condition\n",
        "epsilon = 1e-10 ###"
      ],
      "execution_count": null,
      "outputs": []
    },
    {
      "cell_type": "code",
      "metadata": {
        "id": "XbXqcyWKJjRo"
      },
      "source": [
        "# initialize gmm parameter\n",
        "pi = np.random.rand(K)\n",
        "mu = np.random.randn(K)\n",
        "sigma = np.abs(np.random.randn(K))\n",
        "Q = -sys.float_info.max\n",
        "delta = None"
      ],
      "execution_count": null,
      "outputs": []
    },
    {
      "cell_type": "code",
      "metadata": {
        "id": "Kb1oj_94Jh3c"
      },
      "source": [
        "# EM algorithm\n",
        "\n",
        "i = 1\n",
        "while delta == None or delta >= epsilon:\n",
        "  gf = gaussian(mu, sigma)\n",
        "\n",
        "  # E step: estimate posterior probability of hidden variable gamma\n",
        "  gamma = estimate_posterior_likelihood(X, pi, gf)\n",
        "\n",
        "  # M step: miximize Q function by estimating mu, sigma and pi\n",
        "  mu, sigma, pi = estimate_gmm_parameter(X, gamma)\n",
        "\n",
        "  # calculate Q function\n",
        "  Q_new = calc_Q(X, mu, sigma, pi, gamma)\n",
        "  delta = Q_new - Q\n",
        "  print(\"{}th calc. delta : \".format(i), delta)\n",
        "  Q = Q_new\n",
        "  i +=1"
      ],
      "execution_count": null,
      "outputs": []
    },
    {
      "cell_type": "code",
      "metadata": {
        "id": "R8_OE8d5JhxK"
      },
      "source": [
        "# result\n",
        "print(u'mu*: %s, simga*: %s' % (str(np.sort(np.around(mu_star, 3))), str(np.sort(np.around(sigma_star, 3)))))\n",
        "print(u'mu : %s, sgima : %s' % (str(np.sort(np.around(mu, 3))), str(np.sort(np.around(sigma, 3)))))"
      ],
      "execution_count": null,
      "outputs": []
    },
    {
      "cell_type": "code",
      "metadata": {
        "id": "4zYMdOFVrqrN"
      },
      "source": [
        "# plot\n",
        "\n",
        "plt.figure(figsize=(12,6))\n",
        "n, bins, _ = plt.hist(X, 200, density=True, alpha = 0.3)\n",
        "seq = np.arange(-10, 10, 0.01)\n",
        "for i in range(K):\n",
        "  plt.plot(seq, gaussian(mu[i], sigma[i])(seq)/K, linewidth = 2.0)\n",
        "\n",
        "plt.show()"
      ],
      "execution_count": null,
      "outputs": []
    },
    {
      "cell_type": "code",
      "metadata": {
        "id": "G95bOvVbrquT"
      },
      "source": [
        ""
      ],
      "execution_count": null,
      "outputs": []
    },
    {
      "cell_type": "code",
      "metadata": {
        "id": "eQvL2FQM-Fss"
      },
      "source": [
        ""
      ],
      "execution_count": null,
      "outputs": []
    },
    {
      "cell_type": "markdown",
      "metadata": {
        "id": "yPMW1Ch8rfUp"
      },
      "source": [
        "### <font color = blue>**2.** </font> GMMによるクラスタリング"
      ]
    },
    {
      "cell_type": "code",
      "metadata": {
        "id": "HutIOhIqtr3-"
      },
      "source": [
        "# 参考：https://qiita.com/isuya/items/018a0867bdc95033736d\n",
        "\n",
        "import matplotlib.pyplot as plt\n",
        "import seaborn as sns\n",
        "import numpy as np\n",
        "from collections import Counter"
      ],
      "execution_count": null,
      "outputs": []
    },
    {
      "cell_type": "code",
      "metadata": {
        "id": "J4dfZhMWtqCy"
      },
      "source": [
        "# irisのデータを使用する\n",
        "\n",
        "fig, (ax1, ax2) = plt.subplots(1, 2, figsize=(14, 6))\n",
        "df = sns.load_dataset('iris')\n",
        "ax1.scatter(df['petal_length'], df['petal_width'], color='gray')\n",
        "ax1.set_title('without label')\n",
        "ax1.set_xlabel('petal_length')\n",
        "ax1.set_ylabel('petal_width')\n",
        "\n",
        "for sp in df['species'].unique():\n",
        "  x = df[df['species'] == sp]['petal_length']\n",
        "  y = df[df['species'] == sp]['petal_width']\n",
        "  ax2.scatter(x, y, label=sp)\n",
        "\n",
        "ax2.legend()\n",
        "ax2.set_title('with label')\n",
        "ax2.set_xlabel('petal_length')\n",
        "ax2.set_ylabel('petal_width')\n",
        "plt.show()"
      ],
      "execution_count": null,
      "outputs": []
    },
    {
      "cell_type": "code",
      "metadata": {
        "id": "vdMINX_DiV2G"
      },
      "source": [
        ""
      ],
      "execution_count": null,
      "outputs": []
    },
    {
      "cell_type": "code",
      "metadata": {
        "id": "cx64m2U5rfF0"
      },
      "source": [
        "# クラスタのデータ数をカウントできる配列の実装\n",
        "\n",
        "class ClusterArray(object):\n",
        "  def __init__(self, array):\n",
        "    # arrayは1次元のリスト、配列\n",
        "    self._array = np.array(array, dtype=np.int)\n",
        "    self._counter = Counter(array)\n",
        "\n",
        "  @property\n",
        "  def array(self):\n",
        "    return self._array.copy()\n",
        "\n",
        "  def count(self, k):\n",
        "    return self._counter[k]\n",
        "\n",
        "  def __setitem__(self, i, k):\n",
        "    # 実行されるとself._counterも更新される\n",
        "    pre_value = self._array[i]\n",
        "    if pre_value == k:\n",
        "      return\n",
        "\n",
        "    if self._counter[pre_value] > 0:\n",
        "      self._counter[pre_value] -= 1\n",
        "    self._array[i] = k\n",
        "    self._counter[k] += 1\n",
        "\n",
        "  def __getitem__(self, i):\n",
        "    return self._array[i]"
      ],
      "execution_count": null,
      "outputs": []
    },
    {
      "cell_type": "code",
      "metadata": {
        "id": "ot-MqWUxrqZv"
      },
      "source": [
        "# 確率密度関数を計算する際の計算量を減らした\n",
        "\n",
        "def log_deformed_gaussian(x, mu, var):\n",
        "  norm_squared = ((x - mu) * (x - mu)).sum(axis=1)\n",
        "  return -norm_squared / (2 * var)"
      ],
      "execution_count": null,
      "outputs": []
    },
    {
      "cell_type": "code",
      "metadata": {
        "id": "-2n2cOe7rqb-"
      },
      "source": [
        "## scikit-learn風に自己実装\n",
        "\n",
        "class GaussianMixtureClustering(object):\n",
        "  def __init__(self, K, D, var=1, var_pri=1, seed=None):\n",
        "    self.K = K  # クラスタ数\n",
        "    self.D = D  # 説明変数の次元(実装しやすたのため、コンストラクタの時点で設定しておく)\n",
        "    self.z = None\n",
        "\n",
        "    # 確率分布のパラメータ設定\n",
        "    self.mu = np.zeros((self.K, self.D))\n",
        "    self.var = var  # 固定、すべてのクラスタで共通\n",
        "    self.pi = np.full(self.K, 1 / self.K)  # 固定、すべてのクラスタで共通\n",
        "\n",
        "    # 事前分布の設定\n",
        "    self.mu_pri = np.zeros(self.D)\n",
        "    self.var_pri = var_pri\n",
        "\n",
        "    self._random = np.random.RandomState(seed)\n",
        "\n",
        "  def fit(self, X, n_iter):\n",
        "    init_z = self._random.randint(0, self.K, X.shape[0])\n",
        "    self.z = ClusterArray(init_z)\n",
        "\n",
        "    for _ in range(n_iter):\n",
        "      for k in range(self.K):\n",
        "        self.mu[k] = self._sample_mu_k(X, k)\n",
        "      for i, x_i in enumerate(X):\n",
        "        self.z[i] = self._sample_zi(x_i)\n",
        "\n",
        "  def _sample_zi(self, x_i):\n",
        "    log_probs_xi = log_deformed_gaussian(x_i, self.mu, self.var)\n",
        "\n",
        "    probs_zi = np.exp(log_probs_xi) * self.pi\n",
        "    probs_zi = probs_zi / probs_zi.sum()\n",
        "\n",
        "    z_i = self._random.multinomial(1, probs_zi)\n",
        "    z_i = np.where(z_i)[0][0]\n",
        "    return z_i\n",
        "\n",
        "  def _sample_mu_k(self, X, k):\n",
        "    xk_bar = np.array([x for i, x in enumerate(X) if self.z[i] == k]).mean(axis=0)\n",
        "    var_pos = 1 / (self.z.count(k) / self.var + 1 / self.var_pri)\n",
        "    mu_pos = var_pos * (xk_bar * self.z.count(k) / self.var + self.mu_pri / self.var_pri)\n",
        "\n",
        "    mu_k = self._random.multivariate_normal(mu_pos, var_pos * np.eye(self.D))\n",
        "    return mu_k"
      ],
      "execution_count": null,
      "outputs": []
    },
    {
      "cell_type": "code",
      "metadata": {
        "id": "UB5eASTjcDze"
      },
      "source": [
        ""
      ],
      "execution_count": null,
      "outputs": []
    },
    {
      "cell_type": "code",
      "metadata": {
        "id": "4ByglQGucGC7"
      },
      "source": [
        "# データセットの読み込み\n",
        "df = sns.load_dataset('iris')\n",
        "X = df[['sepal_length', 'sepal_width', 'petal_length', 'petal_width']].values"
      ],
      "execution_count": null,
      "outputs": []
    },
    {
      "cell_type": "code",
      "metadata": {
        "id": "AY3hRWAJcGAU"
      },
      "source": [
        "# 混合ガウスモデルによるクラスタリング\n",
        "gmc = GaussianMixtureClustering(K=3, D=4, var=0.1, seed=1)\n",
        "gmc.fit(X, n_iter=10)"
      ],
      "execution_count": null,
      "outputs": []
    },
    {
      "cell_type": "code",
      "metadata": {
        "id": "THzn0-Q6h5eT"
      },
      "source": [
        "# 結果を図示する際の色分けラベル調整\n",
        "\n",
        "raw = gmc.z.array\n",
        "copy = raw.copy()\n",
        "copy[raw==0] = 2\n",
        "copy[raw==1] = 0\n",
        "copy[raw==2] = 1\n",
        "\n",
        "df['GMM_cluster'] = copy"
      ],
      "execution_count": null,
      "outputs": []
    },
    {
      "cell_type": "code",
      "metadata": {
        "id": "0NBsOz69rqeR"
      },
      "source": [
        "# 結果の可視化\n",
        "fig, (ax1, ax2) = plt.subplots(1, 2, figsize=(14, 6))\n",
        "for sp in df['species'].unique():\n",
        "  x = df[df['species'] == sp]['petal_length']\n",
        "  y = df[df['species'] == sp]['petal_width']\n",
        "  ax1.scatter(x, y, label=sp)\n",
        "\n",
        "ax1.legend()\n",
        "ax1.set_title('species')\n",
        "ax1.set_xlabel('petal_length')\n",
        "ax1.set_ylabel('petal_width')\n",
        "\n",
        "for k in range(gmc.K):\n",
        "  x = df[df['GMM_cluster'] == k]['petal_length']\n",
        "  y = df[df['GMM_cluster'] == k]['petal_width']\n",
        "  ax2.scatter(x, y, label=k)\n",
        "\n",
        "ax2.legend()\n",
        "ax2.set_title('GMM cluster')\n",
        "ax2.set_xlabel('petal_length')\n",
        "ax2.set_ylabel('petal_width')\n",
        "plt.show()"
      ],
      "execution_count": null,
      "outputs": []
    },
    {
      "cell_type": "code",
      "metadata": {
        "id": "SaZqpOdvcF9e"
      },
      "source": [
        ""
      ],
      "execution_count": null,
      "outputs": []
    },
    {
      "cell_type": "code",
      "metadata": {
        "id": "auBxWls2eP9U"
      },
      "source": [
        ""
      ],
      "execution_count": null,
      "outputs": []
    },
    {
      "cell_type": "markdown",
      "metadata": {
        "id": "cXOlNYUGeQZr"
      },
      "source": [
        "### <font color = blue>**3.** </font> ライブラリ使用例 </font>\n",
        "\n",
        "$\\downarrow \\downarrow$ 公式リファレンス $\\downarrow \\downarrow$\\\n",
        "https://scikit-learn.org/stable/modules/generated/sklearn.mixture.GaussianMixture.html"
      ]
    },
    {
      "cell_type": "code",
      "metadata": {
        "id": "lgyeqzxz0z9K"
      },
      "source": [
        "from sklearn.mixture import GaussianMixture\n",
        "from sklearn.datasets import load_iris"
      ],
      "execution_count": null,
      "outputs": []
    },
    {
      "cell_type": "code",
      "metadata": {
        "id": "LFriuYqQ10Gr"
      },
      "source": [
        "iris_data = load_iris()\n",
        "X = iris_data.data\n",
        "Y = iris_data.target\n",
        "plt.scatter(X[:,2], X[:,3], c=Y)\n",
        "plt.show()"
      ],
      "execution_count": null,
      "outputs": []
    },
    {
      "cell_type": "code",
      "metadata": {
        "id": "-a1fH8WQ10Bz"
      },
      "source": [
        "gm = GaussianMixture(3)\n",
        "gm.fit(X)\n",
        "Y_pred = gm.predict(X)\n",
        "\n",
        "copy = Y_pred.copy()\n",
        "copy[raw==0] = 2\n",
        "copy[raw==1] = 0\n",
        "copy[raw==2] = 1\n",
        "\n",
        "plt.scatter(X[:,2], X[:,3], c=copy)\n",
        "plt.show()"
      ],
      "execution_count": null,
      "outputs": []
    },
    {
      "cell_type": "code",
      "metadata": {
        "id": "QKXTJ75v1z9C"
      },
      "source": [
        ""
      ],
      "execution_count": null,
      "outputs": []
    },
    {
      "cell_type": "code",
      "metadata": {
        "id": "nU-vNTXN0z2M"
      },
      "source": [
        ""
      ],
      "execution_count": null,
      "outputs": []
    },
    {
      "cell_type": "code",
      "metadata": {
        "id": "WwcBfzUl-GTv"
      },
      "source": [
        ""
      ],
      "execution_count": null,
      "outputs": []
    },
    {
      "cell_type": "markdown",
      "metadata": {
        "id": "TyOSFQf192Eo"
      },
      "source": [
        "## 40. 因子分析（Factor Analysis）"
      ]
    },
    {
      "cell_type": "markdown",
      "metadata": {
        "id": "Cqz1ZesT6wJK"
      },
      "source": [
        "### <font color = blue>**1.** </font> EMアルゴリズムによる因子分析のパラメータ推定"
      ]
    },
    {
      "cell_type": "code",
      "metadata": {
        "id": "HZEJrx5nYuxC"
      },
      "source": [
        "# 出典: https://qiita.com/m1t0/items/a79bc97559b66b3f8adc\n",
        "\n",
        "import numpy as np\n",
        "import pandas as pd\n",
        "import scipy.stats as sp"
      ],
      "execution_count": null,
      "outputs": []
    },
    {
      "cell_type": "code",
      "metadata": {
        "id": "wY-9VC77YuvP"
      },
      "source": [
        "def gaussian(xvec, mean, cov):\n",
        "  return 1/((2*np.pi)**(xvec.size/2)*(np.sqrt(np.linalg.det(cov)))) * np.exp((-1/2)*np.dot((xvec - mean).T, \n",
        "                                                                                           np.dot(np.linalg.inv(cov), \n",
        "                                                                                                  (xvec - mean))))"
      ],
      "execution_count": null,
      "outputs": []
    },
    {
      "cell_type": "code",
      "metadata": {
        "id": "zPY_AHbCYM05"
      },
      "source": [
        "def likelihood(X, mean, cov):\n",
        "  sum = .0\n",
        "  for i in range(len(X)):\n",
        "    sum += gaussian(X[i], mean, cov)\n",
        "  return np.log(sum)"
      ],
      "execution_count": null,
      "outputs": []
    },
    {
      "cell_type": "code",
      "metadata": {
        "id": "4SHJAWOgYMyb"
      },
      "source": [
        "def EMforFA(data, m, starts=10):  # m: number of factors\n",
        "  X = data.astype(\"float64\")\n",
        "  n, p = X.shape\n",
        "  #data標準化\n",
        "  X = sp.stats.zscore(X)\n",
        "\n",
        "  likeAll = -1000\n",
        "  Lhat = np.zeros((p, m))\n",
        "  Psihat = np.zeros((p, p))\n",
        "\n",
        "  for j in range(starts):\n",
        "    turn = 0\n",
        "    print(\"---------- epoc: %d -------\" % (j+1))\n",
        "    # Lambda, Psi の初期化\n",
        "    L = np.random.uniform(0.1, 0.3, p*m).reshape(p, m)\n",
        "    for k in range(p):\n",
        "      L[k, np.random.randint(0, m-1)] = np.random.uniform(0.6, 0.9, 1)\n",
        "    Psi = np.diag(np.diag(np.identity(p) - np.dot(L, L.T)))\n",
        "    like = likelihood(X, np.zeros(p), Psi)\n",
        "\n",
        "    while True:\n",
        "      # print(turn, \": \", like)\n",
        "      ## E-step\n",
        "      beta = np.dot(L.T, np.linalg.inv(Psi + np.dot(L, L.T)))\n",
        "      Ezx = np.zeros((m, n))\n",
        "      for a in range(n):\n",
        "        Ezx[:, a] = np.dot(beta, X[a, :].T)\n",
        "      Ez2x = np.zeros((n, m, m))\n",
        "      for a in range(n):\n",
        "        Ez2x[a][:, :] = np.identity(m) - np.dot(beta, L) + np.outer(np.dot(beta, X[a, :].T), np.dot(X[a, :], beta.T))\n",
        "      sumL  = np.zeros((p, m))\n",
        "      sumL2 = np.zeros((m, m))\n",
        "      sumX = np.zeros((p, p))\n",
        "      sumZX = np.zeros((p, p))\n",
        "      for i in range(n):\n",
        "        sumL += np.outer(X[i, :].T, Ezx[:, i].T)\n",
        "        sumL2 += Ez2x[i][:, :]\n",
        "        sumX += np.outer(X[i, :].T, X[i, :])\n",
        "      #M-step \n",
        "      L = np.dot(sumL, np.linalg.inv(sumL2))\n",
        "      for i in range(n):\n",
        "        sumZX += np.dot(L, np.outer(Ezx[:, i], X[i, :]))\n",
        "      Psi = np.diag(np.diag(sumX - sumZX)) / n\n",
        "\n",
        "      like_new = likelihood(X, np.zeros(p), Psi)\n",
        "      diff = like_new - like\n",
        "      if diff < 10**(-6) and diff >= 0:\n",
        "        if likeAll < like:\n",
        "          Lhat = L\n",
        "          Psihat = Psi\n",
        "          break\n",
        "      if diff < 0:\n",
        "        print(\"diff is negative\")\n",
        "        break\n",
        "      like = like_new\n",
        "      if np.isnan(like):\n",
        "        print(\"the calculated likelihood is nan\")\n",
        "        break\n",
        "      turn += 1\n",
        "  return (Lhat, Psihat)"
      ],
      "execution_count": null,
      "outputs": []
    },
    {
      "cell_type": "code",
      "metadata": {
        "id": "jqQah2PUjhLl"
      },
      "source": [
        "## データを準備\n",
        "# 出処 : http://bstat.jp/material/\n",
        "# 5因子性格テストデータ 190(参加者)×25(項目)の評定値\n",
        "\n",
        "X = pd.read_excel(\"https://github.com/jiai-edu/teaching_ep_elementary-phython/blob/master/datasets/Big5.xls?raw=true\", \n",
        "                  sheet_name=\"Big5\", \n",
        "                  usecols=np.arange(1, 26))\n",
        "X = X.values  # .as_matrix() -> .values"
      ],
      "execution_count": null,
      "outputs": []
    },
    {
      "cell_type": "code",
      "metadata": {
        "id": "-Nh0C2g2jhI-"
      },
      "source": [
        "A, D = EMforFA(X, 5)"
      ],
      "execution_count": null,
      "outputs": []
    },
    {
      "cell_type": "code",
      "metadata": {
        "id": "0P_b2heBYKzL"
      },
      "source": [
        "A.shape"
      ],
      "execution_count": null,
      "outputs": []
    },
    {
      "cell_type": "code",
      "metadata": {
        "id": "lJBB_ANTjmkq"
      },
      "source": [
        "print(A)"
      ],
      "execution_count": null,
      "outputs": []
    },
    {
      "cell_type": "code",
      "metadata": {
        "id": "rPwbw2Q7gWqb"
      },
      "source": [
        "D.shape"
      ],
      "execution_count": null,
      "outputs": []
    },
    {
      "cell_type": "code",
      "metadata": {
        "id": "ywyQmnEKYMwJ"
      },
      "source": [
        "print(D)"
      ],
      "execution_count": null,
      "outputs": []
    },
    {
      "cell_type": "code",
      "metadata": {
        "id": "GX6Ke0WqKGXi"
      },
      "source": [
        ""
      ],
      "execution_count": null,
      "outputs": []
    },
    {
      "cell_type": "code",
      "metadata": {
        "id": "BYh3nEpFKGRG"
      },
      "source": [
        ""
      ],
      "execution_count": null,
      "outputs": []
    },
    {
      "cell_type": "markdown",
      "metadata": {
        "id": "vYfrcgCCn_qV"
      },
      "source": [
        "### <font color = blue>**2.** </font> ライブラリ使用例\n",
        "\n",
        "$\\downarrow \\downarrow$ 公式リファレンス $\\downarrow \\downarrow$\\\n",
        "https://scikit-learn.org/stable/modules/generated/sklearn.decomposition.FactorAnalysis.html"
      ]
    },
    {
      "cell_type": "code",
      "metadata": {
        "id": "sBEFZ1Hzn_OD"
      },
      "source": [
        "# 出典: https://qiita.com/y_itoh/items/227cb33317ceb09199c2\n",
        "\n",
        "import numpy as np\n",
        "import pandas as pd\n",
        "import matplotlib.pyplot as plt"
      ],
      "execution_count": null,
      "outputs": []
    },
    {
      "cell_type": "code",
      "metadata": {
        "id": "y-3N5dzjoIvj"
      },
      "source": [
        "# 12教科のテストの得点が1000人分、というダミーデータを因子分析用に作成されている\n",
        "\n",
        "url = 'https://raw.githubusercontent.com/yumi-ito/sample_data/master/subject_scores.csv'\n",
        "df = pd.read_csv(url)\n",
        "df.head()"
      ],
      "execution_count": null,
      "outputs": []
    },
    {
      "cell_type": "code",
      "metadata": {
        "id": "3O6E9i-toIxz"
      },
      "source": [
        "df.describe().apply(lambda s: s.apply(lambda x: format(x, 'g')))\n",
        "\n",
        "#標本数(count)、平均値(mean)、標準偏差(std)、最小値(min)、四分位数(25%, 50%, 75%)、最大値(max)"
      ],
      "execution_count": null,
      "outputs": []
    },
    {
      "cell_type": "code",
      "metadata": {
        "id": "qpRu62zWkuRW"
      },
      "source": [
        "# matplotlibを日本語表示に対応させるモジュール\n",
        "!pip install japanize-matplotlib\n",
        "import japanize_matplotlib"
      ],
      "execution_count": null,
      "outputs": []
    },
    {
      "cell_type": "code",
      "metadata": {
        "id": "thN9Z0_joI2C"
      },
      "source": [
        "# 散布図行列を表示\n",
        "pd.plotting.scatter_matrix(df, figsize=(18, 18), alpha=0.8)\n",
        "plt.show()"
      ],
      "execution_count": null,
      "outputs": []
    },
    {
      "cell_type": "code",
      "metadata": {
        "id": "XMxxoY8mkwOa"
      },
      "source": [
        "# sklearnの標準化モジュールをインポート\n",
        "from sklearn.preprocessing import StandardScaler"
      ],
      "execution_count": null,
      "outputs": []
    },
    {
      "cell_type": "code",
      "metadata": {
        "id": "fOemT86IoI5k"
      },
      "source": [
        "# データを変換する計算式を生成\n",
        "sc = StandardScaler()\n",
        "sc.fit(df)\n",
        "\n",
        "# 実際にデータを変換\n",
        "z = sc.transform(df)"
      ],
      "execution_count": null,
      "outputs": []
    },
    {
      "cell_type": "code",
      "metadata": {
        "id": "ncoTpbdclAQr"
      },
      "source": [
        "z.shape"
      ],
      "execution_count": null,
      "outputs": []
    },
    {
      "cell_type": "code",
      "metadata": {
        "id": "Ln7JVVojk_8A"
      },
      "source": [
        "print(z)"
      ],
      "execution_count": null,
      "outputs": []
    },
    {
      "cell_type": "code",
      "metadata": {
        "id": "LkeBnzBXlDWW"
      },
      "source": [
        "# sklearnのFactorAnalysis(因子分析)クラスをインポート\n",
        "from sklearn.decomposition import FactorAnalysis as FA"
      ],
      "execution_count": null,
      "outputs": []
    },
    {
      "cell_type": "code",
      "metadata": {
        "id": "Pt1RtjksoI73"
      },
      "source": [
        "# 因子数を指定\n",
        "n_components = 3  ###\n",
        "\n",
        "# 因子分析の実行\n",
        "fa = FA(n_components, max_iter=5000) # モデルを定義\n",
        "fitted = fa.fit_transform(z) # fitとtransformを一括処理"
      ],
      "execution_count": null,
      "outputs": []
    },
    {
      "cell_type": "code",
      "metadata": {
        "id": "XF8In3WLlJR-"
      },
      "source": [
        "fitted.shape"
      ],
      "execution_count": null,
      "outputs": []
    },
    {
      "cell_type": "code",
      "metadata": {
        "id": "WQHb-fC6lI6U"
      },
      "source": [
        "print(fitted)"
      ],
      "execution_count": null,
      "outputs": []
    },
    {
      "cell_type": "code",
      "metadata": {
        "id": "SDzNX6S4oI9-"
      },
      "source": [
        "# 因子負荷量行列を取得\n",
        "fa.components_.T"
      ],
      "execution_count": null,
      "outputs": []
    },
    {
      "cell_type": "code",
      "metadata": {
        "id": "LS5QLMnioJAg"
      },
      "source": [
        "# 変数Factor_loading_matrixに格納\n",
        "Factor_loading_matrix = fa.components_.T\n",
        "\n",
        "# データフレームに変換\n",
        "pd.DataFrame(Factor_loading_matrix, \n",
        "             columns=[\"第1因子\", \"第2因子\", \"第3因子\"], \n",
        "             index=[df.columns])"
      ],
      "execution_count": null,
      "outputs": []
    },
    {
      "cell_type": "markdown",
      "metadata": {
        "id": "ikdros3jtcR1"
      },
      "source": [
        "- 第１因子は、すべての変数がプラスになっているので、この因子が高くなると全変数が足並みをそろえて高くなる\n",
        "  - 「総合学力」とか「基礎学力」などと命名できそう\n",
        "- 第２因子は、国語・英語の絶対値が大きく、いずれもプラスで、また倫理もプラスでやや高めとなっている\n",
        "  - 「言語能力」と命名しておきます\n",
        "- 第３因子は、数学・物理の絶対値がずば抜けて大きく、いずれもプラスになっている\n",
        "  - この因子は「数理能力」といえます"
      ]
    },
    {
      "cell_type": "code",
      "metadata": {
        "id": "ehFske3cB3vH"
      },
      "source": [
        ""
      ],
      "execution_count": null,
      "outputs": []
    },
    {
      "cell_type": "markdown",
      "metadata": {
        "id": "AR76sNkOB7ci"
      },
      "source": [
        "## 41. 多様体学習（Manifold learning）"
      ]
    },
    {
      "cell_type": "markdown",
      "metadata": {
        "id": "b0HaSKmwB7dG"
      },
      "source": [
        "### <font color = blue>**1.** </font> 自己組織化マップ（SOM : Self-Organizing Map）"
      ]
    },
    {
      "cell_type": "code",
      "metadata": {
        "id": "fL-v67Z0oXQY"
      },
      "source": [
        "# 出典: https://shizenkarasuzon.hatenablog.com/entry/2019/02/03/174551"
      ],
      "execution_count": null,
      "outputs": []
    },
    {
      "cell_type": "markdown",
      "metadata": {
        "id": "0KVNwqD3nWqi"
      },
      "source": [
        "SOMとは\n",
        "- 自己組織化マップ（SOP、Self-organizing maps） はフィンランドの研究者、T. Kohonenが発明したニューラルネットの一種です\n",
        "- SOMは教師なし学習を行い、高次元のデータセットを低次元空間（主に二次元）に写像するのに使用されます\n",
        "- 2次元に写像した場合、データ分布が地図（Topographic Map）のように可視化されるため、この地図をデータマイニングに用いられることがよくあります"
      ]
    },
    {
      "cell_type": "markdown",
      "metadata": {
        "id": "oY1BWGuCnmOm"
      },
      "source": [
        "紹介するサンプル\n",
        "- SOMは多次元のデータを可視化するのに適しています\n",
        "  - 「色」という三次元データを分類・可視化してみたいと思います\n",
        "- パソコンの世界では、「色」はRed、Blue、Greenの三色の混ぜ方で決まっています\n",
        "  - それぞれ0～255の強さがあります\n",
        "  - 例えば、（Red, Green, Blue)= (255,0,0)は赤色、(Red, Green, Blue) = (255,255,0)は赤と緑の光の混ぜ合わせなので黄色となります\n",
        "  - つまり、色には三次元のデータあるのです\n",
        "\n",
        "- この三次元のデータをSOMに組み込み、似た色のデータを近くに配置することで、色を分類することができるのではないか？というのがSOMのアルゴリズムです"
      ]
    },
    {
      "cell_type": "markdown",
      "metadata": {
        "id": "-KRIsfivx7Vl"
      },
      "source": [
        "アルゴリズム\n",
        "- 最初はノードにランダムな色を記憶させておきます\n",
        "  - これは、隣同士のノードの関係がよくわからない、つまり学習が行われていない初期段階です\n",
        "- まず、SOMには、大量の色データが一つずつ順番に与えられます\n",
        "- それら一つ一つのデータに対して学習していくのですが、その学習アルゴリズムは以下の2STEPです\n",
        "  1. 入力された色データに最も近い色を表しているノードを探す\n",
        "  2. そのノードと、その周辺ノードを、入力された色データの色に近づける\n",
        "    - 例えば、入力データが赤色だった場合、赤色のノードとその周りがさらに赤っぽくなります\n",
        "- この2STEPを繰り返すことで、だんだんとノードがきれいになっていきます\n",
        "- そして、最終的には、色が二次元マップ上にきれいに分類されます"
      ]
    },
    {
      "cell_type": "code",
      "metadata": {
        "id": "Gozz10PqokTk"
      },
      "source": [
        "import numpy as np\n",
        "import matplotlib.pyplot as plt"
      ],
      "execution_count": null,
      "outputs": []
    },
    {
      "cell_type": "code",
      "metadata": {
        "id": "xmwWs5hmoqWJ"
      },
      "source": [
        "def som(ColorVec):\n",
        "  min_index = np.argmin(((weight-ColorVec)**2).sum(axis=2))\n",
        "  mini = int(min_index / Ny)\n",
        "  minj = int(min_index % Ny)\n",
        "  for i in range(-2,3):\n",
        "    for j in range(-2,3):\n",
        "      try:\n",
        "        weight[mini+i,minj+j] += alpha * (ColorVec - weight[mini+i,minj+j])\n",
        "      except:\n",
        "        pass"
      ],
      "execution_count": null,
      "outputs": []
    },
    {
      "cell_type": "code",
      "metadata": {
        "id": "eo5znGkQoj9P"
      },
      "source": [
        "Nx = 30\n",
        "Ny = 30\n",
        "learntime = 10000\n",
        "alpha = 0.08"
      ],
      "execution_count": null,
      "outputs": []
    },
    {
      "cell_type": "code",
      "metadata": {
        "id": "T_Y1fFiWmTHD"
      },
      "source": [
        "weight = np.random.random([Nx,Ny,3])\n",
        "\n",
        "for time in range(learntime):\n",
        "  ColorVec = np.random.rand(3)\n",
        "  som(ColorVec)\n",
        "  if time%100 == 0 and time<1001: ####\n",
        "    print(\"transition@{}\".format(time))\n",
        "    im0 = plt.imshow(weight, interpolation='none')\n",
        "    plt.show()\n",
        "\n",
        "print(\"result\")\n",
        "im2 = plt.imshow(weight, interpolation='none')\n",
        "plt.show()"
      ],
      "execution_count": null,
      "outputs": []
    },
    {
      "cell_type": "code",
      "metadata": {
        "id": "0J87it1Omylq"
      },
      "source": [
        ""
      ],
      "execution_count": null,
      "outputs": []
    },
    {
      "cell_type": "markdown",
      "metadata": {
        "id": "nJH4GNsgC-D8"
      },
      "source": [
        "### <font color = blue>**2.** </font> ライブラリ使用例\n",
        "\n",
        "$\\downarrow \\downarrow$ 公式リファレンス $\\downarrow \\downarrow$\\\n",
        "https://scikit-learn.org/stable/modules/manifold.html\n",
        "\n"
      ]
    },
    {
      "cell_type": "code",
      "metadata": {
        "id": "2LIlxmCKPPx4"
      },
      "source": [
        "!pip install ugtm"
      ],
      "execution_count": null,
      "outputs": []
    },
    {
      "cell_type": "code",
      "metadata": {
        "id": "HPPhXDjuPWD2"
      },
      "source": [
        "!pip install somoclu"
      ],
      "execution_count": null,
      "outputs": []
    },
    {
      "cell_type": "code",
      "metadata": {
        "id": "uVT7-33kPY4M"
      },
      "source": [
        "!pip install umap-learn"
      ],
      "execution_count": null,
      "outputs": []
    },
    {
      "cell_type": "code",
      "metadata": {
        "id": "JeEK-zmEOfG5"
      },
      "source": [
        "from matplotlib import pyplot as plt\n",
        "import numpy as np\n",
        "from sklearn import datasets\n",
        "from sklearn.decomposition import PCA\n",
        "from sklearn.manifold import MDS\n",
        "from sklearn.manifold import LocallyLinearEmbedding\n",
        "from sklearn.manifold import SpectralEmbedding\n",
        "from sklearn.manifold import Isomap\n",
        "from sklearn.manifold import TSNE\n",
        "from scipy.sparse.csgraph import connected_components\n",
        "\n",
        "from ugtm import eGTM\n",
        "from somoclu import Somoclu\n",
        "from umap import UMAP"
      ],
      "execution_count": null,
      "outputs": []
    },
    {
      "cell_type": "code",
      "metadata": {
        "id": "2cuejcGQOpKw"
      },
      "source": [
        "dataset = datasets.load_digits()\n",
        "X = dataset.data\n",
        "Y = dataset.target"
      ],
      "execution_count": null,
      "outputs": []
    },
    {
      "cell_type": "code",
      "metadata": {
        "id": "RhzBdSop9v30"
      },
      "source": [
        "methods = {\n",
        "    'PCA': PCA(),\n",
        "    'MDS': MDS(),\n",
        "    'Isomap': Isomap(),\n",
        "    'LLE': LocallyLinearEmbedding(),\n",
        "    'Laplacian Eigenmaps': SpectralEmbedding(),\n",
        "    't-SNE': TSNE(),\n",
        "    'UMAP': UMAP(),\n",
        "    'GTM': eGTM(),\n",
        "    }"
      ],
      "execution_count": null,
      "outputs": []
    },
    {
      "cell_type": "code",
      "metadata": {
        "id": "6F-6Dd7f73Dn"
      },
      "source": [
        "fig = plt.figure(figsize=(18, 18))\n",
        "\n",
        "for i, (name, method) in enumerate(methods.items()):\n",
        "  t0 = time()\n",
        "  Z = method.fit_transform(X)\n",
        "  t1 = time()\n",
        "  ax = fig.add_subplot(3, 3, i + 1)\n",
        "  ax.scatter(Z[:, 0], Z[:, 1],c=Y,cmap='Paired', vmin=0, vmax=12)\n",
        "  ax.set_title(\"%s (%.2g sec)\" % (name, t1 - t0))\n",
        "\n",
        "t0 = time()\n",
        "som = Somoclu(64,64)\n",
        "som.train(data=X, epochs=100)\n",
        "map = som.get_surface_state()\n",
        "Z = som.get_bmus(map)\n",
        "\n",
        "t1 = time()\n",
        "ax = fig.add_subplot(3, 3, 9)\n",
        "ax.scatter(x=Z[:,0],y=Z[:,1],c=Y,cmap='Paired', vmin=0, vmax=12)\n",
        "ax.set_title(\"%s (%.2g sec)\" % ('SOM', t1 - t0))\n",
        "plt.show()"
      ],
      "execution_count": null,
      "outputs": []
    },
    {
      "cell_type": "code",
      "metadata": {
        "id": "2Tw-cbClC57r"
      },
      "source": [
        ""
      ],
      "execution_count": null,
      "outputs": []
    },
    {
      "cell_type": "code",
      "metadata": {
        "id": "yXmq4Kl97-p0"
      },
      "source": [
        ""
      ],
      "execution_count": null,
      "outputs": []
    },
    {
      "cell_type": "code",
      "metadata": {
        "id": "CY2D1Ud57-nS"
      },
      "source": [
        "from collections import OrderedDict\n",
        "from functools import partial\n",
        "from time import time\n",
        "import matplotlib.pyplot as plt\n",
        "from mpl_toolkits.mplot3d import Axes3D\n",
        "from matplotlib.ticker import NullFormatter\n",
        "from sklearn import manifold, datasets"
      ],
      "execution_count": null,
      "outputs": []
    },
    {
      "cell_type": "code",
      "metadata": {
        "id": "BLYLuJjs9aok"
      },
      "source": [
        "# Next line to silence pyflakes. This import is needed.\n",
        "Axes3D\n",
        "n_points = 1000\n",
        "X, color = datasets.make_s_curve(n_points, random_state=0)\n",
        "n_neighbors = 10\n",
        "n_components = 2"
      ],
      "execution_count": null,
      "outputs": []
    },
    {
      "cell_type": "code",
      "metadata": {
        "id": "Ob-xTyQi9aii"
      },
      "source": [
        "methods = {\n",
        "    'PCA': PCA(),\n",
        "    'MDS': MDS(),\n",
        "    'Isomap': Isomap(),\n",
        "    'LLE': LocallyLinearEmbedding(),\n",
        "    'Laplacian Eigenmaps': SpectralEmbedding(),\n",
        "    't-SNE': TSNE(),\n",
        "    'UMAP': UMAP(),\n",
        "    'GTM': eGTM(),\n",
        "    }"
      ],
      "execution_count": null,
      "outputs": []
    },
    {
      "cell_type": "code",
      "metadata": {
        "id": "tndyCBGp73JM"
      },
      "source": [
        "# Create figure\n",
        "fig = plt.figure(figsize=(20, 9))\n",
        "\n",
        "# Add 3d scatter plot\n",
        "ax = fig.add_subplot(251, projection='3d')\n",
        "ax.scatter(X[:, 0], X[:, 1], X[:, 2], c=color, cmap=plt.cm.Spectral)\n",
        "ax.view_init(4, -72)\n",
        "\n",
        "# Plot results\n",
        "for i, (label, method) in enumerate(methods.items()):\n",
        "  t0 = time()\n",
        "  Z = method.fit_transform(X)\n",
        "  t1 = time()\n",
        "  ax = fig.add_subplot(2, 5, 2 + i )\n",
        "  ax.scatter(Z[:, 0], Z[:, 1], c=color, cmap=plt.cm.Spectral)\n",
        "  ax.set_title(\"%s (%.2g sec)\" % (label, t1 - t0))\n",
        "  ax.xaxis.set_major_formatter(NullFormatter())\n",
        "  ax.yaxis.set_major_formatter(NullFormatter())\n",
        "  ax.axis('tight')\n",
        "\n",
        "t0 = time()\n",
        "som = Somoclu(32,32)\n",
        "som.train(data=X, epochs=100)\n",
        "map = som.get_surface_state()\n",
        "Z = som.get_bmus(map)\n",
        "t1 = time()\n",
        "\n",
        "ax = fig.add_subplot(2, 5, 10)\n",
        "plt.scatter(Z[:,0],Z[:,1], c=color, cmap=plt.cm.Spectral)\n",
        "ax.set_title(\"%s (%.2g sec)\" % ('SOM', t1 - t0))\n",
        "ax.xaxis.set_major_formatter(NullFormatter())\n",
        "ax.yaxis.set_major_formatter(NullFormatter())\n",
        "ax.axis('tight')\n",
        "plt.show()"
      ],
      "execution_count": null,
      "outputs": []
    },
    {
      "cell_type": "code",
      "metadata": {
        "id": "4jCt5yVO73Gg"
      },
      "source": [
        ""
      ],
      "execution_count": null,
      "outputs": []
    },
    {
      "cell_type": "code",
      "metadata": {
        "id": "zR70B6B773A8"
      },
      "source": [
        ""
      ],
      "execution_count": null,
      "outputs": []
    },
    {
      "cell_type": "code",
      "metadata": {
        "id": "0t_KGIgM72-a"
      },
      "source": [
        ""
      ],
      "execution_count": null,
      "outputs": []
    },
    {
      "cell_type": "code",
      "metadata": {
        "id": "J5K6dB9_727N"
      },
      "source": [
        ""
      ],
      "execution_count": null,
      "outputs": []
    }
  ]
}