{
  "nbformat": 4,
  "nbformat_minor": 0,
  "metadata": {
    "colab": {
      "name": "training_20201201.ipynb",
      "provenance": [],
      "collapsed_sections": [
        "we8FEnJzzqK6",
        "lQEnntVl2g-m",
        "vOuo-fDEgCCt",
        "67Sv6VkIvzWk",
        "-xSlPH4ha5Vx",
        "r9X3-Wzb2Z4l",
        "bBWceMj54h8x",
        "8chKUToM-5rD",
        "Q5jnlTBMbbhK",
        "uJyTAXhKAQMF",
        "CeTbSKBo5226",
        "6_wcIAAA9fN3"
      ]
    },
    "kernelspec": {
      "name": "python3",
      "display_name": "Python 3"
    }
  },
  "cells": [
    {
      "cell_type": "markdown",
      "metadata": {
        "id": "we8FEnJzzqK6"
      },
      "source": [
        "### 15. アソシエーション分析（バスケット分析）"
      ]
    },
    {
      "cell_type": "markdown",
      "metadata": {
        "id": "lQEnntVl2g-m"
      },
      "source": [
        "#### ユーザーアニメ視聴リスト(kaggleより)\n",
        "\n",
        "https://www.kaggle.com/azathoth42/myanimelist\n",
        "\n",
        "CSVデータ（分割の1つ目）： https://raw.githubusercontent.com/jiai-tus/FirstTerm/main/20201201/dataset/UserAnimeList/ual1.csv\n",
        "ual2, ual3, のように末尾数字を変えれば2つ目以降にアクセス可能"
      ]
    },
    {
      "cell_type": "code",
      "metadata": {
        "id": "eDn3LVnxamNP"
      },
      "source": [
        "## 分析対象のデータについて整形する\n",
        "# pandasをimport"
      ],
      "execution_count": null,
      "outputs": []
    },
    {
      "cell_type": "code",
      "metadata": {
        "id": "VSMYmeCH4Kdf"
      },
      "source": [
        ""
      ],
      "execution_count": null,
      "outputs": []
    },
    {
      "cell_type": "code",
      "metadata": {
        "id": "PaFQAyCC4KUr"
      },
      "source": [
        ""
      ],
      "execution_count": null,
      "outputs": []
    },
    {
      "cell_type": "code",
      "metadata": {
        "id": "rNep7RPDamJr"
      },
      "source": [
        "# 空のlist変数を用意"
      ],
      "execution_count": null,
      "outputs": []
    },
    {
      "cell_type": "code",
      "metadata": {
        "id": "z3-m4eFu4LdA"
      },
      "source": [
        ""
      ],
      "execution_count": null,
      "outputs": []
    },
    {
      "cell_type": "code",
      "metadata": {
        "id": "c4RujTBl4LTs"
      },
      "source": [
        ""
      ],
      "execution_count": null,
      "outputs": []
    },
    {
      "cell_type": "code",
      "metadata": {
        "id": "RrJBTIPxamIS"
      },
      "source": [
        "# .read_csv(\"path\")でCSVファイルを読み込むと同時にデータフレーム形式にしてくれる"
      ],
      "execution_count": null,
      "outputs": []
    },
    {
      "cell_type": "code",
      "metadata": {
        "id": "z7Am85xT4MXP"
      },
      "source": [
        ""
      ],
      "execution_count": null,
      "outputs": []
    },
    {
      "cell_type": "code",
      "metadata": {
        "id": "Mzl4I79o4MOS"
      },
      "source": [
        ""
      ],
      "execution_count": null,
      "outputs": []
    },
    {
      "cell_type": "code",
      "metadata": {
        "id": "usyg64AnamFQ"
      },
      "source": [
        "# .head(n)で読み込んだデータの先頭n行を確認"
      ],
      "execution_count": null,
      "outputs": []
    },
    {
      "cell_type": "code",
      "metadata": {
        "id": "GZ8xr5ha4NPi"
      },
      "source": [
        ""
      ],
      "execution_count": null,
      "outputs": []
    },
    {
      "cell_type": "code",
      "metadata": {
        "id": "tSg4Qcas4NIZ"
      },
      "source": [
        ""
      ],
      "execution_count": null,
      "outputs": []
    },
    {
      "cell_type": "code",
      "metadata": {
        "id": "16hpdyykbwLV"
      },
      "source": [
        "# .tail(n)で読み込んだデータの末尾n行を確認"
      ],
      "execution_count": null,
      "outputs": []
    },
    {
      "cell_type": "code",
      "metadata": {
        "id": "QJHdAETJ4Ok-"
      },
      "source": [
        ""
      ],
      "execution_count": null,
      "outputs": []
    },
    {
      "cell_type": "code",
      "metadata": {
        "id": "tG7JwwdW4OiB"
      },
      "source": [
        ""
      ],
      "execution_count": null,
      "outputs": []
    },
    {
      "cell_type": "code",
      "metadata": {
        "id": "aP2IrS3xbwO5"
      },
      "source": [
        "# anime_idの値の範囲を確認\n",
        "# .idxmin() .idxmax() で最小値/最大値を取得できる"
      ],
      "execution_count": null,
      "outputs": []
    },
    {
      "cell_type": "code",
      "metadata": {
        "id": "46KD-MMH4PXv"
      },
      "source": [
        ""
      ],
      "execution_count": null,
      "outputs": []
    },
    {
      "cell_type": "code",
      "metadata": {
        "id": "rW_xPuQA4PVU"
      },
      "source": [
        ""
      ],
      "execution_count": null,
      "outputs": []
    },
    {
      "cell_type": "code",
      "metadata": {
        "id": "xvWYoI-pbwRZ"
      },
      "source": [
        "# 不要な列の削除（使用する列のみを切り出す）\n",
        "# .loc[] でスライシング\n",
        "# 今必要なのは、username と anime_id の組"
      ],
      "execution_count": null,
      "outputs": []
    },
    {
      "cell_type": "code",
      "metadata": {
        "id": "-C1VXkGD4QJZ"
      },
      "source": [
        ""
      ],
      "execution_count": null,
      "outputs": []
    },
    {
      "cell_type": "code",
      "metadata": {
        "id": "1TtCXA9x4QGV"
      },
      "source": [
        ""
      ],
      "execution_count": null,
      "outputs": []
    },
    {
      "cell_type": "code",
      "metadata": {
        "id": "aDM0Tclkbbuv"
      },
      "source": [
        "# 固有なusernameを抽出する\n",
        "# ここではset()を使いましょう"
      ],
      "execution_count": null,
      "outputs": []
    },
    {
      "cell_type": "code",
      "metadata": {
        "id": "swNx7Mxk4RGO"
      },
      "source": [
        ""
      ],
      "execution_count": null,
      "outputs": []
    },
    {
      "cell_type": "code",
      "metadata": {
        "id": "DBKmCi4z4Q_M"
      },
      "source": [
        ""
      ],
      "execution_count": null,
      "outputs": []
    },
    {
      "cell_type": "code",
      "metadata": {
        "id": "7RxaX8ShK6Zr"
      },
      "source": [
        ""
      ],
      "execution_count": null,
      "outputs": []
    },
    {
      "cell_type": "code",
      "metadata": {
        "id": "hv9mqeK4dTT5"
      },
      "source": [
        "# usernameごとに、視聴したanime_idを集計してlist化する\n",
        "## if文、for文だけでも処理を書けますが、全てのusernameについて集計すると\n",
        "## 処理に時間がかかりすぎるので、講義中は100個に絞ってください"
      ],
      "execution_count": null,
      "outputs": []
    },
    {
      "cell_type": "code",
      "metadata": {
        "id": "RV3aY8zT4SVK"
      },
      "source": [
        ""
      ],
      "execution_count": null,
      "outputs": []
    },
    {
      "cell_type": "code",
      "metadata": {
        "id": "27Ifi7DdLW-F"
      },
      "source": [
        ""
      ],
      "execution_count": null,
      "outputs": []
    },
    {
      "cell_type": "code",
      "metadata": {
        "id": "3mBb9klPLW4o"
      },
      "source": [
        ""
      ],
      "execution_count": null,
      "outputs": []
    },
    {
      "cell_type": "code",
      "metadata": {
        "id": "adVS2iMw4SRY"
      },
      "source": [
        "## 以上でデータの整形完了、以下分析していきます"
      ],
      "execution_count": null,
      "outputs": []
    },
    {
      "cell_type": "markdown",
      "metadata": {
        "id": "vOuo-fDEgCCt"
      },
      "source": [
        "#### <font color=red>task : </font> 処理の高速化/省力化の工夫をして、1120ユーザー全てについて集計する。所要時間を計時して比較も行うとなおよい。"
      ]
    },
    {
      "cell_type": "code",
      "metadata": {
        "id": "dqhoyiMwdTWZ"
      },
      "source": [
        ""
      ],
      "execution_count": null,
      "outputs": []
    },
    {
      "cell_type": "code",
      "metadata": {
        "id": "s5iZaGqodTZy"
      },
      "source": [
        ""
      ],
      "execution_count": null,
      "outputs": []
    },
    {
      "cell_type": "code",
      "metadata": {
        "id": "mg6acFrshs23"
      },
      "source": [
        ""
      ],
      "execution_count": null,
      "outputs": []
    },
    {
      "cell_type": "markdown",
      "metadata": {
        "id": "67Sv6VkIvzWk"
      },
      "source": [
        "#### アソシエーション分析用ライブラリ\n",
        "mlxtend というデータサイエンス用ツールが詰まった機械学習の拡張ライブラリがある\n",
        "\n",
        "$\\downarrow \\downarrow$ 公式リファレンス $\\downarrow \\downarrow$\\\n",
        "https://rasbt.github.io/mlxtend/"
      ]
    },
    {
      "cell_type": "code",
      "metadata": {
        "id": "saPyH00whsyn"
      },
      "source": [
        "# 前処理：　mlxtend.preprocessing.TransactionEncoder により bool値へ変換（One-Hotエンコーディング）"
      ],
      "execution_count": null,
      "outputs": []
    },
    {
      "cell_type": "code",
      "metadata": {
        "id": "ks3nn_Q2sVMm"
      },
      "source": [
        "'''\n",
        "from mlxtend.preprocessing import TransactionEncoder\n",
        "\n",
        "te = TransactionEncoder()\n",
        "te_ary = te.fit(datalist).transform(datalist)\n",
        "df_dataset = pd.DataFrame(te_ary, columns=te.columns_)\n",
        "df_dataset"
      ],
      "execution_count": null,
      "outputs": []
    },
    {
      "cell_type": "code",
      "metadata": {
        "id": "041xYD2nd3fF"
      },
      "source": [
        ""
      ],
      "execution_count": null,
      "outputs": []
    },
    {
      "cell_type": "code",
      "metadata": {
        "id": "Dv_tf8DP4VBs"
      },
      "source": [
        ""
      ],
      "execution_count": null,
      "outputs": []
    },
    {
      "cell_type": "code",
      "metadata": {
        "id": "_uPltV8Osgh8"
      },
      "source": [
        "# mlxtend.frequent_patterns.apriori により Supportの高い組み合わせのみ（比較的）高速に抽出できる"
      ],
      "execution_count": null,
      "outputs": []
    },
    {
      "cell_type": "code",
      "metadata": {
        "id": "-NIf9s9NsVGG"
      },
      "source": [
        "'''\n",
        "from mlxtend.frequent_patterns import apriori\n",
        "\n",
        "k = 0.3\n",
        "# 支持度 (Support) k 以上でアイテム集合の検出（default: 0.5）\n",
        "\n",
        "l = 4\n",
        "# 組み合わせ個数が l 以下について対象とする（default: None  あらゆる組み合わせについて検出する）\n",
        "\n",
        "support_itemsets = apriori(df_dataset, min_support=k, use_colnames=True, max_len=l)\n",
        "\n",
        "support_itemsets"
      ],
      "execution_count": null,
      "outputs": []
    },
    {
      "cell_type": "code",
      "metadata": {
        "id": "JxuArKuHd1qD"
      },
      "source": [
        ""
      ],
      "execution_count": null,
      "outputs": []
    },
    {
      "cell_type": "code",
      "metadata": {
        "id": "lvDep4eV4WMp"
      },
      "source": [
        ""
      ],
      "execution_count": null,
      "outputs": []
    },
    {
      "cell_type": "code",
      "metadata": {
        "id": "uovw0qoIp24q"
      },
      "source": [
        "# 検出したアイテム集合に対し、mlxtend.frequent_patterns.association_rules によりアソシエーションルールを分析"
      ],
      "execution_count": null,
      "outputs": []
    },
    {
      "cell_type": "code",
      "metadata": {
        "id": "5mln1P7EwRDJ"
      },
      "source": [
        "'''\n",
        "from mlxtend.frequent_patterns import association_rules\n",
        "\n",
        "# 信頼度 confidece が 0.7 以上のアソシエーションルールを分析\n",
        "rules = association_rules(support_itemsets, metric=\"confidence\", min_threshold=0.7)"
      ],
      "execution_count": null,
      "outputs": []
    },
    {
      "cell_type": "code",
      "metadata": {
        "id": "_WHu16NV4W7n"
      },
      "source": [
        ""
      ],
      "execution_count": null,
      "outputs": []
    },
    {
      "cell_type": "code",
      "metadata": {
        "id": "_CouQZ5Kd27R"
      },
      "source": [
        ""
      ],
      "execution_count": null,
      "outputs": []
    },
    {
      "cell_type": "code",
      "metadata": {
        "id": "_26jMQgOxcPb"
      },
      "source": [
        "# rules は pandas.DataFrame なので条件によるデータの選択も容易に行える\n",
        "# 作成したルールから、リフト値 (Lift) が 2.0 以上のルールを選択かつ降順表示"
      ],
      "execution_count": null,
      "outputs": []
    },
    {
      "cell_type": "code",
      "metadata": {
        "id": "LmUUsI9Pp22L"
      },
      "source": [
        "'''\n",
        "rules2 = rules.sort_values('lift', ascending=False)\n",
        "rules2[rules2['lift'] >= 2.0]"
      ],
      "execution_count": null,
      "outputs": []
    },
    {
      "cell_type": "code",
      "metadata": {
        "id": "FQ-8EwZ64aoA"
      },
      "source": [
        ""
      ],
      "execution_count": null,
      "outputs": []
    },
    {
      "cell_type": "code",
      "metadata": {
        "id": "ndAo2Q7WyYv5"
      },
      "source": [
        ""
      ],
      "execution_count": null,
      "outputs": []
    },
    {
      "cell_type": "code",
      "metadata": {
        "id": "d4YfAlZcwRHN"
      },
      "source": [
        "# 作成したルールから、リフト値 (Lift) が 2.0 以上のルールを選択かつ 支持度（Support） で降順表示"
      ],
      "execution_count": null,
      "outputs": []
    },
    {
      "cell_type": "code",
      "metadata": {
        "id": "ScIqpOR6wRKS"
      },
      "source": [
        "'''\n",
        "rules3 = rules.sort_values('support', ascending=False)\n",
        "rules3[rules3['lift'] >= 2.0]"
      ],
      "execution_count": null,
      "outputs": []
    },
    {
      "cell_type": "code",
      "metadata": {
        "id": "mBcf_7I_4bCL"
      },
      "source": [
        ""
      ],
      "execution_count": null,
      "outputs": []
    },
    {
      "cell_type": "code",
      "metadata": {
        "id": "9Pk83XhHyYOM"
      },
      "source": [
        ""
      ],
      "execution_count": null,
      "outputs": []
    },
    {
      "cell_type": "code",
      "metadata": {
        "id": "kCbVOHnnyKtw"
      },
      "source": [
        "# 作成したルールから、リフト値 (Lift) が 2.0 以上のルールを選択かつ 信頼度（Confidence） で降順表示"
      ],
      "execution_count": null,
      "outputs": []
    },
    {
      "cell_type": "code",
      "metadata": {
        "id": "lC1w6ar8f2wF"
      },
      "source": [
        "'''\n",
        "rules4 = rules.sort_values('confidence', ascending=False)\n",
        "rules4[rules4['lift'] >= 2.0].head(20)"
      ],
      "execution_count": null,
      "outputs": []
    },
    {
      "cell_type": "code",
      "metadata": {
        "id": "CdGFgY764ddH"
      },
      "source": [
        ""
      ],
      "execution_count": null,
      "outputs": []
    },
    {
      "cell_type": "code",
      "metadata": {
        "id": "d9wk_eAgOIO9"
      },
      "source": [
        ""
      ],
      "execution_count": null,
      "outputs": []
    },
    {
      "cell_type": "markdown",
      "metadata": {
        "id": "-xSlPH4ha5Vx"
      },
      "source": [
        "##### anime_idの数字だけではよくわからない。実際には何のアニメなのだろうか…？\n",
        "\n",
        "データの出所である以下のサイトにて、\n",
        "\n",
        "https://myanimelist.net/anime/ \"anime_id\" /\n",
        "\n",
        "とURLを手打ちすると anime_id のアニメタイトルがわかる。"
      ]
    },
    {
      "cell_type": "code",
      "metadata": {
        "id": "6gOu4tshyaEK"
      },
      "source": [
        ""
      ],
      "execution_count": null,
      "outputs": []
    },
    {
      "cell_type": "code",
      "metadata": {
        "id": "e1GA-yzMeAVw"
      },
      "source": [
        ""
      ],
      "execution_count": null,
      "outputs": []
    },
    {
      "cell_type": "code",
      "metadata": {
        "id": "_YeIjRo-OIII"
      },
      "source": [
        "'''\n",
        "# おまけ：視覚化\n",
        "\n",
        "import matplotlib.pyplot as plt\n",
        "import seaborn as sns\n",
        "\n",
        "# Transform the DataFrame of rules into a matrix using the lift metric\n",
        "pivot = rules[rules['lift'] >= 2.4].pivot(index = 'antecedents', \n",
        "                                          columns = 'consequents', \n",
        "                                          values= 'lift'\n",
        "                                          )\n",
        "\n",
        "# 図のサイズ調整\n",
        "plt.figure(figsize=(10, 7))\n",
        "\n",
        "# Generate a heatmap with annotations on and the colorbar off\n",
        "sns.heatmap(pivot, annot = True)\n",
        "plt.yticks(rotation=0)\n",
        "plt.xticks(rotation=90)\n",
        "plt.show()"
      ],
      "execution_count": null,
      "outputs": []
    },
    {
      "cell_type": "code",
      "metadata": {
        "id": "uJCxGlMkeBKx"
      },
      "source": [
        ""
      ],
      "execution_count": null,
      "outputs": []
    },
    {
      "cell_type": "code",
      "metadata": {
        "id": "Wx8jGBvveBIa"
      },
      "source": [
        ""
      ],
      "execution_count": null,
      "outputs": []
    },
    {
      "cell_type": "markdown",
      "metadata": {
        "id": "r9X3-Wzb2Z4l"
      },
      "source": [
        "#### <font color=red>task : </font> apriori()の引数 min_support と max_len についてグリッドサーチしてみる\n",
        "グリッドサーチ(GridSearch)：ある範囲内でパラメータの組み合わせを全て試し比較評価する手法"
      ]
    },
    {
      "cell_type": "code",
      "metadata": {
        "id": "DtUqlQaQ2ZcC"
      },
      "source": [
        ""
      ],
      "execution_count": null,
      "outputs": []
    },
    {
      "cell_type": "code",
      "metadata": {
        "id": "K5prCuKF4Cid"
      },
      "source": [
        ""
      ],
      "execution_count": null,
      "outputs": []
    },
    {
      "cell_type": "code",
      "metadata": {
        "id": "Qu6EjXvvp2ze"
      },
      "source": [
        ""
      ],
      "execution_count": null,
      "outputs": []
    },
    {
      "cell_type": "markdown",
      "metadata": {
        "id": "bBWceMj54h8x"
      },
      "source": [
        "### 16. 相関分析"
      ]
    },
    {
      "cell_type": "markdown",
      "metadata": {
        "id": "8chKUToM-5rD"
      },
      "source": [
        "#### 顧客消費金額のデータセット(kaggleより)\n",
        "\n",
        "https://www.kaggle.com/vjchoudhary7/customer-segmentation-tutorial-in-python\n",
        "\n",
        "CSVデータ： https://raw.githubusercontent.com/jiai-tus/FirstTerm/main/20201201/dataset/Mall_Customers.csv"
      ]
    },
    {
      "cell_type": "code",
      "metadata": {
        "id": "q8Rh4PrW_j0a"
      },
      "source": [
        "# データセットを読み込む"
      ],
      "execution_count": null,
      "outputs": []
    },
    {
      "cell_type": "code",
      "metadata": {
        "id": "tEMeX_bv_jvx"
      },
      "source": [
        "import numpy as np\n",
        "import pandas as pd\n",
        "import seaborn as sns\n",
        "\n",
        "df = pd.read_csv(\"hogehoge\")\n",
        "df.head()"
      ],
      "execution_count": null,
      "outputs": []
    },
    {
      "cell_type": "code",
      "metadata": {
        "id": "QJM00301eWOa"
      },
      "source": [
        ""
      ],
      "execution_count": null,
      "outputs": []
    },
    {
      "cell_type": "code",
      "metadata": {
        "id": "htCzzsR8_ufl"
      },
      "source": [
        "# 変数名（カラム名）の確認\n",
        "df.columns"
      ],
      "execution_count": null,
      "outputs": []
    },
    {
      "cell_type": "code",
      "metadata": {
        "id": "jR7cTpi6eWes"
      },
      "source": [
        ""
      ],
      "execution_count": null,
      "outputs": []
    },
    {
      "cell_type": "code",
      "metadata": {
        "id": "8iLaeXnI-5TZ"
      },
      "source": [
        "## Age, Annual Income (k$), Spending Score (1-100) の３変数について相関分析を行う\n",
        "# まずデータの散布図を見てみる\n",
        "\n",
        "df2 = df.loc[:, 'hogehoge':'hogehoge']\n",
        "sns.pairplot(df2)"
      ],
      "execution_count": null,
      "outputs": []
    },
    {
      "cell_type": "code",
      "metadata": {
        "id": "147HVE1qenFO"
      },
      "source": [
        ""
      ],
      "execution_count": null,
      "outputs": []
    },
    {
      "cell_type": "code",
      "metadata": {
        "id": "CPswJkxkARkE"
      },
      "source": [
        "# numpy.corrcoef() を使用して相関係数を計算\n",
        "\n",
        "import matplotlib.pyplot as plt\n",
        "cr = pd.DataFrame(np.corrcoef(df2.T), columns = df2.columns, index = df2.columns)\n",
        "sns.heatmap(cr, annot=True, square=True, vmin=-1, vmax=1, fmt=\".2f\", cmap=\"RdBu\")\n",
        "plt.show()"
      ],
      "execution_count": null,
      "outputs": []
    },
    {
      "cell_type": "code",
      "metadata": {
        "id": "bbBgz3uAAmAH"
      },
      "source": [
        ""
      ],
      "execution_count": null,
      "outputs": []
    },
    {
      "cell_type": "code",
      "metadata": {
        "id": "EXGN0TuvANqe"
      },
      "source": [
        "## Male/Femaleごとの相関分析をしてみる\n",
        "# ラベル付けしたデータの散布図を見てみる\n",
        "\n",
        "df3 = df.loc[:, 'hogehoge':'hogehoge']\n",
        "sns.pairplot(df3, hue='hogehoge')"
      ],
      "execution_count": null,
      "outputs": []
    },
    {
      "cell_type": "code",
      "metadata": {
        "id": "8HI54gG2etDG"
      },
      "source": [
        ""
      ],
      "execution_count": null,
      "outputs": []
    },
    {
      "cell_type": "code",
      "metadata": {
        "id": "NyFxeRP8YPJS"
      },
      "source": [
        "# Male だけ抜き出して散布図を作成\n",
        "\n",
        "df_Male = df[df['Gender'] == 'Male'].loc[:, 'hogehoge':'hogehoge']\n",
        "#df_Male\n",
        "\n",
        "sns.pairplot(df_Male)"
      ],
      "execution_count": null,
      "outputs": []
    },
    {
      "cell_type": "code",
      "metadata": {
        "id": "bwg0w3xietbf"
      },
      "source": [
        ""
      ],
      "execution_count": null,
      "outputs": []
    },
    {
      "cell_type": "code",
      "metadata": {
        "id": "BJtmf1z3Z2h0"
      },
      "source": [
        "# Male だけ抜き出して相関係数を計算\n",
        "\n",
        "cr = pd.DataFrame(np.corrcoef(df_Male.T), columns = df_Male.columns, index = df_Male.columns)\n",
        "sns.heatmap(cr, annot=True, square=True, vmin=-1, vmax=1, fmt=\".2f\", cmap=\"RdBu\")\n",
        "plt.show()"
      ],
      "execution_count": null,
      "outputs": []
    },
    {
      "cell_type": "code",
      "metadata": {
        "id": "ktBIa9L6etts"
      },
      "source": [
        ""
      ],
      "execution_count": null,
      "outputs": []
    },
    {
      "cell_type": "code",
      "metadata": {
        "id": "_jk_lmqhZQAl"
      },
      "source": [
        "# Female だけ抜き出して散布図を作成\n",
        "\n"
      ],
      "execution_count": null,
      "outputs": []
    },
    {
      "cell_type": "code",
      "metadata": {
        "id": "l0SwlpY8e2WJ"
      },
      "source": [
        ""
      ],
      "execution_count": null,
      "outputs": []
    },
    {
      "cell_type": "code",
      "metadata": {
        "id": "ccopinKUaAc-"
      },
      "source": [
        "# Female だけ抜き出して散布図を作成\n",
        "\n"
      ],
      "execution_count": null,
      "outputs": []
    },
    {
      "cell_type": "code",
      "metadata": {
        "id": "qVNDl4Aue2jE"
      },
      "source": [
        ""
      ],
      "execution_count": null,
      "outputs": []
    },
    {
      "cell_type": "code",
      "metadata": {
        "id": "FKDc_LLbANXN"
      },
      "source": [
        ""
      ],
      "execution_count": null,
      "outputs": []
    },
    {
      "cell_type": "code",
      "metadata": {
        "id": "IKcOGqS8AmZG"
      },
      "source": [
        ""
      ],
      "execution_count": null,
      "outputs": []
    },
    {
      "cell_type": "markdown",
      "metadata": {
        "id": "Q5jnlTBMbbhK"
      },
      "source": [
        "#### <font color=red>task : </font> ここまでの相関分析について、pdf教材を参考に、numpyを使わずに行ってみる"
      ]
    },
    {
      "cell_type": "code",
      "metadata": {
        "id": "oD-7jqwbA4EY"
      },
      "source": [
        "# 前処理なしでやってみる"
      ],
      "execution_count": null,
      "outputs": []
    },
    {
      "cell_type": "code",
      "metadata": {
        "id": "QfcSgnymA4L5"
      },
      "source": [
        ""
      ],
      "execution_count": null,
      "outputs": []
    },
    {
      "cell_type": "code",
      "metadata": {
        "id": "zHc-ADh9A4I9"
      },
      "source": [
        ""
      ],
      "execution_count": null,
      "outputs": []
    },
    {
      "cell_type": "code",
      "metadata": {
        "id": "Os7HJBfoBYUK"
      },
      "source": [
        ""
      ],
      "execution_count": null,
      "outputs": []
    },
    {
      "cell_type": "code",
      "metadata": {
        "id": "O5u9HQyZARhj"
      },
      "source": [
        "# 規格化や標準化などの前処理を施して同じ計算を行ってみる"
      ],
      "execution_count": null,
      "outputs": []
    },
    {
      "cell_type": "code",
      "metadata": {
        "id": "s_z6vL10UkQv"
      },
      "source": [
        ""
      ],
      "execution_count": null,
      "outputs": []
    },
    {
      "cell_type": "code",
      "metadata": {
        "id": "uM1t9XjcUkNY"
      },
      "source": [
        ""
      ],
      "execution_count": null,
      "outputs": []
    },
    {
      "cell_type": "code",
      "metadata": {
        "id": "obxFhx2TUkIB"
      },
      "source": [
        ""
      ],
      "execution_count": null,
      "outputs": []
    },
    {
      "cell_type": "markdown",
      "metadata": {
        "id": "uJyTAXhKAQMF"
      },
      "source": [
        "#### <font color=red>task : </font> Gender を数値化して、４変数の相関分析を行う"
      ]
    },
    {
      "cell_type": "code",
      "metadata": {
        "id": "knM2lP_VBZoW"
      },
      "source": [
        ""
      ],
      "execution_count": null,
      "outputs": []
    },
    {
      "cell_type": "code",
      "metadata": {
        "id": "9CUi7wA7ANT0"
      },
      "source": [
        ""
      ],
      "execution_count": null,
      "outputs": []
    },
    {
      "cell_type": "code",
      "metadata": {
        "id": "F8nChIdxANPN"
      },
      "source": [
        ""
      ],
      "execution_count": null,
      "outputs": []
    },
    {
      "cell_type": "markdown",
      "metadata": {
        "id": "CeTbSKBo5226"
      },
      "source": [
        "#### Boston house-prices (ボストン市の住宅価格)\n",
        "米国ボストン市郊外における地域別の住宅価格のデータセット\n",
        "\n",
        "| レコード数\t| 506 |\n",
        "|---:|:---|\n",
        "| カラム数 | 14 |\n",
        "\n",
        "データセットの詳細： https://archive.ics.uci.edu/ml/datasets/Housing\n"
      ]
    },
    {
      "cell_type": "code",
      "metadata": {
        "id": "kIJh2VzcU7iP"
      },
      "source": [
        "# データセットを読み込み\n",
        "\n",
        "from sklearn.datasets import load_boston\n",
        "boston = load_boston()"
      ],
      "execution_count": null,
      "outputs": []
    },
    {
      "cell_type": "code",
      "metadata": {
        "id": "Ma2yZiHEU7fi"
      },
      "source": [
        "# 説明変数を Pandas のデータフレームとして表示\n",
        "\n",
        "import pandas as pd\n",
        "pd.DataFrame(boston.data, columns=boston.feature_names)"
      ],
      "execution_count": null,
      "outputs": []
    },
    {
      "cell_type": "code",
      "metadata": {
        "id": "U__wn5pUIXlg"
      },
      "source": [
        "# 目的変数 (1,000 ドル台でオーナーが所有する住宅の価格の中央値)\n",
        "\n",
        "boston.target"
      ],
      "execution_count": null,
      "outputs": []
    },
    {
      "cell_type": "markdown",
      "metadata": {
        "id": "h3kAZREN7LbK"
      },
      "source": [
        "| 変数名\t| 説明 |\n",
        "|---:|:---|\n",
        "| CRIM | 人口 1 人当たりの犯罪発生数 |\n",
        "| ZN | 25,000 平方フィート以上の住居区画の占める割合 |\n",
        "| INDUS\t| 小売業以外の商業が占める面積の割合 |\n",
        "| CHAS | チャールズ川によるダミー変数 |\n",
        "|  | 1: 川の周辺, 0: それ以外 |\n",
        "| NOX\t| NOx の濃度 |\n",
        "| RM | 住居の平均部屋数 |\n",
        "| AGE\t| 1940 年より前に建てられた物件の割合 |\n",
        "| DIS\t| 5 つのボストン市の雇用施設からの距離 (重み付け済) |\n",
        "| RAD\t| 環状高速道路へのアクセスしやすさ |\n",
        "| TAX\t| $10,000 ドルあたりの不動産税率の総計 |\n",
        "| PTRATIO\t| 町毎の児童と教師の比率 |\n",
        "| B\t| 町毎の黒人 (Bk) の比率を次の式で表したもの |\n",
        "|  | 1000(Bk – 0.63)^2 |\n",
        "| LSTAT\t| 給与の低い職業に従事する人口の割合 (%) |"
      ]
    },
    {
      "cell_type": "code",
      "metadata": {
        "id": "jQiIioCKBbs6"
      },
      "source": [
        "## ボストンの住宅価格データについても、相関分析を行ってみましょう"
      ],
      "execution_count": null,
      "outputs": []
    },
    {
      "cell_type": "code",
      "metadata": {
        "id": "pmndQJitctC6"
      },
      "source": [
        ""
      ],
      "execution_count": null,
      "outputs": []
    },
    {
      "cell_type": "code",
      "metadata": {
        "id": "bDhdwGMnctBU"
      },
      "source": [
        ""
      ],
      "execution_count": null,
      "outputs": []
    },
    {
      "cell_type": "code",
      "metadata": {
        "id": "0gz8fMIScs98"
      },
      "source": [
        ""
      ],
      "execution_count": null,
      "outputs": []
    },
    {
      "cell_type": "code",
      "metadata": {
        "id": "7P2qTU_6Bbrn"
      },
      "source": [
        ""
      ],
      "execution_count": null,
      "outputs": []
    },
    {
      "cell_type": "code",
      "metadata": {
        "id": "PHsE_A-OBbnH"
      },
      "source": [
        ""
      ],
      "execution_count": null,
      "outputs": []
    },
    {
      "cell_type": "code",
      "metadata": {
        "id": "tu_NvYh9BbkX"
      },
      "source": [
        ""
      ],
      "execution_count": null,
      "outputs": []
    },
    {
      "cell_type": "code",
      "metadata": {
        "id": "X2UwYlYOBbh2"
      },
      "source": [
        ""
      ],
      "execution_count": null,
      "outputs": []
    },
    {
      "cell_type": "markdown",
      "metadata": {
        "id": "6_wcIAAA9fN3"
      },
      "source": [
        "#### <font color=red>task : </font> 非線形相関 (MIC) 係数行列の計算をしてみる\n",
        "\n",
        "$\\downarrow \\downarrow$ minepy 公式リファレンス $\\downarrow \\downarrow$\\\n",
        "https://minepy.readthedocs.io/en/latest/"
      ]
    },
    {
      "cell_type": "code",
      "metadata": {
        "id": "Q0E_PQOxGZsK"
      },
      "source": [
        "# colaboratoryにライブラリをインストールするコード\n",
        "!pip install minepy\n",
        "\n",
        "from minepy import MINE"
      ],
      "execution_count": null,
      "outputs": []
    },
    {
      "cell_type": "code",
      "metadata": {
        "id": "ipR00FHwsVIE"
      },
      "source": [
        ""
      ],
      "execution_count": null,
      "outputs": []
    },
    {
      "cell_type": "code",
      "metadata": {
        "id": "WMJMuKL3f88P"
      },
      "source": [
        ""
      ],
      "execution_count": null,
      "outputs": []
    },
    {
      "cell_type": "code",
      "metadata": {
        "id": "hqY1RcJ2cuck"
      },
      "source": [
        ""
      ],
      "execution_count": null,
      "outputs": []
    },
    {
      "cell_type": "code",
      "metadata": {
        "id": "qJ4j3UEfcuZg"
      },
      "source": [
        ""
      ],
      "execution_count": null,
      "outputs": []
    }
  ]
}