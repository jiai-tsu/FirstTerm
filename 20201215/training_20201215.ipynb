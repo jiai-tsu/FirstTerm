{
  "nbformat": 4,
  "nbformat_minor": 0,
  "metadata": {
    "colab": {
      "name": "training_20201215.ipynb",
      "provenance": [],
      "collapsed_sections": [
        "00sFoE-3Bg5c",
        "HnGQvWcxbyaw",
        "btrNJLyc_hom",
        "k3mzyHOmCXpY",
        "19Jugt-TCbaY",
        "VkkJbOXa6MdU",
        "M3iGs_J6G-U1",
        "TxY4aXnND2Ht",
        "R-0neE_LTG8S",
        "mVmwFWMDXZly",
        "9Y7mjztDXMGj",
        "Q2tINyJwgV63",
        "iWjgoTnqBZal",
        "r9X3-Wzb2Z4l",
        "pJshPt0deIS3",
        "yJ1aZ8HUcR4I"
      ]
    },
    "kernelspec": {
      "name": "python3",
      "display_name": "Python 3"
    }
  },
  "cells": [
    {
      "cell_type": "markdown",
      "metadata": {
        "id": "00sFoE-3Bg5c"
      },
      "source": [
        "### 19. k平均法(k-means)"
      ]
    },
    {
      "cell_type": "markdown",
      "metadata": {
        "id": "HnGQvWcxbyaw"
      },
      "source": [
        "#### <font color = blue>**1.** </font>ライブラリについて"
      ]
    },
    {
      "cell_type": "code",
      "metadata": {
        "id": "oWBqDfK0et_P"
      },
      "source": [
        "'''\n",
        "使用するメソッドの情報\n",
        "\n",
        "sklearn.cluster.KMeans(n_clusters=8, init='k-means++', n_init=10, max_iter=300,\n",
        "                       tol=0.0001, precompute_distances='auto', verbose=0,\n",
        "                       random_state=None, copy_x=True, n_jobs=1)"
      ],
      "execution_count": null,
      "outputs": []
    },
    {
      "cell_type": "markdown",
      "metadata": {
        "id": "_iNh23_Cez99"
      },
      "source": [
        "引数 | 説明\n",
        "-----------:|:------------\n",
        "n_clusters | クラスタ数(デフォルト値:8) \n",
        "max_iter | 繰り返し回数の最大値(デフォルト値:300)\n",
        "n_init | 初期値選択において、異なる乱数のシードで初期の重心を選ぶ処理の実行回数\n",
        " | (デフォルト値:10)\n",
        "init | 初期化の方法。’k-means++”, ‘random’ もしくは ndarray を指定\n",
        " | (デフォルト値: ‘k-means++’)\n",
        "tol | 収束判定に用いる許容可能誤差(デフォルト値:0.0001)\n",
        "precompute_distances | 距離(データのばらつき具合) を事前に計算するか。\n",
        " | ‘auto’, True, False から指定(デフォルト値:‘auto’)\n",
        "verbose | 1 を指定すると、詳細な分析結果を表示(デフォルト値:0)\n",
        "random_state | 乱数のシードを固定する場合に指定\n",
        " | 数値もしくは integer or numpy.RandomState で指定(デフォルト値:None)\n",
        "copy_x | 距離を事前に計算する場合、メモリ内でデータを複製してから実行するかどうか\n",
        " | (デフォルト値:True)\n",
        "n_jobsv | 初期化を並列処理する場合の多重度\n",
        " | -1 を指定するとすべての CPU を使用(デフォルト値:1)"
      ]
    },
    {
      "cell_type": "markdown",
      "metadata": {
        "id": "K-X1NRLcge0o"
      },
      "source": [
        "クラスメソッド | 説明\n",
        "-----------:|:------------\n",
        "fit(X[, y]) | クラスタリングの計算を実行する\n",
        "fit_predict(X[, y]) | 各サンプルに対する、クラスタ番号を求める\n",
        "fit_transform(X[, y]) | クラスタリングの計算を行い、X を分析に用いた距離空間に変換して返す\n",
        "get_params([deep]) | 計算に用いたパラメータを返す\n",
        "predict(X) | X のサンプルが属しているクラスタ番号を返す\n",
        "set_params(**params) | パラメータを設定する\n",
        "transform(X[, y]) | X を分析に用いた距離空間に変換して返す"
      ]
    },
    {
      "cell_type": "markdown",
      "metadata": {
        "id": "btrNJLyc_hom"
      },
      "source": [
        "#### <font color = blue>**2.** </font>ランダム生成したデータでk平均法"
      ]
    },
    {
      "cell_type": "markdown",
      "metadata": {
        "id": "k3mzyHOmCXpY"
      },
      "source": [
        "##### <font color = green>**2.1.** </font>データ生成"
      ]
    },
    {
      "cell_type": "code",
      "metadata": {
        "id": "13FI3BleALd0"
      },
      "source": [
        "# ライブラリのインポート\n",
        "\n",
        "import numpy as np\n",
        "import pandas as pd"
      ],
      "execution_count": null,
      "outputs": []
    },
    {
      "cell_type": "code",
      "metadata": {
        "id": "qeCbg5kLvF7B"
      },
      "source": [
        "# 乱数のseed値を固定\n",
        "\n",
        "np.random.seed(seed=39)"
      ],
      "execution_count": null,
      "outputs": []
    },
    {
      "cell_type": "code",
      "metadata": {
        "id": "z12kNi-VvKIf"
      },
      "source": [
        "# 生成するグループの数\n",
        "k = 8\n",
        "\n",
        "# グループ内のメンバー数\n",
        "m = 300\n",
        "\n",
        "## 全部で 8*300=2400 個のデータを生成"
      ],
      "execution_count": null,
      "outputs": []
    },
    {
      "cell_type": "code",
      "metadata": {
        "id": "yP3Ja4ObvKGQ"
      },
      "source": [
        "# グループ内のデータの分散を設定\n",
        "\n",
        "d = m/(k-1)\n",
        "sigma = [[d, 0], [0, d]]"
      ],
      "execution_count": null,
      "outputs": []
    },
    {
      "cell_type": "code",
      "metadata": {
        "id": "UjZD66AUTymy"
      },
      "source": [
        "# データ点(2次元)の生成\n",
        "\n",
        "# データの受け皿として空の２次元配列の変数を宣言\n",
        "x = np.empty((0, 2))\n",
        "\n",
        "\n",
        "for ell in range(k):\n",
        "  # グループ毎の中心点を決める\n",
        "  pc = np.random.uniform(low = d*(ell-1)/2, high = d*(ell+1)/2, size = (2,))\n",
        "\n",
        "  # 中心点の周りに 分散sigma で m個 のデータをランダム生成\n",
        "  xs = np.random.multivariate_normal(pc, sigma, m)\n",
        "\n",
        "  # 生成したデータを受け皿の変数に格納（追加）\n",
        "  x = np.concatenate([x, xs])"
      ],
      "execution_count": null,
      "outputs": []
    },
    {
      "cell_type": "code",
      "metadata": {
        "id": "qqcIl5CMvF4Q"
      },
      "source": [
        "# matplotlib.pyplot で可視化してみましょう\n",
        "# ライブラリのインポート\n",
        "\n",
        "import matplotlib.pyplot as plt"
      ],
      "execution_count": null,
      "outputs": []
    },
    {
      "cell_type": "code",
      "metadata": {
        "id": "DTf5et8bTzdc"
      },
      "source": [
        "## 散布図にしたいのでplt.scatter()を使います\n",
        "# 描画する点1つ1つの大きさを設定\n",
        "plt.rcParams['lines.markersize'] = 1\n",
        "\n",
        "# グラフのサイズを指定\n",
        "plt.figure(figsize=(8, 8))\n",
        "\n",
        "# 2400個の点を、生成時のグループ毎に色分けします\n",
        "for i in range(x.shape[0]):\n",
        "  # 色分けのための変数処理\n",
        "  n = int(1+(k-1)**(1/3))\n",
        "  r = int(i/m)%(n)/(n-1)\n",
        "  g = int(int(i/m)/n)%n/(n-1)\n",
        "  b = int(int(i/m)/(n**2))/(n-1)\n",
        "\n",
        "  # 白色だと見えないので灰色にします\n",
        "  if (r,g,b) == (1,1,1):\n",
        "    (r,g,b) = (3/4,3/4,3/4)\n",
        "\n",
        "  # 散布図にデータを追加\n",
        "  plt.scatter(x[i, 0], x[i, 1], color = (r,g,b))\n",
        "\n",
        "# 見やすいよう縦横の罫線を表示します \n",
        "plt.grid(True)\n",
        "\n",
        "# グラフを出力\n",
        "plt.show()"
      ],
      "execution_count": null,
      "outputs": []
    },
    {
      "cell_type": "code",
      "metadata": {
        "id": "0Ys4_d1Bm6wd"
      },
      "source": [
        "# 2400個全て黒色にした散布図\n",
        "\n",
        "plt.rcParams['lines.markersize'] = 1\n",
        "plt.figure(figsize=(8, 8))\n",
        "\n",
        "for i in range(x.shape[0]):\n",
        "  plt.scatter(x[i, 0], x[i, 1], color = \"k\")\n",
        "\n",
        "plt.grid(True)\n",
        "\n",
        "plt.show()"
      ],
      "execution_count": null,
      "outputs": []
    },
    {
      "cell_type": "code",
      "metadata": {
        "id": "42cGimQOm60F"
      },
      "source": [
        ""
      ],
      "execution_count": null,
      "outputs": []
    },
    {
      "cell_type": "markdown",
      "metadata": {
        "id": "19Jugt-TCbaY"
      },
      "source": [
        "##### <font color = green>**2.2.** </font>クラスタリングの実行"
      ]
    },
    {
      "cell_type": "code",
      "metadata": {
        "id": "5zd8ni0T0yqm"
      },
      "source": [
        "# ライブラリのインポート\n",
        "\n",
        "from sklearn.cluster import KMeans"
      ],
      "execution_count": null,
      "outputs": []
    },
    {
      "cell_type": "code",
      "metadata": {
        "id": "hTxE_5Gm2Zpj"
      },
      "source": [
        "# 色分けのためのリストを宣言しておく\n",
        "\n",
        "color = [\"red\", \"blue\", \"green\", \"orange\", \"aqua\", \"purple\", \"grey\", \"black\"]"
      ],
      "execution_count": null,
      "outputs": []
    },
    {
      "cell_type": "code",
      "metadata": {
        "id": "K6v--ZFotiWE"
      },
      "source": [
        "## k-meansを実行\n",
        "# 2種類のグループ（クラスタ）に分ける（クラスタリングする）場合はこのような記述になる\n",
        "\n",
        "km2 = KMeans(2)\n",
        "km2.fit_transform(x)\n",
        "\n",
        "# 描画する点1つ1つの大きさを設定\n",
        "plt.rcParams['lines.markersize'] = 1\n",
        "\n",
        "for i in range(x.shape[0]):\n",
        "  plt.scatter(x[i,0], x[i,1], c=color[int(km2.labels_[i])])\n",
        "\n",
        "# 罫線の表示有り  \n",
        "plt.grid(True)\n",
        "\n",
        "plt.show()"
      ],
      "execution_count": null,
      "outputs": []
    },
    {
      "cell_type": "code",
      "metadata": {
        "id": "N7rCoieCtiRN"
      },
      "source": [
        ""
      ],
      "execution_count": null,
      "outputs": []
    },
    {
      "cell_type": "code",
      "metadata": {
        "id": "iPaf4aSpzqcL"
      },
      "source": [
        "# 2個〜8個のグループ（クラスター）に分ける、全場合を試したい\n",
        "\n",
        "km_list = [KMeans(i) for i in range(2,k+1)]"
      ],
      "execution_count": null,
      "outputs": []
    },
    {
      "cell_type": "code",
      "metadata": {
        "id": "stPqyW029VjL"
      },
      "source": [
        "## plt.subplot() で一度にグラフ表示させたい\n",
        "# グラフ1つ1つの大きさではなく、グラフを描画したい領域全体の大きさを指定\n",
        "plt.figure(figsize=(18, 12))\n",
        "\n",
        "# 描画する点1つ1つの大きさを設定\n",
        "plt.rcParams['lines.markersize'] = 1\n",
        "\n",
        "# 2個〜8個のグループにクラスタリングした結果を描画していく\n",
        "for i in range(len(km_list)):\n",
        "  # KMeans.fit_transform()でクラスタリングを実行\n",
        "  km_list[i].fit_transform(x)\n",
        "\n",
        "  # 3*3のsubplotに順番に描画結果を配置していく\n",
        "  plt.subplot(3,3,i+1)\n",
        "\n",
        "  for ii in range(x.shape[0]):\n",
        "    # クラスタリングにより別れたグループ毎に色を変えて散布図に描画\n",
        "    plt.scatter(x[ii,0], x[ii,1], c=color[int(km_list[i].labels_[ii])])\n",
        "\n",
        "    # 罫線の表示有り  \n",
        "    plt.grid(True)\n",
        "\n",
        "\n",
        "# グラフを出力\n",
        "plt.show()"
      ],
      "execution_count": null,
      "outputs": []
    },
    {
      "cell_type": "code",
      "metadata": {
        "id": "Ma6vqh4Z04Hu"
      },
      "source": [
        ""
      ],
      "execution_count": null,
      "outputs": []
    },
    {
      "cell_type": "markdown",
      "metadata": {
        "id": "VkkJbOXa6MdU"
      },
      "source": [
        "##### <font color=red>task : </font> 上記のデータに対し、9個以上のグループに分けるようなクラスタリングを行ってみる"
      ]
    },
    {
      "cell_type": "code",
      "metadata": {
        "id": "kO2V2H7B61kb"
      },
      "source": [
        ""
      ],
      "execution_count": null,
      "outputs": []
    },
    {
      "cell_type": "code",
      "metadata": {
        "id": "tqJbM3ixAH1o"
      },
      "source": [
        ""
      ],
      "execution_count": null,
      "outputs": []
    },
    {
      "cell_type": "markdown",
      "metadata": {
        "id": "M3iGs_J6G-U1"
      },
      "source": [
        "##### <font color = green>**2.3.** </font>クラスター評価"
      ]
    },
    {
      "cell_type": "code",
      "metadata": {
        "id": "2wL88KOPBUjP"
      },
      "source": [
        "## エルボー法で評価してみよう\n",
        "# KMeans.inertia_ でSSE（クラスタ内誤差平方和）が取得できる\n",
        "# inertia[inə́ːʃə] : 慣性\n",
        "\n",
        "# クラスター数　2≦k≦20 で評価\n",
        "# 改めて上記範囲でクラスタリング実行\n",
        "km_list2 = [KMeans(i) for i in range(2,21)]\n",
        "for i in range(len(km_list2)):\n",
        "  km_list2[i].fit_transform(x)"
      ],
      "execution_count": null,
      "outputs": []
    },
    {
      "cell_type": "code",
      "metadata": {
        "id": "PBQJAx4tBUgV"
      },
      "source": [
        "# SSEを格納するリストを作成\n",
        "sse_vec = []\n",
        "\n",
        "# SSEを取得\n",
        "for i in range(len(km_list2)):\n",
        "  sse_vec += [km_list2[i].inertia_]"
      ],
      "execution_count": null,
      "outputs": []
    },
    {
      "cell_type": "code",
      "metadata": {
        "id": "Gakj_8rmG-VJ"
      },
      "source": [
        "# グラフに描画\n",
        "\n",
        "# サイズと点の大きさを調整\n",
        "plt.figure(figsize=(10, 6))\n",
        "plt.rcParams['lines.markersize'] = 6\n",
        "\n",
        "# データ点をプロット\n",
        "plt.plot(range(2, 2+len(km_list2)), sse_vec, \"bo\")\n",
        "\n",
        "# データ点を折れ線でつないだ場合も表示\n",
        "plt.plot(range(2, 2+len(km_list2)), sse_vec)\n",
        "\n",
        "# 罫線の表示あり\n",
        "plt.grid(True)\n",
        "\n",
        "plt.show()"
      ],
      "execution_count": null,
      "outputs": []
    },
    {
      "cell_type": "code",
      "metadata": {
        "id": "F-Qs9mh6G-VK"
      },
      "source": [
        "## k=4 と k=8 でエルボーがある…？\n",
        "\n",
        "# エルボー法以外にも、クラスタリングの結果の妥当性を評価する手法が提唱されている"
      ],
      "execution_count": null,
      "outputs": []
    },
    {
      "cell_type": "code",
      "metadata": {
        "id": "SM7F2p_SL9TL"
      },
      "source": [
        ""
      ],
      "execution_count": null,
      "outputs": []
    },
    {
      "cell_type": "markdown",
      "metadata": {
        "id": "TxY4aXnND2Ht"
      },
      "source": [
        "##### <font color=red>task : </font> 上記のデータに対し、エルボー法以外の手法、例えば\n",
        "- シルエット分析\n",
        "- CH 指標(Calinski-Harabasz Index)\n",
        "- ダン指標(Dunn Index)\n",
        "- DB 指標(Davies-Bouldin Index)\n",
        "\n",
        "によって妥当なクラスタ数を評価してみましょう"
      ]
    },
    {
      "cell_type": "code",
      "metadata": {
        "id": "WK8gQqDbD2IE"
      },
      "source": [
        ""
      ],
      "execution_count": null,
      "outputs": []
    },
    {
      "cell_type": "code",
      "metadata": {
        "id": "FZlG2jWUG-VK"
      },
      "source": [
        ""
      ],
      "execution_count": null,
      "outputs": []
    },
    {
      "cell_type": "markdown",
      "metadata": {
        "id": "R-0neE_LTG8S"
      },
      "source": [
        "#### <font color = blue>**3.** </font>k平均法の途中経過を知りたい"
      ]
    },
    {
      "cell_type": "markdown",
      "metadata": {
        "id": "mVmwFWMDXZly"
      },
      "source": [
        "##### <font color = green>**3.1.** </font>k平均法のコードを自作する"
      ]
    },
    {
      "cell_type": "code",
      "metadata": {
        "id": "g7OYvxiPX4d8"
      },
      "source": [
        "# ライブラリのインポート\n",
        "\n",
        "import numpy as np\n",
        "import matplotlib.pyplot as plt"
      ],
      "execution_count": null,
      "outputs": []
    },
    {
      "cell_type": "code",
      "metadata": {
        "id": "0bJk_mm1qvoN"
      },
      "source": [
        "##データの生成（ランダム）\n",
        "\n",
        "# グループ内のデータ数\n",
        "n = 20\n",
        "\n",
        "# グループ内の分散\n",
        "d = 2\n",
        "\n",
        "# 乱数のseed値を固定\n",
        "np.random.seed(123)\n",
        "\n",
        "x1 = np.r_[np.random.normal(size=n, loc=1, scale=d),\n",
        "           np.random.normal(size=n, loc=8, scale=d),\n",
        "           np.random.normal(size=n, loc=15, scale=d),\n",
        "           np.random.normal(size=n, loc=25, scale=d)]\n",
        "x2 = np.r_[np.random.normal(size=n, loc=15, scale=d),\n",
        "           np.random.normal(size=n, loc=1, scale=d),\n",
        "           np.random.normal(size=n, loc=20, scale=d),\n",
        "           np.random.normal(size=n, loc=0, scale=d)]\n",
        "X = np.c_[x1, x2]\n",
        "\n",
        "#可視化\n",
        "plt.scatter(X[:,0], X[:,1], c=\"black\", s=10, alpha=0.5)\n",
        "plt.show()"
      ],
      "execution_count": null,
      "outputs": []
    },
    {
      "cell_type": "code",
      "metadata": {
        "id": "e0k4WUpAFSYD"
      },
      "source": [
        "# k=4 でクラスタリングの場合\n",
        "# 中心点の初期値を決める\n",
        "\n",
        "centers = np.array([[0,5],[5,0],[10,15],[20,10]])"
      ],
      "execution_count": null,
      "outputs": []
    },
    {
      "cell_type": "code",
      "metadata": {
        "id": "GLJjfFbfFsp0"
      },
      "source": [
        "# 色分けのリスト\n",
        "# （ここでは2.2で使用したリストと同じにしている）\n",
        "\n",
        "color = [\"red\", \"blue\", \"green\", \"orange\", \"aqua\", \"purple\", \"grey\", \"black\"]"
      ],
      "execution_count": null,
      "outputs": []
    },
    {
      "cell_type": "code",
      "metadata": {
        "id": "3TBcHYl3qvlh"
      },
      "source": [
        "# 初期配置の可視化\n",
        "\n",
        "plt.scatter(X[:,0], X[:,1], c=\"black\", s=10, alpha=0.5)\n",
        "plt.scatter(centers[:,0],centers[:,1],color=color[0:4])\n",
        "plt.show()"
      ],
      "execution_count": null,
      "outputs": []
    },
    {
      "cell_type": "code",
      "metadata": {
        "id": "PkGcVPQHTWNc"
      },
      "source": [
        "# Xのサンプル数だけ空のラベルを作る\n",
        "\n",
        "idx = np.zeros(X.shape[0])\n",
        "\n",
        "# 距離の二乗が一番近い中心点のインデックスを返す。\n",
        "\n",
        "for i in range(X.shape[0]):\n",
        "  idx[i] = np.argmin(np.sum((X[i,:] - centers)**2,axis=1))\n",
        "\n",
        "# np.sum に axis=1 をつけることで、行方向に足し算を行って、np.argmin で一番小さい値となるインデックスを返します"
      ],
      "execution_count": null,
      "outputs": []
    },
    {
      "cell_type": "code",
      "metadata": {
        "id": "gQQOyrnEuN2X"
      },
      "source": [
        "# 計算結果の確認\n",
        "\n",
        "print(idx)"
      ],
      "execution_count": null,
      "outputs": []
    },
    {
      "cell_type": "code",
      "metadata": {
        "id": "lNt3VC9iTWK9"
      },
      "source": [
        "# k-means １回目の結果を色分けして可視化\n",
        "for i in range(X.shape[0]):\n",
        "  plt.scatter(X[i,0], X[i,1], c=color[int(idx[i])], s=10, alpha=0.5)\n",
        "\n",
        "# 中心点はまだ移動させずにそのまま\n",
        "plt.scatter(centers[:,0],centers[:,1],color=color[0:4])\n",
        "\n",
        "plt.show()"
      ],
      "execution_count": null,
      "outputs": []
    },
    {
      "cell_type": "code",
      "metadata": {
        "id": "Y95Ti21YTWGx"
      },
      "source": [
        "## それぞれのグループの平均値をとったところを次の中心点の移動先とする\n",
        "# 例えば、黄色グループの中心座標はここ\n",
        "# X[idx==3,:].mean(axis=0)\n",
        "\n",
        "#中心の移動\n",
        "for k in range(4):\n",
        "  centers[k,:] = X[idx==k,:].mean(axis=0)"
      ],
      "execution_count": null,
      "outputs": []
    },
    {
      "cell_type": "code",
      "metadata": {
        "id": "pVY5_JbqTWCb"
      },
      "source": [
        "# 中心点を移動させた状態、即ち、\n",
        "# k-means 2回目の実行前の状態を可視化\n",
        "\n",
        "for i in range(X.shape[0]):\n",
        "  plt.scatter(X[i,0], X[i,1], c=color[int(idx[i])], s=10, alpha=0.5)\n",
        "for i in range(len(centers)):\n",
        "  plt.scatter(centers[i][0], centers[i][1], c=color[i])\n",
        "\n",
        "plt.show()"
      ],
      "execution_count": null,
      "outputs": []
    },
    {
      "cell_type": "code",
      "metadata": {
        "id": "RRHMFaj9HFqK"
      },
      "source": [
        "#####################################\n",
        "# 以上の処理内容を、0回（初期状態）〜8回実行して  #\n",
        "# 結果全てを順番にグラフ描画すると以下のようになる #\n",
        "#####################################"
      ],
      "execution_count": null,
      "outputs": []
    },
    {
      "cell_type": "code",
      "metadata": {
        "id": "mjb56CAcwJvC"
      },
      "source": [
        "idx = np.zeros(X.shape[0])\n",
        "centers = np.array([[0,5],[5,0],[10,15],[20,10]])\n",
        "\n",
        "plt.figure(figsize=(18, 15))\n",
        "plt.subplot(3, 3, 1)\n",
        "\n",
        "plt.scatter(X[:,0], X[:,1], c=\"black\", s=10, alpha=0.5)\n",
        "plt.title(\"initial state\")\n",
        "plt.scatter(centers[:,0],centers[:,1],color=color[0:4])\n",
        "\n",
        "for j in np.arange(1,9):\n",
        "  for i in range(X.shape[0]):\n",
        "    idx[i] = np.argmin(np.sum((X[i,:] - centers)**2,axis=1))\n",
        "        \n",
        "  for k in range(len(centers)):\n",
        "    centers[k,:] = X[idx==k,:].mean(axis=0)\n",
        "        \n",
        "  plt.subplot(3, 3, j+1)\n",
        "  for l in range(len(centers)):\n",
        "    plt.scatter(X[idx==l,0],X[idx==l,1],color=color[l],s=10,alpha=0.5)\n",
        "\n",
        "  plt.title(\"{}th exec\".format(j))\n",
        "  plt.scatter(centers[:,0],centers[:,1],color=color[0:4])\n",
        "\n",
        "plt.show()"
      ],
      "execution_count": null,
      "outputs": []
    },
    {
      "cell_type": "code",
      "metadata": {
        "id": "o1QxprJoHw_k"
      },
      "source": [
        ""
      ],
      "execution_count": null,
      "outputs": []
    },
    {
      "cell_type": "markdown",
      "metadata": {
        "id": "9Y7mjztDXMGj"
      },
      "source": [
        "##### <font color=red>task : </font> 上記の自作したプログラムについて、クラスタリング対象データ(X)のみを与えれば良いように改良する。\n",
        "即ち、最初の中心点を自動的に決定する処理を加える。\n",
        "\n",
        "k-means++ 法では、互いの距離が遠いほど確率的に選ばれやすくなっている。\\\n",
        "しかしあくまで確率なので、初期値選びに失敗することは大いにあり得る。\n",
        "\n",
        "sklearn.cluster.KMeans では、中心の初期値選びに失敗することを考慮して、n_init引数により指定した回数だけk-meansを実行し、SSEが一番小さくなる初期値での結果が採用されるようになっている。\n"
      ]
    },
    {
      "cell_type": "code",
      "metadata": {
        "id": "K9c8fi53XMG7"
      },
      "source": [
        ""
      ],
      "execution_count": null,
      "outputs": []
    },
    {
      "cell_type": "code",
      "metadata": {
        "id": "sYKRjNHPTVoH"
      },
      "source": [
        ""
      ],
      "execution_count": null,
      "outputs": []
    },
    {
      "cell_type": "markdown",
      "metadata": {
        "id": "Q2tINyJwgV63"
      },
      "source": [
        "### 20. 主成分分析(PCA)"
      ]
    },
    {
      "cell_type": "markdown",
      "metadata": {
        "id": "iWjgoTnqBZal"
      },
      "source": [
        "#### <font color = blue>**1.** </font>Mall_Customersのデータより"
      ]
    },
    {
      "cell_type": "code",
      "metadata": {
        "id": "qSvR3MipIICL"
      },
      "source": [
        "# 加工したデータ: https://raw.githubusercontent.com/jiai-tus/FirstTerm/main/20201215/dataset/PCA_demoData.csv"
      ],
      "execution_count": null,
      "outputs": []
    },
    {
      "cell_type": "code",
      "metadata": {
        "id": "P__TTgdLIH_S"
      },
      "source": [
        "# numpy を import\n",
        "\n",
        "import numpy as np"
      ],
      "execution_count": null,
      "outputs": []
    },
    {
      "cell_type": "code",
      "metadata": {
        "id": "27HupBebJKX7"
      },
      "source": [
        "# numpy配列（ndarray形式）として読み込む\n",
        "# numpy.loadtxt() で .txt も .csv も読み込める\n",
        "# カンマ区切りで配列要素に格納してほしいので、引数に delimiter=\",\" と指定する\n",
        "\n",
        "data = np.loadtxt('https://raw.githubusercontent.com/jiai-tus/FirstTerm/main/20201215/dataset/PCA_demoData.csv', delimiter=\",\") "
      ],
      "execution_count": null,
      "outputs": []
    },
    {
      "cell_type": "code",
      "metadata": {
        "id": "XnRCHX59K-9T"
      },
      "source": [
        "# ndarray.shape で配列の構造を確認\n",
        "\n",
        "data.shape"
      ],
      "execution_count": null,
      "outputs": []
    },
    {
      "cell_type": "code",
      "metadata": {
        "id": "w5KijrBuK-6F"
      },
      "source": [
        "# 比較のため元データも読み込んでみる\n",
        "# pandas を import\n",
        "\n",
        "import pandas as pd"
      ],
      "execution_count": null,
      "outputs": []
    },
    {
      "cell_type": "code",
      "metadata": {
        "id": "gx8vCcxkCJMa"
      },
      "source": [
        "# pandas.DataFrame 形式で元データを読み込む\n",
        "# 16. 相関分析 で扱った元データの保存場所: https://raw.githubusercontent.com/jiai-tus/FirstTerm/main/20201201/dataset/Mall_Customers.csv\n",
        "\n",
        "df = pd.read_csv(\"https://raw.githubusercontent.com/jiai-tus/FirstTerm/main/20201201/dataset/Mall_Customers.csv\")"
      ],
      "execution_count": null,
      "outputs": []
    },
    {
      "cell_type": "code",
      "metadata": {
        "id": "zaGoVufTNELR"
      },
      "source": [
        "# 先頭１０行を表示\n",
        "\n",
        "df.head(10)"
      ],
      "execution_count": null,
      "outputs": []
    },
    {
      "cell_type": "code",
      "metadata": {
        "id": "pUDrcFSoCkYX"
      },
      "source": [
        "# 加工したデータも同じく先頭１０行を確認\n",
        "# pandas.DataFrame ではないので、 head() メソッドなどは存在しない。はず。。\n",
        "\n",
        "for i in range(10):\n",
        "  print(data[i])"
      ],
      "execution_count": null,
      "outputs": []
    },
    {
      "cell_type": "code",
      "metadata": {
        "id": "Vyx8KnMhNeY3"
      },
      "source": [
        "## とりあえずこのまま主成分分析(PCA)してみる\n",
        "# ライブラリのインポート\n",
        "\n",
        "from sklearn.decomposition import PCA"
      ],
      "execution_count": null,
      "outputs": []
    },
    {
      "cell_type": "code",
      "metadata": {
        "id": "6Ou5wzNFN1DN"
      },
      "source": [
        "# 2次元にする（上位2変数を取り出す）場合はこのように記述\n",
        "\n",
        "pca = PCA(n_components=2)\n",
        "data_2D = pca.fit_transform(data)"
      ],
      "execution_count": null,
      "outputs": []
    },
    {
      "cell_type": "code",
      "metadata": {
        "id": "S1T7RqVjOku5"
      },
      "source": [
        "# 配列構造を確認\n",
        "\n",
        "data_2D.shape"
      ],
      "execution_count": null,
      "outputs": []
    },
    {
      "cell_type": "code",
      "metadata": {
        "id": "iPuS4iSvO0bP"
      },
      "source": [
        "# 先頭１０行を確認\n",
        "\n",
        "for i in range(10):\n",
        "  print(data_2D[i])"
      ],
      "execution_count": null,
      "outputs": []
    },
    {
      "cell_type": "code",
      "metadata": {
        "id": "NaeprOn0k6NL"
      },
      "source": [
        "# 5次元（5変数）のデータなので、1〜5次元の5通りのPCA結果が考えられる\n",
        "# 5通り全て試してみる\n",
        "\n",
        "XD = [0] * 5\n",
        "for i in range(5):\n",
        "  pca = PCA(n_components=(i+1))\n",
        "  XD[i] = pca.fit_transform(data)\n",
        "  print(\"XD[{}]: \".format(i), XD[i].shape)"
      ],
      "execution_count": null,
      "outputs": []
    },
    {
      "cell_type": "code",
      "metadata": {
        "id": "AfTvcxV8NdxB"
      },
      "source": [
        "# それぞれ先頭５行を確認してみる\n",
        "\n",
        "for i in range(5):\n",
        "  for k in range(5):\n",
        "    print(\"XD[{}][{}]: \".format(i, k), XD[i][k])\n",
        "    \n",
        "    # 見やすくするため、データ間に改行を挟む\n",
        "    if i != 4 and k == 4:\n",
        "      print(\"\\n\")"
      ],
      "execution_count": null,
      "outputs": []
    },
    {
      "cell_type": "code",
      "metadata": {
        "id": "_d742fcePfse"
      },
      "source": [
        "# matplotlib.pyplot で可視化してみましょう\n",
        "# ライブラリのインポート\n",
        "\n",
        "import matplotlib.pyplot as plt"
      ],
      "execution_count": null,
      "outputs": []
    },
    {
      "cell_type": "code",
      "metadata": {
        "id": "zARtocJKOD5g"
      },
      "source": [
        "# 1次元にした場合\n",
        "\n",
        "plt.plot(range(XD[0].shape[0]), XD[0], 'b.')\n",
        "plt.title(\"linear vs XD[0]\")\n",
        "plt.show()"
      ],
      "execution_count": null,
      "outputs": []
    },
    {
      "cell_type": "code",
      "metadata": {
        "id": "sQHCfSGlNro6"
      },
      "source": [
        "# 2次元にした場合\n",
        "\n",
        "plt.figure(figsize=(6, 5))\n",
        "plt.plot(XD[1][:, 0], XD[1][:, 1], 'b.')\n",
        "plt.title(\"XD[1][0] vs XD[1][0]\")\n",
        "plt.show()"
      ],
      "execution_count": null,
      "outputs": []
    },
    {
      "cell_type": "code",
      "metadata": {
        "id": "WNTDfexhNrmH"
      },
      "source": [
        "# 3次元にした場合\n",
        "\n",
        "plt.figure(figsize=(18, 5))\n",
        "\n",
        "n = 1\n",
        "for i in range(3):\n",
        "  for k in range(i+1, 3):\n",
        "    plt.subplot(1,3,n)\n",
        "    plt.plot(XD[2][:, i], XD[2][:, k], 'b.')\n",
        "    plt.title(\"XD[2][{}] vs XD[2][{}]\".format(i, k))\n",
        "    n += 1\n",
        "\n",
        "#plt.subplots_adjust(hspace=0.25)\n",
        "plt.show()"
      ],
      "execution_count": null,
      "outputs": []
    },
    {
      "cell_type": "code",
      "metadata": {
        "id": "gTB44FymO2ws"
      },
      "source": [
        "# 4次元にした場合\n",
        "\n",
        "plt.figure(figsize=(18, 10))\n",
        "\n",
        "n = 1\n",
        "for i in range(4):\n",
        "  for k in range(i+1, 4):\n",
        "    plt.subplot(2,3,n)\n",
        "    plt.plot(XD[3][:, i], XD[3][:, k], 'b.')\n",
        "    plt.title(\"XD[3][{}] vs XD[3][{}]\".format(i, k))\n",
        "    n += 1\n",
        "\n",
        "#plt.subplots_adjust(hspace=0.25)\n",
        "plt.show()"
      ],
      "execution_count": null,
      "outputs": []
    },
    {
      "cell_type": "code",
      "metadata": {
        "id": "ioU_VhtccnN2"
      },
      "source": [
        "# 5次元にした場合\n",
        "\n",
        "plt.figure(figsize=(18, 20))\n",
        "\n",
        "n = 1\n",
        "for i in range(5):\n",
        "  for k in range(i+1, 5):\n",
        "    plt.subplot(4,3,n)\n",
        "    plt.plot(XD[4][:, i], XD[4][:, k], 'b.')\n",
        "    plt.title(\"XD[4][{}] vs XD[4][{}]\".format(i, k))\n",
        "    n += 1\n",
        "\n",
        "#plt.subplots_adjust(hspace=0.25)\n",
        "plt.show()"
      ],
      "execution_count": null,
      "outputs": []
    },
    {
      "cell_type": "code",
      "metadata": {
        "id": "DIJKqVDRWPSc"
      },
      "source": [
        ""
      ],
      "execution_count": null,
      "outputs": []
    },
    {
      "cell_type": "markdown",
      "metadata": {
        "id": "r9X3-Wzb2Z4l"
      },
      "source": [
        "#### <font color=red>task : </font> データの前処理を行ってから主成分分析を実行する\n",
        "5つの変数それぞれで標準化/規格化の有無を全て試すのも1つの手だが、元々のデータの意味・人間的解釈から、変数ごとにどういう前処理をすべきか、すべきでないか考察したうえで、実際に行ってみて比較してほしい"
      ]
    },
    {
      "cell_type": "code",
      "metadata": {
        "id": "8b24bRXthEtL"
      },
      "source": [
        ""
      ],
      "execution_count": null,
      "outputs": []
    },
    {
      "cell_type": "code",
      "metadata": {
        "id": "BfXivwUGdSZF"
      },
      "source": [
        ""
      ],
      "execution_count": null,
      "outputs": []
    },
    {
      "cell_type": "markdown",
      "metadata": {
        "id": "pJshPt0deIS3"
      },
      "source": [
        "#### <font color=red>task : </font> 他のデータセットでも同様の主成分分析を行う。例えば以下\n",
        "- sklearn.datasets.load_iris()\n",
        "- sklearn.datasets.load_boston()\n",
        "- sklearn.datasets.load_wine()"
      ]
    },
    {
      "cell_type": "code",
      "metadata": {
        "id": "gJ7vAvAsDQwg"
      },
      "source": [
        ""
      ],
      "execution_count": null,
      "outputs": []
    },
    {
      "cell_type": "code",
      "metadata": {
        "id": "bYpL7PQkDQib"
      },
      "source": [
        ""
      ],
      "execution_count": null,
      "outputs": []
    },
    {
      "cell_type": "markdown",
      "metadata": {
        "id": "yJ1aZ8HUcR4I"
      },
      "source": [
        "#### <font color=red>task : </font>Mall_Customersのデータに対し主成分分析を行った結果をクラスタリングする\n",
        "- エルボー法によりクラスター評価まで行うこと\n",
        "- 前処理の有無も比較するとなおよい\n"
      ]
    },
    {
      "cell_type": "code",
      "metadata": {
        "id": "P1N4Nn3AYbLr"
      },
      "source": [
        ""
      ],
      "execution_count": null,
      "outputs": []
    },
    {
      "cell_type": "code",
      "metadata": {
        "id": "QAp3o9rHG4MX"
      },
      "source": [
        ""
      ],
      "execution_count": null,
      "outputs": []
    }
  ]
}