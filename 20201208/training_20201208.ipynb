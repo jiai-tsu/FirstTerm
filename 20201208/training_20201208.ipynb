{
  "nbformat": 4,
  "nbformat_minor": 0,
  "metadata": {
    "colab": {
      "name": "training_20201208.ipynb",
      "provenance": [],
      "collapsed_sections": []
    },
    "kernelspec": {
      "name": "python3",
      "display_name": "Python 3"
    }
  },
  "cells": [
    {
      "cell_type": "markdown",
      "metadata": {
        "id": "bBWceMj54h8x"
      },
      "source": [
        "### 16. 相関分析　<font color=blue>**の続き**</font>"
      ]
    },
    {
      "cell_type": "markdown",
      "metadata": {
        "id": "CeTbSKBo5226"
      },
      "source": [
        "#### Boston house-prices (ボストン市の住宅価格)\n",
        "米国ボストン市郊外における地域別の住宅価格のデータセット\n",
        "\n",
        "| レコード数\t| 506 |\n",
        "|---:|:---|\n",
        "| カラム数 | 14 |\n",
        "\n",
        "データセットの詳細： https://archive.ics.uci.edu/ml/datasets/Housing\n"
      ]
    },
    {
      "cell_type": "code",
      "metadata": {
        "id": "uwmczpXTV5u2"
      },
      "source": [
        "# データセットのライブラリをインポート\n",
        "\n"
      ],
      "execution_count": null,
      "outputs": []
    },
    {
      "cell_type": "code",
      "metadata": {
        "id": "kIJh2VzcU7iP"
      },
      "source": [
        "# データを読み込む\n",
        "\n"
      ],
      "execution_count": null,
      "outputs": []
    },
    {
      "cell_type": "code",
      "metadata": {
        "id": "ohcE1G79WUFG"
      },
      "source": [
        "# Pandasをインポート\n",
        "\n"
      ],
      "execution_count": null,
      "outputs": []
    },
    {
      "cell_type": "code",
      "metadata": {
        "id": "Ma2yZiHEU7fi"
      },
      "source": [
        "# 説明変数のデータを表示\n",
        "\n"
      ],
      "execution_count": null,
      "outputs": []
    },
    {
      "cell_type": "markdown",
      "metadata": {
        "id": "h3kAZREN7LbK"
      },
      "source": [
        "| 変数名\t| 説明 |\n",
        "|---:|:---|\n",
        "| CRIM | 人口 1 人当たりの犯罪発生数 |\n",
        "| ZN | 25,000 平方フィート以上の住居区画の占める割合 |\n",
        "| INDUS\t| 小売業以外の商業が占める面積の割合 |\n",
        "| CHAS | チャールズ川によるダミー変数 |\n",
        "|  | 1: 川の周辺, 0: それ以外 |\n",
        "| NOX\t| NOx の濃度 |\n",
        "| RM | 住居の平均部屋数 |\n",
        "| AGE\t| 1940 年より前に建てられた物件の割合 |\n",
        "| DIS\t| 5 つのボストン市の雇用施設からの距離 (重み付け済) |\n",
        "| RAD\t| 環状高速道路へのアクセスしやすさ |\n",
        "| TAX\t| $10,000 ドルあたりの不動産税率の総計 |\n",
        "| PTRATIO\t| 町毎の児童と教師の比率 |\n",
        "| B\t| 町毎の黒人 (Bk) の比率を次の式で表したもの |\n",
        "|  | 1000(Bk – 0.63)^2 |\n",
        "| LSTAT\t| 給与の低い職業に従事する人口の割合 (%) |"
      ]
    },
    {
      "cell_type": "code",
      "metadata": {
        "id": "U__wn5pUIXlg"
      },
      "source": [
        "# ちなみに機械学習本来の目的変数はこれ\n",
        "# (1,000 ドル台でオーナーが所有する住宅の価格の中央値)\n",
        "\n",
        "boston.target"
      ],
      "execution_count": null,
      "outputs": []
    },
    {
      "cell_type": "code",
      "metadata": {
        "id": "jQiIioCKBbs6"
      },
      "source": [
        "## ボストンの住宅価格データについても、相関分析を行ってみましょう"
      ],
      "execution_count": null,
      "outputs": []
    },
    {
      "cell_type": "code",
      "metadata": {
        "id": "pmndQJitctC6"
      },
      "source": [
        "# 変数名（カラム名）の確認\n",
        "\n"
      ],
      "execution_count": null,
      "outputs": []
    },
    {
      "cell_type": "code",
      "metadata": {
        "id": "bDhdwGMnctBU"
      },
      "source": [
        "# seaborをインポート\n",
        "\n"
      ],
      "execution_count": null,
      "outputs": []
    },
    {
      "cell_type": "code",
      "metadata": {
        "id": "0gz8fMIScs98"
      },
      "source": [
        "# データの散布図を見てみる\n",
        "\n"
      ],
      "execution_count": null,
      "outputs": []
    },
    {
      "cell_type": "code",
      "metadata": {
        "id": "7P2qTU_6Bbrn"
      },
      "source": [
        "# numpyをインポート\n",
        "\n"
      ],
      "execution_count": null,
      "outputs": []
    },
    {
      "cell_type": "code",
      "metadata": {
        "id": "qA72ypZXkzbk"
      },
      "source": [
        "# numpy.corrcoef() を使用して相関係数を計算\n",
        "# 計算結果をpandasデータフレーム形式で変数crに格納\n",
        "\n"
      ],
      "execution_count": null,
      "outputs": []
    },
    {
      "cell_type": "code",
      "metadata": {
        "id": "jXq1ZtKdlO9T"
      },
      "source": [
        "# 計算結果（変数cr）をヒートマップで表示\n",
        "\n"
      ],
      "execution_count": null,
      "outputs": []
    },
    {
      "cell_type": "code",
      "metadata": {
        "id": "ZxL8-RpFnW2w"
      },
      "source": [
        "# グラフをもっと大きく表示させたい\n",
        "# matplotlib.pyplot.figure()でサイズを指定できる"
      ],
      "execution_count": null,
      "outputs": []
    },
    {
      "cell_type": "code",
      "metadata": {
        "id": "Td8HQOn2fLvt"
      },
      "source": [
        "# matplotlib.pyplotをインポート\n",
        "\n"
      ],
      "execution_count": null,
      "outputs": []
    },
    {
      "cell_type": "code",
      "metadata": {
        "id": "-R8I-7Y9neRc"
      },
      "source": [
        "# 引数は figsize=(x軸サイズ, y軸サイズ) で指定\n",
        "# 縦横１2インチに拡大してみる\n",
        "\n",
        "\n",
        "\n",
        "# 改めてヒートマップを表示\n",
        "# seabornはpyplotを包含しているが、別のライブラリなので同一セル内で実行させないとパラメータ変更が反映されない\n",
        "\n"
      ],
      "execution_count": null,
      "outputs": []
    },
    {
      "cell_type": "code",
      "metadata": {
        "id": "qWi71mo7fLzs"
      },
      "source": [
        ""
      ],
      "execution_count": null,
      "outputs": []
    },
    {
      "cell_type": "markdown",
      "metadata": {
        "id": "Q5jnlTBMbbhK"
      },
      "source": [
        "#### <font color=red>task : </font> 各説明変数について、しきい値を設けるなどしてデータを分割して同様の相関分析を行い、得られる知見について考察する\n",
        "例1： \"CHAS\" = 0 or 1 で分割\\\n",
        "例2： \"AGE\" が 〜50, 50〜60, 60〜70, のように10刻みで分割"
      ]
    },
    {
      "cell_type": "code",
      "metadata": {
        "id": "gXDixDabnpck"
      },
      "source": [
        ""
      ],
      "execution_count": null,
      "outputs": []
    },
    {
      "cell_type": "code",
      "metadata": {
        "id": "yQ3EPSI3npex"
      },
      "source": [
        ""
      ],
      "execution_count": null,
      "outputs": []
    },
    {
      "cell_type": "code",
      "metadata": {
        "id": "AfLW7LWdfL1h"
      },
      "source": [
        ""
      ],
      "execution_count": null,
      "outputs": []
    },
    {
      "cell_type": "code",
      "metadata": {
        "id": "PHsE_A-OBbnH"
      },
      "source": [
        ""
      ],
      "execution_count": null,
      "outputs": []
    },
    {
      "cell_type": "code",
      "metadata": {
        "id": "tu_NvYh9BbkX"
      },
      "source": [
        ""
      ],
      "execution_count": null,
      "outputs": []
    },
    {
      "cell_type": "code",
      "metadata": {
        "id": "X2UwYlYOBbh2"
      },
      "source": [
        ""
      ],
      "execution_count": null,
      "outputs": []
    },
    {
      "cell_type": "markdown",
      "metadata": {
        "id": "ksxUtrkpuwh1"
      },
      "source": [
        "### 17. 相対エントロピー"
      ]
    },
    {
      "cell_type": "markdown",
      "metadata": {
        "id": "sFfsJnXq8m4Z"
      },
      "source": [
        "#### pdf教材のコードを実行してみる"
      ]
    },
    {
      "cell_type": "code",
      "metadata": {
        "id": "ipR00FHwsVIE"
      },
      "source": [
        "# ライブラリのインポート\n",
        "# Numpy\n",
        "\n",
        "# matplotlib.pyplot\n",
        "\n",
        "# scipy.stats.norm\n"
      ],
      "execution_count": null,
      "outputs": []
    },
    {
      "cell_type": "markdown",
      "metadata": {
        "id": "uWdtSBxIwpc4"
      },
      "source": [
        "<font color=green>**SciPy**</font> : NumPyを基礎にしている、数値解析ツールのライブラリ\n",
        "\n",
        "$\\downarrow \\downarrow$ 公式リファレンス $\\downarrow \\downarrow$\\\n",
        "https://scipy.org/scipylib/"
      ]
    },
    {
      "cell_type": "code",
      "metadata": {
        "id": "9g4IXyp2wCtd"
      },
      "source": [
        "# 確率密度関数(Probability Density Function) の計算をするmyown_pdf関数を自作\n",
        "\n",
        "def myown_pdf(lst, bound=5.0, div=100, mean=0):\n",
        "  d = np.array([len(\n",
        "                  [lst[i] for i in range(sample)\n",
        "                  if lst[i] >= 2 * bound * k / div - bound + mean\n",
        "                  and lst[i] < 2 * bound * (k+1) / div - bound + mean]\n",
        "                  ) / sample \n",
        "                for k in range(div)])\n",
        "  return div * d / (2 * bound)"
      ],
      "execution_count": null,
      "outputs": []
    },
    {
      "cell_type": "code",
      "metadata": {
        "id": "yMzs4dDOwCvb"
      },
      "source": [
        "# サンプル数１万、100分割、計算範囲を5.0、に設定\n",
        "\n"
      ],
      "execution_count": null,
      "outputs": []
    },
    {
      "cell_type": "code",
      "metadata": {
        "id": "_o1pJqiiwCxS"
      },
      "source": [
        "# numpy.linspace でx軸を作成\n",
        "\n"
      ],
      "execution_count": null,
      "outputs": []
    },
    {
      "cell_type": "code",
      "metadata": {
        "id": "ToAlbZS7wC06"
      },
      "source": [
        "# scipy.stats.norm.pdf() で 確率分布関数（Probability Distribution Function) を得る\n",
        "\n"
      ],
      "execution_count": null,
      "outputs": []
    },
    {
      "cell_type": "code",
      "metadata": {
        "id": "Hy0G-4QBwC2h"
      },
      "source": [
        "# 自作したmyown_pdf() で 確率密度関数を得る\n",
        "\n"
      ],
      "execution_count": null,
      "outputs": []
    },
    {
      "cell_type": "code",
      "metadata": {
        "id": "Tez98VnIwC4G"
      },
      "source": [
        "# na と nr を1つのグラフに描画\n",
        "\n"
      ],
      "execution_count": null,
      "outputs": []
    },
    {
      "cell_type": "code",
      "metadata": {
        "id": "NkAMbY4hwC51"
      },
      "source": [
        "# エントロピーを計算する関数を自作\n",
        "\n",
        "def ENT(p0, bound=5):\n",
        "  epsilon = 0.0000001 # 0での発散を回避するための極限操作\n",
        "  div = len(p0)\n",
        "\n",
        "  x = 2 * bound / div\n",
        "  p = p0 + epsilon\n",
        "\n",
        "  ent = -x * p * np.log2(x * p)\n",
        "\n",
        "  return np.sum(ent)"
      ],
      "execution_count": null,
      "outputs": []
    },
    {
      "cell_type": "code",
      "metadata": {
        "id": "lxdtVf9jwCzK"
      },
      "source": [
        "# 交差エントロピーを計算する関数を自作\n",
        "\n",
        "def CROSS(p0, p1, bound=5):\n",
        "  epsilon = 0.0000001 # 0での発散を回避するための極限操作\n",
        "  div = len(p0)\n",
        "\n",
        "  x = 2 * bound / div\n",
        "\n",
        "  ent = -x * (p0 + epsilon) * np.log2(x * (p1 + epsilon))\n",
        "\n",
        "  return np.sum(ent)"
      ],
      "execution_count": null,
      "outputs": []
    },
    {
      "cell_type": "code",
      "metadata": {
        "id": "-jkvKpZ6wC7a"
      },
      "source": [
        "# 相対エントロピー（KL-divergence）を計算する関数を自作\n",
        "\n",
        "def KLD(p0, p1):\n",
        "  return CROSS(p0, p1) - ENT(p0)"
      ],
      "execution_count": null,
      "outputs": []
    },
    {
      "cell_type": "code",
      "metadata": {
        "id": "vbtPrf10wC9E"
      },
      "source": [
        "# 先ほどの na と nr について各エントロピーを計算\n",
        "\n",
        "print(\"\\tエントロピー \\t: \", ENT(na), \"\\t\\t\", ENT(nr))\n",
        "print(\"交差エントロピー \\t: \", CROSS(na, nr), \"\\t\\t\", CROSS(nr, na))\n",
        "print(\"相対エントロピー \\t: \", KLD(na, nr), \"\\t\", KLD(nr, na))"
      ],
      "execution_count": null,
      "outputs": []
    },
    {
      "cell_type": "code",
      "metadata": {
        "id": "Pf10_LtswC-t"
      },
      "source": [
        ""
      ],
      "execution_count": null,
      "outputs": []
    },
    {
      "cell_type": "markdown",
      "metadata": {
        "id": "9Do58mnY8q9x"
      },
      "source": [
        "#### iris データセットの相対エントロピーを計算"
      ]
    },
    {
      "cell_type": "code",
      "metadata": {
        "id": "c45tV5jvwDBx"
      },
      "source": [
        "# ライブラリのインポート\n",
        "# Numpy\n",
        "\n",
        "# Pandas\n",
        "\n",
        "# seaborn\n",
        "\n",
        "# math\n",
        "\n",
        "# sklearnからdatasetsとpreprocessing\n"
      ],
      "execution_count": null,
      "outputs": []
    },
    {
      "cell_type": "code",
      "metadata": {
        "id": "ArGAmWRvwDE4"
      },
      "source": [
        "# データの前処理（正規化）\n",
        "\n",
        "# irisデータセットの説明変数部分を読み込む\n",
        "\n"
      ],
      "execution_count": null,
      "outputs": []
    },
    {
      "cell_type": "code",
      "metadata": {
        "id": "DoIBbUnUwDHP"
      },
      "source": [
        "# 正規化するメソッド preprocessing.StandardScaler() を読み込む\n",
        "\n"
      ],
      "execution_count": null,
      "outputs": []
    },
    {
      "cell_type": "code",
      "metadata": {
        "id": "Me2y9XvIwDJy"
      },
      "source": [
        "# .fitで正規化のためのパラメータを計算\n",
        "\n"
      ],
      "execution_count": null,
      "outputs": []
    },
    {
      "cell_type": "code",
      "metadata": {
        "id": "b1es-5FvwDMV"
      },
      "source": [
        "# .transformで正規化処理を実行\n",
        "\n"
      ],
      "execution_count": null,
      "outputs": []
    },
    {
      "cell_type": "code",
      "metadata": {
        "id": "gEddIqgX-WkI"
      },
      "source": [
        "# 転置行列をNumpy配列として格納\n",
        "\n"
      ],
      "execution_count": null,
      "outputs": []
    },
    {
      "cell_type": "code",
      "metadata": {
        "id": "29aIYG8N-WoL"
      },
      "source": [
        "# 確率密度関数を自作\n",
        "\n",
        "# １変数確率分布\n",
        "def pdf(lst, bound=5, div=100, mean=0):\n",
        "  d = np.array([len(\n",
        "                  [0 for i in range(sample) \n",
        "                  if lst[i] >= 2 * bound * k / div - bound + mean \n",
        "                  and lst[i] < 2 * bound * (k + 1) / div - bound + mean]\n",
        "                  ) / sample for k in range(div)])\n",
        "\n",
        "  return div * d / (2 * bound)\n",
        "\n",
        "\n",
        "# ２変数確率分布\n",
        "def pdf2(lst0, lst1, bound=5, div = 100, mean = 0):\n",
        "  d = np.array([\n",
        "                [len(\n",
        "                    [0 for i in range(sample) \n",
        "                    if lst0[i] >= 2 * bound * k0 / div - bound + mean\n",
        "                     and lst0[i] < 2 * bound * (k0 + 1) / div - bound + mean\n",
        "                     and lst1[i] >= 2 * bound * k1 / div - bound + mean\n",
        "                     and lst1[i] < 2 * bound * (k1 + 1) / div - bound + mean]\n",
        "                     ) / sample for k0 in range(div)]\n",
        "                 for k1 in range(div)])\n",
        "\n",
        "  return div * d / (2 * bound)"
      ],
      "execution_count": null,
      "outputs": []
    },
    {
      "cell_type": "code",
      "metadata": {
        "id": "HNiSRJXN-WrB"
      },
      "source": [
        "## エントロピーを計算\n",
        "\n",
        "# 各パラメータの設定\n",
        "\n"
      ],
      "execution_count": null,
      "outputs": []
    },
    {
      "cell_type": "code",
      "metadata": {
        "id": "EVgb7ToIBAip"
      },
      "source": [
        "# 正規化したirisデータセット\n",
        "\n",
        "siris = np.array([\n",
        "                [pdf2(tdiris[ii], tdiris[kk], bound, div) for ii in range(4)]\n",
        "                for kk in range(4)\n",
        "                ])"
      ],
      "execution_count": null,
      "outputs": []
    },
    {
      "cell_type": "code",
      "metadata": {
        "id": "w3TktylwBAlH"
      },
      "source": [
        "# ランダムなノイズを加えたirisデータセット\n",
        "\n",
        "riris = np.array([\n",
        "                  [\n",
        "                   [\n",
        "                    [pdf(tdiris[ii], bound, div)[i] * pdf(tdiris[kk], bound, div)[k] for i in range(div)] \n",
        "                    for k in range(div)]\n",
        "                    for ii in range(4)]\n",
        "                  for kk in range(4)\n",
        "                ])"
      ],
      "execution_count": null,
      "outputs": []
    },
    {
      "cell_type": "code",
      "metadata": {
        "id": "T_V7T2z8BAqE"
      },
      "source": [
        "# 発散防止のためのパラメータを導入\n",
        "\n",
        "epsilon = 0.000000001"
      ],
      "execution_count": null,
      "outputs": []
    },
    {
      "cell_type": "code",
      "metadata": {
        "id": "J8WAdrdn-WtT"
      },
      "source": [
        "# エントロピーを計算\n",
        "\n",
        "ent = [[- np.sum((siris[ii][kk] + epsilon) * np.log2(siris[ii][kk] + epsilon)) for ii in range(parameters)]\n",
        "       for kk in range(parameters)]"
      ],
      "execution_count": null,
      "outputs": []
    },
    {
      "cell_type": "code",
      "metadata": {
        "id": "tb28C2ggCruw"
      },
      "source": [
        "# 交差エントロピーを計算\n",
        "\n",
        "cent = [[- np.sum((siris[ii][kk] + epsilon) * np.log2(riris[ii][kk] + epsilon)) for ii in range(parameters)]\n",
        "        for kk in range(parameters)]"
      ],
      "execution_count": null,
      "outputs": []
    },
    {
      "cell_type": "code",
      "metadata": {
        "id": "YReAlrSDCrw0"
      },
      "source": [
        "# 相対エントロピーを算出\n",
        "\n",
        "\n",
        "# 対角成分は0と定義\n",
        "\n"
      ],
      "execution_count": null,
      "outputs": []
    },
    {
      "cell_type": "code",
      "metadata": {
        "id": "EISmtVpICryw"
      },
      "source": [
        "# ヒートマップで描画\n",
        "\n",
        "sns.heatmap(rent, annot=True, square=True, vmin=-1, vmax=1, fmt=\".2f\", cmap=\"RdBu\")"
      ],
      "execution_count": null,
      "outputs": []
    },
    {
      "cell_type": "code",
      "metadata": {
        "id": "AuBNweUfCr0n"
      },
      "source": [
        ""
      ],
      "execution_count": null,
      "outputs": []
    },
    {
      "cell_type": "markdown",
      "metadata": {
        "id": "sLNNvro-8RNh"
      },
      "source": [
        "#### <font color=red>task : </font> Boston house-prices データセットについて相対エントロピーを計算してみる"
      ]
    },
    {
      "cell_type": "code",
      "metadata": {
        "id": "kd77Z_FzviPx"
      },
      "source": [
        ""
      ],
      "execution_count": null,
      "outputs": []
    },
    {
      "cell_type": "code",
      "metadata": {
        "id": "sfZcu8pYviUG"
      },
      "source": [
        ""
      ],
      "execution_count": null,
      "outputs": []
    },
    {
      "cell_type": "code",
      "metadata": {
        "id": "dxqB_CxvviXi"
      },
      "source": [
        ""
      ],
      "execution_count": null,
      "outputs": []
    },
    {
      "cell_type": "code",
      "metadata": {
        "id": "WMJMuKL3f88P"
      },
      "source": [
        ""
      ],
      "execution_count": null,
      "outputs": []
    },
    {
      "cell_type": "code",
      "metadata": {
        "id": "hqY1RcJ2cuck"
      },
      "source": [
        ""
      ],
      "execution_count": null,
      "outputs": []
    },
    {
      "cell_type": "code",
      "metadata": {
        "id": "qJ4j3UEfcuZg"
      },
      "source": [
        ""
      ],
      "execution_count": null,
      "outputs": []
    },
    {
      "cell_type": "code",
      "metadata": {
        "id": "mpxcJuvLVSdG"
      },
      "source": [
        ""
      ],
      "execution_count": null,
      "outputs": []
    },
    {
      "cell_type": "markdown",
      "metadata": {
        "id": "wkfRkqG_EH4L"
      },
      "source": [
        "### 18. 階層クラスタリング"
      ]
    },
    {
      "cell_type": "markdown",
      "metadata": {
        "id": "MrghF_CEaBe5"
      },
      "source": [
        "- 最短距離法\n",
        "  - クラスターA と クラスターB に属する全てのデータ点ペアの距離の最小値\n",
        "- 群平均法\n",
        "  - 全てのペアについて等しい重みで取った平均\n",
        "- Ward法\n",
        "  - クラスターの「大きさ」、あるいは「広がり具合」の指標を考えてみる"
      ]
    },
    {
      "cell_type": "markdown",
      "metadata": {
        "id": "jMM6eV1fb1IU"
      },
      "source": [
        "1. 初期状態として、データ点はそれぞれデータ数1のクラスターと考える\n",
        "2. クラスターのペアを調べ、距離が最小のペアを併合して一つのクラスターにまとめる\n",
        "3. 2を、全体がひとつのクラスターになるまで繰り返す"
      ]
    },
    {
      "cell_type": "markdown",
      "metadata": {
        "id": "ySE9F4g1c45C"
      },
      "source": [
        "#### デンドログラム（dendrogram)出力"
      ]
    },
    {
      "cell_type": "code",
      "metadata": {
        "id": "dog_tA6ccIN6"
      },
      "source": [
        "# ライブラリをインポート\n",
        "\n",
        "import sys\n",
        "import numpy as np\n",
        "import matplotlib.pyplot as plt\n",
        "from scipy.cluster.hierarchy import linkage, dendrogram"
      ],
      "execution_count": null,
      "outputs": []
    },
    {
      "cell_type": "code",
      "metadata": {
        "id": "fJz2t8cUcIab"
      },
      "source": [
        "## ランダムに生成したデータ点についてクラスタリングしてみる\n",
        "\n",
        "# 生成するグループの数\n",
        "k = 4\n",
        "\n",
        "# グループ毎の分散\n",
        "sigma = [[20, 0], [0, 20]]\n",
        "\n",
        "# データ点の生成\n",
        "x = np.empty((0, 2))\n",
        "for ell in range(k):\n",
        "  pc = np.random.uniform(low = -20, high = 20, size = (2,))  # グループ毎の代表点\n",
        "  xs = np.random.multivariate_normal(pc, sigma, 30)\n",
        "  x = np.concatenate([x, xs])"
      ],
      "execution_count": null,
      "outputs": []
    },
    {
      "cell_type": "code",
      "metadata": {
        "id": "2SItHbJtHPy-"
      },
      "source": [
        "# クラスタリング実行\n",
        "\n",
        "link = linkage(x, 'ward')\n",
        "labels = range(0, k*30)"
      ],
      "execution_count": null,
      "outputs": []
    },
    {
      "cell_type": "code",
      "metadata": {
        "id": "w79632-kXGSJ"
      },
      "source": [
        "# 結果のプロット\n",
        "\n",
        "plt.figure(figsize=(30,10))\n",
        "\n",
        "dendrogram(link,\n",
        "           orientation = 'top',\n",
        "           labels = labels,\n",
        "           distance_sort = 'descending',\n",
        "           color_threshold = 40.0, # ここの値を変えて色々遊ぶと良い\n",
        "           show_leaf_counts = True)\n",
        "\n",
        "plt.xticks(fontsize=16)\n",
        "plt.show()"
      ],
      "execution_count": null,
      "outputs": []
    },
    {
      "cell_type": "code",
      "metadata": {
        "id": "uiiII_JQHaR8"
      },
      "source": [
        ""
      ],
      "execution_count": null,
      "outputs": []
    },
    {
      "cell_type": "code",
      "metadata": {
        "id": "yN5E6248Ya5Z"
      },
      "source": [
        "## thresholdの値を超えたら、 そこでクラスターの併合を打ち切るように改良\n",
        "\n",
        "def rewrite_id(id, link, group, step, n):\n",
        "  i = int(link[step, 0])\n",
        "  j = int(link[step, 1])\n",
        "  if i < n:\n",
        "    group[i] = id\n",
        "  else:\n",
        "    rewrite_id(id, link, group, i - n, n)\n",
        "\n",
        "  if j < n:\n",
        "    group[j] = id\n",
        "  else:\n",
        "    rewrite_id(id, link, group, j - n, n)"
      ],
      "execution_count": null,
      "outputs": []
    },
    {
      "cell_type": "code",
      "metadata": {
        "id": "dlBeqeORYbR-"
      },
      "source": [
        "linked = linkage(x, 'ward')\n",
        "\n",
        "n = x.shape[0]\n",
        "threshold = 40 ##\n",
        "group = np.empty(n, dtype = 'int32')\n",
        "\n",
        "step = 0\n",
        "while True:\n",
        "  if step >= n - 2:\n",
        "    break\n",
        "  dist = linked[step, 2]   \n",
        "  if dist > threshold:\n",
        "    break\n",
        "  rewrite_id(step + n, linked, group, step, n)\n",
        "  step = step +1 "
      ],
      "execution_count": null,
      "outputs": []
    },
    {
      "cell_type": "code",
      "metadata": {
        "id": "I55TvUowYbcF"
      },
      "source": [
        "# 結果のプロット\n",
        "\n",
        "cmap = plt.get_cmap(\"tab10\")\n",
        "cids = list(set(group))\n",
        "\n",
        "print('cluster ids:', cids)\n",
        "\n",
        "for i in range(x.shape[0]):\n",
        "  ell = cids.index(group[i]) % 10\n",
        "  plt.scatter(x[i, 0], x[i, 1], color = cmap(ell))\n",
        "\n",
        "plt.grid(True)\n",
        "\n",
        "plt.show()"
      ],
      "execution_count": null,
      "outputs": []
    },
    {
      "cell_type": "code",
      "metadata": {
        "id": "K4-mX0oPYbgz"
      },
      "source": [
        ""
      ],
      "execution_count": null,
      "outputs": []
    },
    {
      "cell_type": "markdown",
      "metadata": {
        "id": "oTZz_H85fZlD"
      },
      "source": [
        "#### 距離計算手法による違い\n",
        "\n",
        "\n",
        "method | 説明\n",
        ":-----------|:------------\n",
        "average | 重みのない平均距離\n",
        "centroid | 重みのない重心までの距離\n",
        "complete | 最大距離\n",
        "median | 重みのある重心までの距離\n",
        "single | 最小距離\n",
        "ward | 内部平方距離\n",
        "weighted | 重みのある平均距離"
      ]
    },
    {
      "cell_type": "code",
      "metadata": {
        "id": "UyRWD5vSEOYx"
      },
      "source": [
        "# ライブラリをインポート\n",
        "\n",
        "import pandas as pd\n",
        "from scipy.cluster.hierarchy import dendrogram, linkage\n",
        "import matplotlib.pyplot as plt\n",
        "import random"
      ],
      "execution_count": null,
      "outputs": []
    },
    {
      "cell_type": "code",
      "metadata": {
        "id": "NMLG3rsLEOcW"
      },
      "source": [
        "# methodのリスト\n",
        "method_list = (\"average\", \"centroid\", \"complete\", \"median\", \"single\", \"ward\", \"weighted\")\n",
        "data = []   # dataを格納するリスト\n",
        "label = []  # labelを格納するリスト"
      ],
      "execution_count": null,
      "outputs": []
    },
    {
      "cell_type": "code",
      "metadata": {
        "id": "MrF7SK9gH1RI"
      },
      "source": [
        "# dataを20個生成\n",
        "for i in range(20):\n",
        "  num = random.randint(0, 99)\n",
        "  data.append(num)\n",
        "  label.append(str(num))"
      ],
      "execution_count": null,
      "outputs": []
    },
    {
      "cell_type": "code",
      "metadata": {
        "id": "rllGP4nbH1U4"
      },
      "source": [
        "# DataFrameオブジェクト生成\n",
        "df = pd.DataFrame(data)"
      ],
      "execution_count": null,
      "outputs": []
    },
    {
      "cell_type": "code",
      "metadata": {
        "id": "qb1goWE6H1YL"
      },
      "source": [
        "# クラスタリング\n",
        "for method in method_list:\n",
        "  Z = linkage(df, method=method, metric=\"euclidean\")\n",
        "  dendrogram(Z, labels=label)\n",
        "  plt.title(method)\n",
        "  plt.show()"
      ],
      "execution_count": null,
      "outputs": []
    },
    {
      "cell_type": "code",
      "metadata": {
        "id": "88B-h49GEOeX"
      },
      "source": [
        ""
      ],
      "execution_count": null,
      "outputs": []
    },
    {
      "cell_type": "markdown",
      "metadata": {
        "id": "6_wcIAAA9fN3"
      },
      "source": [
        "#### <font color=red>task : </font> methodによる違いだけでなく、metricによる違いを確かめる\n",
        "\n",
        "$\\downarrow \\downarrow$ metric引数のリファレンス $\\downarrow \\downarrow$\\\n",
        "https://docs.scipy.org/doc/scipy/reference/generated/scipy.spatial.distance.pdist.html#scipy.spatial.distance.pdist"
      ]
    },
    {
      "cell_type": "code",
      "metadata": {
        "id": "SccJmgD4VTK7"
      },
      "source": [
        ""
      ],
      "execution_count": null,
      "outputs": []
    },
    {
      "cell_type": "code",
      "metadata": {
        "id": "nAnTLmw9VTIQ"
      },
      "source": [
        ""
      ],
      "execution_count": null,
      "outputs": []
    }
  ]
}