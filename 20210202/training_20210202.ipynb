{
  "nbformat": 4,
  "nbformat_minor": 0,
  "metadata": {
    "colab": {
      "name": "training_20210202.ipynb のコピー",
      "provenance": [],
      "collapsed_sections": [
        "DcMPZyGYnHoo",
        "nykdMvRnGO00",
        "bIyNDBYIGlPW",
        "jzVqeDGPMjSM",
        "qvFSib2dnjkL",
        "4NF8H6bkpQrI",
        "B4x21fstdQcE",
        "JXbsjooX_FXL",
        "KvpHGI8-SHWN",
        "5LLZ4AiJCEVz",
        "Z5ZOv9ENSVbu",
        "JxJnscdXnN7a",
        "2fckpeF-qZ8_",
        "3WoF2FaD4xaB",
        "BX_6r0DCRHO3",
        "rwZXRbQOSpy_",
        "x2a9Euav60Cg",
        "y36kB-W9W66a",
        "dq0Cpwji8TLP",
        "dIl2DTmonTUx",
        "aVtkLqRiqTUu",
        "gcQ4WqjV0FPK",
        "wU5W0hYd0CFk",
        "36Glcgur0UNS",
        "0wXluXywqXZM",
        "1JLHP2Wz1NaE",
        "EjAABBqppdY4",
        "xXua87j331ib",
        "mEEgzTs8pdY8",
        "Isrs1dbgpdY9",
        "B-nU6enL-DYx",
        "1vdvvnoz_VKZ",
        "XQusHE8opdZB",
        "rMdjdAEhpdZD",
        "VrF8gmgqpdZH",
        "tU7DbOcnOiFb"
      ]
    },
    "kernelspec": {
      "name": "python3",
      "display_name": "Python 3"
    }
  },
  "cells": [
    {
      "cell_type": "markdown",
      "metadata": {
        "id": "Tf5n6UVBrF7p"
      },
      "source": [
        "## 30. ベイズ確率論"
      ]
    },
    {
      "cell_type": "markdown",
      "metadata": {
        "id": "YIlPBfFurKtY"
      },
      "source": [
        "### <font color = blue>**1.** </font> ベイズ推定"
      ]
    },
    {
      "cell_type": "markdown",
      "metadata": {
        "id": "kst0vN8EFxPR"
      },
      "source": [
        "#### <font color = green> **1.1.** </font> pdf教材より\n",
        "\n",
        "コインの表裏など、結果が２値となる試行の確率を考える"
      ]
    },
    {
      "cell_type": "code",
      "metadata": {
        "id": "aIBnfrjDrFss"
      },
      "source": [
        "from scipy.special import beta\n",
        "from math import log"
      ],
      "execution_count": null,
      "outputs": []
    },
    {
      "cell_type": "code",
      "metadata": {
        "id": "UBTQSj4tuepP"
      },
      "source": [
        "N, n = 100, 40"
      ],
      "execution_count": null,
      "outputs": []
    },
    {
      "cell_type": "code",
      "metadata": {
        "id": "4xxOltuMues9"
      },
      "source": [
        "def L(a, b, NL=N, nL=n):\n",
        "  return beta(a+nL, b+NL-nL) / beta(a, b)"
      ],
      "execution_count": null,
      "outputs": []
    },
    {
      "cell_type": "code",
      "metadata": {
        "id": "sM3oNngzuew_"
      },
      "source": [
        "def LL(a, b, NLL=N, nLL=n):\n",
        "  return log(beta(a+nLL, b+NLL-nLL)) - log(beta(a, b))"
      ],
      "execution_count": null,
      "outputs": []
    },
    {
      "cell_type": "code",
      "metadata": {
        "id": "D6txIBC4yVPw"
      },
      "source": [
        "import numpy as np\n",
        "import matplotlib.pyplot as plt\n",
        "from scipy.stats import norm"
      ],
      "execution_count": null,
      "outputs": []
    },
    {
      "cell_type": "code",
      "metadata": {
        "id": "yBwd05akyVNe"
      },
      "source": [
        "a_max, a_min, a_step = 20, 0.1, 0.1"
      ],
      "execution_count": null,
      "outputs": []
    },
    {
      "cell_type": "code",
      "metadata": {
        "id": "Qz0PoyqryVK_"
      },
      "source": [
        "b_max, b_min, b_step = 20, 0.1, 0.1"
      ],
      "execution_count": null,
      "outputs": []
    },
    {
      "cell_type": "code",
      "metadata": {
        "id": "drkuiJtvufBr"
      },
      "source": [
        "a = [k*a_step + a_min for k in range(int((a_max - a_min) / a_step))]"
      ],
      "execution_count": null,
      "outputs": []
    },
    {
      "cell_type": "code",
      "metadata": {
        "id": "5xHNlzHxufGf"
      },
      "source": [
        "b = [k*b_step + b_min for k in range(int((b_max - b_min) / b_step))]"
      ],
      "execution_count": null,
      "outputs": []
    },
    {
      "cell_type": "code",
      "metadata": {
        "id": "F7Du_UIFufJN"
      },
      "source": [
        "l = [\n",
        "     [L(a[m], b[k]) for m in range(int((a_max - a_min) / a_step))]\n",
        "     for k in range(int((b_max - b_min) / b_step))\n",
        "     ]"
      ],
      "execution_count": null,
      "outputs": []
    },
    {
      "cell_type": "code",
      "metadata": {
        "id": "NVOWxb-fufLu"
      },
      "source": [
        "x, y = np.meshgrid(a, b)"
      ],
      "execution_count": null,
      "outputs": []
    },
    {
      "cell_type": "code",
      "metadata": {
        "id": "MOv7hwakufOD"
      },
      "source": [
        "plt.figure(figsize=(8,8))\n",
        "plt.contourf(x, y, l, levels=20, cmap='RdYlGn')\n",
        "plt.show()"
      ],
      "execution_count": null,
      "outputs": []
    },
    {
      "cell_type": "code",
      "metadata": {
        "id": "ReJFhYnoufQx"
      },
      "source": [
        "alpha, epsilon = 1e2, .1"
      ],
      "execution_count": null,
      "outputs": []
    },
    {
      "cell_type": "code",
      "metadata": {
        "id": "R_YggXt_6yPY"
      },
      "source": [
        "K = 1e5\n",
        "r_list = [5,]"
      ],
      "execution_count": null,
      "outputs": []
    },
    {
      "cell_type": "code",
      "metadata": {
        "id": "1sSite6gufTP"
      },
      "source": [
        "for i in range(int(K)):\n",
        "  r_list += [r_list[-1] + LL(alpha, (r_list[-1] + epsilon)*alpha) - LL(alpha, r_list[-1]*alpha)]\n",
        "\n",
        "r_list[-1]"
      ],
      "execution_count": null,
      "outputs": []
    },
    {
      "cell_type": "code",
      "metadata": {
        "id": "gajIsfkz7SJL"
      },
      "source": [
        "plt.plot(r_list)\n",
        "plt.xlim(-10, 100)\n",
        "plt.show()"
      ],
      "execution_count": null,
      "outputs": []
    },
    {
      "cell_type": "code",
      "metadata": {
        "id": "i-Rkfvzi7SGl"
      },
      "source": [
        "l_list = [L(a_step*i, r_list[-1]*a_step*i) for i in range(int(K))]\n",
        "plt.plot(l_list)\n",
        "plt.show()"
      ],
      "execution_count": null,
      "outputs": []
    },
    {
      "cell_type": "code",
      "metadata": {
        "id": "6WRy45jDrFrI"
      },
      "source": [
        ""
      ],
      "execution_count": null,
      "outputs": []
    },
    {
      "cell_type": "markdown",
      "metadata": {
        "id": "VpIU61fzsGpX"
      },
      "source": [
        "### <font color = blue>**2.** </font> 単純ベイズ（Naive Bayes）\n",
        "\n",
        "https://scikit-learn.org/stable/modules/naive_bayes.html"
      ]
    },
    {
      "cell_type": "markdown",
      "metadata": {
        "id": "bNiuZPXwF9ZQ"
      },
      "source": [
        "#### <font color = green> **2.1.** </font> 公式サンプルコードより\n",
        "\n",
        "あやめの分類"
      ]
    },
    {
      "cell_type": "code",
      "metadata": {
        "id": "-NXDmy54vKsv"
      },
      "source": [
        "from sklearn.datasets import load_iris\n",
        "from sklearn.model_selection import train_test_split\n",
        "from sklearn.naive_bayes import GaussianNB\n",
        "import matplotlib.pyplot as plt"
      ],
      "execution_count": null,
      "outputs": []
    },
    {
      "cell_type": "code",
      "metadata": {
        "id": "1bpGZjzkvKpb"
      },
      "source": [
        "X, y = load_iris(return_X_y=True)"
      ],
      "execution_count": null,
      "outputs": []
    },
    {
      "cell_type": "code",
      "metadata": {
        "id": "3d8xBwGwrpc8"
      },
      "source": [
        "X_train, X_test, y_train, y_test = train_test_split(X, y, test_size=0.5, random_state=0)"
      ],
      "execution_count": null,
      "outputs": []
    },
    {
      "cell_type": "code",
      "metadata": {
        "id": "js5DMCqbDvNj"
      },
      "source": [
        "colors = ['navy', 'turquoise', 'darkorange']\n",
        "\n",
        "for color, i in zip(colors, [0, 1, 2]):\n",
        "  plt.scatter(X_train[y_train == i, 2], X_train[y_train == i, 3], color=color, alpha=.8)\n",
        "plt.show()"
      ],
      "execution_count": null,
      "outputs": []
    },
    {
      "cell_type": "code",
      "metadata": {
        "id": "iLqmHWWk-vTK"
      },
      "source": [
        "for color, i in zip(colors, [0, 1, 2]):\n",
        "  plt.scatter(X_test[y_test == i, 2], X_test[y_test == i, 3], color=color, alpha=.8)\n",
        "plt.show()"
      ],
      "execution_count": null,
      "outputs": []
    },
    {
      "cell_type": "code",
      "metadata": {
        "id": "CINZAbYlGQpI"
      },
      "source": [
        "gnb = GaussianNB()"
      ],
      "execution_count": null,
      "outputs": []
    },
    {
      "cell_type": "code",
      "metadata": {
        "id": "D5jEv-svGQmz"
      },
      "source": [
        "y_pred = gnb.fit(X_train, y_train).predict(X_test)\n",
        "\n",
        "print(\"Number of mislabeled points out of a total %d points : %d\"\n",
        "      % (X_test.shape[0], (y_test != y_pred).sum()))"
      ],
      "execution_count": null,
      "outputs": []
    },
    {
      "cell_type": "code",
      "metadata": {
        "id": "ciMwIBdl-vVx"
      },
      "source": [
        "plt.figure(figsize=(12,6))\n",
        "\n",
        "plt.subplot(121)\n",
        "plt.title(\"test\", fontsize=16)\n",
        "for color, i in zip(colors, [0, 1, 2]):\n",
        "  plt.scatter(X_test[y_test == i, 2], X_test[y_test == i, 3], color=color, alpha=.8)\n",
        "\n",
        "plt.subplot(122)\n",
        "plt.title(\"predict\", fontsize=16)\n",
        "for color, i in zip(colors, [0, 1, 2]):\n",
        "  plt.scatter(X_test[y_pred == i, 2], X_test[y_pred == i, 3], color=color, alpha=.8)\n",
        "\n",
        "plt.show()"
      ],
      "execution_count": null,
      "outputs": []
    },
    {
      "cell_type": "code",
      "metadata": {
        "id": "0NT8kZAiJrdK"
      },
      "source": [
        ""
      ],
      "execution_count": null,
      "outputs": []
    },
    {
      "cell_type": "markdown",
      "metadata": {
        "id": "IPknmEroJrxl"
      },
      "source": [
        "#### <font color = green> **2.2.** </font> pdf教材より\n",
        "\n",
        "あやめの分類"
      ]
    },
    {
      "cell_type": "code",
      "metadata": {
        "id": "fv5AQGzgJwri"
      },
      "source": [
        "from sklearn.datasets import load_iris\n",
        "from sklearn import preprocessing\n",
        "from sklearn.model_selection import train_test_split\n",
        "from sklearn.naive_bayes import GaussianNB\n",
        "import numpy as np\n",
        "import matplotlib.pyplot as plt"
      ],
      "execution_count": null,
      "outputs": []
    },
    {
      "cell_type": "code",
      "metadata": {
        "id": "qBT_wQLdJw21"
      },
      "source": [
        "iris = load_iris()"
      ],
      "execution_count": null,
      "outputs": []
    },
    {
      "cell_type": "code",
      "metadata": {
        "id": "tgP9vBhwKEcW"
      },
      "source": [
        "iris_target = iris.target"
      ],
      "execution_count": null,
      "outputs": []
    },
    {
      "cell_type": "code",
      "metadata": {
        "id": "ogrvwOaBKEZr"
      },
      "source": [
        "### 使用する説明変数を2つ指定\n",
        "iris_data = iris.data[:, 2:4]"
      ],
      "execution_count": null,
      "outputs": []
    },
    {
      "cell_type": "code",
      "metadata": {
        "id": "8BvbYIcnKcmh"
      },
      "source": [
        "sc = preprocessing.StandardScaler()"
      ],
      "execution_count": null,
      "outputs": []
    },
    {
      "cell_type": "code",
      "metadata": {
        "id": "tLW9suYCKcjD"
      },
      "source": [
        "sc.fit(iris_data)"
      ],
      "execution_count": null,
      "outputs": []
    },
    {
      "cell_type": "code",
      "metadata": {
        "id": "Cboi9794KEWM"
      },
      "source": [
        "iris_data2 = sc.transform(iris_data)"
      ],
      "execution_count": null,
      "outputs": []
    },
    {
      "cell_type": "code",
      "metadata": {
        "id": "USM_pcBlLEym"
      },
      "source": [
        "X_train, X_test, y_train, y_test = train_test_split(iris_data2, iris_target, random_state=0)"
      ],
      "execution_count": null,
      "outputs": []
    },
    {
      "cell_type": "code",
      "metadata": {
        "id": "B2Zcn4VyMiY3"
      },
      "source": [
        "gnb = GaussianNB()"
      ],
      "execution_count": null,
      "outputs": []
    },
    {
      "cell_type": "code",
      "metadata": {
        "id": "QyvWTiJ_MiWl"
      },
      "source": [
        "gnb.fit(X_train, y_train)"
      ],
      "execution_count": null,
      "outputs": []
    },
    {
      "cell_type": "code",
      "metadata": {
        "id": "hkXBlLzVLEup"
      },
      "source": [
        "gnb.score(X_test, y_test)"
      ],
      "execution_count": null,
      "outputs": []
    },
    {
      "cell_type": "code",
      "metadata": {
        "id": "bO3o6QwqMiQO"
      },
      "source": [
        "y_pred = gnb.predict(X_test)"
      ],
      "execution_count": null,
      "outputs": []
    },
    {
      "cell_type": "code",
      "metadata": {
        "id": "nsw0lHChG0iF"
      },
      "source": [
        "X_max, X_min, X_step = 3, -3, 0.01"
      ],
      "execution_count": null,
      "outputs": []
    },
    {
      "cell_type": "code",
      "metadata": {
        "id": "1glDGFmdH1pq"
      },
      "source": [
        "meshnum = int((X_max - X_min)/X_step) + 1"
      ],
      "execution_count": null,
      "outputs": []
    },
    {
      "cell_type": "code",
      "metadata": {
        "id": "yn4hDhY-G8J8"
      },
      "source": [
        "X_axis = [X_min + i*X_step for i in range(meshnum)]"
      ],
      "execution_count": null,
      "outputs": []
    },
    {
      "cell_type": "code",
      "metadata": {
        "id": "mlLM-69DG8Hh"
      },
      "source": [
        "X_plane = np.array([\n",
        "                    [\n",
        "                     [X_min + i*X_step, X_min + k*X_step]  for i in range(meshnum)\n",
        "                     ] for k in range(meshnum)\n",
        "                     ])"
      ],
      "execution_count": null,
      "outputs": []
    },
    {
      "cell_type": "code",
      "metadata": {
        "id": "ubHyFxuvG8FK"
      },
      "source": [
        "Z = np.array([gnb.predict(X_plane[i]) for i in range(meshnum)])"
      ],
      "execution_count": null,
      "outputs": []
    },
    {
      "cell_type": "code",
      "metadata": {
        "id": "ZZnYn3TgOjB5"
      },
      "source": [
        "plt.figure(figsize=(8,8))\n",
        "plt.contourf(X_axis, X_axis, Z, cmap='Wistia')\n",
        "\n",
        "color_list = ['red', 'green', 'blue']\n",
        "for color, i in zip(color_list, [0, 1, 2]):\n",
        "  plt.scatter(X_train[y_train == i, 0], X_train[y_train == i, 1], color=color, alpha=1, s=6)\n",
        "\n",
        "plt.show()"
      ],
      "execution_count": null,
      "outputs": []
    },
    {
      "cell_type": "code",
      "metadata": {
        "id": "4LYQ7PErJwyu"
      },
      "source": [
        ""
      ],
      "execution_count": null,
      "outputs": []
    },
    {
      "cell_type": "markdown",
      "metadata": {
        "id": "C3KPLEH0senB"
      },
      "source": [
        "### <font color = blue>**3.** </font> エビデンス近似 : Bayesian Ridge Regression\n",
        "\n",
        "https://scikit-learn.org/stable/modules/generated/sklearn.linear_model.BayesianRidge.html"
      ]
    },
    {
      "cell_type": "markdown",
      "metadata": {
        "id": "nV7eamOJUOwK"
      },
      "source": [
        "#### <font color = green> **3.1.** </font> 公式サンプルコードより\n",
        "\n",
        "正弦波で手動生成"
      ]
    },
    {
      "cell_type": "markdown",
      "metadata": {
        "id": "GweqtxUcU4w5"
      },
      "source": [
        "https://scikit-learn.org/stable/auto_examples/linear_model/plot_bayesian_ridge_curvefit.html\n",
        "\n",
        "Author: Yoshihiro Uchida <nimbus1after2a1sun7shower@gmail.com>"
      ]
    },
    {
      "cell_type": "code",
      "metadata": {
        "id": "dT6dyBABUbvD"
      },
      "source": [
        "import numpy as np\n",
        "import matplotlib.pyplot as plt\n",
        "from sklearn.linear_model import BayesianRidge"
      ],
      "execution_count": null,
      "outputs": []
    },
    {
      "cell_type": "code",
      "metadata": {
        "id": "Dn9LewA-UbpK"
      },
      "source": [
        "def func(x):\n",
        "  return np.sin(2*np.pi*x)"
      ],
      "execution_count": null,
      "outputs": []
    },
    {
      "cell_type": "code",
      "metadata": {
        "id": "v4gQ3o23Ublb"
      },
      "source": [
        "# #############################################################################\n",
        "# Generate sinusoidal data with noise\n",
        "size = 25\n",
        "rng = np.random.RandomState(1234)\n",
        "x_train = rng.uniform(0., 1., size)\n",
        "y_train = func(x_train) + rng.normal(scale=0.1, size=size)\n",
        "x_test = np.linspace(0., 1., 100)"
      ],
      "execution_count": null,
      "outputs": []
    },
    {
      "cell_type": "code",
      "metadata": {
        "id": "upzjYL7CU9U-"
      },
      "source": [
        "# #############################################################################\n",
        "# Fit by cubic polynomial\n",
        "n_order = 3\n",
        "X_train = np.vander(x_train, n_order + 1, increasing=True)\n",
        "X_test = np.vander(x_test, n_order + 1, increasing=True)"
      ],
      "execution_count": null,
      "outputs": []
    },
    {
      "cell_type": "code",
      "metadata": {
        "id": "s2Kp3YH4U9Rx"
      },
      "source": [
        "# #############################################################################\n",
        "# Plot the true and predicted curves with log marginal likelihood (L)\n",
        "reg = BayesianRidge(tol=1e-6, fit_intercept=False, compute_score=True)\n",
        "\n",
        "fig, axes = plt.subplots(1, 2, figsize=(12, 6))\n",
        "\n",
        "for i, ax in enumerate(axes):\n",
        "  # Bayesian ridge regression with different initial value pairs\n",
        "  if i == 0:\n",
        "    init = [1 / np.var(y_train), 1.]  # Default values\n",
        "    #init = [1e2, 1]\n",
        "  elif i == 1:\n",
        "    init = [1., 1e-3]\n",
        "  reg.set_params(n_iter=int(1e6), alpha_init=init[0], lambda_init=init[1])\n",
        "\n",
        "  reg.fit(X_train, y_train)\n",
        "  ymean, ystd = reg.predict(X_test, return_std=True)\n",
        "\n",
        "  ax.plot(x_test, func(x_test), color=\"blue\", label=\"sin($2\\\\pi x$)\")\n",
        "  ax.scatter(x_train, y_train, s=50, alpha=0.5, label=\"observation\")\n",
        "  ax.plot(x_test, ymean, color=\"red\", label=\"predict mean\")\n",
        "  ax.fill_between(x_test, ymean-ystd, ymean+ystd,\n",
        "                  color=\"pink\", alpha=0.5, label=\"predict std\")\n",
        "  ax.set_ylim(-1.3, 1.3)\n",
        "  ax.legend(fontsize=12)\n",
        "\n",
        "  title = \"$\\\\alpha$_init$={:.2f},\\\\ \\\\lambda$_init$={}$\".format(init[0], init[1])\n",
        "  if i == 0:\n",
        "    title += \" (Default)\"\n",
        "  ax.set_title(title, fontsize=14)\n",
        "\n",
        "  text = \"$\\\\alpha={:.1f}$\\n$\\\\lambda={:.3f}$\\n$L={:.1f}$\".format(\n",
        "      reg.alpha_, reg.lambda_, reg.scores_[-1])\n",
        "  ax.text(0.05, -1.0, text, fontsize=18)\n",
        "\n",
        "plt.tight_layout()\n",
        "plt.show()"
      ],
      "execution_count": null,
      "outputs": []
    },
    {
      "cell_type": "code",
      "metadata": {
        "id": "CLWF3VNnNMWo"
      },
      "source": [
        ""
      ],
      "execution_count": null,
      "outputs": []
    },
    {
      "cell_type": "code",
      "metadata": {
        "id": "LES4QZTvUUN-"
      },
      "source": [
        ""
      ],
      "execution_count": null,
      "outputs": []
    },
    {
      "cell_type": "markdown",
      "metadata": {
        "id": "e-qvtiiNUiYl"
      },
      "source": [
        "#### <font color = green> **3.2.** </font> 公式サンプルコードより\n",
        "\n",
        "正規分布で手動生成"
      ]
    },
    {
      "cell_type": "markdown",
      "metadata": {
        "id": "82dpo6i5XXKO"
      },
      "source": [
        "https://scikit-learn.org/stable/auto_examples/linear_model/plot_bayesian_ridge.html"
      ]
    },
    {
      "cell_type": "code",
      "metadata": {
        "id": "T2GUpFeJXYDv"
      },
      "source": [
        "import numpy as np\n",
        "import matplotlib.pyplot as plt\n",
        "from scipy import stats\n",
        "\n",
        "from sklearn.linear_model import BayesianRidge, LinearRegression"
      ],
      "execution_count": null,
      "outputs": []
    },
    {
      "cell_type": "code",
      "metadata": {
        "id": "S2Kt5azQXYBg"
      },
      "source": [
        "# #############################################################################\n",
        "# Generating simulated data with Gaussian weights\n",
        "np.random.seed(0)\n",
        "n_samples, n_features = 100, 100\n",
        "X = np.random.randn(n_samples, n_features)  # Create Gaussian data"
      ],
      "execution_count": null,
      "outputs": []
    },
    {
      "cell_type": "code",
      "metadata": {
        "id": "AyONv_CmXhay"
      },
      "source": [
        "# Create weights with a precision lambda_ of 4.\n",
        "lambda_ = 4.\n",
        "w = np.zeros(n_features)"
      ],
      "execution_count": null,
      "outputs": []
    },
    {
      "cell_type": "code",
      "metadata": {
        "id": "jsBAXPa-XhYn"
      },
      "source": [
        "# Only keep 10 weights of interest\n",
        "relevant_features = np.random.randint(0, n_features, 10)\n",
        "for i in relevant_features:\n",
        "  w[i] = stats.norm.rvs(loc=0, scale=1. / np.sqrt(lambda_))"
      ],
      "execution_count": null,
      "outputs": []
    },
    {
      "cell_type": "code",
      "metadata": {
        "id": "IYtXiDfBXgjm"
      },
      "source": [
        "# Create noise with a precision alpha of 50.\n",
        "alpha_ = 50.\n",
        "noise = stats.norm.rvs(loc=0, scale=1. / np.sqrt(alpha_), size=n_samples)"
      ],
      "execution_count": null,
      "outputs": []
    },
    {
      "cell_type": "code",
      "metadata": {
        "id": "A9yRDiwzXgha"
      },
      "source": [
        "# Create the target\n",
        "y = np.dot(X, w) + noise"
      ],
      "execution_count": null,
      "outputs": []
    },
    {
      "cell_type": "code",
      "metadata": {
        "id": "piM_tGdPXgfP"
      },
      "source": [
        "# #############################################################################\n",
        "# Fit the Bayesian Ridge Regression and an OLS for comparison\n",
        "clf = BayesianRidge(compute_score=True)\n",
        "clf.fit(X, y)"
      ],
      "execution_count": null,
      "outputs": []
    },
    {
      "cell_type": "code",
      "metadata": {
        "id": "Nb74JIUOXX-y"
      },
      "source": [
        "# OLS (ordinary least squares)\n",
        "ols = LinearRegression()\n",
        "ols.fit(X, y)"
      ],
      "execution_count": null,
      "outputs": []
    },
    {
      "cell_type": "code",
      "metadata": {
        "id": "7dG3BGExX7QM"
      },
      "source": [
        "# #############################################################################\n",
        "# Plot true weights, estimated weights, histogram of the weights, and\n",
        "# predictions with standard deviations"
      ],
      "execution_count": null,
      "outputs": []
    },
    {
      "cell_type": "code",
      "metadata": {
        "id": "5CiBvlvqXxsf"
      },
      "source": [
        "# Plotting some predictions for polynomial regression\n",
        "def f(x, noise_amount):\n",
        "  y = np.sqrt(x) * np.sin(x)\n",
        "  noise = np.random.normal(0, 1, len(x))\n",
        "  return y + noise_amount * noise"
      ],
      "execution_count": null,
      "outputs": []
    },
    {
      "cell_type": "code",
      "metadata": {
        "id": "-rnKOCwWXxmb"
      },
      "source": [
        "degree = 10\n",
        "X = np.linspace(0, 10, 100)\n",
        "y = f(X, noise_amount=0.1)\n",
        "clf_poly = BayesianRidge()\n",
        "clf_poly.fit(np.vander(X, degree), y)"
      ],
      "execution_count": null,
      "outputs": []
    },
    {
      "cell_type": "code",
      "metadata": {
        "id": "UJ5lGRU9YIRD"
      },
      "source": [
        "X_plot = np.linspace(0, 11, 25)\n",
        "y_plot = f(X_plot, noise_amount=0)\n",
        "y_mean, y_std = clf_poly.predict(np.vander(X_plot, degree), return_std=True)"
      ],
      "execution_count": null,
      "outputs": []
    },
    {
      "cell_type": "code",
      "metadata": {
        "id": "Yu7RtYvrUUQN"
      },
      "source": [
        "lw = 2\n",
        "plt.figure(figsize=(18, 15))\n",
        "\n",
        "plt.subplot(221)\n",
        "plt.title(\"Weights of the model\", fontsize=14)\n",
        "plt.plot(clf.coef_, color='red', linewidth=lw, label=\"Bayesian Ridge estimate\") #'lightgreen'\n",
        "plt.plot(w, color='gold', linewidth=lw, label=\"Ground truth\", alpha=0.8)\n",
        "plt.plot(ols.coef_, color='navy', linestyle='--', label=\"OLS estimate\")\n",
        "plt.xlabel(\"Features\", fontsize=14)\n",
        "plt.ylabel(\"Values of the weights\", fontsize=14)\n",
        "plt.legend(loc=\"best\", prop=dict(size=12))\n",
        "\n",
        "plt.subplot(222)\n",
        "plt.title(\"Histogram of the weights\", fontsize=14)\n",
        "plt.hist(clf.coef_, bins=n_features, color='gold', log=True, edgecolor='black')\n",
        "plt.scatter(clf.coef_[relevant_features], np.full(len(relevant_features), 5.), color='navy', label=\"Relevant features\")\n",
        "plt.ylabel(\"Features\", fontsize=14)\n",
        "plt.xlabel(\"Values of the weights\", fontsize=14)\n",
        "plt.legend(loc=\"upper left\", prop=dict(size=14))\n",
        "\n",
        "plt.subplot(223)\n",
        "plt.title(\"Marginal log-likelihood\", fontsize=14)\n",
        "plt.plot(clf.scores_, color='navy', linewidth=lw)\n",
        "plt.ylabel(\"Score\", fontsize=14)\n",
        "plt.xlabel(\"Iterations\", fontsize=14)\n",
        "\n",
        "plt.subplot(224)\n",
        "plt.errorbar(X_plot, y_mean, y_std, color='navy', label=\"Polynomial Bayesian Ridge Regression\", linewidth=lw, alpha=0.5)\n",
        "plt.plot(X_plot, y_plot, color='gold', linewidth=lw, label=\"Ground Truth\")\n",
        "plt.ylabel(\"Output y\", fontsize=14)\n",
        "plt.xlabel(\"Feature X\", fontsize=14)\n",
        "plt.legend(loc=\"lower left\", prop=dict(size=14))\n",
        "\n",
        "plt.show()"
      ],
      "execution_count": null,
      "outputs": []
    },
    {
      "cell_type": "code",
      "metadata": {
        "id": "fzr1jNeMrpZE"
      },
      "source": [
        ""
      ],
      "execution_count": null,
      "outputs": []
    },
    {
      "cell_type": "code",
      "metadata": {
        "id": "flp4Fub9rpa8"
      },
      "source": [
        ""
      ],
      "execution_count": null,
      "outputs": []
    },
    {
      "cell_type": "markdown",
      "metadata": {
        "id": "iLRtpOBZrp5R"
      },
      "source": [
        "## 31. 関連ベクトルマシーン（Relevance Vector Machine）"
      ]
    },
    {
      "cell_type": "markdown",
      "metadata": {
        "id": "Nn1ylBfqtNuv"
      },
      "source": [
        "### <font color = blue>**1.** </font> 関連度自動決定（Automatic Relevance Determination）\n",
        "\n",
        "https://scikit-learn.org/stable/modules/generated/sklearn.linear_model.ARDRegression.html"
      ]
    },
    {
      "cell_type": "markdown",
      "metadata": {
        "id": "JlwYnW5WxryX"
      },
      "source": [
        "#### <font color = green> **1.1.** </font> ボストンの住宅価格でARD"
      ]
    },
    {
      "cell_type": "code",
      "metadata": {
        "id": "P3roRp4h1fea"
      },
      "source": [
        "from sklearn.datasets import load_boston\n",
        "from sklearn import preprocessing\n",
        "from sklearn.model_selection import train_test_split\n",
        "from sklearn.linear_model import ARDRegression\n",
        "import numpy as np"
      ],
      "execution_count": null,
      "outputs": []
    },
    {
      "cell_type": "code",
      "metadata": {
        "id": "Vu2jX9rd2i50"
      },
      "source": [
        "boston = load_boston()"
      ],
      "execution_count": null,
      "outputs": []
    },
    {
      "cell_type": "code",
      "metadata": {
        "id": "r9KxDXei2i3J"
      },
      "source": [
        "boston_data = boston.data\n",
        "boston_target = boston.target"
      ],
      "execution_count": null,
      "outputs": []
    },
    {
      "cell_type": "code",
      "metadata": {
        "id": "5Gs7YxfO29RU"
      },
      "source": [
        "sc = preprocessing.StandardScaler()"
      ],
      "execution_count": null,
      "outputs": []
    },
    {
      "cell_type": "code",
      "metadata": {
        "id": "kxazsaO429RV"
      },
      "source": [
        "sc.fit(boston_data)"
      ],
      "execution_count": null,
      "outputs": []
    },
    {
      "cell_type": "code",
      "metadata": {
        "id": "bqAZ8OKW29RW"
      },
      "source": [
        "boston_data2 = sc.transform(boston_data)"
      ],
      "execution_count": null,
      "outputs": []
    },
    {
      "cell_type": "code",
      "metadata": {
        "id": "9tP22bRh2i0C"
      },
      "source": [
        "sc.fit(boston_target.reshape(-1,1))"
      ],
      "execution_count": null,
      "outputs": []
    },
    {
      "cell_type": "code",
      "metadata": {
        "id": "qY6trd0Y2ivP"
      },
      "source": [
        "boston_target2 = sc.transform(boston_target.reshape(-1,1))"
      ],
      "execution_count": null,
      "outputs": []
    },
    {
      "cell_type": "code",
      "metadata": {
        "id": "DM4Cf7FW3yFp"
      },
      "source": [
        "X_train, X_test, y_train, y_test = train_test_split(boston_data2, boston_target2, random_state=0)"
      ],
      "execution_count": null,
      "outputs": []
    },
    {
      "cell_type": "code",
      "metadata": {
        "id": "JuL4GgsB3x3Y"
      },
      "source": [
        "y_train2 = y_train.ravel()"
      ],
      "execution_count": null,
      "outputs": []
    },
    {
      "cell_type": "code",
      "metadata": {
        "id": "cVk_coHY3x-w"
      },
      "source": [
        "ardr = ARDRegression()"
      ],
      "execution_count": null,
      "outputs": []
    },
    {
      "cell_type": "code",
      "metadata": {
        "id": "FajlYkH73x6U"
      },
      "source": [
        "ardr.fit(X_train, y_train2)"
      ],
      "execution_count": null,
      "outputs": []
    },
    {
      "cell_type": "code",
      "metadata": {
        "id": "Kf6_z3nJ-p8R"
      },
      "source": [
        "ardr.score(X_test, y_test)"
      ],
      "execution_count": null,
      "outputs": []
    },
    {
      "cell_type": "code",
      "metadata": {
        "id": "EU9UvsHbUOnf"
      },
      "source": [
        ""
      ],
      "execution_count": null,
      "outputs": []
    },
    {
      "cell_type": "markdown",
      "metadata": {
        "id": "BD-rla9TUOJz"
      },
      "source": [
        "#### <font color = green> **1.2.** </font> ボストンのARDを自作RVM可"
      ]
    },
    {
      "cell_type": "code",
      "metadata": {
        "id": "_52RbQKPd7Fl"
      },
      "source": [
        "l = len(X_train)"
      ],
      "execution_count": null,
      "outputs": []
    },
    {
      "cell_type": "code",
      "metadata": {
        "id": "y3V3WiAoUNGt"
      },
      "source": [
        "import math\n",
        "\n",
        "def kernel(x_0, x_1, theta_0, theta_1, theta_2, theta_3):\n",
        "  x = x_0 - x_1\n",
        "  return theta_0 * math.exp(-theta_1 * np.sum(x*x)/2) + theta_2 + theta_3 * x_0@x_1.T\n",
        "\n",
        "def phi(X, theta_0=.1, theta_1=.1, theta_2=.1, theta_3=.1):\n",
        "  l1 = len(X)\n",
        "  return np.array([[1] + [kernel(X_train[i], X[k], theta_0, theta_1, theta_2, theta_3) for i in range(l)] for k in range(l1)])"
      ],
      "execution_count": null,
      "outputs": []
    },
    {
      "cell_type": "code",
      "metadata": {
        "id": "9kiamPX2XB6v"
      },
      "source": [
        "ardr2 = ARDRegression(compute_score=True)"
      ],
      "execution_count": null,
      "outputs": []
    },
    {
      "cell_type": "code",
      "metadata": {
        "id": "RqZR7g1YXEO3"
      },
      "source": [
        "import time\n",
        "t1 = time.time()\n",
        "\n",
        "ardr2.fit(phi(X_train), y_train2)\n",
        "\n",
        "t2 = time.time()\n",
        "print(t2 - t1)"
      ],
      "execution_count": null,
      "outputs": []
    },
    {
      "cell_type": "code",
      "metadata": {
        "id": "de0bOkj-Uc_v"
      },
      "source": [
        "#t1 = time.time()\n",
        "\n",
        "ardr2.score(phi(X_test), y_test)\n",
        "\n",
        "#t2 = time.time()\n",
        "#print(t2 - t1)"
      ],
      "execution_count": null,
      "outputs": []
    },
    {
      "cell_type": "code",
      "metadata": {
        "id": "gQS--vsbUc7h"
      },
      "source": [
        "import matplotlib.pyplot as plt\n",
        "\n",
        "plt.figure(figsize = (18, 9))\n",
        "X = [i for i in range(l+1)]\n",
        "plt.bar(X, height=np.abs(ardr2.coef_))\n",
        "plt.show()"
      ],
      "execution_count": null,
      "outputs": []
    },
    {
      "cell_type": "code",
      "metadata": {
        "id": "RiaOahqqftNa"
      },
      "source": [
        "ardr2.fit(phi(X_train, 1, 1, 1, 1), y_train2)\n",
        "\n",
        "plt.figure(figsize = (18, 9))\n",
        "X = [i for i in range(l+1)]\n",
        "plt.bar(X, height=np.abs(ardr2.coef_))\n",
        "plt.show()"
      ],
      "execution_count": null,
      "outputs": []
    },
    {
      "cell_type": "code",
      "metadata": {
        "id": "f1nfqqW3ftAT"
      },
      "source": [
        "ardr2.fit(phi(X_train, 1e-2, .1, 1e5, 1e-3), y_train2)\n",
        "\n",
        "plt.figure(figsize = (18, 9))\n",
        "X = [i for i in range(l+1)]\n",
        "plt.bar(X, height=np.abs(ardr2.coef_))\n",
        "plt.show()"
      ],
      "execution_count": null,
      "outputs": []
    },
    {
      "cell_type": "code",
      "metadata": {
        "id": "sx_rpQyyfs8V"
      },
      "source": [
        "ardr2.fit(phi(X_train, 1e-5, 1e-5, 1e7, 1e-5), y_train2)\n",
        "\n",
        "plt.figure(figsize = (18, 9))\n",
        "X = [i for i in range(l+1)]\n",
        "plt.bar(X, height=np.abs(ardr2.coef_))\n",
        "plt.show()"
      ],
      "execution_count": null,
      "outputs": []
    },
    {
      "cell_type": "code",
      "metadata": {
        "id": "vc1W4O9zUc2S"
      },
      "source": [
        ""
      ],
      "execution_count": null,
      "outputs": []
    },
    {
      "cell_type": "markdown",
      "metadata": {
        "id": "tMQ1dsVWbrl_"
      },
      "source": [
        "#### <font color = green> **1.3.** </font> Comparison of relevance vector regression and ARDRegression"
      ]
    },
    {
      "cell_type": "code",
      "metadata": {
        "id": "5b01p4p-wVO5"
      },
      "source": [
        "import matplotlib.pyplot as plt\n",
        "import numpy as np\n",
        "from scipy import stats\n",
        "from sklearn.linear_model import ARDRegression\n",
        "from sklearn_rvm import EMRVR"
      ],
      "execution_count": null,
      "outputs": []
    },
    {
      "cell_type": "code",
      "metadata": {
        "id": "odf8T7ovwVLz"
      },
      "source": [
        "# #############################################################################\n",
        "# Generating simulated data with Gaussian weights\n",
        "\n",
        "# Parameters of the example\n",
        "np.random.seed(0)\n",
        "\n",
        "n_samples, n_features = 100, 100"
      ],
      "execution_count": null,
      "outputs": []
    },
    {
      "cell_type": "code",
      "metadata": {
        "id": "bsR3VdyIwVI7"
      },
      "source": [
        "# Create Gaussian data\n",
        "X = np.random.randn(n_samples, n_features)"
      ],
      "execution_count": null,
      "outputs": []
    },
    {
      "cell_type": "code",
      "metadata": {
        "id": "HPnVFgVXwcbP"
      },
      "source": [
        "# Create weights with a precision lambda_ of 4.\n",
        "lambda_ = 4.\n",
        "w = np.zeros(n_features)"
      ],
      "execution_count": null,
      "outputs": []
    },
    {
      "cell_type": "code",
      "metadata": {
        "id": "0q8Jd-2BwcXr"
      },
      "source": [
        "# Only keep 10 weights of interest\n",
        "relevant_features = np.random.randint(0, n_features, 10)\n",
        "for i in relevant_features:\n",
        "  w[i] = stats.norm.rvs(loc=0, scale=1. / np.sqrt(lambda_))"
      ],
      "execution_count": null,
      "outputs": []
    },
    {
      "cell_type": "code",
      "metadata": {
        "id": "pbqzy4grwcUl"
      },
      "source": [
        "# Create noise with a precision alpha of 50.\n",
        "alpha_ = 50.\n",
        "noise = stats.norm.rvs(loc=0, scale=1. / np.sqrt(alpha_), size=n_samples)"
      ],
      "execution_count": null,
      "outputs": []
    },
    {
      "cell_type": "code",
      "metadata": {
        "id": "OwO2ThtgwcRu"
      },
      "source": [
        "# Create the target\n",
        "y = np.dot(X, w) + noise"
      ],
      "execution_count": null,
      "outputs": []
    },
    {
      "cell_type": "code",
      "metadata": {
        "id": "G6lG3cj3wkuB"
      },
      "source": [
        "# #############################################################################\n",
        "# Fit the ARD Regression\n",
        "clf = ARDRegression(compute_score=True)\n",
        "clf.fit(X, y)"
      ],
      "execution_count": null,
      "outputs": []
    },
    {
      "cell_type": "code",
      "metadata": {
        "id": "cvGRKMcawkqt"
      },
      "source": [
        "rvr = EMRVR(kernel=\"linear\")\n",
        "rvr.fit(X, y)"
      ],
      "execution_count": null,
      "outputs": []
    },
    {
      "cell_type": "code",
      "metadata": {
        "id": "r2TOy-SWwNqa"
      },
      "source": [
        "# #############################################################################\n",
        "# Plot the true weights, the estimated weights, the histogram of the\n",
        "# weights, and predictions with standard deviations\n",
        "plt.figure(figsize=(12, 10))\n",
        "plt.title(\"Weights of the model\")\n",
        "plt.plot(rvr.coef_, color=\"darkblue\", linestyle=\"-\", linewidth=2, label=\"RVR estimate\", alpha=0.6)\n",
        "plt.plot(clf.coef_, color=\"yellowgreen\", linestyle=\":\", linewidth=4, label=\"ARD estimate\")\n",
        "plt.plot(w, color=\"orange\", linestyle=\"-\", linewidth=2, label=\"Ground truth\", alpha=0.5)\n",
        "plt.xlabel(\"Features\")\n",
        "plt.ylabel(\"Values of the weights\")\n",
        "plt.legend(loc=1, fontsize=16)\n",
        "plt.show()"
      ],
      "execution_count": null,
      "outputs": []
    },
    {
      "cell_type": "code",
      "metadata": {
        "id": "g2hKcRd87866"
      },
      "source": [
        ""
      ],
      "execution_count": null,
      "outputs": []
    },
    {
      "cell_type": "markdown",
      "metadata": {
        "id": "_8z7_lXr79WZ"
      },
      "source": [
        "#### <font color = green> **1.4.** </font> Comparison of ARDRegression and the OLS (ordinary least squares) estimator\n",
        "\n",
        "https://scikit-learn.org/stable/auto_examples/linear_model/plot_ard.html"
      ]
    },
    {
      "cell_type": "code",
      "metadata": {
        "id": "oneKRPGdxZDI"
      },
      "source": [
        "import numpy as np\n",
        "import matplotlib.pyplot as plt\n",
        "from scipy import stats\n",
        "\n",
        "from sklearn.linear_model import ARDRegression, LinearRegression"
      ],
      "execution_count": null,
      "outputs": []
    },
    {
      "cell_type": "code",
      "metadata": {
        "id": "RK-xQgjNxY8e"
      },
      "source": [
        "# #############################################################################\n",
        "# Generating simulated data with Gaussian weights\n",
        "\n",
        "# Parameters of the example\n",
        "np.random.seed(0)\n",
        "n_samples, n_features = 100, 100"
      ],
      "execution_count": null,
      "outputs": []
    },
    {
      "cell_type": "code",
      "metadata": {
        "id": "N6Los9tCxfjS"
      },
      "source": [
        "# Create Gaussian data\n",
        "X = np.random.randn(n_samples, n_features)"
      ],
      "execution_count": null,
      "outputs": []
    },
    {
      "cell_type": "code",
      "metadata": {
        "id": "jRV9bqvPxfgU"
      },
      "source": [
        "# Create weights with a precision lambda_ of 4.\n",
        "lambda_ = 4.\n",
        "w = np.zeros(n_features)"
      ],
      "execution_count": null,
      "outputs": []
    },
    {
      "cell_type": "code",
      "metadata": {
        "id": "EiUz-sCKzdkd"
      },
      "source": [
        "# Only keep 10 weights of interest\n",
        "relevant_features = np.random.randint(0, n_features, 10)\n",
        "for i in relevant_features:\n",
        "  w[i] = stats.norm.rvs(loc=0, scale=1. / np.sqrt(lambda_))"
      ],
      "execution_count": null,
      "outputs": []
    },
    {
      "cell_type": "code",
      "metadata": {
        "id": "ngZz7jDhzdgY"
      },
      "source": [
        "# Create noise with a precision alpha of 50.\n",
        "alpha_ = 50.\n",
        "noise = stats.norm.rvs(loc=0, scale=1. / np.sqrt(alpha_), size=n_samples)"
      ],
      "execution_count": null,
      "outputs": []
    },
    {
      "cell_type": "code",
      "metadata": {
        "id": "FU7kwzGjxY46"
      },
      "source": [
        "# Create the target\n",
        "y = np.dot(X, w) + noise"
      ],
      "execution_count": null,
      "outputs": []
    },
    {
      "cell_type": "code",
      "metadata": {
        "id": "eosLjzfozjF2"
      },
      "source": [
        "# #############################################################################\n",
        "# Fit the ARD Regression\n",
        "clf = ARDRegression(compute_score=True)\n",
        "clf.fit(X, y)"
      ],
      "execution_count": null,
      "outputs": []
    },
    {
      "cell_type": "code",
      "metadata": {
        "id": "kk_yOmnlzjCh"
      },
      "source": [
        "ols = LinearRegression()\n",
        "ols.fit(X, y)"
      ],
      "execution_count": null,
      "outputs": []
    },
    {
      "cell_type": "code",
      "metadata": {
        "id": "ZiJ8i88vzmxA"
      },
      "source": [
        "# Plotting some predictions for polynomial regression\n",
        "def f(x, noise_amount):\n",
        "  y = np.sqrt(x) * np.sin(x)\n",
        "  noise = np.random.normal(0, 1, len(x))\n",
        "  return y + noise_amount * noise"
      ],
      "execution_count": null,
      "outputs": []
    },
    {
      "cell_type": "code",
      "metadata": {
        "id": "Cg0M1dvJztQJ"
      },
      "source": [
        "degree = 10\n",
        "X = np.linspace(0, 10, 100)\n",
        "y = f(X, noise_amount=1)"
      ],
      "execution_count": null,
      "outputs": []
    },
    {
      "cell_type": "code",
      "metadata": {
        "id": "CUNfIjcvzmtr"
      },
      "source": [
        "clf_poly = ARDRegression(threshold_lambda=1e5)\n",
        "clf_poly.fit(np.vander(X, degree), y)"
      ],
      "execution_count": null,
      "outputs": []
    },
    {
      "cell_type": "code",
      "metadata": {
        "id": "YewSAfmGzmqV"
      },
      "source": [
        "X_plot = np.linspace(0, 11, 25)\n",
        "y_plot = f(X_plot, noise_amount=0)\n",
        "y_mean, y_std = clf_poly.predict(np.vander(X_plot, degree), return_std=True)"
      ],
      "execution_count": null,
      "outputs": []
    },
    {
      "cell_type": "code",
      "metadata": {
        "id": "KVpi7t0o79CX"
      },
      "source": [
        "# #############################################################################\n",
        "# Plot the true weights, the estimated weights, the histogram of the\n",
        "# weights, and predictions with standard deviations\n",
        "plt.figure(figsize=(18, 15))\n",
        "\n",
        "plt.subplot(221)\n",
        "plt.title(\"Weights of the model\", fontsize=14)\n",
        "plt.plot(ols.coef_, color='yellowgreen', linestyle=':', linewidth=2, label=\"OLS estimate\")\n",
        "plt.plot(clf.coef_, color='darkblue', linestyle='-', linewidth=2, label=\"ARD estimate\", alpha=0.8)\n",
        "plt.plot(w, color='orange', linestyle='-', linewidth=2, label=\"Ground truth\", alpha=0.5)\n",
        "plt.xlabel(\"Features\", fontsize=14)\n",
        "plt.ylabel(\"Values of the weights\", fontsize=14)\n",
        "plt.legend(loc=4, prop=dict(size=12))\n",
        "\n",
        "plt.subplot(222)\n",
        "plt.title(\"Histogram of the weights\", fontsize=14)\n",
        "plt.hist(clf.coef_, bins=n_features, color='navy', log=True)\n",
        "plt.scatter(clf.coef_[relevant_features], np.full(len(relevant_features), 5.), color='gold', marker='o', label=\"Relevant features\")\n",
        "plt.ylabel(\"Features\", fontsize=14)\n",
        "plt.xlabel(\"Values of the weights\", fontsize=14)\n",
        "plt.legend(loc=\"best\", prop=dict(size=12))\n",
        "\n",
        "plt.subplot(223)\n",
        "plt.title(\"Marginal log-likelihood\", fontsize=14)\n",
        "plt.plot(clf.scores_, color='navy', linewidth=2)\n",
        "plt.ylabel(\"Score\", fontsize=14)\n",
        "plt.xlabel(\"Iterations\", fontsize=14)\n",
        "\n",
        "plt.subplot(224)\n",
        "plt.errorbar(X_plot, y_mean, y_std, color='navy', label=\"Polynomial ARD\", linewidth=2)\n",
        "plt.plot(X_plot, y_plot, color='gold', linewidth=2, label=\"Ground Truth\")\n",
        "plt.ylabel(\"Output y\", fontsize=14)\n",
        "plt.xlabel(\"Feature X\", fontsize=14)\n",
        "plt.legend(loc=3, prop=dict(size=12))\n",
        "\n",
        "plt.show()"
      ],
      "execution_count": null,
      "outputs": []
    },
    {
      "cell_type": "code",
      "metadata": {
        "id": "9Amky9gyrFod"
      },
      "source": [
        ""
      ],
      "execution_count": null,
      "outputs": []
    },
    {
      "cell_type": "markdown",
      "metadata": {
        "id": "kGld339YtHj7"
      },
      "source": [
        "### <font color = blue>**2.** </font> ライブラリとサンプルコード\n",
        "\n",
        "https://sklearn-rvm.readthedocs.io/en/latest/index.html"
      ]
    },
    {
      "cell_type": "code",
      "metadata": {
        "id": "jVaFbD6SUUUw"
      },
      "source": [
        "!pip install -U sklearn-rvm"
      ],
      "execution_count": null,
      "outputs": []
    },
    {
      "cell_type": "markdown",
      "metadata": {
        "id": "J6Dk9T0Mbpbp"
      },
      "source": [
        "#### <font color = green> **2.1.** </font> RVM for regression"
      ]
    },
    {
      "cell_type": "code",
      "metadata": {
        "id": "rlDjdoxkc6J2"
      },
      "source": [
        "import matplotlib.pyplot as plt\n",
        "import numpy as np\n",
        "\n",
        "from sklearn_rvm import EMRVR"
      ],
      "execution_count": null,
      "outputs": []
    },
    {
      "cell_type": "code",
      "metadata": {
        "id": "UYXQWBdqc6HQ"
      },
      "source": [
        "def create_toy_data(n=20):\n",
        "  x = np.linspace(0, 1, n)\n",
        "  t = np.sin(2 * np.pi * x) + np.random.normal(scale=0.1, size=n)\n",
        "  return x, t"
      ],
      "execution_count": null,
      "outputs": []
    },
    {
      "cell_type": "code",
      "metadata": {
        "id": "p--uox99c6Ey"
      },
      "source": [
        "x_train, y_train = create_toy_data(n=50)\n",
        "x = np.linspace(0, 1, 100)"
      ],
      "execution_count": null,
      "outputs": []
    },
    {
      "cell_type": "code",
      "metadata": {
        "id": "f1RlhwB6c6CP"
      },
      "source": [
        "model = EMRVR(kernel=\"rbf\")\n",
        "model.fit(x_train[:, None], y_train)"
      ],
      "execution_count": null,
      "outputs": []
    },
    {
      "cell_type": "code",
      "metadata": {
        "id": "_chDBTMic5_P"
      },
      "source": [
        "y, y_std = model.predict(x[:, None], return_std=True)"
      ],
      "execution_count": null,
      "outputs": []
    },
    {
      "cell_type": "code",
      "metadata": {
        "id": "swQStpE9UUcg"
      },
      "source": [
        "plt.figure(figsize=(12,9))\n",
        "plt.scatter(x_train, y_train, facecolor=\"none\", edgecolor=\"g\", label=\"training\")\n",
        "plt.scatter(x[model.relevance_], y[model.relevance_], s=100, facecolor=\"none\", edgecolor=\"b\", label=\"relevance vector\")\n",
        "plt.plot(x[:, None], y, color=\"r\", label=\"predict mean\")\n",
        "plt.fill_between(x, y - y_std, y + y_std, color=\"pink\", alpha=0.2, label=\"predict std.\")\n",
        "plt.legend(loc=\"best\", fontsize=16)\n",
        "\n",
        "plt.show()"
      ],
      "execution_count": null,
      "outputs": []
    },
    {
      "cell_type": "code",
      "metadata": {
        "id": "G0tLKP1XeyDE"
      },
      "source": [
        ""
      ],
      "execution_count": null,
      "outputs": []
    },
    {
      "cell_type": "markdown",
      "metadata": {
        "id": "CcYgw_9IbvU-"
      },
      "source": [
        "#### <font color = green> **2.2.** </font> Comparison of relevance vector machine and support vector machine\n"
      ]
    },
    {
      "cell_type": "code",
      "metadata": {
        "id": "Ofyp-bdxqquz"
      },
      "source": [
        "import time\n",
        "\n",
        "import matplotlib.pyplot as plt\n",
        "import numpy as np\n",
        "from sklearn.svm import SVR\n",
        "from sklearn_rvm import EMRVR"
      ],
      "execution_count": null,
      "outputs": []
    },
    {
      "cell_type": "code",
      "metadata": {
        "id": "39Z97owiqqq1"
      },
      "source": [
        "np.random.seed(8)\n",
        "rng = np.random.RandomState(0)"
      ],
      "execution_count": null,
      "outputs": []
    },
    {
      "cell_type": "code",
      "metadata": {
        "id": "0zbtfCOAqqnb"
      },
      "source": [
        "# Generate sample data\n",
        "X = 4 * np.pi * np.random.random(100) - 2 * np.pi\n",
        "\n",
        "## sinc : cardinal sine\n",
        "# sinc(x) = sin(πx) / πx (normalized)\n",
        "y = np.sinc(X)\n",
        "y += 0.25 * (0.5 - rng.rand(X.shape[0]))  # add noise\n",
        "\n",
        "X = X[:, None]"
      ],
      "execution_count": null,
      "outputs": []
    },
    {
      "cell_type": "code",
      "metadata": {
        "id": "wPBLYkpsqqj2"
      },
      "source": [
        "# Fit SVR\n",
        "svr = SVR(kernel=\"rbf\", gamma=\"auto\")\n",
        "stime = time.time()\n",
        "svr.fit(X, y)\n",
        "print(\"Time for SVR fitting: %.3f\" % (time.time() - stime))"
      ],
      "execution_count": null,
      "outputs": []
    },
    {
      "cell_type": "code",
      "metadata": {
        "id": "YNYQZwuNqx0S"
      },
      "source": [
        "# Fit RVR\n",
        "rvr = EMRVR(kernel=\"rbf\")\n",
        "stime = time.time()\n",
        "rvr.fit(X, y)\n",
        "print(\"Time for RVR fitting: %.3f\" % (time.time() - stime))"
      ],
      "execution_count": null,
      "outputs": []
    },
    {
      "cell_type": "code",
      "metadata": {
        "id": "JAAwH7Skq46O"
      },
      "source": [
        "X_plot = np.linspace(-2 * np.pi, 2 * np.pi, 10000)[:, None]"
      ],
      "execution_count": null,
      "outputs": []
    },
    {
      "cell_type": "code",
      "metadata": {
        "id": "0pUoNy4Fq2R2"
      },
      "source": [
        "# Predict using SVR\n",
        "stime = time.time()\n",
        "y_svr = svr.predict(X_plot)\n",
        "print(\"Time for SVR prediction: %.3f\" % (time.time() - stime))"
      ],
      "execution_count": null,
      "outputs": []
    },
    {
      "cell_type": "code",
      "metadata": {
        "id": "NAXf2tRCq2Oo"
      },
      "source": [
        "# Predict using Rvm\n",
        "stime = time.time()\n",
        "y_rvr = rvr.predict(X_plot, return_std=False)\n",
        "print(\"Time for RVR prediction: %.3f\" % (time.time() - stime))"
      ],
      "execution_count": null,
      "outputs": []
    },
    {
      "cell_type": "code",
      "metadata": {
        "id": "QhSHS2R1qxvy"
      },
      "source": [
        "stime = time.time()\n",
        "y_rvr, y_std = rvr.predict(X_plot, return_std=True)\n",
        "print(\"Time for RVR prediction with standard-deviation: %.3f\" % (time.time() - stime))"
      ],
      "execution_count": null,
      "outputs": []
    },
    {
      "cell_type": "code",
      "metadata": {
        "id": "G3pvZamqlCEe"
      },
      "source": [
        "# Plot results\n",
        "fig = plt.figure(figsize=(16, 8))\n",
        "lw = 2\n",
        "fig.suptitle(\"RVR versus SVR\", fontsize=20)\n",
        "\n",
        "plt.subplot(121)\n",
        "plt.scatter(X, y, marker=\".\", c=\"k\", label=\"data\")\n",
        "plt.plot(X_plot, np.sinc(X_plot), color=\"navy\", lw=lw, label=\"True\")\n",
        "\n",
        "plt.plot(X_plot, y_svr, color=\"turquoise\", lw=lw, label=\"SVR\")\n",
        "support_vectors_idx = svr.support_\n",
        "plt.scatter(X[support_vectors_idx], y[support_vectors_idx], s=80, facecolors=\"none\", edgecolors=\"r\", label=\"support vectors\")\n",
        "plt.ylabel(\"target\", fontsize=16)\n",
        "plt.xlabel(\"data\", fontsize=16)\n",
        "plt.legend(loc=\"best\", scatterpoints=1, prop={\"size\": 12})\n",
        "\n",
        "plt.subplot(122)\n",
        "plt.scatter(X, y, marker=\".\", c=\"k\", label=\"data\")\n",
        "plt.plot(X_plot, np.sinc(X_plot), color=\"navy\", lw=lw, label=\"True\")\n",
        "\n",
        "plt.plot(X_plot, y_rvr, color=\"darkorange\", lw=lw, label=\"RVR\")\n",
        "plt.fill_between(X_plot[:, 0], y_rvr - y_std, y_rvr + y_std, color=\"darkorange\", alpha=0.2)\n",
        "relevance_vectors_idx = rvr.relevance_\n",
        "plt.scatter(X[relevance_vectors_idx], y[relevance_vectors_idx], s=80, facecolors=\"none\", edgecolors=\"r\", label=\"relevance vectors\")\n",
        "\n",
        "plt.xlabel(\"data\", fontsize=16)\n",
        "plt.legend(loc=\"best\", scatterpoints=1, prop={\"size\": 12})\n",
        "plt.show()"
      ],
      "execution_count": null,
      "outputs": []
    },
    {
      "cell_type": "code",
      "metadata": {
        "id": "9BqxP0AKv72e"
      },
      "source": [
        ""
      ],
      "execution_count": null,
      "outputs": []
    },
    {
      "cell_type": "markdown",
      "metadata": {
        "id": "oADqMMoibauE"
      },
      "source": [
        "#### <font color = green> **2.3.** </font> Simple example"
      ]
    },
    {
      "cell_type": "code",
      "metadata": {
        "id": "UanfWkfHb_Wn"
      },
      "source": [
        "import numpy as np\n",
        "from sklearn_rvm import EMRVC"
      ],
      "execution_count": null,
      "outputs": []
    },
    {
      "cell_type": "code",
      "metadata": {
        "id": "dc1HiNMWb_RJ"
      },
      "source": [
        "# General a toy dataset:s it's just a straight line with some Gaussian noise:\n",
        "n_samples = 100\n",
        "np.random.seed(0)"
      ],
      "execution_count": null,
      "outputs": []
    },
    {
      "cell_type": "code",
      "metadata": {
        "id": "FHHvXqiRcCcT"
      },
      "source": [
        "X = np.random.normal(size=n_samples)\n",
        "y = (X > 0).astype(np.float)"
      ],
      "execution_count": null,
      "outputs": []
    },
    {
      "cell_type": "code",
      "metadata": {
        "id": "Z8kHOet0cCZ_"
      },
      "source": [
        "X[X > 0] *= 4\n",
        "X += .3 * np.random.normal(size=n_samples)"
      ],
      "execution_count": null,
      "outputs": []
    },
    {
      "cell_type": "code",
      "metadata": {
        "id": "Bz2BqHT9cGs9"
      },
      "source": [
        "X = X[:, np.newaxis]"
      ],
      "execution_count": null,
      "outputs": []
    },
    {
      "cell_type": "code",
      "metadata": {
        "id": "MWj9BvPPcGqX"
      },
      "source": [
        "# Fit the classifier\n",
        "clf = EMRVC(kernel=\"linear\")\n",
        "clf.fit(X, y)"
      ],
      "execution_count": null,
      "outputs": []
    },
    {
      "cell_type": "code",
      "metadata": {
        "id": "YgPq3El4UUXf"
      },
      "source": [
        "print(clf.predict(X))\n",
        "#print(clf.predict_proba(X))\n",
        "print(clf.score(X, y))"
      ],
      "execution_count": null,
      "outputs": []
    },
    {
      "cell_type": "code",
      "metadata": {
        "id": "YESE9MGaeunv"
      },
      "source": [
        ""
      ],
      "execution_count": null,
      "outputs": []
    },
    {
      "cell_type": "markdown",
      "metadata": {
        "id": "zpuPZquQboeF"
      },
      "source": [
        "#### <font color = green> **2.4.** </font> Simple example precomputed"
      ]
    },
    {
      "cell_type": "code",
      "metadata": {
        "id": "cSamh68ncitF"
      },
      "source": [
        "import numpy as np\n",
        "from sklearn.metrics.pairwise import pairwise_kernels\n",
        "\n",
        "from sklearn_rvm import EMRVC"
      ],
      "execution_count": null,
      "outputs": []
    },
    {
      "cell_type": "code",
      "metadata": {
        "id": "gGvLFbLAcioy"
      },
      "source": [
        "# General a toy dataset:s it's just a straight line with some Gaussian noise:\n",
        "n_samples = 100\n",
        "np.random.seed(0)"
      ],
      "execution_count": null,
      "outputs": []
    },
    {
      "cell_type": "code",
      "metadata": {
        "id": "reYwizwqcoue"
      },
      "source": [
        "X = np.random.normal(size=n_samples)\n",
        "y = (X > 0).astype(np.float)"
      ],
      "execution_count": null,
      "outputs": []
    },
    {
      "cell_type": "code",
      "metadata": {
        "id": "uLmv9owCcosW"
      },
      "source": [
        "X[X > 0] *= 4\n",
        "X += .3 * np.random.normal(size=n_samples)"
      ],
      "execution_count": null,
      "outputs": []
    },
    {
      "cell_type": "code",
      "metadata": {
        "id": "avHt860kcij-"
      },
      "source": [
        "X = X[:, np.newaxis]"
      ],
      "execution_count": null,
      "outputs": []
    },
    {
      "cell_type": "code",
      "metadata": {
        "id": "GR57ncp1cidV"
      },
      "source": [
        "K = pairwise_kernels(X)"
      ],
      "execution_count": null,
      "outputs": []
    },
    {
      "cell_type": "code",
      "metadata": {
        "id": "Ee8-5iGYciXF"
      },
      "source": [
        "# Fit the classifier\n",
        "clf = EMRVC(kernel=\"precomputed\")\n",
        "clf.fit(K, y)"
      ],
      "execution_count": null,
      "outputs": []
    },
    {
      "cell_type": "code",
      "metadata": {
        "id": "83SAEyDFUUaZ"
      },
      "source": [
        "print(clf.predict(K))\n",
        "#print(clf.predict_proba(K))\n",
        "print(clf.score(K, y))"
      ],
      "execution_count": null,
      "outputs": []
    },
    {
      "cell_type": "code",
      "metadata": {
        "id": "W1ggPj0mewVt"
      },
      "source": [
        ""
      ],
      "execution_count": null,
      "outputs": []
    },
    {
      "cell_type": "markdown",
      "metadata": {
        "id": "4Qi6_y_Dbqe1"
      },
      "source": [
        "#### <font color = green> **2.5.** </font> RVM for classification"
      ]
    },
    {
      "cell_type": "code",
      "metadata": {
        "id": "NfEOLgdseT3f"
      },
      "source": [
        "import matplotlib.pyplot as plt\n",
        "import numpy as np\n",
        "from sklearn_rvm import EMRVC"
      ],
      "execution_count": null,
      "outputs": []
    },
    {
      "cell_type": "code",
      "metadata": {
        "id": "pK2l-2vQeTzm"
      },
      "source": [
        "def create_toy_data():\n",
        "  x0 = np.random.normal(size=100).reshape(-1, 2) - 1.\n",
        "  x1 = np.random.normal(size=100).reshape(-1, 2) + 1.\n",
        "  x = np.concatenate([x0, x1])\n",
        "  y = np.concatenate([np.zeros(50), np.ones(50)]).astype(np.int)\n",
        "  return x, y"
      ],
      "execution_count": null,
      "outputs": []
    },
    {
      "cell_type": "code",
      "metadata": {
        "id": "FPGGtOByeTwT"
      },
      "source": [
        "x_train, y_train = create_toy_data()"
      ],
      "execution_count": null,
      "outputs": []
    },
    {
      "cell_type": "code",
      "metadata": {
        "id": "ObTMvyOLeTsH"
      },
      "source": [
        "model = EMRVC(kernel=\"rbf\")\n",
        "model.fit(x_train, y_train)"
      ],
      "execution_count": null,
      "outputs": []
    },
    {
      "cell_type": "code",
      "metadata": {
        "id": "ggDnqBfHpWyV"
      },
      "source": [
        "model."
      ],
      "execution_count": null,
      "outputs": []
    },
    {
      "cell_type": "code",
      "metadata": {
        "id": "5QFO2l3NedrT"
      },
      "source": [
        "x0, x1 = np.meshgrid(np.linspace(-4, 4, 100), np.linspace(-4, 4, 100))\n",
        "x = np.array([x0, x1]).reshape(2, -1).T"
      ],
      "execution_count": null,
      "outputs": []
    },
    {
      "cell_type": "code",
      "metadata": {
        "id": "wIuKx4beUUen"
      },
      "source": [
        "plt.figure(figsize=(12,9))\n",
        "plt.scatter(x_train[:, 0], x_train[:, 1], s=40, c=y_train, marker=\"x\")\n",
        "plt.scatter(model.relevance_vectors_[:, 0], model.relevance_vectors_[:, 1], s=100, facecolor=\"none\", edgecolor=\"g\")\n",
        "plt.contourf(x0, x1, model.predict_proba(x)[:, 1].reshape(100, 100), np.linspace(0, 1, 5), alpha=0.2)\n",
        "plt.colorbar()\n",
        "plt.xlim(-4, 4)\n",
        "plt.ylim(-4, 4)\n",
        "\n",
        "plt.gca().set_aspect(\"equal\", adjustable=\"box\")"
      ],
      "execution_count": null,
      "outputs": []
    },
    {
      "cell_type": "code",
      "metadata": {
        "id": "t7bha-A-edYc"
      },
      "source": [
        ""
      ],
      "execution_count": null,
      "outputs": []
    }
  ]
}