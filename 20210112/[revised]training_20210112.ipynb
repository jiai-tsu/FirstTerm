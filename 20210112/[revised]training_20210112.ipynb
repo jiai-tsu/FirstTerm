{
  "nbformat": 4,
  "nbformat_minor": 0,
  "metadata": {
    "colab": {
      "name": "[revised]training_20210112.ipynb",
      "provenance": [],
      "collapsed_sections": []
    },
    "kernelspec": {
      "name": "python3",
      "display_name": "Python 3"
    }
  },
  "cells": [
    {
      "cell_type": "markdown",
      "metadata": {
        "id": "UGFBoBjk4bke"
      },
      "source": [
        "## 24. フィッシャーの線形判別分析法 (LDA : Linear Discriminant Analysis)"
      ]
    },
    {
      "cell_type": "markdown",
      "metadata": {
        "id": "vg1JtQcbjGfA"
      },
      "source": [
        "重みパラメータ $w$ :\\\n",
        "$w \\propto S^{-1}_{w}(m_2 - m_1)$\n",
        "\n",
        "\\\n",
        "総クラス内共分散行列 $S_{w}$ :\\\n",
        "$\\displaystyle S_{w} = \\sum_{n \\in C_1}(x_n - m_1)(x_n - m_1)^{T} + \\sum_{n \\in C_2}(x_n - m_2)(x_n - m_2)^{T}$"
      ]
    },
    {
      "cell_type": "markdown",
      "metadata": {
        "id": "n8F876CJBgdR"
      },
      "source": [
        "### <font color = blue>**1.** </font> 実装 : 自動生成した2クラスデータをLDA"
      ]
    },
    {
      "cell_type": "markdown",
      "metadata": {
        "id": "5DIJKuAXLwz4"
      },
      "source": [
        "#### <font color = green> **1.1.** </font> データの準備"
      ]
    },
    {
      "cell_type": "code",
      "metadata": {
        "id": "vYeu12j_B8AY"
      },
      "source": [
        "# ライブラリのインポート\n",
        "import numpy as np\n",
        "import matplotlib.pyplot as plt"
      ],
      "execution_count": null,
      "outputs": []
    },
    {
      "cell_type": "code",
      "metadata": {
        "id": "Ir7jRt_UC3od"
      },
      "source": [
        "# 各クラスのデータ数を設定\n",
        "num = 100"
      ],
      "execution_count": null,
      "outputs": []
    },
    {
      "cell_type": "code",
      "metadata": {
        "id": "O-z9CBUzZz17"
      },
      "source": [
        "# データの次元数を設定\n",
        "DIM = 2"
      ],
      "execution_count": null,
      "outputs": []
    },
    {
      "cell_type": "code",
      "metadata": {
        "id": "xcg6iBuqCTDs"
      },
      "source": [
        "# 共分散を設定\n",
        "cov = [[3, 1], [1, 3]]"
      ],
      "execution_count": null,
      "outputs": []
    },
    {
      "cell_type": "code",
      "metadata": {
        "id": "dzBnbYfLsXDY"
      },
      "source": [
        "## ２次元データを生成\n",
        "\n",
        "# クラス１ : (-5,-5)を中心に共分散covで散らばったnum個の(x,y)データ\n",
        "class1 = np.random.multivariate_normal([-5, -5], cov, num)\n",
        "\n",
        "# クラス２ : (5,5)を中心に共分散covで散らばったnum個の(x,y)データ\n",
        "class2 = np.random.multivariate_normal([5, 5], cov, num)"
      ],
      "execution_count": null,
      "outputs": []
    },
    {
      "cell_type": "code",
      "metadata": {
        "id": "5xf8kbxUOOag"
      },
      "source": [
        "# 生成したデータを図示\n",
        "# クラス１は青\n",
        "plt.plot(class1[:,0], class1[:,1], 'bo', ms=3)\n",
        "\n",
        "# クラス２は赤\n",
        "plt.plot(class2[:,0], class2[:,1], 'ro', ms=3)\n",
        "\n",
        "plt.show()"
      ],
      "execution_count": null,
      "outputs": []
    },
    {
      "cell_type": "markdown",
      "metadata": {
        "id": "IWIqVmwoQJGh"
      },
      "source": [
        "重みパラメータ $w$ :\\\n",
        "$w \\propto S^{-1}_{w}(m_2 - m_1)$\n",
        "\n",
        "\\\n",
        "総クラス内共分散行列 $S_{w}$ :\\\n",
        "$\\displaystyle S_{w} = \\sum_{n \\in C_1}(x_n - m_1)(x_n - m_1)^{T} + \\sum_{n \\in C_2}(x_n - m_2)(x_n - m_2)^{T}$"
      ]
    },
    {
      "cell_type": "code",
      "metadata": {
        "id": "rTfWAp6wOOX6"
      },
      "source": [
        ""
      ],
      "execution_count": null,
      "outputs": []
    },
    {
      "cell_type": "code",
      "metadata": {
        "id": "PulKeGrBvsN1"
      },
      "source": [
        "# listからnp.arrayに変換（行列の転置や逆行列を扱うため）\n",
        "cls1 = np.array(class1)\n",
        "cls2 = np.array(class2)"
      ],
      "execution_count": null,
      "outputs": []
    },
    {
      "cell_type": "code",
      "metadata": {
        "id": "lYNg70_OvsLg"
      },
      "source": [
        "# 各クラスの平均値を算出\n",
        "mean1 = np.mean(cls1, axis=0)\n",
        "mean2 = np.mean(cls2, axis=0)"
      ],
      "execution_count": null,
      "outputs": []
    },
    {
      "cell_type": "code",
      "metadata": {
        "id": "abXxedbcQMzW"
      },
      "source": [
        "# m1=\n",
        "mean1"
      ],
      "execution_count": null,
      "outputs": []
    },
    {
      "cell_type": "code",
      "metadata": {
        "id": "vwN2YNs0QMiE"
      },
      "source": [
        "# m2=\n",
        "mean2"
      ],
      "execution_count": null,
      "outputs": []
    },
    {
      "cell_type": "markdown",
      "metadata": {
        "id": "JRIJoHSeQLhf"
      },
      "source": [
        "重みパラメータ $w$ :\\\n",
        "$w \\propto S^{-1}_{w}(m_2 - m_1)$\n",
        "\n",
        "\\\n",
        "総クラス内共分散行列 $S_{w}$ :\\\n",
        "$\\displaystyle S_{w} = \\sum_{n \\in C_1}(x_n - m_1)(x_n - m_1)^{T} + \\sum_{n \\in C_2}(x_n - m_2)(x_n - m_2)^{T}$"
      ]
    },
    {
      "cell_type": "code",
      "metadata": {
        "id": "Dz9KlnDHGvUH"
      },
      "source": [
        ""
      ],
      "execution_count": null,
      "outputs": []
    },
    {
      "cell_type": "markdown",
      "metadata": {
        "id": "mCDY1JiTKLF5"
      },
      "source": [
        "#### <font color = green> ☆ </font> numpy による行列計算の復習"
      ]
    },
    {
      "cell_type": "code",
      "metadata": {
        "id": "v864aYE4F2PS"
      },
      "source": [
        "# データ点の1つ1つは \"配列\" の状態\n",
        "x = cls1[0]\n",
        "x"
      ],
      "execution_count": null,
      "outputs": []
    },
    {
      "cell_type": "code",
      "metadata": {
        "id": "1yOg25jlHJxT"
      },
      "source": [
        "# .T で転置しても配列は配列\n",
        "x.T"
      ],
      "execution_count": null,
      "outputs": []
    },
    {
      "cell_type": "code",
      "metadata": {
        "id": "x6unFZt7HXSu"
      },
      "source": [
        "# 行列積を計算してくれる numpy.dot()\n",
        "np.dot(x, x.T)"
      ],
      "execution_count": null,
      "outputs": []
    },
    {
      "cell_type": "code",
      "metadata": {
        "id": "an6sq4jBfE4G"
      },
      "source": [
        "# x == x.T なので...\n",
        "np.dot(x,x)"
      ],
      "execution_count": null,
      "outputs": []
    },
    {
      "cell_type": "code",
      "metadata": {
        "id": "1O6YiL_JK3gO"
      },
      "source": [
        "# \"配列\" 同士の行列積なので、これと同じことになる\n",
        "x[0]**2 + x[1]**2"
      ],
      "execution_count": null,
      "outputs": []
    },
    {
      "cell_type": "code",
      "metadata": {
        "id": "7lpFBMekHr7c"
      },
      "source": [
        "# 行列の乗算のための演算子　@ が存在する\n",
        "# 式の見た目の通りに記述できてわかりやすい\n",
        "x @ x.T"
      ],
      "execution_count": null,
      "outputs": []
    },
    {
      "cell_type": "code",
      "metadata": {
        "id": "tTEFaPGQfeaM"
      },
      "source": [
        "# やっぱり x == x.T なので...\n",
        "x @ x"
      ],
      "execution_count": null,
      "outputs": []
    },
    {
      "cell_type": "code",
      "metadata": {
        "id": "dcHD9LlSHc9i"
      },
      "source": [
        "# 配列同士の乗算なので交換法則が成立\n",
        "x.T @ x"
      ],
      "execution_count": null,
      "outputs": []
    },
    {
      "cell_type": "code",
      "metadata": {
        "id": "Yrg4Bs_DHc64"
      },
      "source": [
        "# 2次元配列にすることで行列（2行1列の行列 : 縦ベクトル）の状態になる\n",
        "A = x.reshape(DIM,1)\n",
        "A"
      ],
      "execution_count": null,
      "outputs": []
    },
    {
      "cell_type": "code",
      "metadata": {
        "id": "Fi8qQioxI8gi"
      },
      "source": [
        "# 転置すると横ベクトル（1行2列の行列）になる\n",
        "A.T"
      ],
      "execution_count": null,
      "outputs": []
    },
    {
      "cell_type": "code",
      "metadata": {
        "id": "sDbBXBPRFocZ"
      },
      "source": [
        "# これは横ベクトルと縦ベクトルの行列積なので...\n",
        "A.T @ A"
      ],
      "execution_count": null,
      "outputs": []
    },
    {
      "cell_type": "code",
      "metadata": {
        "id": "W9tFcji9Jxj6"
      },
      "source": [
        "# これは縦ベクトルと横ベクトルの行列積なので...\n",
        "A @ A.T"
      ],
      "execution_count": null,
      "outputs": []
    },
    {
      "cell_type": "code",
      "metadata": {
        "id": "r0nBxdeVQZvC"
      },
      "source": [
        ""
      ],
      "execution_count": null,
      "outputs": []
    },
    {
      "cell_type": "markdown",
      "metadata": {
        "id": "G3LcOKjXL-8i"
      },
      "source": [
        "#### <font color = green> **1.2.** </font> 計算実行"
      ]
    },
    {
      "cell_type": "markdown",
      "metadata": {
        "id": "BawmwaiNQY7w"
      },
      "source": [
        "重みパラメータ $w$ :\\\n",
        "$w \\propto S^{-1}_{w}(m_2 - m_1)$\n",
        "\n",
        "\\\n",
        "総クラス内共分散行列 $S_{w}$ :\\\n",
        "$\\displaystyle S_{w} = \\sum_{n \\in C_1}(x_n - m_1)(x_n - m_1)^{T} + \\sum_{n \\in C_2}(x_n - m_2)(x_n - m_2)^{T}$"
      ]
    },
    {
      "cell_type": "code",
      "metadata": {
        "id": "pYMftvoMMGwr"
      },
      "source": [
        "## 総クラス内共分散行列を算出\n",
        "# 計算結果の受け皿としての零行列を用意\n",
        "Sw = np.zeros((DIM, DIM))"
      ],
      "execution_count": null,
      "outputs": []
    },
    {
      "cell_type": "code",
      "metadata": {
        "id": "SEGlBVBgQgQe"
      },
      "source": [
        "# Swの状態を確認\n",
        "Sw"
      ],
      "execution_count": null,
      "outputs": []
    },
    {
      "cell_type": "code",
      "metadata": {
        "id": "pvNH1clWMJ2f"
      },
      "source": [
        "# クラス１の中だけでの共分散行列を算出\n",
        "\n",
        "for Xn in cls1:\n",
        "  # データ点の\"配列\"を1次元縦ベクトルに直す\n",
        "  Xn = Xn.reshape(DIM, 1)\n",
        "  \n",
        "  # クラスの平均座標も\"配列\"から1次元縦ベクトルに直す\n",
        "  mean1 = mean1.reshape(DIM, 1)\n",
        "  \n",
        "  # 共分散行列を計算して結果を格納\n",
        "  Sw += (Xn - mean1) @ (Xn - mean1).T"
      ],
      "execution_count": null,
      "outputs": []
    },
    {
      "cell_type": "code",
      "metadata": {
        "id": "tjzBGWO5QlXU"
      },
      "source": [
        "# Swの状態を確認\n",
        "Sw"
      ],
      "execution_count": null,
      "outputs": []
    },
    {
      "cell_type": "code",
      "metadata": {
        "id": "UUPEGxrpv3UT"
      },
      "source": [
        "# クラス2についてもクラス1と同様の計算を実行\n",
        "for Xn in cls2:\n",
        "  Xn = Xn.reshape(DIM, 1)\n",
        "  mean2 = mean2.reshape(DIM, 1)\n",
        "  Sw += (Xn - mean2) @ (Xn - mean2).T"
      ],
      "execution_count": null,
      "outputs": []
    },
    {
      "cell_type": "code",
      "metadata": {
        "id": "8uZOQ3lrQmWn"
      },
      "source": [
        "# Swの状態を確認\n",
        "Sw"
      ],
      "execution_count": null,
      "outputs": []
    },
    {
      "cell_type": "markdown",
      "metadata": {
        "id": "15ha1W_cQqCC"
      },
      "source": [
        "重みパラメータ $w$ :\\\n",
        "$w \\propto S^{-1}_{w}(m_2 - m_1)$\n",
        "\n",
        "\\\n",
        "総クラス内共分散行列 $S_{w}$ :\\\n",
        "$\\displaystyle S_{w} = \\sum_{n \\in C_1}(x_n - m_1)(x_n - m_1)^{T} + \\sum_{n \\in C_2}(x_n - m_2)(x_n - m_2)^{T}$"
      ]
    },
    {
      "cell_type": "code",
      "metadata": {
        "id": "uAhLhEC9v3Q6"
      },
      "source": [
        "# Swの逆行列を求める\n",
        "Sw_inv = np.linalg.inv(Sw)"
      ],
      "execution_count": null,
      "outputs": []
    },
    {
      "cell_type": "code",
      "metadata": {
        "id": "95I7OVpLQsJ-"
      },
      "source": [
        "# Sw_inv を確認\n",
        "Sw"
      ],
      "execution_count": null,
      "outputs": []
    },
    {
      "cell_type": "code",
      "metadata": {
        "id": "LTpbhR4EQr4r"
      },
      "source": [
        "# 本当に逆行列になっているか実際に積を計算してみる\n",
        "Sw @ Sw_inv"
      ],
      "execution_count": null,
      "outputs": []
    },
    {
      "cell_type": "code",
      "metadata": {
        "id": "KApsg_Q9wYc4"
      },
      "source": [
        "# 重みパラメータw を求める\n",
        "w = Sw_inv @ (mean2 - mean1)"
      ],
      "execution_count": null,
      "outputs": []
    },
    {
      "cell_type": "code",
      "metadata": {
        "id": "KoJBda6NQ7mf"
      },
      "source": [
        "print('w = [{}, {}]'.format(w[0], w[1]))"
      ],
      "execution_count": null,
      "outputs": []
    },
    {
      "cell_type": "code",
      "metadata": {
        "id": "1vfb322DNp32"
      },
      "source": [
        ""
      ],
      "execution_count": null,
      "outputs": []
    },
    {
      "cell_type": "markdown",
      "metadata": {
        "id": "Q6-797TxNqJU"
      },
      "source": [
        "#### <font color = green> **1.3.** </font> 決定境界の可視化"
      ]
    },
    {
      "cell_type": "markdown",
      "metadata": {
        "id": "Lo8lX_CERAR2"
      },
      "source": [
        "重みパラメータ $w$ :\\\n",
        "$w \\propto S^{-1}_{w}(m_2 - m_1)$\n",
        "\n",
        "\\\n",
        "総クラス内共分散行列 $S_{w}$ :\\\n",
        "$\\displaystyle S_{w} = \\sum_{n \\in C_1}(x_n - m_1)(x_n - m_1)^{T} + \\sum_{n \\in C_2}(x_n - m_2)(x_n - m_2)^{T}$"
      ]
    },
    {
      "cell_type": "code",
      "metadata": {
        "id": "lTtfehz6N5Oa"
      },
      "source": [
        "# 各クラスの平均値　の中点の座標を算出\n",
        "mean = (mean1 + mean2)/2"
      ],
      "execution_count": null,
      "outputs": []
    },
    {
      "cell_type": "code",
      "metadata": {
        "id": "oKnYpidgsXGp"
      },
      "source": [
        "# 直線を引くためのデータ点を生成\n",
        "x = np.linspace(-10, 10, 1000)"
      ],
      "execution_count": null,
      "outputs": []
    },
    {
      "cell_type": "code",
      "metadata": {
        "id": "mVxoUBABWIAL"
      },
      "source": [
        "## フィッシャーの基準に従って求めた射影先の軸\n",
        "y_proj = (w[1]/w[0]) * (x - mean[0]) + mean[1]"
      ],
      "execution_count": null,
      "outputs": []
    },
    {
      "cell_type": "code",
      "metadata": {
        "id": "OqjlHiMdNxvN"
      },
      "source": [
        "## 決定境界直線\n",
        "# クラス内平均値 の中点を通りwと直交\n",
        "\n",
        "y_disc = (-w[0]/w[1]) * (x - mean[0]) + mean[1]"
      ],
      "execution_count": null,
      "outputs": []
    },
    {
      "cell_type": "code",
      "metadata": {
        "id": "L68_6AKLU5D0"
      },
      "source": [
        ""
      ],
      "execution_count": null,
      "outputs": []
    },
    {
      "cell_type": "code",
      "metadata": {
        "id": "5pjbsKJvSsDV"
      },
      "source": [
        "# クラス１のデータの座標点listを取得\n",
        "x1, y1 = cls1.T"
      ],
      "execution_count": null,
      "outputs": []
    },
    {
      "cell_type": "code",
      "metadata": {
        "id": "I1dWg09PS4Fy"
      },
      "source": [
        "## 上記で取得できる理由\n",
        "cls1[0:5]"
      ],
      "execution_count": null,
      "outputs": []
    },
    {
      "cell_type": "code",
      "metadata": {
        "id": "G3s7-dIGTOdX"
      },
      "source": [
        "# 転置すると [ [x座標のlist], [y座標のlist] ] という構造になる\n",
        "cls1[0:5].T"
      ],
      "execution_count": null,
      "outputs": []
    },
    {
      "cell_type": "code",
      "metadata": {
        "id": "e5ts8q-hUbt3"
      },
      "source": [
        ""
      ],
      "execution_count": null,
      "outputs": []
    },
    {
      "cell_type": "code",
      "metadata": {
        "id": "lsuj0ztWTKQV"
      },
      "source": [
        "# クラス2のデータの座標点listを取得\n",
        "x2, y2 = cls2.T"
      ],
      "execution_count": null,
      "outputs": []
    },
    {
      "cell_type": "code",
      "metadata": {
        "id": "6yVKHAXeOGiR"
      },
      "source": [
        "## 図示\n",
        "plt.figure(figsize=(6, 6))\n",
        "\n",
        "# クラス１は青\n",
        "plt.plot(x1, y1, 'bo', ms=3)\n",
        "\n",
        "# クラス２は赤\n",
        "plt.plot(x2, y2, 'ro', ms=3)\n",
        "\n",
        "# 射影先の軸\n",
        "plt.plot(x, y_proj, 'g-')\n",
        "\n",
        "# 決定境界直線\n",
        "plt.plot(x, y_disc, 'k--')\n",
        "\n",
        "plt.xlim(-12, 12)\n",
        "plt.ylim(-12, 12)\n",
        "plt.show()"
      ],
      "execution_count": null,
      "outputs": []
    },
    {
      "cell_type": "markdown",
      "metadata": {
        "id": "hmUjNN3vRLD0"
      },
      "source": [
        "重みパラメータ $w$ :\\\n",
        "$w \\propto S^{-1}_{w}(m_2 - m_1)$\n",
        "\n",
        "\\\n",
        "総クラス内共分散行列 $S_{w}$ :\\\n",
        "$\\displaystyle S_{w} = \\sum_{n \\in C_1}(x_n - m_1)(x_n - m_1)^{T} + \\sum_{n \\in C_2}(x_n - m_2)(x_n - m_2)^{T}$"
      ]
    },
    {
      "cell_type": "code",
      "metadata": {
        "id": "Ei2lksxEsXLE"
      },
      "source": [
        ""
      ],
      "execution_count": null,
      "outputs": []
    },
    {
      "cell_type": "markdown",
      "metadata": {
        "id": "XhWGdzkXpon2"
      },
      "source": [
        "### <font color = blue>**2.** </font> 3クラス以上への拡張\n",
        "\n",
        "ライブラリ : sklearn.discriminant_analysis.LinearDiscriminantAnalysis"
      ]
    },
    {
      "cell_type": "code",
      "metadata": {
        "id": "m3LmZM05qi-D"
      },
      "source": [
        "# ライブラリのインポート\n",
        "import matplotlib.pyplot as plt\n",
        "\n",
        "from sklearn import datasets\n",
        "from sklearn.decomposition import PCA\n",
        "from sklearn.discriminant_analysis import LinearDiscriminantAnalysis"
      ],
      "execution_count": null,
      "outputs": []
    },
    {
      "cell_type": "code",
      "metadata": {
        "id": "fkT6nmbtqi8U"
      },
      "source": [
        "# データの準備\n",
        "iris = datasets.load_iris()\n",
        "X = iris.data\n",
        "y = iris.target\n",
        "target_names = iris.target_names"
      ],
      "execution_count": null,
      "outputs": []
    },
    {
      "cell_type": "code",
      "metadata": {
        "id": "Y4CS4svQqi6T"
      },
      "source": [
        "# PCAと比較する\n",
        "pca = PCA(n_components=2)\n",
        "X_r = pca.fit(X).transform(X)"
      ],
      "execution_count": null,
      "outputs": []
    },
    {
      "cell_type": "code",
      "metadata": {
        "id": "4jjs1UsqZj9V"
      },
      "source": [
        "# Percentage of variance explained for each components\n",
        "print('explained variance ratio (first two components): %s'\n",
        "      % str(pca.explained_variance_ratio_))"
      ],
      "execution_count": null,
      "outputs": []
    },
    {
      "cell_type": "code",
      "metadata": {
        "id": "KEb56SYfqp4C"
      },
      "source": [
        "# LDAの実行\n",
        "lda = LinearDiscriminantAnalysis(n_components=2)\n",
        "X_r2 = lda.fit(X, y).transform(X)"
      ],
      "execution_count": null,
      "outputs": []
    },
    {
      "cell_type": "code",
      "metadata": {
        "id": "4qpTFPqOaUzB"
      },
      "source": [
        "# 色の設定\n",
        "colors = ['navy', 'turquoise', 'darkorange']"
      ],
      "execution_count": null,
      "outputs": []
    },
    {
      "cell_type": "code",
      "metadata": {
        "id": "Ii_Ej9_4T0J_"
      },
      "source": [
        "# 図示\n",
        "plt.figure(figsize=(13,6))\n",
        "\n",
        "plt.subplot(1, 2, 1)\n",
        "for color, i, target_name in zip(colors, [0, 1, 2], target_names):\n",
        "  plt.scatter(X_r[y == i, 0], X_r[y == i, 1], color=color, alpha=.8, label=target_name)\n",
        "plt.legend(loc='best', shadow=False, scatterpoints=1)\n",
        "plt.title('PCA of IRIS dataset')\n",
        "\n",
        "plt.subplot(1, 2, 2)\n",
        "for color, i, target_name in zip(colors, [0, 1, 2], target_names):\n",
        "  plt.scatter(X_r2[y == i, 0], X_r2[y == i, 1], color=color, alpha=.8, label=target_name)\n",
        "plt.legend(loc='best', shadow=False, scatterpoints=1)\n",
        "plt.title('LDA of IRIS dataset')\n",
        "\n",
        "plt.show()"
      ],
      "execution_count": null,
      "outputs": []
    },
    {
      "cell_type": "code",
      "metadata": {
        "id": "VTUW0fy2-1G8"
      },
      "source": [
        ""
      ],
      "execution_count": null,
      "outputs": []
    },
    {
      "cell_type": "markdown",
      "metadata": {
        "id": "mzCilue941G4"
      },
      "source": [
        "## 25. kernel PCA"
      ]
    },
    {
      "cell_type": "markdown",
      "metadata": {
        "id": "PsLti-9u5g0e"
      },
      "source": [
        "### <font color = blue>**1.** </font> 公式サンプルコード\n",
        "\n",
        "ライブラリ : sklearn.decomposition.KernelPCA\n",
        "\n",
        "$\\downarrow \\downarrow$ 公式リファレンス $\\downarrow \\downarrow$\\\n",
        "https://scikit-learn.org/stable/modules/generated/sklearn.decomposition.KernelPCA.html"
      ]
    },
    {
      "cell_type": "markdown",
      "metadata": {
        "id": "KmZnTPCmibni"
      },
      "source": [
        "引数 | 概要 | 選択肢 | デフォルト\n",
        "----------- | ------------ | ----------- | ------------\n",
        "n_components | ターゲットの次元数 | int | None(そのまま)\n",
        "kernel | カーネルタイプ | “linear”, “poly”, “rbf”, “sigmoid”, “cosine”\t | \"linear\"\n",
        "gamma | rbfとpolyのカーネル係数 | float | 1/n_features\n",
        "degree | polyの係数 | int | 3\n",
        "coef0 | polyとsigmoidの独立係数 | float | 1\n",
        "kernel_params | カーネルのパラメターの名前 | Stringからのmapping | None\n",
        "alpha | リッジ回帰 |  | 1.0\n",
        "eigen_solver | 固有値の選択 | \"auto\", \"dense\", \"arpack\" | \"auto\"\n",
        "tol | arpackの収束 | float | 0\n",
        "max_iter | arpackの最大反復回数 | int | None\n",
        "remove_zeros | 固有値０の削除 | bool | False\n",
        "random_state | arpackでのrandom_state | RandomState Instance or None | None\n",
        "n_jobs | 並列作業 | int/None | None"
      ]
    },
    {
      "cell_type": "markdown",
      "metadata": {
        "id": "ofvXIHFJ-_Js"
      },
      "source": [
        "https://scikit-learn.org/stable/auto_examples/decomposition/plot_kernel_pca.html\n",
        "\n",
        "- Authors:\n",
        "  - Mathieu Blondel\n",
        "  - Andreas Mueller\n",
        "- License: BSD 3 clause"
      ]
    },
    {
      "cell_type": "code",
      "metadata": {
        "id": "g6sp5guQZ0sV"
      },
      "source": [
        "import numpy as np\n",
        "import matplotlib.pyplot as plt\n",
        "\n",
        "from sklearn.decomposition import PCA, KernelPCA\n",
        "from sklearn.datasets import make_circles\n",
        "\n",
        "np.random.seed(0)\n",
        "\n",
        "X, y = make_circles(n_samples=400, factor=.3, noise=.05)\n",
        "\n",
        "kpca = KernelPCA(kernel=\"rbf\", fit_inverse_transform=True, gamma=10)\n",
        "X_kpca = kpca.fit_transform(X)\n",
        "X_back = kpca.inverse_transform(X_kpca)\n",
        "pca = PCA()\n",
        "X_pca = pca.fit_transform(X)\n",
        "\n",
        "# Plot results\n",
        "\n",
        "plt.figure(figsize=(10, 10)) ### 見やすくするために figsize=(10, 10) を加筆した\n",
        "plt.subplot(2, 2, 1, aspect='equal')\n",
        "plt.title(\"Original space\")\n",
        "reds = y == 0\n",
        "blues = y == 1\n",
        "\n",
        "plt.scatter(X[reds, 0], X[reds, 1], c=\"red\",\n",
        "            s=20, edgecolor='k')\n",
        "plt.scatter(X[blues, 0], X[blues, 1], c=\"blue\",\n",
        "            s=20, edgecolor='k')\n",
        "plt.xlabel(\"$x_1$\")\n",
        "plt.ylabel(\"$x_2$\")\n",
        "\n",
        "X1, X2 = np.meshgrid(np.linspace(-1.5, 1.5, 50), np.linspace(-1.5, 1.5, 50))\n",
        "X_grid = np.array([np.ravel(X1), np.ravel(X2)]).T\n",
        "# projection on the first principal component (in the phi space)\n",
        "Z_grid = kpca.transform(X_grid)[:, 0].reshape(X1.shape)\n",
        "plt.contour(X1, X2, Z_grid, colors='grey', linewidths=1, origin='lower')\n",
        "\n",
        "plt.subplot(2, 2, 2, aspect='equal')\n",
        "plt.scatter(X_pca[reds, 0], X_pca[reds, 1], c=\"red\",\n",
        "            s=20, edgecolor='k')\n",
        "plt.scatter(X_pca[blues, 0], X_pca[blues, 1], c=\"blue\",\n",
        "            s=20, edgecolor='k')\n",
        "plt.title(\"Projection by PCA\")\n",
        "plt.xlabel(\"1st principal component\")\n",
        "plt.ylabel(\"2nd component\")\n",
        "\n",
        "plt.subplot(2, 2, 3, aspect='equal')\n",
        "plt.scatter(X_kpca[reds, 0], X_kpca[reds, 1], c=\"red\",\n",
        "            s=20, edgecolor='k')\n",
        "plt.scatter(X_kpca[blues, 0], X_kpca[blues, 1], c=\"blue\",\n",
        "            s=20, edgecolor='k')\n",
        "plt.title(\"Projection by KPCA\")\n",
        "plt.xlabel(r\"1st principal component in space induced by $\\phi$\")\n",
        "plt.ylabel(\"2nd component\")\n",
        "\n",
        "plt.subplot(2, 2, 4, aspect='equal')\n",
        "plt.scatter(X_back[reds, 0], X_back[reds, 1], c=\"red\",\n",
        "            s=20, edgecolor='k')\n",
        "plt.scatter(X_back[blues, 0], X_back[blues, 1], c=\"blue\",\n",
        "            s=20, edgecolor='k')\n",
        "plt.title(\"Original space after inverse transform\")\n",
        "plt.xlabel(\"$x_1$\")\n",
        "plt.ylabel(\"$x_2$\")\n",
        "\n",
        "plt.tight_layout()\n",
        "plt.show()"
      ],
      "execution_count": null,
      "outputs": []
    },
    {
      "cell_type": "markdown",
      "metadata": {
        "id": "y720-zrHIf4U"
      },
      "source": [
        "### <font color=red> task : </font> 上記の公式サンプルコードに対して以下の2点を行う\n",
        "- 最終実行結果（2×2のグラフの出力＆その内容）が変わらない範囲で可能な限りブロックごとに実行セルを分割する\n",
        "- セル毎/行毎に、何をしているか / 何をしたいか の説明をコメントで加筆する"
      ]
    },
    {
      "cell_type": "code",
      "metadata": {
        "id": "2Ps3Gj87-8BV"
      },
      "source": [
        ""
      ],
      "execution_count": null,
      "outputs": []
    },
    {
      "cell_type": "code",
      "metadata": {
        "id": "Q7B3lxMNzUlF"
      },
      "source": [
        ""
      ],
      "execution_count": null,
      "outputs": []
    },
    {
      "cell_type": "markdown",
      "metadata": {
        "id": "x9pMd7IUC19o"
      },
      "source": [
        "### <font color = blue>**2.** </font> 主成分分析からカーネル主成分分析へ"
      ]
    },
    {
      "cell_type": "code",
      "metadata": {
        "id": "Nng5P2Krstcm"
      },
      "source": [
        "# ライブラリのインポート\n",
        "import pandas as pd\n",
        "import matplotlib.pyplot as plt\n",
        "import seaborn as sns"
      ],
      "execution_count": null,
      "outputs": []
    },
    {
      "cell_type": "markdown",
      "metadata": {
        "id": "Lxr3ObmRKfVT"
      },
      "source": [
        "#### <font color = green> **2.1.** </font> irisのデータをPCA"
      ]
    },
    {
      "cell_type": "code",
      "metadata": {
        "id": "7Q9cwiHDKar6"
      },
      "source": [
        "# ライブラリのインポート\n",
        "from sklearn.decomposition import PCA"
      ],
      "execution_count": null,
      "outputs": []
    },
    {
      "cell_type": "code",
      "metadata": {
        "id": "qGjG8Vh-KzgG"
      },
      "source": [
        "## データの準備\n",
        "# seaborn から irisを呼び出してみる\n",
        "iris = sns.load_dataset('iris')"
      ],
      "execution_count": null,
      "outputs": []
    },
    {
      "cell_type": "code",
      "metadata": {
        "id": "0zanTBk4LHP_"
      },
      "source": [
        "# 中身を確認\n",
        "iris"
      ],
      "execution_count": null,
      "outputs": []
    },
    {
      "cell_type": "code",
      "metadata": {
        "id": "bAZqPxj_LHR8"
      },
      "source": [
        "# ラベルの取り出し\n",
        "species = iris.pop(\"species\")"
      ],
      "execution_count": null,
      "outputs": []
    },
    {
      "cell_type": "code",
      "metadata": {
        "id": "gAI7QvnOLPYD"
      },
      "source": [
        "# 中身を確認\n",
        "iris"
      ],
      "execution_count": null,
      "outputs": []
    },
    {
      "cell_type": "code",
      "metadata": {
        "id": "eH-xyLUXLPVa"
      },
      "source": [
        "# 中身を確認\n",
        "species"
      ],
      "execution_count": null,
      "outputs": []
    },
    {
      "cell_type": "code",
      "metadata": {
        "id": "3fb8ZIhPLle0"
      },
      "source": [
        "# 2次元にPCA\n",
        "pca = PCA(n_components=2)\n",
        "pca.fit(iris)\n",
        "iris_pca = pca.transform(iris)"
      ],
      "execution_count": null,
      "outputs": []
    },
    {
      "cell_type": "code",
      "metadata": {
        "id": "NsPGs1VHL-Yf"
      },
      "source": [
        "## グラフ描画の準備 \n",
        "iris_pca_pd = pd.DataFrame(iris_pca)\n",
        "iris_pca_pd[\"species\"]= species\n",
        "iris_pca_pd.columns = [\"x0\",\"x1\", \"species\"]"
      ],
      "execution_count": null,
      "outputs": []
    },
    {
      "cell_type": "code",
      "metadata": {
        "id": "FN9Xe0t2yY3u"
      },
      "source": [
        "plt.title(\"PCA with iris data\")\n",
        "sns.scatterplot(x=\"x0\", y= \"x1\", hue=\"species\", data=iris_pca_pd)"
      ],
      "execution_count": null,
      "outputs": []
    },
    {
      "cell_type": "code",
      "metadata": {
        "id": "ysZCPePYKspY"
      },
      "source": [
        ""
      ],
      "execution_count": null,
      "outputs": []
    },
    {
      "cell_type": "markdown",
      "metadata": {
        "id": "Rc3BWIphKs8i"
      },
      "source": [
        "#### <font color = green> **2.2.** </font> irisのデータをkernelPCA"
      ]
    },
    {
      "cell_type": "code",
      "metadata": {
        "id": "Zbj73tGly6Vw"
      },
      "source": [
        "# ライブラリのインポート\n",
        "from sklearn.decomposition import KernelPCA"
      ],
      "execution_count": null,
      "outputs": []
    },
    {
      "cell_type": "code",
      "metadata": {
        "id": "IDDvoltDM1eL"
      },
      "source": [
        "## データは 1.1. で準備した iris, species を変数そのまま使用\n",
        "\n",
        "# ハイパーパラメータをとりあえず３通り設定してグリッドサーチっぽく実行\n",
        "Gam =[0.01, 0.1, 1]"
      ],
      "execution_count": null,
      "outputs": []
    },
    {
      "cell_type": "code",
      "metadata": {
        "id": "jJC1xcl4yY5_"
      },
      "source": [
        "# kernelPCAの実行&結果図示\n",
        "plt.figure(figsize=(18,6))\n",
        "for i,c in enumerate(Gam):\n",
        "  plt.subplot(1, 3, i+1)\n",
        "  pca = KernelPCA(n_components=2,\n",
        "                  kernel=\"rbf\",\n",
        "                  gamma=c)\n",
        "  iris_pca = pca.fit_transform(iris)\n",
        "    \n",
        "  iris_pca_pd = pd.DataFrame(iris_pca)\n",
        "  iris_pca_pd[\"species\"] = species\n",
        "  iris_pca_pd.columns = [\"x0\", \"x1\", \"species\"]\n",
        "  plt.title(\"Kernel PCA gamma={}\".format(c))\n",
        "  sns.scatterplot(x=\"x0\", y= \"x1\", hue=\"species\", data=iris_pca_pd)"
      ],
      "execution_count": null,
      "outputs": []
    },
    {
      "cell_type": "code",
      "metadata": {
        "id": "WXskurXd5lYJ"
      },
      "source": [
        ""
      ],
      "execution_count": null,
      "outputs": []
    },
    {
      "cell_type": "markdown",
      "metadata": {
        "id": "nGR-mhP25lGj"
      },
      "source": [
        "### <font color=red> task : </font> 以下の2点を追加してirisのデータをkernelPCAする\n",
        "1. gamma引数についてグリッドサーチを行いirisデータに対する最適値を推定する\n",
        "\n",
        "2. kernel引数を “rbf” 以外にして 1. を行う（以下の４種が設定可能）\n",
        "  - “linear”\n",
        "  - “poly”\n",
        "  - “sigmoid”\n",
        "  - “cosine”"
      ]
    },
    {
      "cell_type": "code",
      "metadata": {
        "id": "bOHJIGju5zCk"
      },
      "source": [
        ""
      ],
      "execution_count": null,
      "outputs": []
    },
    {
      "cell_type": "code",
      "metadata": {
        "id": "uk0tEC5blQ7W"
      },
      "source": [
        ""
      ],
      "execution_count": null,
      "outputs": []
    },
    {
      "cell_type": "markdown",
      "metadata": {
        "id": "zMqffdp-46LM"
      },
      "source": [
        "## 26. サポートベクトルマシン（Support Vector Machine）"
      ]
    },
    {
      "cell_type": "markdown",
      "metadata": {
        "id": "FPdOxo35T_t-"
      },
      "source": [
        "### <font color = blue>**1.** </font> irisデータをサポートベクトルで分類"
      ]
    },
    {
      "cell_type": "markdown",
      "metadata": {
        "id": "SmJgTXY_iPg4"
      },
      "source": [
        "ライブラリ : sklearn.svm.SVC\n",
        "\n",
        "$\\downarrow \\downarrow$ 公式リファレンス $\\downarrow \\downarrow$\\\n",
        "https://scikit-learn.org/stable/modules/generated/sklearn.svm.SVC.html"
      ]
    },
    {
      "cell_type": "markdown",
      "metadata": {
        "id": "uXp5pYhZej99"
      },
      "source": [
        "#### <font color=green> **1.1.** </font> irisデータの準備"
      ]
    },
    {
      "cell_type": "code",
      "metadata": {
        "id": "84WISj5bTxk-"
      },
      "source": [
        "# データの読み込み\n",
        "from sklearn.datasets import load_iris\n",
        "iris = load_iris()"
      ],
      "execution_count": null,
      "outputs": []
    },
    {
      "cell_type": "code",
      "metadata": {
        "id": "DSAGLLcJUcnF"
      },
      "source": [
        "# データフレーム化\n",
        "import pandas as pd\n",
        "df = pd.DataFrame(iris.data, columns=iris.feature_names)\n",
        "df['target'] = iris.target"
      ],
      "execution_count": null,
      "outputs": []
    },
    {
      "cell_type": "code",
      "metadata": {
        "id": "PDD-2oFeTz8T"
      },
      "source": [
        "# 目的変数を[0, 1, 2]からラベル名へ変更\n",
        "for i in range(iris.target_names.size):\n",
        "  df.loc[df['target'] == i, 'target'] = iris.target_names[i]"
      ],
      "execution_count": null,
      "outputs": []
    },
    {
      "cell_type": "code",
      "metadata": {
        "id": "hsBixo38ecbS"
      },
      "source": [
        "# 元データのペアプロット\n",
        "import seaborn as sns\n",
        "sns.pairplot(df, hue='target')"
      ],
      "execution_count": null,
      "outputs": []
    },
    {
      "cell_type": "code",
      "metadata": {
        "id": "OZF2-NNFeqQ5"
      },
      "source": [
        ""
      ],
      "execution_count": null,
      "outputs": []
    },
    {
      "cell_type": "markdown",
      "metadata": {
        "id": "DmNRZI7xeqol"
      },
      "source": [
        "#### <font color=green> **1.2.** </font> 分類結果を図示するための下準備"
      ]
    },
    {
      "cell_type": "code",
      "metadata": {
        "id": "Etuqz2JHXu1H"
      },
      "source": [
        "# 可視化のためのライブラリをインポート\n",
        "import numpy as np\n",
        "import matplotlib.pyplot as plt"
      ],
      "execution_count": null,
      "outputs": []
    },
    {
      "cell_type": "code",
      "metadata": {
        "id": "DYFNa30_Xupw"
      },
      "source": [
        "## 軸データの用意\n",
        "# 方眼の幅\n",
        "h = .02  "
      ],
      "execution_count": null,
      "outputs": []
    },
    {
      "cell_type": "code",
      "metadata": {
        "id": "TJPJMUacP4qR"
      },
      "source": [
        "## グラフのx軸, y軸にどの説明変数を使うかを指定\n",
        "\n",
        "# x軸を 'sepal length'(=iris.feature_names[0])にする場合\n",
        "xlabel_index = 0\n",
        "\n",
        "# y軸を 'sepal width'(=iris.feature_names[1])にする場合\n",
        "ylabel_index = 1"
      ],
      "execution_count": null,
      "outputs": []
    },
    {
      "cell_type": "code",
      "metadata": {
        "id": "454FB_AgVONg"
      },
      "source": [
        "## 説明変数と目的変数を分離\n",
        "\n",
        "# 説明変数は使用するものだけ切り出す\n",
        "X = iris.data[:, [xlabel_index, ylabel_index]]\n",
        "\n",
        "y = iris.target"
      ],
      "execution_count": null,
      "outputs": []
    },
    {
      "cell_type": "code",
      "metadata": {
        "id": "hFybHv7DaltU"
      },
      "source": [
        "# x軸の定義域を指定（無駄に広がらないよう 最小値-0.5 〜 最大値+0.5）\n",
        "x_min, x_max = X[:, 0].min() - .5, X[:, 0].max() + .5\n",
        "\n",
        "# y軸の定義域を指定（無駄に広がらないよう 最小値-0.5 〜 最大値+0.5）\n",
        "y_min, y_max = X[:, 1].min() - .5, X[:, 1].max() + .5"
      ],
      "execution_count": null,
      "outputs": []
    },
    {
      "cell_type": "code",
      "metadata": {
        "id": "rSYOgGtSVfv_"
      },
      "source": [
        "# 分類結果を各クラスの領域ごとに色分け表示したいので2次元格子にする\n",
        "xx, yy = np.meshgrid(np.arange(x_min, x_max, h), np.arange(y_min, y_max, h))"
      ],
      "execution_count": null,
      "outputs": []
    },
    {
      "cell_type": "code",
      "metadata": {
        "id": "yhB6ILJXe-jL"
      },
      "source": [
        ""
      ],
      "execution_count": null,
      "outputs": []
    },
    {
      "cell_type": "markdown",
      "metadata": {
        "id": "JKpV_4yDe-3K"
      },
      "source": [
        "#### <font color=green> **1.3.** </font> 学習と結果の図示"
      ]
    },
    {
      "cell_type": "code",
      "metadata": {
        "id": "S-iwBqmvYRxy"
      },
      "source": [
        "## 決定境界の表示および各クラスの領域を色分けするための関数を作成\n",
        "\n",
        "def decision_boundary(clf,  # 分類モデルのインスタンス\n",
        "                      X,  # 説明変数のデータ\n",
        "                      y,  # 目的変数のデータ\n",
        "                      ax, # グラフの軸を制御するインスタンス\n",
        "                      title # グラフのタイトル\n",
        "                      ):\n",
        "  # 学習実行\n",
        "  clf.fit(X, y)\n",
        "  \n",
        "  # 分類モデルの予測結果を取得\n",
        "  Z = clf.predict(np.c_[xx.ravel(), yy.ravel()])\n",
        "\n",
        "  # 各クラスの領域を色分け\n",
        "  Z = Z.reshape(xx.shape)\n",
        "  ax.pcolormesh(xx, yy, Z, cmap=plt.cm.Wistia, alpha=0.3)\n",
        "\n",
        "  # 学習データも一緒にプロット\n",
        "  ax.scatter(X[:, xlabel_index], X[:, ylabel_index], c=y, edgecolors='k', cmap=plt.cm.Wistia)\n",
        "\n",
        "  # タイトル設定\n",
        "  ax.set_title(title)\n",
        "\n",
        "  # x軸ラベル表示\n",
        "  ax.set_xlabel(iris.feature_names[xlabel_index])\n",
        "\n",
        "  # y軸ラベル表示\n",
        "  ax.set_ylabel(iris.feature_names[ylabel_index])"
      ],
      "execution_count": null,
      "outputs": []
    },
    {
      "cell_type": "code",
      "metadata": {
        "id": "o0_z5pyFYRvK"
      },
      "source": [
        ""
      ],
      "execution_count": null,
      "outputs": []
    },
    {
      "cell_type": "code",
      "metadata": {
        "id": "yWEY6Rayi1-M"
      },
      "source": [
        "# ライブラリをインポート\n",
        "from sklearn.svm import SVC"
      ],
      "execution_count": null,
      "outputs": []
    },
    {
      "cell_type": "code",
      "metadata": {
        "id": "ujO5tt8eWZr8"
      },
      "source": [
        "# サポートベクトル分類を実行&図示\n",
        "\n",
        "fig, axes = plt.subplots(3, 3, figsize=(13, 15))\n",
        "for ax_row, C in zip(axes, [0.01, 1, 100]):\n",
        "  for ax, gamma in zip(ax_row, [0.1, 1, 10]):\n",
        "    title = 'C = {}, gamma = {}'.format(C, gamma)\n",
        "    clf = SVC(C=C, gamma=gamma, max_iter=1e6)\n",
        "    decision_boundary(clf, X, y, ax, title)"
      ],
      "execution_count": null,
      "outputs": []
    },
    {
      "cell_type": "code",
      "metadata": {
        "id": "F4-ZdB1MfUDJ"
      },
      "source": [
        ""
      ],
      "execution_count": null,
      "outputs": []
    },
    {
      "cell_type": "markdown",
      "metadata": {
        "id": "9qFNifSBhtDK"
      },
      "source": [
        "### <font color=red> task : </font> 上記のコードについて、ハイパーパラメータ C, gamma についてグリッドサーチを行いirisデータに対する最適値を推定する\n",
        "\n"
      ]
    },
    {
      "cell_type": "code",
      "metadata": {
        "id": "Giq34QzN5dix"
      },
      "source": [
        ""
      ],
      "execution_count": null,
      "outputs": []
    },
    {
      "cell_type": "code",
      "metadata": {
        "id": "s89vU1mSzSI6"
      },
      "source": [
        ""
      ],
      "execution_count": null,
      "outputs": []
    }
  ]
}